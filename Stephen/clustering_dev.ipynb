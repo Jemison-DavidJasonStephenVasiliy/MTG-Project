{
 "cells": [
  {
   "cell_type": "markdown",
   "id": "90607c73-e66c-45d0-9f6b-dc44fe6301d1",
   "metadata": {},
   "source": [
    "# Cluster Exploration"
   ]
  },
  {
   "cell_type": "code",
   "execution_count": 43,
   "id": "302e8f59-411e-4288-9a96-3d6a2870729d",
   "metadata": {},
   "outputs": [],
   "source": [
    "import pandas as pd\n",
    "import seaborn as sns\n",
    "import matplotlib.pyplot as plt\n",
    "\n",
    "from sklearn.cluster import Birch, KMeans\n",
    "import sklearn.metrics as metrics\n",
    "from sklearn.neighbors import RadiusNeighborsRegressor, KNeighborsRegressor\n",
    "from sklearn.tree import DecisionTreeRegressor\n",
    "\n",
    "#ignore minor warnings\n",
    "import warnings\n",
    "warnings.filterwarnings(\"ignore\")\n",
    "\n",
    "import acquire\n",
    "import prepare\n",
    "import model as m"
   ]
  },
  {
   "cell_type": "code",
   "execution_count": 2,
   "id": "0fea00e4-532b-43c0-927b-ba975677da88",
   "metadata": {},
   "outputs": [
    {
     "name": "stdout",
     "output_type": "stream",
     "text": [
      "Found file in working directory!\n",
      "(70932, 83)\n"
     ]
    },
    {
     "data": {
      "text/plain": [
       "((40311, 60), (6719, 60), (6719, 60))"
      ]
     },
     "execution_count": 2,
     "metadata": {},
     "output_type": "execute_result"
    }
   ],
   "source": [
    "df_in = acquire.get_data(query_url = False)\n",
    "print(df_in.shape)\n",
    "df_in = prepare.prepare_dataframe(df_in)\n",
    "train, validate, test = prepare.split_data(df_in)\n",
    "train.shape, validate.shape, test.shape"
   ]
  },
  {
   "cell_type": "code",
   "execution_count": 3,
   "id": "ffa0e92a-430f-446e-ad8a-225f54341943",
   "metadata": {},
   "outputs": [],
   "source": [
    "#list of clustering algorithms to use:\n"
   ]
  },
  {
   "cell_type": "code",
   "execution_count": 4,
   "id": "10cd2596-0b0f-4cd9-80ed-fd045971b1cb",
   "metadata": {},
   "outputs": [],
   "source": [
    "def k_means_clustering(df):\n",
    "    outputs = list()\n",
    "    prepared_df = m.prepare_model_df(df)\n",
    "    pred_df = df[['id', 'name', 'usd']]\n",
    "    for n_clusters in range(2, 20):\n",
    "        clusterer = KMeans(n_clusters=n_clusters)\n",
    "        preds = clusterer.fit_predict(prepared_df.loc[:, ~prepared_df.columns.isin(['id', 'name', 'usd'])])\n",
    "        centers = clusterer.cluster_centers_\n",
    "        \n",
    "        score = metrics.silhouette_score(prepared_df.loc[:, ~prepared_df.columns.isin(['id', 'name', 'usd'])], preds)\n",
    "        output = {\n",
    "            'k_clusters': n_clusters,\n",
    "            'score': score\n",
    "        }\n",
    "        outputs.append(output)\n",
    "        pred_df[f\"{n_clusters}_cluster_labels\"] = preds\n",
    "    return outputs, pred_df\n",
    "    \n",
    "# output_metrics, cluster_df = k_means_clustering(train)"
   ]
  },
  {
   "cell_type": "code",
   "execution_count": 5,
   "id": "0e8808ee-bd46-4a88-ab9b-9d254fe3af5e",
   "metadata": {},
   "outputs": [],
   "source": [
    "# output_metrics"
   ]
  },
  {
   "cell_type": "code",
   "execution_count": 17,
   "id": "947312d9-9b09-4267-b882-80b951ff0f2e",
   "metadata": {},
   "outputs": [],
   "source": [
    "def add_cluster_column(df, cluster_algo, algo_name):\n",
    "    prepared_df = m.prepare_model_df(df)\n",
    "    algo = cluster_algo\n",
    "    algo = algo.fit(prepared_df.loc[:, ~prepared_df.columns.isin(['id', 'name', 'usd'])])\n",
    "    preds = algo.predict(prepared_df.loc[:, ~prepared_df.columns.isin(['id', 'name', 'usd'])])\n",
    "    score = metrics.silhouette_score(prepared_df.loc[:, ~prepared_df.columns.isin(['id', 'name', 'usd'])], preds)\n",
    "    output = {\n",
    "        'model_name': algo_name,\n",
    "        'score': score\n",
    "    }\n",
    "    return output, preds\n",
    "\n",
    "def make_multi_clusters(df, model, model_name):\n",
    "    outputs = list()\n",
    "    df_preds = df[['id', 'name', 'usd']]\n",
    "    for num_clusters in range(2, 21):\n",
    "        output, preds = add_cluster_column(df, model(n_clusters = num_clusters), f\"{model_name}_{num_clusters}\")\n",
    "        outputs.append(output)\n",
    "        df_preds[f\"{model_name}_{num_clusters}\"] = preds\n",
    "    return outputs, df_preds\n",
    "\n",
    "outputs_kmeans, cluster_df_kmeans = make_multi_clusters(train, KMeans, 'kmeans')\n",
    "outputs_birch, cluster_df_birch = make_multi_clusters(train, Birch, 'birch')"
   ]
  },
  {
   "cell_type": "code",
   "execution_count": 26,
   "id": "0992c23d-3897-4110-adca-60196484fad0",
   "metadata": {},
   "outputs": [
    {
     "data": {
      "text/plain": [
       "[{'model_name': 'kmeans_2', 'score': 0.21651321642619548},\n",
       " {'model_name': 'kmeans_3', 'score': 0.14147874554267512},\n",
       " {'model_name': 'kmeans_4', 'score': 0.15197298687147243},\n",
       " {'model_name': 'kmeans_5', 'score': 0.13489145380920933},\n",
       " {'model_name': 'kmeans_6', 'score': 0.13406982799718906},\n",
       " {'model_name': 'kmeans_7', 'score': 0.15490019492374915},\n",
       " {'model_name': 'kmeans_8', 'score': 0.1436414170201089},\n",
       " {'model_name': 'kmeans_9', 'score': 0.14579238816952667},\n",
       " {'model_name': 'kmeans_10', 'score': 0.1495117206128354},\n",
       " {'model_name': 'kmeans_11', 'score': 0.15065436199823265},\n",
       " {'model_name': 'kmeans_12', 'score': 0.14949134998661745},\n",
       " {'model_name': 'kmeans_13', 'score': 0.15197063283616033},\n",
       " {'model_name': 'kmeans_14', 'score': 0.15328577155231965},\n",
       " {'model_name': 'kmeans_15', 'score': 0.14617433131934016},\n",
       " {'model_name': 'kmeans_16', 'score': 0.150484034033655},\n",
       " {'model_name': 'kmeans_17', 'score': 0.15157259332788706},\n",
       " {'model_name': 'kmeans_18', 'score': 0.14194100545159904},\n",
       " {'model_name': 'kmeans_19', 'score': 0.14184420515987364},\n",
       " {'model_name': 'kmeans_20', 'score': 0.1456550686552872}]"
      ]
     },
     "execution_count": 26,
     "metadata": {},
     "output_type": "execute_result"
    }
   ],
   "source": [
    "outputs_kmeans"
   ]
  },
  {
   "cell_type": "code",
   "execution_count": 69,
   "id": "0c91eb2b-7c3a-4a68-adc5-01bbd5aa83e3",
   "metadata": {},
   "outputs": [
    {
     "data": {
      "text/plain": [
       "birch_18\n",
       "0      5.418006\n",
       "1      1.909389\n",
       "2      2.236445\n",
       "3      2.113700\n",
       "4      3.733517\n",
       "5     61.327649\n",
       "6      6.379172\n",
       "7      5.217569\n",
       "8      0.195450\n",
       "9      0.617719\n",
       "10     0.420038\n",
       "11     2.182456\n",
       "12     3.484408\n",
       "13     3.282222\n",
       "14     8.246627\n",
       "15     0.355383\n",
       "16     2.518238\n",
       "17     2.276224\n",
       "Name: usd, dtype: float64"
      ]
     },
     "execution_count": 69,
     "metadata": {},
     "output_type": "execute_result"
    }
   ],
   "source": [
    "cluster_df = cluster_df_kmeans.merge(cluster_df_birch, on = ['id', 'name', 'usd'])\n",
    "cluster_df.groupby(['birch_18']).usd.mean()"
   ]
  },
  {
   "cell_type": "code",
   "execution_count": 66,
   "id": "fdef2322-f6ad-4db6-b88c-5672325ad68a",
   "metadata": {},
   "outputs": [],
   "source": [
    "y = cluster_df[['id', 'name', 'usd']].copy()\n",
    "rn = DecisionTreeRegressor()\n",
    "rn = rn.fit(cluster_df.loc[:, 'birch_2':], cluster_df['usd'])\n",
    "y['predicted'] = rn.predict(cluster_df.loc[:, 'birch_2':])\n",
    "mae_train = metrics.mean_absolute_error(cluster_df['usd'], y['predicted'])"
   ]
  },
  {
   "cell_type": "code",
   "execution_count": 67,
   "id": "e7bcb62e-d44a-46a8-b9c1-3b60bf36ca25",
   "metadata": {},
   "outputs": [
    {
     "data": {
      "text/plain": [
       "<AxesSubplot:xlabel='usd', ylabel='residual'>"
      ]
     },
     "execution_count": 67,
     "metadata": {},
     "output_type": "execute_result"
    },
    {
     "data": {
      "image/png": "[encoded data removed]",
      "text/plain": [
       "<Figure size 432x288 with 1 Axes>"
      ]
     },
     "metadata": {
      "needs_background": "light"
     },
     "output_type": "display_data"
    }
   ],
   "source": [
    "y['residual'] = y['predicted'] - y['usd']\n",
    "sns.scatterplot(data = y, x = 'usd', y = 'residual')"
   ]
  },
  {
   "cell_type": "code",
   "execution_count": 68,
   "id": "d5e1115b-434a-4fd8-a7f1-674a05c7b603",
   "metadata": {},
   "outputs": [
    {
     "data": {
      "text/plain": [
       "9.594874159774474"
      ]
     },
     "execution_count": 68,
     "metadata": {},
     "output_type": "execute_result"
    }
   ],
   "source": [
    "mae_train"
   ]
  },
  {
   "cell_type": "code",
   "execution_count": null,
   "id": "8441563b-fdd6-413a-8210-7e2d6b3ab040",
   "metadata": {},
   "outputs": [],
   "source": []
  }
 ],
 "metadata": {
  "kernelspec": {
   "display_name": "Python 3 (ipykernel)",
   "language": "python",
   "name": "python3"
  },
  "language_info": {
   "codemirror_mode": {
    "name": "ipython",
    "version": 3
   },
   "file_extension": ".py",
   "mimetype": "text/x-python",
   "name": "python",
   "nbconvert_exporter": "python",
   "pygments_lexer": "ipython3",
   "version": "3.9.12"
  }
 },
 "nbformat": 4,
 "nbformat_minor": 5
}
