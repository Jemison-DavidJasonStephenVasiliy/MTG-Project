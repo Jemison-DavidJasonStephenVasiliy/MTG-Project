{
 "cells": [
  {
   "cell_type": "code",
   "execution_count": 1,
   "id": "e1e05a5a-8ee7-409e-a83b-8480900fcc07",
   "metadata": {},
   "outputs": [],
   "source": [
    "import pandas as pd\n",
    "import matplotlib.pyplot as plt\n",
    "import seaborn as sns\n",
    "import scipy.stats as stats\n",
    "\n",
    "import acquire\n",
    "import prepare\n",
    "\n",
    "#ignore minor warnings\n",
    "import warnings\n",
    "warnings.filterwarnings(\"ignore\")"
   ]
  },
  {
   "cell_type": "code",
   "execution_count": 2,
   "id": "e7a90dc6-7dc6-4b74-b191-289ee2417e3a",
   "metadata": {},
   "outputs": [
    {
     "name": "stdout",
     "output_type": "stream",
     "text": [
      "Found file in working directory!\n",
      "(70932, 83)\n"
     ]
    },
    {
     "data": {
      "text/plain": [
       "((53199, 63), (26599, 63), (26600, 63))"
      ]
     },
     "execution_count": 2,
     "metadata": {},
     "output_type": "execute_result"
    }
   ],
   "source": [
    "df = acquire.get_data(query_url = False)\n",
    "print(df.shape)\n",
    "df = prepare.prepare_dataframe(df)\n",
    "train, validate, test = prepare.split_data(df)\n",
    "train.shape, validate.shape, test.shape"
   ]
  },
  {
   "cell_type": "markdown",
   "id": "fd6721f4-b8d2-4973-a7ae-676f7cb2bed5",
   "metadata": {
    "tags": []
   },
   "source": [
    "# Question 1"
   ]
  },
  {
   "cell_type": "markdown",
   "id": "75c18fde-ae0a-497c-a0d7-683845c29373",
   "metadata": {
    "tags": []
   },
   "source": [
    "## Key takeaway\n",
    "- key takeaway 1\n",
    "\n",
    "## Discusion\n",
    "At least 3 sentences explanation"
   ]
  },
  {
   "cell_type": "markdown",
   "id": "f179b917-762d-4c04-b690-11120065d0b9",
   "metadata": {},
   "source": [
    "## Visualization"
   ]
  },
  {
   "cell_type": "code",
   "execution_count": null,
   "id": "069f729d-65c8-4b88-8fc8-94fd95e116fe",
   "metadata": {},
   "outputs": [],
   "source": [
    "#functions goes here"
   ]
  },
  {
   "cell_type": "markdown",
   "id": "b83cae43-ce51-4360-8a5e-13761cfcf909",
   "metadata": {},
   "source": [
    "## Hypothesis Testing"
   ]
  },
  {
   "cell_type": "code",
   "execution_count": null,
   "id": "09edc15c-7af9-4de8-9486-9aeabc9cacd8",
   "metadata": {},
   "outputs": [],
   "source": [
    "#functions goes here"
   ]
  },
  {
   "cell_type": "markdown",
   "id": "cdbd6666-d157-48be-bf06-7b185d701aa6",
   "metadata": {
    "tags": []
   },
   "source": [
    "# Question 2"
   ]
  },
  {
   "cell_type": "markdown",
   "id": "f14d2c27-e534-4246-952f-4543afd81650",
   "metadata": {
    "tags": []
   },
   "source": [
    "## Key takeaway\n",
    "- key takeaway 1\n",
    "\n",
    "## Discusion\n",
    "At least 3 sentences explanation"
   ]
  },
  {
   "cell_type": "markdown",
   "id": "d1da5d61-9344-477b-a248-36e31ab6bd7c",
   "metadata": {},
   "source": [
    "## Visualization"
   ]
  },
  {
   "cell_type": "code",
   "execution_count": null,
   "id": "3a6775e4-0578-4491-ad6d-b5672a2676c5",
   "metadata": {},
   "outputs": [],
   "source": [
    "#functions goes here"
   ]
  },
  {
   "cell_type": "markdown",
   "id": "65893c8f-764e-4d55-8b7b-3ee7224011df",
   "metadata": {},
   "source": [
    "## Hypothesis Testing"
   ]
  },
  {
   "cell_type": "code",
   "execution_count": null,
   "id": "0d6e7ae8-afa1-4d82-b805-24023de9ace1",
   "metadata": {},
   "outputs": [],
   "source": [
    "#functions goes here"
   ]
  },
  {
   "cell_type": "markdown",
   "id": "e901771f-911a-4244-bfb3-37f6c207f7cb",
   "metadata": {
    "tags": []
   },
   "source": [
    "# Question 3"
   ]
  },
  {
   "cell_type": "markdown",
   "id": "f02615d2-3850-4125-8998-f09939d90f0c",
   "metadata": {
    "tags": []
   },
   "source": [
    "## Key takeaway\n",
    "- key takeaway 1\n",
    "\n",
    "## Discusion\n",
    "At least 3 sentences explanation"
   ]
  },
  {
   "cell_type": "markdown",
   "id": "c33bffa3-1c50-46ca-b1fb-62b6a9f9ae71",
   "metadata": {},
   "source": [
    "## Visualization"
   ]
  },
  {
   "cell_type": "code",
   "execution_count": null,
   "id": "18764c64-a269-4c42-a69c-d5f5fdd24dcd",
   "metadata": {},
   "outputs": [],
   "source": [
    "#functions goes here"
   ]
  },
  {
   "cell_type": "markdown",
   "id": "5fac2c00-5c3e-4a10-a6cb-84b9fdce73ce",
   "metadata": {},
   "source": [
    "## Hypothesis Testing"
   ]
  },
  {
   "cell_type": "code",
   "execution_count": null,
   "id": "1220b602-ea5e-4538-85cb-12267fabd3a5",
   "metadata": {},
   "outputs": [],
   "source": [
    "#functions goes here"
   ]
  }
 ],
 "metadata": {
  "kernelspec": {
   "display_name": "Python 3 (ipykernel)",
   "language": "python",
   "name": "python3"
  },
  "language_info": {
   "codemirror_mode": {
    "name": "ipython",
    "version": 3
   },
   "file_extension": ".py",
   "mimetype": "text/x-python",
   "name": "python",
   "nbconvert_exporter": "python",
   "pygments_lexer": "ipython3",
   "version": "3.9.12"
  }
 },
 "nbformat": 4,
 "nbformat_minor": 5
}
