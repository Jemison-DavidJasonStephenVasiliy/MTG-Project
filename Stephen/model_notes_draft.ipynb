{
 "cells": [
  {
   "cell_type": "markdown",
   "id": "782f3cce-2c76-462c-aec3-8625ac5304a6",
   "metadata": {},
   "source": [
    "# Modeling Notes for Final Report\n",
    "\n",
    "- `model.py` is used to build out the models, and it calls on `model_constants.py` to organize the code and produce a dataframe with model results."
   ]
  },
  {
   "cell_type": "code",
   "execution_count": 13,
   "id": "9971ee1a-80fc-40dd-9c5f-b6d4c2460501",
   "metadata": {},
   "outputs": [],
   "source": [
    "import pandas as pd\n",
    "import seaborn as sns\n",
    "import matplotlib.pyplot as plt\n",
    "\n",
    "#ignore minor warnings\n",
    "import warnings\n",
    "warnings.filterwarnings(\"ignore\")\n",
    "\n",
    "import acquire\n",
    "import prepare\n",
    "import model"
   ]
  },
  {
   "cell_type": "markdown",
   "id": "27f3c5bc-82b3-4968-aa81-f91e821dccc4",
   "metadata": {},
   "source": [
    "## Preparing the dataframe for modeling\n",
    "- Data needs to be encoded, and this needs to be done to the whole dataframe\n",
    "- After the whole dataframe is prepared, it is split again into the train/validate/test"
   ]
  },
  {
   "cell_type": "code",
   "execution_count": 2,
   "id": "153e18c2-4475-41b4-9872-88f5699cbd45",
   "metadata": {},
   "outputs": [
    {
     "name": "stdout",
     "output_type": "stream",
     "text": [
      "Found file in working directory!\n",
      "(70932, 83)\n"
     ]
    },
    {
     "data": {
      "text/plain": [
       "((40311, 4696), (6719, 4696), (6719, 4696))"
      ]
     },
     "execution_count": 2,
     "metadata": {},
     "output_type": "execute_result"
    }
   ],
   "source": [
    "df_in = acquire.get_data(query_url = False)\n",
    "print(df_in.shape)\n",
    "df_in = prepare.prepare_dataframe(df_in)\n",
    "df_in = model.prepare_model_df(df_in) # DO NOT USE THIS LINE IF NOT MODELING\n",
    "train, validate, test = prepare.split_data(df_in)\n",
    "train.shape, validate.shape, test.shape"
   ]
  },
  {
   "cell_type": "markdown",
   "id": "701f5b7d-c889-4719-a64d-6bbebe559469",
   "metadata": {},
   "source": [
    "## Making a baseline model\n",
    "- Two baseline models are made, one using the mean and the other using the median"
   ]
  },
  {
   "cell_type": "code",
   "execution_count": 3,
   "id": "26453e7e-cd08-46ca-83b0-2ee3c23d2ab4",
   "metadata": {},
   "outputs": [
    {
     "data": {
      "text/html": [
       "<div>\n",
       "<style scoped>\n",
       "    .dataframe tbody tr th:only-of-type {\n",
       "        vertical-align: middle;\n",
       "    }\n",
       "\n",
       "    .dataframe tbody tr th {\n",
       "        vertical-align: top;\n",
       "    }\n",
       "\n",
       "    .dataframe thead th {\n",
       "        text-align: right;\n",
       "    }\n",
       "</style>\n",
       "<table border=\"1\" class=\"dataframe\">\n",
       "  <thead>\n",
       "    <tr style=\"text-align: right;\">\n",
       "      <th></th>\n",
       "      <th>model</th>\n",
       "      <th>train_RMSE</th>\n",
       "      <th>train_r2</th>\n",
       "      <th>train_explained_variance</th>\n",
       "      <th>validate_RMSE</th>\n",
       "      <th>validate_r2</th>\n",
       "      <th>validate_explained_variance</th>\n",
       "    </tr>\n",
       "  </thead>\n",
       "  <tbody>\n",
       "    <tr>\n",
       "      <th>0</th>\n",
       "      <td>baseline_mean</td>\n",
       "      <td>81.702292</td>\n",
       "      <td>0.000000</td>\n",
       "      <td>0.0</td>\n",
       "      <td>95.169050</td>\n",
       "      <td>-0.000005</td>\n",
       "      <td>-4.440892e-16</td>\n",
       "    </tr>\n",
       "    <tr>\n",
       "      <th>1</th>\n",
       "      <td>baseline_median</td>\n",
       "      <td>81.938236</td>\n",
       "      <td>-0.005784</td>\n",
       "      <td>0.0</td>\n",
       "      <td>95.357542</td>\n",
       "      <td>-0.003970</td>\n",
       "      <td>0.000000e+00</td>\n",
       "    </tr>\n",
       "  </tbody>\n",
       "</table>\n",
       "</div>"
      ],
      "text/plain": [
       "             model  train_RMSE  train_r2  train_explained_variance  \\\n",
       "0    baseline_mean   81.702292  0.000000                       0.0   \n",
       "1  baseline_median   81.938236 -0.005784                       0.0   \n",
       "\n",
       "   validate_RMSE  validate_r2  validate_explained_variance  \n",
       "0      95.169050    -0.000005                -4.440892e-16  \n",
       "1      95.357542    -0.003970                 0.000000e+00  "
      ]
     },
     "execution_count": 3,
     "metadata": {},
     "output_type": "execute_result"
    }
   ],
   "source": [
    "model.make_baseline_model(train, validate, return_df=True)"
   ]
  },
  {
   "cell_type": "markdown",
   "id": "2129b474-0b18-460d-8e9c-69109fabf052",
   "metadata": {},
   "source": [
    "## Building Regression Models on Train and Validate"
   ]
  },
  {
   "cell_type": "code",
   "execution_count": 4,
   "id": "961e954a-85f8-4879-84dd-8596c919d4b4",
   "metadata": {},
   "outputs": [],
   "source": [
    "metrics_df, train_predictions, validate_predictions = model.model_loop(train, validate)"
   ]
  },
  {
   "cell_type": "code",
   "execution_count": 5,
   "id": "81d2aa46-4064-4ebc-bf48-f52eb49b085f",
   "metadata": {},
   "outputs": [
    {
     "data": {
      "text/html": [
       "<div>\n",
       "<style scoped>\n",
       "    .dataframe tbody tr th:only-of-type {\n",
       "        vertical-align: middle;\n",
       "    }\n",
       "\n",
       "    .dataframe tbody tr th {\n",
       "        vertical-align: top;\n",
       "    }\n",
       "\n",
       "    .dataframe thead th {\n",
       "        text-align: right;\n",
       "    }\n",
       "</style>\n",
       "<table border=\"1\" class=\"dataframe\">\n",
       "  <thead>\n",
       "    <tr style=\"text-align: right;\">\n",
       "      <th></th>\n",
       "      <th>model</th>\n",
       "      <th>train_RMSE</th>\n",
       "      <th>train_r2</th>\n",
       "      <th>train_explained_variance</th>\n",
       "      <th>validate_RMSE</th>\n",
       "      <th>validate_r2</th>\n",
       "      <th>validate_explained_variance</th>\n",
       "    </tr>\n",
       "  </thead>\n",
       "  <tbody>\n",
       "    <tr>\n",
       "      <th>2</th>\n",
       "      <td>DecisionTreeRegressor</td>\n",
       "      <td>2.485706e-18</td>\n",
       "      <td>1.000000</td>\n",
       "      <td>1.000000</td>\n",
       "      <td>5.248324e+01</td>\n",
       "      <td>6.958750e-01</td>\n",
       "      <td>6.960382e-01</td>\n",
       "    </tr>\n",
       "    <tr>\n",
       "      <th>10</th>\n",
       "      <td>RandomForestRegressor</td>\n",
       "      <td>2.273766e+01</td>\n",
       "      <td>0.922550</td>\n",
       "      <td>0.922600</td>\n",
       "      <td>6.856514e+01</td>\n",
       "      <td>4.809400e-01</td>\n",
       "      <td>4.811722e-01</td>\n",
       "    </tr>\n",
       "    <tr>\n",
       "      <th>9</th>\n",
       "      <td>KNeighborsRegressor_weighted</td>\n",
       "      <td>0.000000e+00</td>\n",
       "      <td>1.000000</td>\n",
       "      <td>1.000000</td>\n",
       "      <td>7.499072e+01</td>\n",
       "      <td>3.790940e-01</td>\n",
       "      <td>3.791740e-01</td>\n",
       "    </tr>\n",
       "    <tr>\n",
       "      <th>8</th>\n",
       "      <td>KNeighborsRegressor</td>\n",
       "      <td>4.477918e+01</td>\n",
       "      <td>0.699611</td>\n",
       "      <td>0.699643</td>\n",
       "      <td>7.557161e+01</td>\n",
       "      <td>3.694374e-01</td>\n",
       "      <td>3.695111e-01</td>\n",
       "    </tr>\n",
       "    <tr>\n",
       "      <th>3</th>\n",
       "      <td>LinearSVR</td>\n",
       "      <td>7.984952e+01</td>\n",
       "      <td>0.044840</td>\n",
       "      <td>0.048356</td>\n",
       "      <td>9.386594e+01</td>\n",
       "      <td>2.719266e-02</td>\n",
       "      <td>2.967521e-02</td>\n",
       "    </tr>\n",
       "    <tr>\n",
       "      <th>7</th>\n",
       "      <td>RadiusNeighborsRegressor_weighted</td>\n",
       "      <td>0.000000e+00</td>\n",
       "      <td>1.000000</td>\n",
       "      <td>1.000000</td>\n",
       "      <td>9.419789e+01</td>\n",
       "      <td>2.029999e-02</td>\n",
       "      <td>2.048933e-02</td>\n",
       "    </tr>\n",
       "    <tr>\n",
       "      <th>6</th>\n",
       "      <td>RadiusNeighborsRegressor</td>\n",
       "      <td>8.093229e+01</td>\n",
       "      <td>0.018760</td>\n",
       "      <td>0.019074</td>\n",
       "      <td>9.437445e+01</td>\n",
       "      <td>1.662386e-02</td>\n",
       "      <td>1.678107e-02</td>\n",
       "    </tr>\n",
       "    <tr>\n",
       "      <th>5</th>\n",
       "      <td>LassoLars</td>\n",
       "      <td>8.170229e+01</td>\n",
       "      <td>0.000000</td>\n",
       "      <td>0.000000</td>\n",
       "      <td>9.516905e+01</td>\n",
       "      <td>-5.200353e-06</td>\n",
       "      <td>0.000000e+00</td>\n",
       "    </tr>\n",
       "    <tr>\n",
       "      <th>0</th>\n",
       "      <td>baseline_mean</td>\n",
       "      <td>8.170229e+01</td>\n",
       "      <td>0.000000</td>\n",
       "      <td>0.000000</td>\n",
       "      <td>9.516905e+01</td>\n",
       "      <td>-5.200353e-06</td>\n",
       "      <td>-4.440892e-16</td>\n",
       "    </tr>\n",
       "    <tr>\n",
       "      <th>1</th>\n",
       "      <td>baseline_median</td>\n",
       "      <td>8.193824e+01</td>\n",
       "      <td>-0.005784</td>\n",
       "      <td>0.000000</td>\n",
       "      <td>9.535754e+01</td>\n",
       "      <td>-3.970362e-03</td>\n",
       "      <td>0.000000e+00</td>\n",
       "    </tr>\n",
       "    <tr>\n",
       "      <th>4</th>\n",
       "      <td>LinearRegression</td>\n",
       "      <td>6.716128e+01</td>\n",
       "      <td>0.324276</td>\n",
       "      <td>0.324276</td>\n",
       "      <td>2.471543e+12</td>\n",
       "      <td>-6.744458e+20</td>\n",
       "      <td>-6.744159e+20</td>\n",
       "    </tr>\n",
       "  </tbody>\n",
       "</table>\n",
       "</div>"
      ],
      "text/plain": [
       "                                model    train_RMSE  train_r2  \\\n",
       "2               DecisionTreeRegressor  2.485706e-18  1.000000   \n",
       "10              RandomForestRegressor  2.273766e+01  0.922550   \n",
       "9        KNeighborsRegressor_weighted  0.000000e+00  1.000000   \n",
       "8                 KNeighborsRegressor  4.477918e+01  0.699611   \n",
       "3                           LinearSVR  7.984952e+01  0.044840   \n",
       "7   RadiusNeighborsRegressor_weighted  0.000000e+00  1.000000   \n",
       "6            RadiusNeighborsRegressor  8.093229e+01  0.018760   \n",
       "5                           LassoLars  8.170229e+01  0.000000   \n",
       "0                       baseline_mean  8.170229e+01  0.000000   \n",
       "1                     baseline_median  8.193824e+01 -0.005784   \n",
       "4                    LinearRegression  6.716128e+01  0.324276   \n",
       "\n",
       "    train_explained_variance  validate_RMSE   validate_r2  \\\n",
       "2                   1.000000   5.248324e+01  6.958750e-01   \n",
       "10                  0.922600   6.856514e+01  4.809400e-01   \n",
       "9                   1.000000   7.499072e+01  3.790940e-01   \n",
       "8                   0.699643   7.557161e+01  3.694374e-01   \n",
       "3                   0.048356   9.386594e+01  2.719266e-02   \n",
       "7                   1.000000   9.419789e+01  2.029999e-02   \n",
       "6                   0.019074   9.437445e+01  1.662386e-02   \n",
       "5                   0.000000   9.516905e+01 -5.200353e-06   \n",
       "0                   0.000000   9.516905e+01 -5.200353e-06   \n",
       "1                   0.000000   9.535754e+01 -3.970362e-03   \n",
       "4                   0.324276   2.471543e+12 -6.744458e+20   \n",
       "\n",
       "    validate_explained_variance  \n",
       "2                  6.960382e-01  \n",
       "10                 4.811722e-01  \n",
       "9                  3.791740e-01  \n",
       "8                  3.695111e-01  \n",
       "3                  2.967521e-02  \n",
       "7                  2.048933e-02  \n",
       "6                  1.678107e-02  \n",
       "5                  0.000000e+00  \n",
       "0                 -4.440892e-16  \n",
       "1                  0.000000e+00  \n",
       "4                 -6.744159e+20  "
      ]
     },
     "execution_count": 5,
     "metadata": {},
     "output_type": "execute_result"
    }
   ],
   "source": [
    "pd.DataFrame(metrics_df).sort_values('validate_RMSE')"
   ]
  },
  {
   "cell_type": "markdown",
   "id": "843722b7-323c-490a-af0b-ab9faa0f09bf",
   "metadata": {
    "tags": []
   },
   "source": [
    "# Modeling the residuals of the decision tree regressor"
   ]
  },
  {
   "cell_type": "code",
   "execution_count": 33,
   "id": "d0c0cf0a-cac9-4758-8d14-405da5130cd5",
   "metadata": {},
   "outputs": [],
   "source": [
    "decision_tree_predict = validate_predictions[['name', 'usd', 'DecisionTreeRegressor_predictions']]\n",
    "decision_tree_predict['residual'] = decision_tree_predict['DecisionTreeRegressor_predictions'] - decision_tree_predict['usd']"
   ]
  },
  {
   "cell_type": "code",
   "execution_count": 34,
   "id": "bbbc3707-1a2a-441d-b8b4-fcb497a783d7",
   "metadata": {},
   "outputs": [
    {
     "data": {
      "text/plain": [
       "Text(0.5, 1.0, 'Plot of residuals for DecisionTreeRegressor')"
      ]
     },
     "execution_count": 34,
     "metadata": {},
     "output_type": "execute_result"
    },
    {
     "data": {
      "image/png": "[encoded data removed]",
      "text/plain": [
       "<Figure size 720x720 with 1 Axes>"
      ]
     },
     "metadata": {
      "needs_background": "light"
     },
     "output_type": "display_data"
    }
   ],
   "source": [
    "plt.figure(figsize=(10,10))\n",
    "sns.scatterplot(data = decision_tree_predict, x = 'usd', y = 'residual')\n",
    "plt.ylabel('Residual in USD')\n",
    "plt.xlabel('USD')\n",
    "plt.title('Plot of residuals for DecisionTreeRegressor')"
   ]
  },
  {
   "cell_type": "code",
   "execution_count": 35,
   "id": "552bda22-4513-4045-a855-142c91a992b4",
   "metadata": {},
   "outputs": [
    {
     "data": {
      "text/plain": [
       "Text(0.5, 1.0, 'Plot of residuals for DecisionTreeRegressor Zoomed in to cards worth less than 20$')"
      ]
     },
     "execution_count": 35,
     "metadata": {},
     "output_type": "execute_result"
    },
    {
     "data": {
      "image/png": "[encoded data removed]",
      "text/plain": [
       "<Figure size 720x720 with 1 Axes>"
      ]
     },
     "metadata": {
      "needs_background": "light"
     },
     "output_type": "display_data"
    }
   ],
   "source": [
    "plt.figure(figsize=(10,10))\n",
    "sns.scatterplot(data = decision_tree_predict, x = 'usd', y = 'residual')\n",
    "plt.xlim((-1, 20))\n",
    "plt.ylim((-20,20))\n",
    "plt.ylabel('Residual in USD')\n",
    "plt.xlabel('USD')\n",
    "plt.title('Plot of residuals for DecisionTreeRegressor Zoomed in to cards worth less than 20$')"
   ]
  },
  {
   "cell_type": "code",
   "execution_count": 36,
   "id": "21af8ad4-a7b3-4d15-b04e-1c816de6bc86",
   "metadata": {},
   "outputs": [
    {
     "data": {
      "text/html": [
       "<div>\n",
       "<style scoped>\n",
       "    .dataframe tbody tr th:only-of-type {\n",
       "        vertical-align: middle;\n",
       "    }\n",
       "\n",
       "    .dataframe tbody tr th {\n",
       "        vertical-align: top;\n",
       "    }\n",
       "\n",
       "    .dataframe thead th {\n",
       "        text-align: right;\n",
       "    }\n",
       "</style>\n",
       "<table border=\"1\" class=\"dataframe\">\n",
       "  <thead>\n",
       "    <tr style=\"text-align: right;\">\n",
       "      <th></th>\n",
       "      <th>count</th>\n",
       "      <th>mean</th>\n",
       "      <th>std</th>\n",
       "      <th>min</th>\n",
       "      <th>25%</th>\n",
       "      <th>50%</th>\n",
       "      <th>75%</th>\n",
       "      <th>max</th>\n",
       "    </tr>\n",
       "  </thead>\n",
       "  <tbody>\n",
       "    <tr>\n",
       "      <th>residual</th>\n",
       "      <td>6719.0</td>\n",
       "      <td>-1.215525</td>\n",
       "      <td>52.473067</td>\n",
       "      <td>-2299.99</td>\n",
       "      <td>-0.17</td>\n",
       "      <td>-0.01</td>\n",
       "      <td>0.05</td>\n",
       "      <td>1085.5</td>\n",
       "    </tr>\n",
       "  </tbody>\n",
       "</table>\n",
       "</div>"
      ],
      "text/plain": [
       "           count      mean        std      min   25%   50%   75%     max\n",
       "residual  6719.0 -1.215525  52.473067 -2299.99 -0.17 -0.01  0.05  1085.5"
      ]
     },
     "execution_count": 36,
     "metadata": {},
     "output_type": "execute_result"
    }
   ],
   "source": [
    "decision_tree_predict[['residual']].describe().T"
   ]
  },
  {
   "cell_type": "markdown",
   "id": "a8064900-87a3-476c-9470-03943c81335d",
   "metadata": {},
   "source": [
    "Number of cards predicted within a dime of the actual value"
   ]
  },
  {
   "cell_type": "code",
   "execution_count": 37,
   "id": "b1942994-5c26-4af4-ac13-d1b44531f80d",
   "metadata": {},
   "outputs": [
    {
     "data": {
      "text/plain": [
       "3285"
      ]
     },
     "execution_count": 37,
     "metadata": {},
     "output_type": "execute_result"
    }
   ],
   "source": [
    "decision_tree_predict[abs(decision_tree_predict['residual']) < 0.10].shape[0]"
   ]
  },
  {
   "cell_type": "markdown",
   "id": "aae571ee-4e42-4ebb-a70b-7788189cb1a4",
   "metadata": {},
   "source": [
    "The percentage of cards within a dime of the actual value"
   ]
  },
  {
   "cell_type": "code",
   "execution_count": 38,
   "id": "675a8933-d31d-4d55-bbdf-99df2da4b8f4",
   "metadata": {},
   "outputs": [
    {
     "data": {
      "text/plain": [
       "0.4889120404822146"
      ]
     },
     "execution_count": 38,
     "metadata": {},
     "output_type": "execute_result"
    }
   ],
   "source": [
    "decision_tree_predict[abs(decision_tree_predict['residual']) < 0.10].shape[0]/decision_tree_predict.shape[0]"
   ]
  },
  {
   "cell_type": "markdown",
   "id": "4ae2fa43-4f13-490b-8f87-7eca0d31d04a",
   "metadata": {},
   "source": [
    "# Key modeling takeaways\n",
    "- All the models are beating baseline on the RMSE metric\n",
    "- The DecisionTreeRegressor has the lowest RMSE\n",
    "- While the RMSE is high for decisionTree, for many cards it is fairly close; this indicates that the error is larger for certain cards.\n",
    "- The model is underpredicting cards as the actual usd price goes up\n",
    "- However, 0.46 percent are within a dime of the actual value"
   ]
  },
  {
   "cell_type": "code",
   "execution_count": null,
   "id": "9d8feca2-c04b-4c13-9c91-5282e8d39b74",
   "metadata": {},
   "outputs": [],
   "source": []
  }
 ],
 "metadata": {
  "kernelspec": {
   "display_name": "Python 3 (ipykernel)",
   "language": "python",
   "name": "python3"
  },
  "language_info": {
   "codemirror_mode": {
    "name": "ipython",
    "version": 3
   },
   "file_extension": ".py",
   "mimetype": "text/x-python",
   "name": "python",
   "nbconvert_exporter": "python",
   "pygments_lexer": "ipython3",
   "version": "3.9.12"
  }
 },
 "nbformat": 4,
 "nbformat_minor": 5
}
