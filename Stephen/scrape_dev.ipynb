{
 "cells": [
  {
   "cell_type": "code",
   "execution_count": 104,
   "id": "5d27edc4-54ff-4f3c-ac56-cc1a5914b9b7",
   "metadata": {},
   "outputs": [],
   "source": [
    "import pandas as pd\n",
    "from bs4 import BeautifulSoup\n",
    "import time\n",
    "\n",
    "import selenium\n",
    "import requests"
   ]
  },
  {
   "cell_type": "code",
   "execution_count": 142,
   "id": "ddcad529-ddb0-4a26-8bae-6441b0549b32",
   "metadata": {},
   "outputs": [],
   "source": [
    "driver = selenium.webdriver.Safari()\n",
    "driver.get('https://www.tcgplayer.com/product/82407?Language=English')\n",
    "time.sleep(2)\n",
    "html = driver.page_source\n",
    "driver.close()"
   ]
  },
  {
   "cell_type": "code",
   "execution_count": 151,
   "id": "2c44f48e-e414-4ffd-aa84-1a29007e914e",
   "metadata": {},
   "outputs": [
    {
     "name": "stdout",
     "output_type": "stream",
     "text": [
      "$0.16\n",
      "-\n",
      "$0.24\n"
     ]
    }
   ],
   "source": [
    "soup = BeautifulSoup(html)\n",
    "for i in soup.select('.price-points .price'):\n",
    "    print(i.text)"
   ]
  },
  {
   "cell_type": "code",
   "execution_count": 87,
   "id": "eb0d88c9-e7c3-4baf-8ceb-ada6e48e4d75",
   "metadata": {},
   "outputs": [
    {
     "name": "stdout",
     "output_type": "stream",
     "text": [
      "<class 'pandas.core.frame.DataFrame'>\n",
      "RangeIndex: 70932 entries, 0 to 70931\n",
      "Data columns (total 83 columns):\n",
      " #   Column               Non-Null Count  Dtype         \n",
      "---  ------               --------------  -----         \n",
      " 0   object               70932 non-null  object        \n",
      " 1   id                   70932 non-null  object        \n",
      " 2   oracle_id            70927 non-null  object        \n",
      " 3   multiverse_ids       70932 non-null  object        \n",
      " 4   mtgo_id              37227 non-null  float64       \n",
      " 5   mtgo_foil_id         24259 non-null  float64       \n",
      " 6   tcgplayer_id         60572 non-null  float64       \n",
      " 7   cardmarket_id        59261 non-null  float64       \n",
      " 8   name                 70932 non-null  object        \n",
      " 9   lang                 70932 non-null  object        \n",
      " 10  released_at          70932 non-null  datetime64[ns]\n",
      " 11  uri                  70932 non-null  object        \n",
      " 12  scryfall_uri         70932 non-null  object        \n",
      " 13  layout               70932 non-null  object        \n",
      " 14  highres_image        70932 non-null  bool          \n",
      " 15  image_status         70932 non-null  object        \n",
      " 16  image_uris           69088 non-null  object        \n",
      " 17  mana_cost            69088 non-null  object        \n",
      " 18  cmc                  70927 non-null  float64       \n",
      " 19  type_line            70927 non-null  object        \n",
      " 20  oracle_text          68673 non-null  object        \n",
      " 21  power                33139 non-null  object        \n",
      " 22  toughness            33139 non-null  object        \n",
      " 23  colors               69088 non-null  object        \n",
      " 24  color_identity       70932 non-null  object        \n",
      " 25  keywords             70932 non-null  object        \n",
      " 26  legalities           70932 non-null  object        \n",
      " 27  games                70932 non-null  object        \n",
      " 28  reserved             70932 non-null  bool          \n",
      " 29  foil                 70932 non-null  bool          \n",
      " 30  nonfoil              70932 non-null  bool          \n",
      " 31  finishes             70932 non-null  object        \n",
      " 32  oversized            70932 non-null  bool          \n",
      " 33  promo                70932 non-null  bool          \n",
      " 34  reprint              70932 non-null  bool          \n",
      " 35  variation            70932 non-null  bool          \n",
      " 36  set_id               70932 non-null  object        \n",
      " 37  set                  70932 non-null  object        \n",
      " 38  set_name             70932 non-null  object        \n",
      " 39  set_type             70932 non-null  object        \n",
      " 40  set_uri              70932 non-null  object        \n",
      " 41  set_search_uri       70932 non-null  object        \n",
      " 42  scryfall_set_uri     70932 non-null  object        \n",
      " 43  rulings_uri          70932 non-null  object        \n",
      " 44  prints_search_uri    70932 non-null  object        \n",
      " 45  collector_number     70932 non-null  object        \n",
      " 46  digital              70932 non-null  bool          \n",
      " 47  rarity               70932 non-null  object        \n",
      " 48  flavor_text          34692 non-null  object        \n",
      " 49  card_back_id         69088 non-null  object        \n",
      " 50  artist               70932 non-null  object        \n",
      " 51  artist_ids           70480 non-null  object        \n",
      " 52  illustration_id      68959 non-null  object        \n",
      " 53  border_color         70932 non-null  object        \n",
      " 54  frame                70932 non-null  object        \n",
      " 55  full_art             70932 non-null  bool          \n",
      " 56  textless             70932 non-null  bool          \n",
      " 57  booster              70932 non-null  bool          \n",
      " 58  story_spotlight      70932 non-null  bool          \n",
      " 59  edhrec_rank          62254 non-null  float64       \n",
      " 60  penny_rank           39520 non-null  float64       \n",
      " 61  prices               70932 non-null  object        \n",
      " 62  related_uris         70932 non-null  object        \n",
      " 63  all_parts            8339 non-null   object        \n",
      " 64  promo_types          10625 non-null  object        \n",
      " 65  arena_id             9062 non-null   float64       \n",
      " 66  preview              8365 non-null   object        \n",
      " 67  security_stamp       17164 non-null  object        \n",
      " 68  produced_mana        10334 non-null  object        \n",
      " 69  watermark            5026 non-null   object        \n",
      " 70  frame_effects        6271 non-null   object        \n",
      " 71  loyalty              1054 non-null   object        \n",
      " 72  printed_name         2072 non-null   object        \n",
      " 73  card_faces           2259 non-null   object        \n",
      " 74  tcgplayer_etched_id  704 non-null    float64       \n",
      " 75  color_indicator      90 non-null     object        \n",
      " 76  life_modifier        119 non-null    float64       \n",
      " 77  hand_modifier        119 non-null    float64       \n",
      " 78  printed_type_line    203 non-null    object        \n",
      " 79  printed_text         196 non-null    object        \n",
      " 80  content_warning      29 non-null     float64       \n",
      " 81  variation_of         69 non-null     object        \n",
      " 82  flavor_name          59 non-null     object        \n",
      "dtypes: bool(13), datetime64[ns](1), float64(12), object(57)\n",
      "memory usage: 38.8+ MB\n"
     ]
    }
   ],
   "source": [
    "df = pd.read_json('default-cards-20220727090443.json')\n",
    "df.info()"
   ]
  },
  {
   "cell_type": "code",
   "execution_count": 154,
   "id": "cf5b4d2e-fd52-4a98-918c-c390cccc1a10",
   "metadata": {},
   "outputs": [],
   "source": [
    "def get_card_id():\n",
    "    card_id = int(df['tcgplayer_id'].dropna().sample(1).max())\n",
    "    return card_id\n",
    "\n",
    "def get_card_url(card_id):\n",
    "    base_url = 'https://www.tcgplayer.com/product/'\n",
    "    return f\"{base_url}{card_id}?Language=English\"\n",
    "\n",
    "def get_request(url):\n",
    "    return requests.get(url)\n",
    "\n",
    "def get_price(html):\n",
    "    soup = BeautifulSoup(html)\n",
    "    for i in soup.select('.price-points .price'):\n",
    "        print(i.text)"
   ]
  },
  {
   "cell_type": "code",
   "execution_count": 156,
   "id": "6ec63894-4b2c-48ec-9db0-10af8527c9d6",
   "metadata": {},
   "outputs": [],
   "source": [
    "def get_html(url):\n",
    "    driver = selenium.webdriver.Safari()\n",
    "    driver.get(url)\n",
    "    time.sleep(2)\n",
    "    html = driver.page_source\n",
    "    driver.close()\n",
    "    return html"
   ]
  },
  {
   "cell_type": "code",
   "execution_count": 157,
   "id": "790fcf3c-b2ba-4ffb-9f3c-35bc6f001bbf",
   "metadata": {},
   "outputs": [
    {
     "name": "stdout",
     "output_type": "stream",
     "text": [
      "$8.48\n",
      "$10.16\n",
      "$11.41\n"
     ]
    }
   ],
   "source": [
    "card_id = get_card_id()\n",
    "url = get_card_url(card_id)\n",
    "html = get_html(url)\n",
    "get_price(html)"
   ]
  },
  {
   "cell_type": "code",
   "execution_count": null,
   "id": "0b1afc1c-831f-4225-bb60-4338a402f0b8",
   "metadata": {},
   "outputs": [],
   "source": []
  }
 ],
 "metadata": {
  "kernelspec": {
   "display_name": "Python 3 (ipykernel)",
   "language": "python",
   "name": "python3"
  },
  "language_info": {
   "codemirror_mode": {
    "name": "ipython",
    "version": 3
   },
   "file_extension": ".py",
   "mimetype": "text/x-python",
   "name": "python",
   "nbconvert_exporter": "python",
   "pygments_lexer": "ipython3",
   "version": "3.9.12"
  }
 },
 "nbformat": 4,
 "nbformat_minor": 5
}
