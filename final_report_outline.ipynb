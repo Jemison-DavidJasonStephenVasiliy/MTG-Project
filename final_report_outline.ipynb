{
 "cells": [
  {
   "cell_type": "markdown",
   "id": "21b7ce02-0436-4e74-86c8-4da629574e2f",
   "metadata": {
    "tags": []
   },
   "source": [
    "# Magic the Gathering Card Price Prediction\n",
    "*David Mitchell, Vasiliy Melkozerov, Jason Turner, Stephen FitzSimon*\n",
    "\n",
    "\n",
    "## Contents <a name='contents'></a>\n",
    "1. <a href='#intro'>Introduction</a>\n",
    "2. <a href='#explore'>Explore</a>\n",
    "\n",
    "3. <a href='#model'>Modeling</a>\n",
    "    1. <a href='#baseline'>Basline Model</a>\n",
    "    2. <a href='#train_validate_model'>Modeling on Train and Validate</a>\n",
    "    3. <a href='#final_model'>Final Model</a>\n",
    "4. <a href='#conclusions'>Conclusions</a>"
   ]
  },
  {
   "cell_type": "code",
   "execution_count": 1,
   "id": "65a88607-fac8-4d89-a09c-62778fc69d6c",
   "metadata": {},
   "outputs": [],
   "source": [
    "# Import libraries\n",
    "import numpy as np\n",
    "import pandas as pd\n",
    "\n",
    "# Import statistical module\n",
    "from scipy import stats\n",
    "\n",
    "# Import custom modules\n",
    "import acquire\n",
    "import prepare\n",
    "import explore\n",
    "import model\n",
    "\n",
    "# Ignore minor warnings\n",
    "import warnings\n",
    "warnings.filterwarnings(\"ignore\")"
   ]
  },
  {
   "cell_type": "markdown",
   "id": "1ab49ee2-8e14-4333-a6b0-817f1e02028b",
   "metadata": {
    "tags": []
   },
   "source": [
    "## Wrangle"
   ]
  },
  {
   "cell_type": "code",
   "execution_count": 2,
   "id": "d7a791ec-050d-4dc6-a738-cfa9d654e4eb",
   "metadata": {
    "tags": []
   },
   "outputs": [
    {
     "name": "stdout",
     "output_type": "stream",
     "text": [
      "Found file in working directory!\n",
      "(70932, 83)\n"
     ]
    },
    {
     "data": {
      "text/plain": [
       "((40311, 60), (6719, 60), (6719, 60))"
      ]
     },
     "execution_count": 2,
     "metadata": {},
     "output_type": "execute_result"
    }
   ],
   "source": [
    "# Acquire and prepare data returned as a dataframe\n",
    "df = acquire.get_data(query_url = False)\n",
    "print(df.shape)\n",
    "df = prepare.prepare_dataframe(df)\n",
    "train, validate, test = prepare.split_data(df)\n",
    "train.shape, validate.shape, test.shape"
   ]
  },
  {
   "cell_type": "markdown",
   "id": "9a31af4f-aa84-4a6a-9de2-89a939b4f43f",
   "metadata": {},
   "source": [
    "## Introduction <a name='intro'></a>\n",
    "Using Scryfall data we are predicting the USD price of Magic The Gathering cards. This will allow the publisher to determine the prices of newly published cards based on their similarity to other cards to make sure that they are hitting all the likely price points within the current market. It will also allow buyers and sellers to determine the price of cards with minimal current price data.\n",
    "\n",
    "<a href='#contents'>Return to Contents</a>"
   ]
  },
  {
   "cell_type": "markdown",
   "id": "caec099a-f4bd-4aea-a946-a9127ebac376",
   "metadata": {},
   "source": [
    "# Explore"
   ]
  },
  {
   "cell_type": "markdown",
   "id": "c32ac017-c081-4e0f-b98e-2f0e6e171987",
   "metadata": {},
   "source": [
    "### Key Explore Takeaways\n",
    "- We found the key charaterisitcs for predicting price are set type, card type, and legality.\n",
    "- The majority of the cards are affordable but there are a few cards priced above the $10 range.\n"
   ]
  },
  {
   "cell_type": "markdown",
   "id": "14c50bd9-c58c-4283-8a02-e32a248e8979",
   "metadata": {},
   "source": [
    "<a href='#contents'>Return to Contents</a>"
   ]
  },
  {
   "cell_type": "markdown",
   "id": "116de94c-6a40-4096-8726-3c7537602106",
   "metadata": {},
   "source": [
    "<hr style=\"border-top: 10px groove white; margin-top: 1px; margin-bottom: 1px\">"
   ]
  },
  {
   "cell_type": "markdown",
   "id": "98b8412c-2d21-4a0e-9c9a-cfb6deea4ad3",
   "metadata": {
    "tags": []
   },
   "source": [
    "<a name='q_1'></a>\n",
    "### Does legality affect the price?"
   ]
  },
  {
   "cell_type": "markdown",
   "id": "dedbd62b-6128-4a2b-9d2a-ad94d6c37cb8",
   "metadata": {},
   "source": [
    "#### Key Takeaways\n",
    "- The legality of a card does have an effect on price.\n",
    "- The effect is disproportionate among the legalities.\n",
    "- The difference in the price is dependent on what legalities the card is in."
   ]
  },
  {
   "cell_type": "markdown",
   "id": "3198b923-c5dc-4df6-87bc-662c3ff46956",
   "metadata": {
    "tags": []
   },
   "source": [
    "### Discussion\n",
    "\n",
    "The goal was to find tangible differences in the Key Takeaways for price based off of its legality."
   ]
  },
  {
   "cell_type": "markdown",
   "id": "1c1bb9ac-3def-45ad-8eaa-cdc086536733",
   "metadata": {},
   "source": [
    "#### Visualization"
   ]
  },
  {
   "cell_type": "code",
   "execution_count": 3,
   "id": "d2a3dbd6-585a-4e31-959a-30d5c2430ce5",
   "metadata": {},
   "outputs": [
    {
     "data": {
      "image/png": "[encoded data removed]",
      "text/plain": [
       "<Figure size 432x288 with 1 Axes>"
      ]
     },
     "metadata": {
      "needs_background": "light"
     },
     "output_type": "display_data"
    }
   ],
   "source": [
    "explore.get_legalites_chart(train)"
   ]
  },
  {
   "cell_type": "markdown",
   "id": "d6451bfe-fc78-41f0-9c51-9ddb0a527864",
   "metadata": {},
   "source": [
    "#### Hypothesis Testing\n",
    "$H_0$: There is no correlation between legality and USD price.\n",
    "\n",
    "$H_a$: There is a correlation between legality and USD price."
   ]
  },
  {
   "cell_type": "code",
   "execution_count": 4,
   "id": "9c42314a-7dab-4fca-aae6-7c1abace579f",
   "metadata": {},
   "outputs": [
    {
     "name": "stdout",
     "output_type": "stream",
     "text": [
      "10.412185191299939 1.1746763888223343e-25 0.05\n",
      "We reject the null hypothesis.\n"
     ]
    }
   ],
   "source": [
    "explore.hypothesis_test_legalities(train)"
   ]
  },
  {
   "cell_type": "markdown",
   "id": "d53bccc9-a8d7-47e3-b918-3bef5a7744f5",
   "metadata": {},
   "source": [
    "<hr style=\"border-top: 10px groove blue; margin-top: 1px; margin-bottom: 1px\">"
   ]
  },
  {
   "cell_type": "markdown",
   "id": "5dbfd9fb-45c8-4024-a467-801783e3010d",
   "metadata": {},
   "source": [
    "<a name='q_2'></a>\n",
    "### Is there a difference in price between sets?"
   ]
  },
  {
   "cell_type": "markdown",
   "id": "46ec1ceb-ed89-494d-8a7e-9a813db5ff63",
   "metadata": {},
   "source": [
    "#### Key Takeaways\n",
    "- There is a large difference in price between some sets.\n",
    "- Most of the sets that have gone through standard are worth roughly the same."
   ]
  },
  {
   "cell_type": "markdown",
   "id": "ca5abb04-52ea-486c-8df3-072c9dc67554",
   "metadata": {
    "tags": []
   },
   "source": [
    "### Discussion\n",
    "The initial assumption going into this is that not all sets are worth the same amount. Some moreso than others and some in the class of commodities."
   ]
  },
  {
   "cell_type": "markdown",
   "id": "d2a520e2-4073-4cc5-9744-12db6a2cb24f",
   "metadata": {},
   "source": [
    "#### Visualization"
   ]
  },
  {
   "cell_type": "code",
   "execution_count": 5,
   "id": "69c00fb9-1ce1-46a7-814e-eb5e3126181b",
   "metadata": {},
   "outputs": [
    {
     "data": {
      "image/png": "[encoded data removed]",
      "text/plain": [
       "<Figure size 720x360 with 1 Axes>"
      ]
     },
     "metadata": {
      "needs_background": "light"
     },
     "output_type": "display_data"
    }
   ],
   "source": [
    "explore.top_7_sets(train)"
   ]
  },
  {
   "cell_type": "markdown",
   "id": "d6b6b4bd-1506-4fee-a405-1b25bba8c299",
   "metadata": {},
   "source": [
    "#### Hypothesis Testing\n",
    "$H_0$: There is no correlation between the set name and USD price.\n",
    "\n",
    "$H_a$: There is a correlation between the set name and USD price."
   ]
  },
  {
   "cell_type": "code",
   "execution_count": 6,
   "id": "4b05af18-9101-4508-a89e-8dcac0812579",
   "metadata": {},
   "outputs": [
    {
     "name": "stdout",
     "output_type": "stream",
     "text": [
      "11.500764578143793 7.297024862617009e-31 0.05\n",
      "We reject the null hypothesis.\n"
     ]
    }
   ],
   "source": [
    "explore.hypothesis_test_set_name(train)"
   ]
  },
  {
   "cell_type": "markdown",
   "id": "024c4414-1cc7-4333-acab-c2b47e0f57e0",
   "metadata": {},
   "source": [
    "<hr style=\"border-top: 10px groove gray; margin-top: 1px; margin-bottom: 1px\">"
   ]
  },
  {
   "cell_type": "markdown",
   "id": "25e32aa3-2960-4b1e-91fb-42865e1853fb",
   "metadata": {},
   "source": [
    "<a name='q_3'></a>\n",
    "### Is converted mana cost a good indicator for price?"
   ]
  },
  {
   "cell_type": "markdown",
   "id": "523301f9-6d8a-43cb-a6bf-6b5cbec9cce6",
   "metadata": {
    "tags": []
   },
   "source": [
    "#### Key Takeaway\n",
    "- At 0, 11, and 13 mana cost there is a statistically significant difference in price compared to the mean."
   ]
  },
  {
   "cell_type": "markdown",
   "id": "ec2f77ee-50f0-4ac5-9074-720a4979eab2",
   "metadata": {
    "tags": []
   },
   "source": [
    "### Discussion\n",
    "CMC stands for converted mana cost. The idea here being that the more \"rare\" and obscure a card is the more valuable it may be. Oddly enough the more mana expensive a card is it goes up in value after 8 mana."
   ]
  },
  {
   "cell_type": "markdown",
   "id": "19c94a17-fb15-4bc5-9c5a-b5a8d88a4697",
   "metadata": {},
   "source": [
    "#### Visualization"
   ]
  },
  {
   "cell_type": "code",
   "execution_count": 7,
   "id": "f604af95-f7d2-4417-8bd1-5a592f4a3d24",
   "metadata": {},
   "outputs": [
    {
     "data": {
      "image/png": "[encoded data removed]",
      "text/plain": [
       "<Figure size 1080x720 with 1 Axes>"
      ]
     },
     "metadata": {
      "needs_background": "light"
     },
     "output_type": "display_data"
    }
   ],
   "source": [
    "explore.cmc_by_price(train)"
   ]
  },
  {
   "cell_type": "markdown",
   "id": "1a8672f4-6b94-495c-9b2f-8c8ca5aeb975",
   "metadata": {},
   "source": [
    "#### Hypothesis Testing\n",
    "$H_0$: There is no correlation between the release date and USD price.\n",
    "\n",
    "$H_a$: There is a correlation between the release date and USD price."
   ]
  },
  {
   "cell_type": "code",
   "execution_count": 8,
   "id": "b2f763d3-479d-468f-9fb2-ed00f74390ef",
   "metadata": {},
   "outputs": [
    {
     "data": {
      "text/html": [
       "<div>\n",
       "<style scoped>\n",
       "    .dataframe tbody tr th:only-of-type {\n",
       "        vertical-align: middle;\n",
       "    }\n",
       "\n",
       "    .dataframe tbody tr th {\n",
       "        vertical-align: top;\n",
       "    }\n",
       "\n",
       "    .dataframe thead th {\n",
       "        text-align: right;\n",
       "    }\n",
       "</style>\n",
       "<table border=\"1\" class=\"dataframe\">\n",
       "  <thead>\n",
       "    <tr style=\"text-align: right;\">\n",
       "      <th></th>\n",
       "      <th>mana_cost</th>\n",
       "      <th>cost_mean</th>\n",
       "      <th>t_stat</th>\n",
       "      <th>p_value</th>\n",
       "      <th>reject_null</th>\n",
       "    </tr>\n",
       "  </thead>\n",
       "  <tbody>\n",
       "    <tr>\n",
       "      <th>13</th>\n",
       "      <td>11.0</td>\n",
       "      <td>17.896667</td>\n",
       "      <td>2.193620</td>\n",
       "      <td>0.042454</td>\n",
       "      <td>True</td>\n",
       "    </tr>\n",
       "    <tr>\n",
       "      <th>6</th>\n",
       "      <td>0.0</td>\n",
       "      <td>13.848302</td>\n",
       "      <td>3.815167</td>\n",
       "      <td>0.000138</td>\n",
       "      <td>True</td>\n",
       "    </tr>\n",
       "    <tr>\n",
       "      <th>10</th>\n",
       "      <td>15.0</td>\n",
       "      <td>17.096250</td>\n",
       "      <td>1.904770</td>\n",
       "      <td>0.098513</td>\n",
       "      <td>True</td>\n",
       "    </tr>\n",
       "    <tr>\n",
       "      <th>0</th>\n",
       "      <td>4.0</td>\n",
       "      <td>5.318918</td>\n",
       "      <td>-1.703086</td>\n",
       "      <td>0.088600</td>\n",
       "      <td>False</td>\n",
       "    </tr>\n",
       "    <tr>\n",
       "      <th>9</th>\n",
       "      <td>10.0</td>\n",
       "      <td>8.971642</td>\n",
       "      <td>1.065848</td>\n",
       "      <td>0.290376</td>\n",
       "      <td>False</td>\n",
       "    </tr>\n",
       "  </tbody>\n",
       "</table>\n",
       "</div>"
      ],
      "text/plain": [
       "    mana_cost  cost_mean    t_stat   p_value  reject_null\n",
       "13       11.0  17.896667  2.193620  0.042454         True\n",
       "6         0.0  13.848302  3.815167  0.000138         True\n",
       "10       15.0  17.096250  1.904770  0.098513         True\n",
       "0         4.0   5.318918 -1.703086  0.088600        False\n",
       "9        10.0   8.971642  1.065848  0.290376        False"
      ]
     },
     "execution_count": 8,
     "metadata": {},
     "output_type": "execute_result"
    }
   ],
   "source": [
    "explore.hypothesis_test_cmc(train)"
   ]
  },
  {
   "cell_type": "markdown",
   "id": "eda795a3-68a4-4fe0-be95-c5e94062cffe",
   "metadata": {},
   "source": [
    "<hr style=\"border-top: 10px groove red; margin-top: 1px; margin-bottom: 1px\">"
   ]
  },
  {
   "cell_type": "markdown",
   "id": "a0c030da-fd2d-4d59-8cef-5a2f74d616d5",
   "metadata": {},
   "source": [
    "<a name='q_4'></a>\n",
    "### What effect does the release date have on the price?"
   ]
  },
  {
   "cell_type": "markdown",
   "id": "a764b798-562d-42ef-a192-93403a829d3f",
   "metadata": {
    "tags": []
   },
   "source": [
    "#### Key Takeaway\n",
    "- 1993, 1994, and 1999 have a higher than average price for cards released in those years."
   ]
  },
  {
   "cell_type": "markdown",
   "id": "bd92bbda-1b97-4988-91b1-5df48eec97c4",
   "metadata": {
    "tags": []
   },
   "source": [
    "### Discussion\n",
    "In charting the USD price as a line graph, it appears that there are spikes in the price in the '90s, and possible in the '20s. I"
   ]
  },
  {
   "cell_type": "markdown",
   "id": "a878bcd2-9068-452a-be76-f79a7820208d",
   "metadata": {},
   "source": [
    "## Visualization\n",
    "\n",
    "It looks like the mid '90s, just before '00, and post-'20 might have higher prices."
   ]
  },
  {
   "cell_type": "code",
   "execution_count": 9,
   "id": "68b6504f-4f06-4b78-8ad9-fbde10fb2efa",
   "metadata": {},
   "outputs": [
    {
     "data": {
      "image/png": "[encoded data removed]",
      "text/plain": [
       "<Figure size 720x720 with 1 Axes>"
      ]
     },
     "metadata": {
      "needs_background": "light"
     },
     "output_type": "display_data"
    }
   ],
   "source": [
    "explore.vis_usd_by_released_at(train)"
   ]
  },
  {
   "cell_type": "markdown",
   "id": "09d1d3f4-c555-4b50-a309-54c57fd0ee68",
   "metadata": {},
   "source": [
    "Looks like '93 and '94 have the highest average price, followed by '98 and '99. The spikes in the line graph are not affecting the average price in the year."
   ]
  },
  {
   "cell_type": "code",
   "execution_count": 10,
   "id": "09c3a2b6-4253-45e5-b5dc-5e08d6ac7a92",
   "metadata": {},
   "outputs": [
    {
     "data": {
      "image/png": "[encoded data removed]",
      "text/plain": [
       "<Figure size 720x720 with 1 Axes>"
      ]
     },
     "metadata": {
      "needs_background": "light"
     },
     "output_type": "display_data"
    }
   ],
   "source": [
    "explore.vis_usd_by_year(train)"
   ]
  },
  {
   "cell_type": "markdown",
   "id": "e96c1a9c-34ea-4f49-a8e6-d3bf9498f228",
   "metadata": {},
   "source": [
    "## Hypothesis Testing\n",
    "\n",
    "$H_0$: Year $x$ has a average price per card equal to or less than the general average price.\n",
    "\n",
    "$H_a$: Year $x$ has a average price per card greater than the general average price."
   ]
  },
  {
   "cell_type": "code",
   "execution_count": 11,
   "id": "701aad48-18bc-48fb-84b2-44ab423bdd69",
   "metadata": {},
   "outputs": [
    {
     "data": {
      "text/html": [
       "<div>\n",
       "<style scoped>\n",
       "    .dataframe tbody tr th:only-of-type {\n",
       "        vertical-align: middle;\n",
       "    }\n",
       "\n",
       "    .dataframe tbody tr th {\n",
       "        vertical-align: top;\n",
       "    }\n",
       "\n",
       "    .dataframe thead th {\n",
       "        text-align: right;\n",
       "    }\n",
       "</style>\n",
       "<table border=\"1\" class=\"dataframe\">\n",
       "  <thead>\n",
       "    <tr style=\"text-align: right;\">\n",
       "      <th></th>\n",
       "      <th>year</th>\n",
       "      <th>year_mean</th>\n",
       "      <th>t_stat</th>\n",
       "      <th>p_value</th>\n",
       "      <th>reject_null</th>\n",
       "    </tr>\n",
       "  </thead>\n",
       "  <tbody>\n",
       "    <tr>\n",
       "      <th>24</th>\n",
       "      <td>1994</td>\n",
       "      <td>41.753568</td>\n",
       "      <td>5.076309</td>\n",
       "      <td>4.697974e-07</td>\n",
       "      <td>True</td>\n",
       "    </tr>\n",
       "    <tr>\n",
       "      <th>23</th>\n",
       "      <td>1993</td>\n",
       "      <td>136.695879</td>\n",
       "      <td>9.072537</td>\n",
       "      <td>6.133079e-19</td>\n",
       "      <td>True</td>\n",
       "    </tr>\n",
       "    <tr>\n",
       "      <th>20</th>\n",
       "      <td>1999</td>\n",
       "      <td>11.965388</td>\n",
       "      <td>2.540423</td>\n",
       "      <td>1.119745e-02</td>\n",
       "      <td>True</td>\n",
       "    </tr>\n",
       "    <tr>\n",
       "      <th>0</th>\n",
       "      <td>2017</td>\n",
       "      <td>1.191322</td>\n",
       "      <td>-59.796312</td>\n",
       "      <td>0.000000e+00</td>\n",
       "      <td>False</td>\n",
       "    </tr>\n",
       "    <tr>\n",
       "      <th>1</th>\n",
       "      <td>2001</td>\n",
       "      <td>1.308977</td>\n",
       "      <td>-37.885491</td>\n",
       "      <td>2.464977e-182</td>\n",
       "      <td>False</td>\n",
       "    </tr>\n",
       "  </tbody>\n",
       "</table>\n",
       "</div>"
      ],
      "text/plain": [
       "    year   year_mean     t_stat        p_value  reject_null\n",
       "24  1994   41.753568   5.076309   4.697974e-07         True\n",
       "23  1993  136.695879   9.072537   6.133079e-19         True\n",
       "20  1999   11.965388   2.540423   1.119745e-02         True\n",
       "0   2017    1.191322 -59.796312   0.000000e+00        False\n",
       "1   2001    1.308977 -37.885491  2.464977e-182        False"
      ]
     },
     "execution_count": 11,
     "metadata": {},
     "output_type": "execute_result"
    }
   ],
   "source": [
    "explore.hypothesis_test_years(train)"
   ]
  },
  {
   "cell_type": "markdown",
   "id": "451cedf7-a2f3-4ff5-a78c-09088819fe08",
   "metadata": {},
   "source": [
    "The null is likely wrong for '93, '99 and '94.  These years have a higher than average price for their cards."
   ]
  },
  {
   "cell_type": "markdown",
   "id": "26a76108-772a-4c6f-9510-39d1a77f1091",
   "metadata": {},
   "source": [
    "<hr style=\"border-top: 10px groove green; margin-top: 1px; margin-bottom: 1px\">"
   ]
  },
  {
   "cell_type": "markdown",
   "id": "d78cf4e7-274f-46b4-a5de-c59e72584cce",
   "metadata": {
    "tags": []
   },
   "source": [
    "<a name='q_5'></a>\n",
    "### What effect does the basic card type have on price?"
   ]
  },
  {
   "cell_type": "markdown",
   "id": "7a826041-ed2b-4def-abdb-a76dc0633c6b",
   "metadata": {
    "tags": []
   },
   "source": [
    "#### Key Takeaway\n",
    "- The land, artifact, enchantment and legendary card types are priced higher than cards with other basic card types."
   ]
  },
  {
   "cell_type": "markdown",
   "id": "1450c82d-24e9-4546-bba9-7f6b50a122a1",
   "metadata": {},
   "source": [
    "### Discussion\n",
    "The land, artifact, enchantment and legendary cards have statistically significant, higher prices than other types of cards. Some further questions to be asked is if these card types have more rares or particular artists.  In addition, it might be worth looking at subsets of some of these."
   ]
  },
  {
   "cell_type": "markdown",
   "id": "c708741f-21c4-4a59-96d0-1fa9194b6d40",
   "metadata": {},
   "source": [
    "#### Visualization\n",
    "\n",
    "Definitely looks like the card type has an effect."
   ]
  },
  {
   "cell_type": "code",
   "execution_count": 12,
   "id": "9c40fa90-08b6-4f76-93a9-54a893b6afea",
   "metadata": {},
   "outputs": [
    {
     "data": {
      "image/png": "[encoded data removed]",
      "text/plain": [
       "<Figure size 720x720 with 1 Axes>"
      ]
     },
     "metadata": {
      "needs_background": "light"
     },
     "output_type": "display_data"
    },
    {
     "data": {
      "text/html": [
       "<div>\n",
       "<style scoped>\n",
       "    .dataframe tbody tr th:only-of-type {\n",
       "        vertical-align: middle;\n",
       "    }\n",
       "\n",
       "    .dataframe tbody tr th {\n",
       "        vertical-align: top;\n",
       "    }\n",
       "\n",
       "    .dataframe thead th {\n",
       "        text-align: right;\n",
       "    }\n",
       "</style>\n",
       "<table border=\"1\" class=\"dataframe\">\n",
       "  <thead>\n",
       "    <tr style=\"text-align: right;\">\n",
       "      <th></th>\n",
       "      <th>count</th>\n",
       "      <th>mean</th>\n",
       "      <th>std</th>\n",
       "      <th>min</th>\n",
       "      <th>25%</th>\n",
       "      <th>50%</th>\n",
       "      <th>75%</th>\n",
       "      <th>max</th>\n",
       "    </tr>\n",
       "    <tr>\n",
       "      <th>card_type</th>\n",
       "      <th></th>\n",
       "      <th></th>\n",
       "      <th></th>\n",
       "      <th></th>\n",
       "      <th></th>\n",
       "      <th></th>\n",
       "      <th></th>\n",
       "      <th></th>\n",
       "    </tr>\n",
       "  </thead>\n",
       "  <tbody>\n",
       "    <tr>\n",
       "      <th>artifact</th>\n",
       "      <td>3891.0</td>\n",
       "      <td>11.059594</td>\n",
       "      <td>95.527098</td>\n",
       "      <td>0.01</td>\n",
       "      <td>0.1200</td>\n",
       "      <td>0.290</td>\n",
       "      <td>1.7900</td>\n",
       "      <td>3099.99</td>\n",
       "    </tr>\n",
       "    <tr>\n",
       "      <th>card</th>\n",
       "      <td>20.0</td>\n",
       "      <td>0.120000</td>\n",
       "      <td>0.089912</td>\n",
       "      <td>0.01</td>\n",
       "      <td>0.0550</td>\n",
       "      <td>0.090</td>\n",
       "      <td>0.1875</td>\n",
       "      <td>0.30</td>\n",
       "    </tr>\n",
       "    <tr>\n",
       "      <th>creature</th>\n",
       "      <td>15127.0</td>\n",
       "      <td>2.840369</td>\n",
       "      <td>31.472724</td>\n",
       "      <td>0.01</td>\n",
       "      <td>0.0700</td>\n",
       "      <td>0.150</td>\n",
       "      <td>0.3900</td>\n",
       "      <td>2499.94</td>\n",
       "    </tr>\n",
       "    <tr>\n",
       "      <th>enchantment</th>\n",
       "      <td>4034.0</td>\n",
       "      <td>7.475025</td>\n",
       "      <td>68.037474</td>\n",
       "      <td>0.01</td>\n",
       "      <td>0.1100</td>\n",
       "      <td>0.260</td>\n",
       "      <td>1.9400</td>\n",
       "      <td>2849.99</td>\n",
       "    </tr>\n",
       "    <tr>\n",
       "      <th>instant</th>\n",
       "      <td>4859.0</td>\n",
       "      <td>5.551062</td>\n",
       "      <td>105.282756</td>\n",
       "      <td>0.01</td>\n",
       "      <td>0.0800</td>\n",
       "      <td>0.170</td>\n",
       "      <td>0.5700</td>\n",
       "      <td>6999.99</td>\n",
       "    </tr>\n",
       "    <tr>\n",
       "      <th>land</th>\n",
       "      <td>4140.0</td>\n",
       "      <td>12.530761</td>\n",
       "      <td>131.352571</td>\n",
       "      <td>0.03</td>\n",
       "      <td>0.1400</td>\n",
       "      <td>0.260</td>\n",
       "      <td>1.4800</td>\n",
       "      <td>6000.00</td>\n",
       "    </tr>\n",
       "    <tr>\n",
       "      <th>legendary</th>\n",
       "      <td>2827.0</td>\n",
       "      <td>9.310007</td>\n",
       "      <td>79.840352</td>\n",
       "      <td>0.01</td>\n",
       "      <td>0.3300</td>\n",
       "      <td>1.510</td>\n",
       "      <td>5.5150</td>\n",
       "      <td>3888.00</td>\n",
       "    </tr>\n",
       "    <tr>\n",
       "      <th>other_type</th>\n",
       "      <td>143.0</td>\n",
       "      <td>2.769161</td>\n",
       "      <td>5.140162</td>\n",
       "      <td>0.05</td>\n",
       "      <td>0.2750</td>\n",
       "      <td>0.790</td>\n",
       "      <td>2.7150</td>\n",
       "      <td>38.14</td>\n",
       "    </tr>\n",
       "    <tr>\n",
       "      <th>plane</th>\n",
       "      <td>120.0</td>\n",
       "      <td>2.065583</td>\n",
       "      <td>1.480464</td>\n",
       "      <td>0.52</td>\n",
       "      <td>1.3475</td>\n",
       "      <td>1.690</td>\n",
       "      <td>2.4250</td>\n",
       "      <td>14.42</td>\n",
       "    </tr>\n",
       "    <tr>\n",
       "      <th>sorcery</th>\n",
       "      <td>4525.0</td>\n",
       "      <td>7.930336</td>\n",
       "      <td>111.240811</td>\n",
       "      <td>0.01</td>\n",
       "      <td>0.1000</td>\n",
       "      <td>0.230</td>\n",
       "      <td>0.9300</td>\n",
       "      <td>5732.99</td>\n",
       "    </tr>\n",
       "    <tr>\n",
       "      <th>token</th>\n",
       "      <td>601.0</td>\n",
       "      <td>1.227304</td>\n",
       "      <td>4.553455</td>\n",
       "      <td>0.02</td>\n",
       "      <td>0.1200</td>\n",
       "      <td>0.220</td>\n",
       "      <td>0.5300</td>\n",
       "      <td>58.99</td>\n",
       "    </tr>\n",
       "    <tr>\n",
       "      <th>vanguard</th>\n",
       "      <td>24.0</td>\n",
       "      <td>31.543750</td>\n",
       "      <td>81.441176</td>\n",
       "      <td>0.36</td>\n",
       "      <td>5.9200</td>\n",
       "      <td>9.665</td>\n",
       "      <td>17.0700</td>\n",
       "      <td>399.97</td>\n",
       "    </tr>\n",
       "  </tbody>\n",
       "</table>\n",
       "</div>"
      ],
      "text/plain": [
       "               count       mean         std   min     25%    50%      75%  \\\n",
       "card_type                                                                   \n",
       "artifact      3891.0  11.059594   95.527098  0.01  0.1200  0.290   1.7900   \n",
       "card            20.0   0.120000    0.089912  0.01  0.0550  0.090   0.1875   \n",
       "creature     15127.0   2.840369   31.472724  0.01  0.0700  0.150   0.3900   \n",
       "enchantment   4034.0   7.475025   68.037474  0.01  0.1100  0.260   1.9400   \n",
       "instant       4859.0   5.551062  105.282756  0.01  0.0800  0.170   0.5700   \n",
       "land          4140.0  12.530761  131.352571  0.03  0.1400  0.260   1.4800   \n",
       "legendary     2827.0   9.310007   79.840352  0.01  0.3300  1.510   5.5150   \n",
       "other_type     143.0   2.769161    5.140162  0.05  0.2750  0.790   2.7150   \n",
       "plane          120.0   2.065583    1.480464  0.52  1.3475  1.690   2.4250   \n",
       "sorcery       4525.0   7.930336  111.240811  0.01  0.1000  0.230   0.9300   \n",
       "token          601.0   1.227304    4.553455  0.02  0.1200  0.220   0.5300   \n",
       "vanguard        24.0  31.543750   81.441176  0.36  5.9200  9.665  17.0700   \n",
       "\n",
       "                 max  \n",
       "card_type             \n",
       "artifact     3099.99  \n",
       "card            0.30  \n",
       "creature     2499.94  \n",
       "enchantment  2849.99  \n",
       "instant      6999.99  \n",
       "land         6000.00  \n",
       "legendary    3888.00  \n",
       "other_type     38.14  \n",
       "plane          14.42  \n",
       "sorcery      5732.99  \n",
       "token          58.99  \n",
       "vanguard      399.97  "
      ]
     },
     "execution_count": 12,
     "metadata": {},
     "output_type": "execute_result"
    }
   ],
   "source": [
    "explore.vis_by_card_type(train)\n",
    "explore.make_card_type_column(train).groupby('card_type').usd.describe()"
   ]
  },
  {
   "cell_type": "markdown",
   "id": "1366610c-e9b6-478e-ae31-19f697f49272",
   "metadata": {
    "tags": []
   },
   "source": [
    "#### Hypothesis Testing\n",
    "\n",
    "$H_0$: Mean price for card type $x$ is less than or equal to the overall mean price.\n",
    "\n",
    "$H_a$: Mean price for card type $x$ is greater than the overall mean price."
   ]
  },
  {
   "cell_type": "code",
   "execution_count": 13,
   "id": "65161ed3-c38d-419f-8c88-db99dfa73091",
   "metadata": {},
   "outputs": [
    {
     "data": {
      "text/html": [
       "<div>\n",
       "<style scoped>\n",
       "    .dataframe tbody tr th:only-of-type {\n",
       "        vertical-align: middle;\n",
       "    }\n",
       "\n",
       "    .dataframe tbody tr th {\n",
       "        vertical-align: top;\n",
       "    }\n",
       "\n",
       "    .dataframe thead th {\n",
       "        text-align: right;\n",
       "    }\n",
       "</style>\n",
       "<table border=\"1\" class=\"dataframe\">\n",
       "  <thead>\n",
       "    <tr style=\"text-align: right;\">\n",
       "      <th></th>\n",
       "      <th>card_type</th>\n",
       "      <th>overall_mean</th>\n",
       "      <th>card_type_mean</th>\n",
       "      <th>t_stat</th>\n",
       "      <th>p_value</th>\n",
       "      <th>reject_null</th>\n",
       "    </tr>\n",
       "  </thead>\n",
       "  <tbody>\n",
       "    <tr>\n",
       "      <th>4</th>\n",
       "      <td>artifact</td>\n",
       "      <td>6.433689</td>\n",
       "      <td>11.241445</td>\n",
       "      <td>3.088901</td>\n",
       "      <td>2.023393e-03</td>\n",
       "      <td>True</td>\n",
       "    </tr>\n",
       "    <tr>\n",
       "      <th>5</th>\n",
       "      <td>land</td>\n",
       "      <td>6.433689</td>\n",
       "      <td>12.530761</td>\n",
       "      <td>2.986640</td>\n",
       "      <td>2.837148e-03</td>\n",
       "      <td>True</td>\n",
       "    </tr>\n",
       "    <tr>\n",
       "      <th>6</th>\n",
       "      <td>legendary</td>\n",
       "      <td>6.433689</td>\n",
       "      <td>9.316591</td>\n",
       "      <td>1.918514</td>\n",
       "      <td>5.514653e-02</td>\n",
       "      <td>True</td>\n",
       "    </tr>\n",
       "    <tr>\n",
       "      <th>0</th>\n",
       "      <td>creature</td>\n",
       "      <td>6.433689</td>\n",
       "      <td>2.951802</td>\n",
       "      <td>-13.093473</td>\n",
       "      <td>5.956357e-39</td>\n",
       "      <td>False</td>\n",
       "    </tr>\n",
       "    <tr>\n",
       "      <th>1</th>\n",
       "      <td>instant</td>\n",
       "      <td>6.433689</td>\n",
       "      <td>5.694970</td>\n",
       "      <td>-0.476732</td>\n",
       "      <td>6.335749e-01</td>\n",
       "      <td>False</td>\n",
       "    </tr>\n",
       "    <tr>\n",
       "      <th>2</th>\n",
       "      <td>sorcery</td>\n",
       "      <td>6.433689</td>\n",
       "      <td>8.065635</td>\n",
       "      <td>0.970315</td>\n",
       "      <td>3.319422e-01</td>\n",
       "      <td>False</td>\n",
       "    </tr>\n",
       "    <tr>\n",
       "      <th>3</th>\n",
       "      <td>enchantment</td>\n",
       "      <td>6.433689</td>\n",
       "      <td>7.580113</td>\n",
       "      <td>1.055432</td>\n",
       "      <td>2.912921e-01</td>\n",
       "      <td>False</td>\n",
       "    </tr>\n",
       "    <tr>\n",
       "      <th>7</th>\n",
       "      <td>token</td>\n",
       "      <td>6.433689</td>\n",
       "      <td>1.227304</td>\n",
       "      <td>-28.030601</td>\n",
       "      <td>3.789460e-111</td>\n",
       "      <td>False</td>\n",
       "    </tr>\n",
       "    <tr>\n",
       "      <th>8</th>\n",
       "      <td>plane</td>\n",
       "      <td>6.433689</td>\n",
       "      <td>2.065583</td>\n",
       "      <td>-32.321076</td>\n",
       "      <td>9.222349e-61</td>\n",
       "      <td>False</td>\n",
       "    </tr>\n",
       "    <tr>\n",
       "      <th>9</th>\n",
       "      <td>other_type</td>\n",
       "      <td>6.433689</td>\n",
       "      <td>2.769161</td>\n",
       "      <td>-8.525292</td>\n",
       "      <td>2.040294e-14</td>\n",
       "      <td>False</td>\n",
       "    </tr>\n",
       "    <tr>\n",
       "      <th>10</th>\n",
       "      <td>card</td>\n",
       "      <td>6.433689</td>\n",
       "      <td>0.125789</td>\n",
       "      <td>-310.812944</td>\n",
       "      <td>5.012473e-35</td>\n",
       "      <td>False</td>\n",
       "    </tr>\n",
       "    <tr>\n",
       "      <th>11</th>\n",
       "      <td>vanguard</td>\n",
       "      <td>6.433689</td>\n",
       "      <td>31.543750</td>\n",
       "      <td>1.510460</td>\n",
       "      <td>1.445436e-01</td>\n",
       "      <td>False</td>\n",
       "    </tr>\n",
       "  </tbody>\n",
       "</table>\n",
       "</div>"
      ],
      "text/plain": [
       "      card_type  overall_mean  card_type_mean      t_stat        p_value  \\\n",
       "4      artifact      6.433689       11.241445    3.088901   2.023393e-03   \n",
       "5          land      6.433689       12.530761    2.986640   2.837148e-03   \n",
       "6     legendary      6.433689        9.316591    1.918514   5.514653e-02   \n",
       "0      creature      6.433689        2.951802  -13.093473   5.956357e-39   \n",
       "1       instant      6.433689        5.694970   -0.476732   6.335749e-01   \n",
       "2       sorcery      6.433689        8.065635    0.970315   3.319422e-01   \n",
       "3   enchantment      6.433689        7.580113    1.055432   2.912921e-01   \n",
       "7         token      6.433689        1.227304  -28.030601  3.789460e-111   \n",
       "8         plane      6.433689        2.065583  -32.321076   9.222349e-61   \n",
       "9    other_type      6.433689        2.769161   -8.525292   2.040294e-14   \n",
       "10         card      6.433689        0.125789 -310.812944   5.012473e-35   \n",
       "11     vanguard      6.433689       31.543750    1.510460   1.445436e-01   \n",
       "\n",
       "    reject_null  \n",
       "4          True  \n",
       "5          True  \n",
       "6          True  \n",
       "0         False  \n",
       "1         False  \n",
       "2         False  \n",
       "3         False  \n",
       "7         False  \n",
       "8         False  \n",
       "9         False  \n",
       "10        False  \n",
       "11        False  "
      ]
     },
     "execution_count": 13,
     "metadata": {},
     "output_type": "execute_result"
    }
   ],
   "source": [
    "explore.hypothesis_test_card_type(train)"
   ]
  },
  {
   "cell_type": "markdown",
   "id": "c8311337-7c0f-48b6-8c06-d2d7a71ef8f0",
   "metadata": {},
   "source": [
    "<hr style=\"border-top: 10px groove white; margin-top: 1px; margin-bottom: 1px\">"
   ]
  },
  {
   "cell_type": "markdown",
   "id": "39b6ceab-9b04-43c5-88e9-a9ae1e71cad1",
   "metadata": {},
   "source": [
    "<a name='q_6'></a>\n",
    "### What effect does the game style (arena, etc.) have on price?"
   ]
  },
  {
   "cell_type": "markdown",
   "id": "5b945578-5d8b-400f-8961-2226fe3263ad",
   "metadata": {},
   "source": [
    "#### Key Takeaway\n",
    "- Cards available exclusively in the paper game are more valuable than ones also available in other games."
   ]
  },
  {
   "cell_type": "markdown",
   "id": "d3ed2f1e-4960-4445-bda0-2bc001a0b97e",
   "metadata": {
    "tags": []
   },
   "source": [
    "### Discussion\n",
    "Each card is tested by its inclusion in each game type, and cards that are in the paper game exclusively are more expensive. Inclusion into the other game types appears to lower the value of the card.\n",
    "\n",
    "### Notes\n",
    "The column contains a list of options to make a number of boolean columns to visualize."
   ]
  },
  {
   "cell_type": "markdown",
   "id": "ea112661-906a-4bd3-a989-a092d102110a",
   "metadata": {},
   "source": [
    "#### Visualization\n",
    "Cards that are in the paper game are definitely more valuable than cards available only in the non-paper game."
   ]
  },
  {
   "cell_type": "code",
   "execution_count": 14,
   "id": "0e50df36-8401-4bea-bc3e-62e5f20332af",
   "metadata": {},
   "outputs": [
    {
     "data": {
      "image/png": "[encoded data removed]",
      "text/plain": [
       "<Figure size 720x1800 with 3 Axes>"
      ]
     },
     "metadata": {
      "needs_background": "light"
     },
     "output_type": "display_data"
    },
    {
     "data": {
      "image/png": "[encoded data removed]",
      "text/plain": [
       "<Figure size 720x720 with 1 Axes>"
      ]
     },
     "metadata": {
      "needs_background": "light"
     },
     "output_type": "display_data"
    }
   ],
   "source": [
    "explore.vis_game_type(train)\n",
    "explore.vis_game_type_by_combo(train)"
   ]
  },
  {
   "cell_type": "markdown",
   "id": "77746d8b-7092-4073-8c68-4ee8b6b89ca7",
   "metadata": {},
   "source": [
    "#### Hypothesis Testing\n",
    "$H_0$: The mean USD price for cards which are available in game type $x$ is less than or equal to the mean USD price of those not available in game type $x$.\n",
    "\n",
    "$H_a$: The mean USD price for cards which are available in game type $x$ is greater than the mean USD price of those not available in game type $x$.\n",
    "\n",
    "Where $x$ is paper, astral, mtgo, arena, or sega."
   ]
  },
  {
   "cell_type": "code",
   "execution_count": 15,
   "id": "d6f1b7b7-c805-4eb7-8a77-d1373673202c",
   "metadata": {},
   "outputs": [
    {
     "data": {
      "text/html": [
       "<div>\n",
       "<style scoped>\n",
       "    .dataframe tbody tr th:only-of-type {\n",
       "        vertical-align: middle;\n",
       "    }\n",
       "\n",
       "    .dataframe tbody tr th {\n",
       "        vertical-align: top;\n",
       "    }\n",
       "\n",
       "    .dataframe thead th {\n",
       "        text-align: right;\n",
       "    }\n",
       "</style>\n",
       "<table border=\"1\" class=\"dataframe\">\n",
       "  <thead>\n",
       "    <tr style=\"text-align: right;\">\n",
       "      <th></th>\n",
       "      <th>game_type</th>\n",
       "      <th>card_count</th>\n",
       "      <th>game_type_mean</th>\n",
       "      <th>t_stat</th>\n",
       "      <th>p_value</th>\n",
       "      <th>reject_null</th>\n",
       "    </tr>\n",
       "  </thead>\n",
       "  <tbody>\n",
       "    <tr>\n",
       "      <th>0</th>\n",
       "      <td>is_mtgo</td>\n",
       "      <td>24922</td>\n",
       "      <td>1.787554</td>\n",
       "      <td>-63.769316</td>\n",
       "      <td>0.000000</td>\n",
       "      <td>False</td>\n",
       "    </tr>\n",
       "    <tr>\n",
       "      <th>1</th>\n",
       "      <td>is_arena</td>\n",
       "      <td>5072</td>\n",
       "      <td>1.205419</td>\n",
       "      <td>-87.500291</td>\n",
       "      <td>0.000000</td>\n",
       "      <td>False</td>\n",
       "    </tr>\n",
       "    <tr>\n",
       "      <th>2</th>\n",
       "      <td>is_paper</td>\n",
       "      <td>39356</td>\n",
       "      <td>6.437399</td>\n",
       "      <td>0.009104</td>\n",
       "      <td>0.992737</td>\n",
       "      <td>False</td>\n",
       "    </tr>\n",
       "  </tbody>\n",
       "</table>\n",
       "</div>"
      ],
      "text/plain": [
       "  game_type  card_count  game_type_mean     t_stat   p_value  reject_null\n",
       "0   is_mtgo       24922        1.787554 -63.769316  0.000000        False\n",
       "1  is_arena        5072        1.205419 -87.500291  0.000000        False\n",
       "2  is_paper       39356        6.437399   0.009104  0.992737        False"
      ]
     },
     "execution_count": 15,
     "metadata": {},
     "output_type": "execute_result"
    }
   ],
   "source": [
    "explore.hypothesis_test_game_type(train)"
   ]
  },
  {
   "cell_type": "markdown",
   "id": "c8adfcf9-2fe4-44cd-92b3-ac3758eab83d",
   "metadata": {},
   "source": [
    "$H_0$ : The mean USD price for cards which are available $l$ games is less than or equal to the mean USD price of those not available in $l$ games.\n",
    "\n",
    "$H_a$ : The mean USD price for cards which are available $l$ games is greater than the mean USD price of those not available in $l$ games.\n",
    "\n",
    "Where $l$ is one of the following combinations: \n",
    "- 'paper'\n",
    "- 'paper', 'mtgo'\n",
    "- 'arena', 'paper', 'mtgo'\n",
    "- 'mtgo'\n",
    "- 'arena'\n",
    "- 'paper', 'mtgo', 'arena'\n",
    "- 'arena', 'paper'\n",
    "- no combination\n",
    "- 'paper', 'arena', 'mtgo'\n",
    "- 'astral'\n",
    "- 'sega'"
   ]
  },
  {
   "cell_type": "code",
   "execution_count": 16,
   "id": "6e48f04c-7199-452b-bf1f-96b48dc88944",
   "metadata": {},
   "outputs": [
    {
     "data": {
      "text/html": [
       "<div>\n",
       "<style scoped>\n",
       "    .dataframe tbody tr th:only-of-type {\n",
       "        vertical-align: middle;\n",
       "    }\n",
       "\n",
       "    .dataframe tbody tr th {\n",
       "        vertical-align: top;\n",
       "    }\n",
       "\n",
       "    .dataframe thead th {\n",
       "        text-align: right;\n",
       "    }\n",
       "</style>\n",
       "<table border=\"1\" class=\"dataframe\">\n",
       "  <thead>\n",
       "    <tr style=\"text-align: right;\">\n",
       "      <th></th>\n",
       "      <th>games_combination</th>\n",
       "      <th>card_count</th>\n",
       "      <th>in_sample_mean</th>\n",
       "      <th>t_stat</th>\n",
       "      <th>p_value</th>\n",
       "      <th>reject_null</th>\n",
       "    </tr>\n",
       "  </thead>\n",
       "  <tbody>\n",
       "    <tr>\n",
       "      <th>1</th>\n",
       "      <td>paper</td>\n",
       "      <td>14132</td>\n",
       "      <td>15.018361</td>\n",
       "      <td>7.490320</td>\n",
       "      <td>7.276010e-14</td>\n",
       "      <td>True</td>\n",
       "    </tr>\n",
       "    <tr>\n",
       "      <th>0</th>\n",
       "      <td>paper mtgo</td>\n",
       "      <td>20152</td>\n",
       "      <td>1.927415</td>\n",
       "      <td>-49.955943</td>\n",
       "      <td>0.000000e+00</td>\n",
       "      <td>False</td>\n",
       "    </tr>\n",
       "    <tr>\n",
       "      <th>2</th>\n",
       "      <td>arena paper mtgo</td>\n",
       "      <td>4163</td>\n",
       "      <td>1.202358</td>\n",
       "      <td>-78.480391</td>\n",
       "      <td>0.000000e+00</td>\n",
       "      <td>False</td>\n",
       "    </tr>\n",
       "    <tr>\n",
       "      <th>3</th>\n",
       "      <td>paper mtgo arena</td>\n",
       "      <td>572</td>\n",
       "      <td>1.386755</td>\n",
       "      <td>-26.366627</td>\n",
       "      <td>2.007565e-104</td>\n",
       "      <td>False</td>\n",
       "    </tr>\n",
       "    <tr>\n",
       "      <th>4</th>\n",
       "      <td>arena paper</td>\n",
       "      <td>302</td>\n",
       "      <td>0.530062</td>\n",
       "      <td>-58.087016</td>\n",
       "      <td>4.910872e-172</td>\n",
       "      <td>False</td>\n",
       "    </tr>\n",
       "    <tr>\n",
       "      <th>5</th>\n",
       "      <td></td>\n",
       "      <td>61</td>\n",
       "      <td>3.985574</td>\n",
       "      <td>-3.507827</td>\n",
       "      <td>8.626413e-04</td>\n",
       "      <td>False</td>\n",
       "    </tr>\n",
       "    <tr>\n",
       "      <th>6</th>\n",
       "      <td>paper arena mtgo</td>\n",
       "      <td>35</td>\n",
       "      <td>4.466000</td>\n",
       "      <td>-1.991392</td>\n",
       "      <td>5.452106e-02</td>\n",
       "      <td>False</td>\n",
       "    </tr>\n",
       "  </tbody>\n",
       "</table>\n",
       "</div>"
      ],
      "text/plain": [
       "  games_combination  card_count  in_sample_mean     t_stat        p_value  \\\n",
       "1             paper       14132       15.018361   7.490320   7.276010e-14   \n",
       "0        paper mtgo       20152        1.927415 -49.955943   0.000000e+00   \n",
       "2  arena paper mtgo        4163        1.202358 -78.480391   0.000000e+00   \n",
       "3  paper mtgo arena         572        1.386755 -26.366627  2.007565e-104   \n",
       "4       arena paper         302        0.530062 -58.087016  4.910872e-172   \n",
       "5                            61        3.985574  -3.507827   8.626413e-04   \n",
       "6  paper arena mtgo          35        4.466000  -1.991392   5.452106e-02   \n",
       "\n",
       "   reject_null  \n",
       "1         True  \n",
       "0        False  \n",
       "2        False  \n",
       "3        False  \n",
       "4        False  \n",
       "5        False  \n",
       "6        False  "
      ]
     },
     "execution_count": 16,
     "metadata": {},
     "output_type": "execute_result"
    }
   ],
   "source": [
    "explore.hypothesis_test_game_type_combinations(train)"
   ]
  },
  {
   "cell_type": "markdown",
   "id": "9a2af9b9-db26-4d0e-93f3-3f51bf9c4133",
   "metadata": {},
   "source": [
    "<hr style=\"border-top: 10px groove blue; margin-top: 1px; margin-bottom: 1px\">"
   ]
  },
  {
   "cell_type": "markdown",
   "id": "6085e042-2e16-4eb1-bdb4-67dc304d990b",
   "metadata": {
    "tags": []
   },
   "source": [
    "<a name='q_7'></a>\n",
    "### What is the overlap between card types and rarity?"
   ]
  },
  {
   "cell_type": "markdown",
   "id": "11986162-14ba-4019-b9bc-da0ccb9847d0",
   "metadata": {},
   "source": [
    "#### Key Takeaway\n",
    "- Certain combinations of rarity and card type are more valuable than others; for example, rare enchantments are more valuable--but an enchantment card is not above average by itself."
   ]
  },
  {
   "cell_type": "markdown",
   "id": "696bac92-7ec3-4a14-920d-f4267e7adbc0",
   "metadata": {
    "tags": []
   },
   "source": [
    "### Discussion\n",
    "\n",
    "USD price is only significant for artifact, land and legendary cards. However, when some cards are also a certain rarity, then they become valuable.  This indicates that these two columns should both be used in the model together to try to capture the more valuable cards."
   ]
  },
  {
   "cell_type": "markdown",
   "id": "d93b99a6-d5d1-4665-a5d9-45a0f56e6cae",
   "metadata": {},
   "source": [
    "#### Visualization\n",
    "Rare and mythic cards are the most expensive.  However, there are not very many mythic cards."
   ]
  },
  {
   "cell_type": "code",
   "execution_count": 17,
   "id": "9f1ae11b-8605-4b3f-862e-2dad2790b170",
   "metadata": {},
   "outputs": [
    {
     "data": {
      "image/png": "[encoded data removed]",
      "text/plain": [
       "<Figure size 720x720 with 1 Axes>"
      ]
     },
     "metadata": {
      "needs_background": "light"
     },
     "output_type": "display_data"
    }
   ],
   "source": [
    "explore.viz_rarity_price(train)"
   ]
  },
  {
   "cell_type": "markdown",
   "id": "56bd7342-110a-42d1-8b46-0584b166cdcb",
   "metadata": {},
   "source": [
    "It looks like for mythic tends to have more legendary.  Creatures are more represented in the other card types. Since the uncommon, rare and mythic cards are more expensive, is there a difference in the prices of the different card types?"
   ]
  },
  {
   "cell_type": "code",
   "execution_count": 18,
   "id": "6c0d846e-de34-4149-8013-77974daf5fc8",
   "metadata": {},
   "outputs": [
    {
     "data": {
      "image/png": "[encoded data removed]",
      "text/plain": [
       "<Figure size 720x720 with 1 Axes>"
      ]
     },
     "metadata": {
      "needs_background": "light"
     },
     "output_type": "display_data"
    }
   ],
   "source": [
    "explore.viz_card_type_rarity(train)"
   ]
  },
  {
   "cell_type": "markdown",
   "id": "6364c47b-6e00-40b0-9fb3-ad57de55d480",
   "metadata": {},
   "source": [
    "Within the most expensive rarity types, land and artifact card types were still more expensive."
   ]
  },
  {
   "cell_type": "code",
   "execution_count": 19,
   "id": "15796c50-fb5c-417e-9edc-a30c3f7a7e39",
   "metadata": {},
   "outputs": [
    {
     "data": {
      "image/png": "[encoded data removed]",
      "text/plain": [
       "<Figure size 720x720 with 1 Axes>"
      ]
     },
     "metadata": {
      "needs_background": "light"
     },
     "output_type": "display_data"
    }
   ],
   "source": [
    "explore.viz_rare_uncommon_card_type_prices(train)"
   ]
  },
  {
   "cell_type": "markdown",
   "id": "75d7a6d1-7185-4769-bfb3-fc2e09803052",
   "metadata": {},
   "source": [
    "#### Hypothesis Testing\n",
    "$H_0$: Cards of $raritytype$ and $cardtype$ have a mean value less than or equal to the overall card mean value.\n",
    "\n",
    "$H_a$: Cards of $raritytype$ and $cardtype$ have a mean value greater than the overall card mean value.\n",
    "\n",
    "Where $raritytype$ is one of 'rare', 'uncommon', 'mythic', and $cardtype$ is any basic card type from the `card_type` columns."
   ]
  },
  {
   "cell_type": "code",
   "execution_count": 20,
   "id": "f0031c11-59d6-4de7-a8f9-95f0ef6252db",
   "metadata": {},
   "outputs": [
    {
     "data": {
      "text/html": [
       "<div>\n",
       "<style scoped>\n",
       "    .dataframe tbody tr th:only-of-type {\n",
       "        vertical-align: middle;\n",
       "    }\n",
       "\n",
       "    .dataframe tbody tr th {\n",
       "        vertical-align: top;\n",
       "    }\n",
       "\n",
       "    .dataframe thead th {\n",
       "        text-align: right;\n",
       "    }\n",
       "</style>\n",
       "<table border=\"1\" class=\"dataframe\">\n",
       "  <thead>\n",
       "    <tr style=\"text-align: right;\">\n",
       "      <th></th>\n",
       "      <th>rarity_type</th>\n",
       "      <th>card_type</th>\n",
       "      <th>overall_mean</th>\n",
       "      <th>subgroup_mean</th>\n",
       "      <th>t_stat</th>\n",
       "      <th>p_value</th>\n",
       "      <th>reject_null</th>\n",
       "    </tr>\n",
       "  </thead>\n",
       "  <tbody>\n",
       "    <tr>\n",
       "      <th>2</th>\n",
       "      <td>rare</td>\n",
       "      <td>land</td>\n",
       "      <td>6.433689</td>\n",
       "      <td>45.751851</td>\n",
       "      <td>4.609644</td>\n",
       "      <td>4.584154e-06</td>\n",
       "      <td>True</td>\n",
       "    </tr>\n",
       "    <tr>\n",
       "      <th>3</th>\n",
       "      <td>rare</td>\n",
       "      <td>artifact</td>\n",
       "      <td>6.433689</td>\n",
       "      <td>23.564593</td>\n",
       "      <td>4.209475</td>\n",
       "      <td>2.719814e-05</td>\n",
       "      <td>True</td>\n",
       "    </tr>\n",
       "    <tr>\n",
       "      <th>5</th>\n",
       "      <td>rare</td>\n",
       "      <td>enchantment</td>\n",
       "      <td>6.433689</td>\n",
       "      <td>14.174143</td>\n",
       "      <td>2.765816</td>\n",
       "      <td>5.748335e-03</td>\n",
       "      <td>True</td>\n",
       "    </tr>\n",
       "    <tr>\n",
       "      <th>6</th>\n",
       "      <td>rare</td>\n",
       "      <td>legendary</td>\n",
       "      <td>6.433689</td>\n",
       "      <td>11.543221</td>\n",
       "      <td>1.800819</td>\n",
       "      <td>7.193407e-02</td>\n",
       "      <td>True</td>\n",
       "    </tr>\n",
       "    <tr>\n",
       "      <th>25</th>\n",
       "      <td>mythic</td>\n",
       "      <td>enchantment</td>\n",
       "      <td>6.433689</td>\n",
       "      <td>12.280000</td>\n",
       "      <td>2.884459</td>\n",
       "      <td>4.894132e-03</td>\n",
       "      <td>True</td>\n",
       "    </tr>\n",
       "    <tr>\n",
       "      <th>24</th>\n",
       "      <td>mythic</td>\n",
       "      <td>instant</td>\n",
       "      <td>6.433689</td>\n",
       "      <td>14.350465</td>\n",
       "      <td>2.030992</td>\n",
       "      <td>4.861689e-02</td>\n",
       "      <td>True</td>\n",
       "    </tr>\n",
       "    <tr>\n",
       "      <th>23</th>\n",
       "      <td>mythic</td>\n",
       "      <td>artifact</td>\n",
       "      <td>6.433689</td>\n",
       "      <td>26.505000</td>\n",
       "      <td>4.598121</td>\n",
       "      <td>1.173936e-05</td>\n",
       "      <td>True</td>\n",
       "    </tr>\n",
       "    <tr>\n",
       "      <th>20</th>\n",
       "      <td>mythic</td>\n",
       "      <td>land</td>\n",
       "      <td>6.433689</td>\n",
       "      <td>31.773333</td>\n",
       "      <td>6.324940</td>\n",
       "      <td>6.557570e-07</td>\n",
       "      <td>True</td>\n",
       "    </tr>\n",
       "    <tr>\n",
       "      <th>19</th>\n",
       "      <td>mythic</td>\n",
       "      <td>legendary</td>\n",
       "      <td>6.433689</td>\n",
       "      <td>8.725692</td>\n",
       "      <td>5.351288</td>\n",
       "      <td>1.081975e-07</td>\n",
       "      <td>True</td>\n",
       "    </tr>\n",
       "    <tr>\n",
       "      <th>1</th>\n",
       "      <td>rare</td>\n",
       "      <td>sorcery</td>\n",
       "      <td>6.433689</td>\n",
       "      <td>17.913771</td>\n",
       "      <td>2.536849</td>\n",
       "      <td>1.127783e-02</td>\n",
       "      <td>True</td>\n",
       "    </tr>\n",
       "    <tr>\n",
       "      <th>0</th>\n",
       "      <td>rare</td>\n",
       "      <td>creature</td>\n",
       "      <td>6.433689</td>\n",
       "      <td>6.107988</td>\n",
       "      <td>-0.396551</td>\n",
       "      <td>6.917199e-01</td>\n",
       "      <td>False</td>\n",
       "    </tr>\n",
       "    <tr>\n",
       "      <th>17</th>\n",
       "      <td>uncommon</td>\n",
       "      <td>land</td>\n",
       "      <td>6.433689</td>\n",
       "      <td>4.830099</td>\n",
       "      <td>-0.560365</td>\n",
       "      <td>5.754092e-01</td>\n",
       "      <td>False</td>\n",
       "    </tr>\n",
       "    <tr>\n",
       "      <th>26</th>\n",
       "      <td>mythic</td>\n",
       "      <td>card</td>\n",
       "      <td>6.433689</td>\n",
       "      <td>0.236667</td>\n",
       "      <td>-178.070121</td>\n",
       "      <td>3.153533e-05</td>\n",
       "      <td>False</td>\n",
       "    </tr>\n",
       "    <tr>\n",
       "      <th>22</th>\n",
       "      <td>mythic</td>\n",
       "      <td>sorcery</td>\n",
       "      <td>6.433689</td>\n",
       "      <td>7.410336</td>\n",
       "      <td>0.789483</td>\n",
       "      <td>4.310928e-01</td>\n",
       "      <td>False</td>\n",
       "    </tr>\n",
       "    <tr>\n",
       "      <th>21</th>\n",
       "      <td>mythic</td>\n",
       "      <td>creature</td>\n",
       "      <td>6.433689</td>\n",
       "      <td>7.221172</td>\n",
       "      <td>1.542001</td>\n",
       "      <td>1.237365e-01</td>\n",
       "      <td>False</td>\n",
       "    </tr>\n",
       "  </tbody>\n",
       "</table>\n",
       "</div>"
      ],
      "text/plain": [
       "   rarity_type    card_type  overall_mean  subgroup_mean      t_stat  \\\n",
       "2         rare         land      6.433689      45.751851    4.609644   \n",
       "3         rare     artifact      6.433689      23.564593    4.209475   \n",
       "5         rare  enchantment      6.433689      14.174143    2.765816   \n",
       "6         rare    legendary      6.433689      11.543221    1.800819   \n",
       "25      mythic  enchantment      6.433689      12.280000    2.884459   \n",
       "24      mythic      instant      6.433689      14.350465    2.030992   \n",
       "23      mythic     artifact      6.433689      26.505000    4.598121   \n",
       "20      mythic         land      6.433689      31.773333    6.324940   \n",
       "19      mythic    legendary      6.433689       8.725692    5.351288   \n",
       "1         rare      sorcery      6.433689      17.913771    2.536849   \n",
       "0         rare     creature      6.433689       6.107988   -0.396551   \n",
       "17    uncommon         land      6.433689       4.830099   -0.560365   \n",
       "26      mythic         card      6.433689       0.236667 -178.070121   \n",
       "22      mythic      sorcery      6.433689       7.410336    0.789483   \n",
       "21      mythic     creature      6.433689       7.221172    1.542001   \n",
       "\n",
       "         p_value  reject_null  \n",
       "2   4.584154e-06         True  \n",
       "3   2.719814e-05         True  \n",
       "5   5.748335e-03         True  \n",
       "6   7.193407e-02         True  \n",
       "25  4.894132e-03         True  \n",
       "24  4.861689e-02         True  \n",
       "23  1.173936e-05         True  \n",
       "20  6.557570e-07         True  \n",
       "19  1.081975e-07         True  \n",
       "1   1.127783e-02         True  \n",
       "0   6.917199e-01        False  \n",
       "17  5.754092e-01        False  \n",
       "26  3.153533e-05        False  \n",
       "22  4.310928e-01        False  \n",
       "21  1.237365e-01        False  "
      ]
     },
     "execution_count": 20,
     "metadata": {},
     "output_type": "execute_result"
    }
   ],
   "source": [
    "explore.rarity_card_type_hypothesis_tests(train)"
   ]
  },
  {
   "cell_type": "markdown",
   "id": "11c5f1c2-3397-41be-8ff6-9fa5cc55109b",
   "metadata": {},
   "source": [
    "<hr style=\"border-top: 10px groove gray; margin-top: 1px; margin-bottom: 1px\">"
   ]
  },
  {
   "cell_type": "markdown",
   "id": "38d36427-b1bd-4061-929b-74d144d08a38",
   "metadata": {
    "tags": []
   },
   "source": [
    "<a name='q_5'></a>\n",
    "### What effect does lang have on the price?"
   ]
  },
  {
   "cell_type": "markdown",
   "id": "19483458-4004-42ea-822a-3c77ae078d1a",
   "metadata": {},
   "source": [
    "#### Key Takeaways\n",
    "- Non-english cards showed significant increase in USD price compared to English cards, but only French and Spanish are statistically significant"
   ]
  },
  {
   "cell_type": "markdown",
   "id": "a7361ba9-11f9-42e7-8f09-d74e85447b2d",
   "metadata": {
    "tags": []
   },
   "source": [
    "### Discussion\n",
    "- French and Spanish language cards show correlations strong enough to reject the null with both having a statistically significant p-value and a positive t-value."
   ]
  },
  {
   "cell_type": "markdown",
   "id": "74557c60-5ba0-4221-81f3-1258ce38bcf7",
   "metadata": {},
   "source": [
    "#### Visualization\n",
    "It looks like the French cards are the most expensive."
   ]
  },
  {
   "cell_type": "code",
   "execution_count": 21,
   "id": "607785d2-061b-461c-a203-9ec5acc6f653",
   "metadata": {},
   "outputs": [
    {
     "data": {
      "image/png": "[encoded data removed]",
      "text/plain": [
       "<Figure size 720x720 with 1 Axes>"
      ]
     },
     "metadata": {
      "needs_background": "light"
     },
     "output_type": "display_data"
    }
   ],
   "source": [
    "explore.viz_lang_column_usd(train)"
   ]
  },
  {
   "cell_type": "markdown",
   "id": "164ff4e7-6b12-4abd-911d-9ee9ffcac68f",
   "metadata": {},
   "source": [
    "#### Hypothesis Testing\n",
    "$H_0$: There is no statistically significant difference in USD Price for non-English cards compared to English cards.\n",
    "\n",
    "$H_a$: There is a statistically significant difference in USD Price for non-English cards compared to English cards."
   ]
  },
  {
   "cell_type": "code",
   "execution_count": 22,
   "id": "491194dd-e800-4a14-9f86-7f6750418078",
   "metadata": {},
   "outputs": [
    {
     "data": {
      "text/html": [
       "<div>\n",
       "<style scoped>\n",
       "    .dataframe tbody tr th:only-of-type {\n",
       "        vertical-align: middle;\n",
       "    }\n",
       "\n",
       "    .dataframe tbody tr th {\n",
       "        vertical-align: top;\n",
       "    }\n",
       "\n",
       "    .dataframe thead th {\n",
       "        text-align: right;\n",
       "    }\n",
       "</style>\n",
       "<table border=\"1\" class=\"dataframe\">\n",
       "  <thead>\n",
       "    <tr style=\"text-align: right;\">\n",
       "      <th></th>\n",
       "      <th>langauge</th>\n",
       "      <th>overall_mean</th>\n",
       "      <th>legality_mean</th>\n",
       "      <th>t_value</th>\n",
       "      <th>p_value</th>\n",
       "      <th>reject_null</th>\n",
       "    </tr>\n",
       "  </thead>\n",
       "  <tbody>\n",
       "    <tr>\n",
       "      <th>1</th>\n",
       "      <td>fr</td>\n",
       "      <td>6.433689</td>\n",
       "      <td>47.988393</td>\n",
       "      <td>2.507406</td>\n",
       "      <td>1.360934e-02</td>\n",
       "      <td>True</td>\n",
       "    </tr>\n",
       "    <tr>\n",
       "      <th>3</th>\n",
       "      <td>es</td>\n",
       "      <td>6.433689</td>\n",
       "      <td>12.751308</td>\n",
       "      <td>3.299197</td>\n",
       "      <td>1.253594e-03</td>\n",
       "      <td>True</td>\n",
       "    </tr>\n",
       "    <tr>\n",
       "      <th>0</th>\n",
       "      <td>en</td>\n",
       "      <td>6.433689</td>\n",
       "      <td>6.292161</td>\n",
       "      <td>-0.346722</td>\n",
       "      <td>7.288024e-01</td>\n",
       "      <td>False</td>\n",
       "    </tr>\n",
       "    <tr>\n",
       "      <th>2</th>\n",
       "      <td>ja</td>\n",
       "      <td>6.433689</td>\n",
       "      <td>7.105481</td>\n",
       "      <td>0.381300</td>\n",
       "      <td>7.037661e-01</td>\n",
       "      <td>False</td>\n",
       "    </tr>\n",
       "    <tr>\n",
       "      <th>4</th>\n",
       "      <td>zhs</td>\n",
       "      <td>6.433689</td>\n",
       "      <td>0.714286</td>\n",
       "      <td>-24.062587</td>\n",
       "      <td>8.941103e-20</td>\n",
       "      <td>False</td>\n",
       "    </tr>\n",
       "    <tr>\n",
       "      <th>5</th>\n",
       "      <td>it</td>\n",
       "      <td>6.433689</td>\n",
       "      <td>15.722692</td>\n",
       "      <td>1.340509</td>\n",
       "      <td>1.921353e-01</td>\n",
       "      <td>False</td>\n",
       "    </tr>\n",
       "    <tr>\n",
       "      <th>6</th>\n",
       "      <td>ph</td>\n",
       "      <td>6.433689</td>\n",
       "      <td>11.755000</td>\n",
       "      <td>1.031976</td>\n",
       "      <td>3.779905e-01</td>\n",
       "      <td>False</td>\n",
       "    </tr>\n",
       "  </tbody>\n",
       "</table>\n",
       "</div>"
      ],
      "text/plain": [
       "  langauge  overall_mean  legality_mean    t_value       p_value  reject_null\n",
       "1       fr      6.433689      47.988393   2.507406  1.360934e-02         True\n",
       "3       es      6.433689      12.751308   3.299197  1.253594e-03         True\n",
       "0       en      6.433689       6.292161  -0.346722  7.288024e-01        False\n",
       "2       ja      6.433689       7.105481   0.381300  7.037661e-01        False\n",
       "4      zhs      6.433689       0.714286 -24.062587  8.941103e-20        False\n",
       "5       it      6.433689      15.722692   1.340509  1.921353e-01        False\n",
       "6       ph      6.433689      11.755000   1.031976  3.779905e-01        False"
      ]
     },
     "execution_count": 22,
     "metadata": {},
     "output_type": "execute_result"
    }
   ],
   "source": [
    "explore.lang_hypothesis_test(train)"
   ]
  },
  {
   "cell_type": "markdown",
   "id": "5112042a-854f-4b08-810b-eb099383ca82",
   "metadata": {},
   "source": [
    "<hr style=\"border-top: 10px groove red; margin-top: 1px; margin-bottom: 1px\">"
   ]
  },
  {
   "cell_type": "markdown",
   "id": "c001f233-bffa-4d3e-9943-73b35d531e58",
   "metadata": {
    "tags": []
   },
   "source": [
    "<a name='q_9'></a>\n",
    "### Does the artist have any effect on the price of the card?"
   ]
  },
  {
   "cell_type": "markdown",
   "id": "445192ce-64f2-4b16-8e41-91ca5fd32739",
   "metadata": {},
   "source": [
    "#### Key Takeaways\n",
    "- The number of cards created by an individual artist is not equal to the artist's value. \n",
    "- In the charts, artist Jon Avon created the most cards, but the artist Christopher Rush created the most expensive card (Black Lotus)"
   ]
  },
  {
   "cell_type": "markdown",
   "id": "870bb778-0391-4804-be93-e010dd682feb",
   "metadata": {
    "tags": []
   },
   "source": [
    "### Discussion\n",
    "While some artists have created more cards than others, it appears that the amount of cards created is not equal to the value of the cards."
   ]
  },
  {
   "cell_type": "markdown",
   "id": "285751f1-a016-4787-9ae9-b414e1a3f641",
   "metadata": {
    "tags": []
   },
   "source": [
    "#### Visualization\n",
    "It looks like the mid '90s, just before '00, and post-'20 might have higher prices.\n"
   ]
  },
  {
   "cell_type": "code",
   "execution_count": 23,
   "id": "fc790a30-5b9b-4b81-9b33-ddb6945b77e6",
   "metadata": {},
   "outputs": [
    {
     "data": {
      "image/png": "[encoded data removed]",
      "text/plain": [
       "<Figure size 720x720 with 1 Axes>"
      ]
     },
     "metadata": {
      "needs_background": "light"
     },
     "output_type": "display_data"
    }
   ],
   "source": [
    "# Bar plot to show Artist and USD price, for top artist\n",
    "explore.vis_artist_by_usd(train)"
   ]
  },
  {
   "cell_type": "code",
   "execution_count": 24,
   "id": "fe740c88-a0ba-4e73-8233-20842747874b",
   "metadata": {},
   "outputs": [
    {
     "data": {
      "image/png": "[encoded data removed]",
      "text/plain": [
       "<Figure size 720x720 with 1 Axes>"
      ]
     },
     "metadata": {
      "needs_background": "light"
     },
     "output_type": "display_data"
    }
   ],
   "source": [
    "# Median price for all cards based on Rarity and USD price\n",
    "explore.vis_rarity_by_usd(train)"
   ]
  },
  {
   "cell_type": "markdown",
   "id": "b8b52413-181e-47e9-8215-bd78acaa59ca",
   "metadata": {},
   "source": [
    "#### Hypothesis Testing\n",
    "$H_0$: The amount of cards created is equal to the artist value.\n",
    "\n",
    "$H_a$: The amount of cards created is not equal to the artist value."
   ]
  },
  {
   "cell_type": "markdown",
   "id": "c24211fa-7a24-4a5d-8cbd-b387f61c935f",
   "metadata": {},
   "source": [
    "<hr style=\"border-top: 10px groove green; margin-top: 1px; margin-bottom: 1px\">"
   ]
  },
  {
   "cell_type": "markdown",
   "id": "e3d6272c-e76a-4d0f-b9fc-d42483dcc9c4",
   "metadata": {
    "tags": []
   },
   "source": [
    "<a name='q_10'></a>\n",
    "### Does the Rarity of the card have any effect on the card price?"
   ]
  },
  {
   "cell_type": "markdown",
   "id": "3ca6bf20-33f2-44a2-a91e-0b762a5b9243",
   "metadata": {},
   "source": [
    "#### Key Takeaways\n",
    "- The rarity of cards is not the total indicator of the price. \n",
    "- In the charts, while uncommon, there are some non-rare cards in the high-value price range."
   ]
  },
  {
   "cell_type": "markdown",
   "id": "839fe893-0cf6-46ea-bd8e-420d58009550",
   "metadata": {
    "tags": []
   },
   "source": [
    "### Discussion\n",
    "The rarity of the card and artist have no effect on the card price. Will need more information in the future to see if higher price cards are more affected by tournament play and age of the card."
   ]
  },
  {
   "cell_type": "markdown",
   "id": "7b46c0db-22de-4523-8672-fb23724663cd",
   "metadata": {},
   "source": [
    "#### Visualization\n",
    "\n",
    "Rarity of the cards has some positive effect on the value of the card but more analysis and information is needed to tell if it is a predictor of the card price."
   ]
  },
  {
   "cell_type": "code",
   "execution_count": 25,
   "id": "1f39c439-1aa0-44e6-b649-0b0ec4158962",
   "metadata": {},
   "outputs": [
    {
     "data": {
      "image/png": "[encoded data removed]",
      "text/plain": [
       "<Figure size 720x720 with 1 Axes>"
      ]
     },
     "metadata": {
      "needs_background": "light"
     },
     "output_type": "display_data"
    }
   ],
   "source": [
    "# Bar plot to show artist, USD price and top 60 cards in the rarity category\n",
    "explore.vis_artist_rarity_usd(train)"
   ]
  },
  {
   "cell_type": "markdown",
   "id": "cecb7769-8234-477e-95bc-6808d4479b86",
   "metadata": {
    "tags": []
   },
   "source": [
    "#### Hypothesis Testing\n",
    "\n",
    "$H_0$: The artist and rarity of cards is equal to price.\n",
    "\n",
    "$H_a$: The artist and rarity of cards is not equal to price."
   ]
  },
  {
   "cell_type": "markdown",
   "id": "922b848f-48a2-4c52-a87f-13f4fca01396",
   "metadata": {},
   "source": [
    "<hr style=\"border-top: 10px groove white; margin-top: 1px; margin-bottom: 1px\">"
   ]
  },
  {
   "cell_type": "markdown",
   "id": "9fd20fac-3c3c-43a8-95de-93f2b58dd96e",
   "metadata": {
    "tags": []
   },
   "source": [
    "<a name='q_11'></a>\n",
    "### Does the set type and rarity of the cards affect the USD price?"
   ]
  },
  {
   "cell_type": "markdown",
   "id": "477ec716-a2d6-4019-be36-326041894e3c",
   "metadata": {},
   "source": [
    "#### Key Takeaways\n",
    "- The set type and rarity of cards is not equal to price. \n",
    "- Some set types are older so we would have to evaluate the category to better understand this hypothesis.\n",
    "- Rare cards are the most expensive regardless of set type\n",
    "- In the charts there are only a few non-rare cards in the top 100 high value price range."
   ]
  },
  {
   "cell_type": "markdown",
   "id": "1a468f54-9d5b-4523-b33b-f233368b70e8",
   "metadata": {
    "tags": []
   },
   "source": [
    "### Discussion\n",
    "\n",
    "While set type and rarity of the card do have some effect on the card's value more information is needed to see if this determines the value.\n",
    "\n",
    "From ANOVA analysis, we know that set_type differences are statistically significant, but ANOVA does not tell which set_type are significantly different from each other. To know the pairs of significant different treatments, we will perform multiple pairwise comparison (post hoc comparison) analysis for all unplanned comparison using Tukey’s honestly significantly differenced (HSD) test."
   ]
  },
  {
   "cell_type": "markdown",
   "id": "2fce247a-34c8-4711-936b-8757ae09385d",
   "metadata": {},
   "source": [
    "#### Visualization\n",
    "Set type of the cards has some effect on the value of the card however more information and analysis is needed to tell if it is a predictor of the card price."
   ]
  },
  {
   "cell_type": "code",
   "execution_count": 26,
   "id": "a60f2df0-d3a5-4a2e-aa57-345d7ac1900f",
   "metadata": {},
   "outputs": [
    {
     "data": {
      "image/png": "[encoded data removed]",
      "text/plain": [
       "<Figure size 720x720 with 1 Axes>"
      ]
     },
     "metadata": {
      "needs_background": "light"
     },
     "output_type": "display_data"
    }
   ],
   "source": [
    "# Most expensive cards by set type.\n",
    "explore.viz_expensive_cards_by_set_type(train)"
   ]
  },
  {
   "cell_type": "code",
   "execution_count": 27,
   "id": "d601591b-275c-447b-a704-c176f6b2dac5",
   "metadata": {},
   "outputs": [
    {
     "data": {
      "image/png": "[encoded data removed]",
      "text/plain": [
       "<Figure size 720x720 with 1 Axes>"
      ]
     },
     "metadata": {
      "needs_background": "light"
     },
     "output_type": "display_data"
    }
   ],
   "source": [
    "# The top 100 cards by set type and rarity\n",
    "explore.usd_rarity_set_type_total(train)"
   ]
  },
  {
   "cell_type": "markdown",
   "id": "202b6bc2-9848-450d-89ea-947d633b6bd5",
   "metadata": {
    "tags": []
   },
   "source": [
    "#### Hypothesis Testing\n",
    "$H_0$: The set type and rarity of cards is equal to the price. \n",
    "\n",
    "$H_A$: The set type and rarity of cards is not equal to the price."
   ]
  },
  {
   "cell_type": "markdown",
   "id": "28189073-a906-4d68-a80d-9202b7d24e84",
   "metadata": {},
   "source": [
    "<hr style=\"border-top: 10px groove blue; margin-top: 1px; margin-bottom: 1px\">"
   ]
  },
  {
   "cell_type": "markdown",
   "id": "90bc8974-fb98-4b14-bcda-677793ec9a81",
   "metadata": {
    "tags": []
   },
   "source": [
    "<a name='q_12'></a>\n",
    "### Is there a significant difference in USD between non-foil only cards and non-foil cards with foil versions?"
   ]
  },
  {
   "cell_type": "markdown",
   "id": "935a9007-a143-4608-8739-20020c642829",
   "metadata": {},
   "source": [
    "#### Key Takeaway\n",
    "- Taking into account all sets the difference in favor of non-foil only cards is about $10.91"
   ]
  },
  {
   "cell_type": "markdown",
   "id": "27aa56f6-b362-415c-9d1d-1a7aec340fdb",
   "metadata": {
    "tags": []
   },
   "source": [
    "### Discussion\n",
    "\n",
    "Found the null hypothesis to be false and the alternative hypothesis to be true. That there is a statistically significant difference between the prices of cards that are only non-foil and cards with both foil & non-foil versions.\n",
    "\n",
    "The difference isn't in the way I initially anticipated as foil cards are supposed to be the premium product and rarer in general, but the non-foil onlys were almost seven times more expensive.  I suspect that the cards that only come in non-foil are much older on average than those with both foil and non-foil versions.\n",
    "\n",
    "I set up the functions to account for any cards that come in foil but not in non-foil, however it appears that there non-foil versions of all cards but I'll leave it as is in case that changes in the future. \n",
    "\n",
    "There appear to be some large outliers for both non-foil only and both foil & non-foil sets.  The non-foil onlys have much higher outliers in USD but may be less extreme in relation to the rest of the non-foil onlys in comparison to the cards with both foil and non-foil versions."
   ]
  },
  {
   "cell_type": "markdown",
   "id": "65f1f5cf-f506-4136-a4fe-572e29a7d39d",
   "metadata": {
    "tags": []
   },
   "source": [
    "#### Visualization\n",
    "\n",
    "Bar plot comparing cards that are only non-foils to those that have both foil & non-foil version."
   ]
  },
  {
   "cell_type": "code",
   "execution_count": 28,
   "id": "fb801d0e-08ff-42a8-9971-eae7f7d02232",
   "metadata": {},
   "outputs": [
    {
     "data": {
      "image/png": "[encoded data removed]",
      "text/plain": [
       "<Figure size 2160x1080 with 1 Axes>"
      ]
     },
     "metadata": {
      "needs_background": "light"
     },
     "output_type": "display_data"
    },
    {
     "data": {
      "text/plain": [
       "(None,\n",
       " 'The average USD price of non-foil only cards is $12.76,  and for cards with both foil and non-foil is $1.85. The difference in average price is $10.91.')"
      ]
     },
     "execution_count": 28,
     "metadata": {},
     "output_type": "execute_result"
    }
   ],
   "source": [
    "# Creates a bar plot for columns in the dataframe for if it's non-foil only or not.\n",
    "explore.nonfoil_only_or_not_viz(train)"
   ]
  },
  {
   "cell_type": "markdown",
   "id": "586a1671-7ef3-45c1-a509-29154eda2d42",
   "metadata": {
    "tags": []
   },
   "source": [
    "#### Hypothesis Testing\n",
    "95% significance level: α = 0.05\n",
    "\n",
    "$H_0$: There is not a signficant difference between foil & non-foil cards.\n",
    "\n",
    "$H_a$: There is a significant difference between foil & non-foil cards."
   ]
  },
  {
   "cell_type": "code",
   "execution_count": 29,
   "id": "f029165d-2d5f-4e8f-8f26-f93a57e46a63",
   "metadata": {},
   "outputs": [
    {
     "name": "stdout",
     "output_type": "stream",
     "text": [
      "Variance for non-foil only cards is 15743.686.\n",
      "Variance for cards with both foil and non-foil cards is 50.2.\n",
      "The t-statistic of -11.302 is less than 0, and the p-value of 8.201e-30 is statistically significant.\n",
      "We reject the null hypothesis.\n"
     ]
    }
   ],
   "source": [
    "# Hypothesis testing for foil vs non-foil using Two-sample T-Test with a 95% confidence interval.\n",
    "explore.hypothesis_test_foil_vs_nonfoil(train)"
   ]
  },
  {
   "cell_type": "markdown",
   "id": "f3059077-a3aa-423b-b343-df50a7624235",
   "metadata": {},
   "source": [
    "<hr style=\"border-top: 10px groove gray; margin-top: 1px; margin-bottom: 1px\">"
   ]
  },
  {
   "cell_type": "markdown",
   "id": "a675708e-bdb9-44cd-aa81-fe07db4c7a08",
   "metadata": {
    "tags": []
   },
   "source": [
    "<a name='q_13'></a>\n",
    "### What’s the difference in card prices for reprints versus first printings?"
   ]
  },
  {
   "cell_type": "markdown",
   "id": "3db11520-0e3d-4a1d-af25-f29c3ac5af97",
   "metadata": {},
   "source": [
    "#### Key Takeaway\n",
    "- Reprinted cards cost about 77¢ more on average than first printings"
   ]
  },
  {
   "cell_type": "markdown",
   "id": "437df547-9602-4413-befa-ab9cd05e6291",
   "metadata": {
    "tags": []
   },
   "source": [
    "### Discussion\n",
    "We fail to reject the null hypothesis that there is a statistically significant difference between the prices of reprints and first printings.\n",
    "\n",
    "Next I would try filtering out all the cards that don't have reprinted versions.\n",
    "\n",
    "There may be an issue with the reprints lowering the price of the first printings so that there's a less statistically significant difference."
   ]
  },
  {
   "cell_type": "markdown",
   "id": "b083a39f-4139-439e-a07a-b5d7659e0dd9",
   "metadata": {},
   "source": [
    "#### Visualization"
   ]
  },
  {
   "cell_type": "code",
   "execution_count": 30,
   "id": "b8ab288e-a9dc-47a1-a539-91a9d859ad4e",
   "metadata": {},
   "outputs": [
    {
     "data": {
      "image/png": "[encoded data removed]",
      "text/plain": [
       "<Figure size 2160x1080 with 1 Axes>"
      ]
     },
     "metadata": {
      "needs_background": "light"
     },
     "output_type": "display_data"
    },
    {
     "data": {
      "text/plain": [
       "(None,\n",
       " 'The average USD price of reprinted cards is $6.82,  and first print cards is $6.04. The difference in average price is $0.77.')"
      ]
     },
     "execution_count": 30,
     "metadata": {},
     "output_type": "execute_result"
    }
   ],
   "source": [
    "# Combines explore functions for reprint visualization\n",
    "explore.reprint_or_not_viz(train)"
   ]
  },
  {
   "cell_type": "markdown",
   "id": "4db55721-dd71-4225-9805-92d3918a3481",
   "metadata": {
    "tags": []
   },
   "source": [
    "#### Hypothesis Testing\n",
    "95% significance level: α = 0.05\n",
    "- $H_0$ = There is not a signficant difference in USD prices between reprints & first printings.\n",
    "- $H_a$ = There is a significant difference in USD prices between reprints & first printings."
   ]
  },
  {
   "cell_type": "code",
   "execution_count": 31,
   "id": "9ddea627-17bc-4e80-b7bb-244e5acf92e4",
   "metadata": {},
   "outputs": [
    {
     "name": "stdout",
     "output_type": "stream",
     "text": [
      "Variance for non-foil only cards is 7721.256.\n",
      "Variance for cards with both foil and non-foil cards is 5609.148.\n",
      "The t-statistic of -0.952 is less than 0, but the p-value of 1.705e-01 is not statistically significant.\n",
      "We fail to reject the null hypothesis.\n"
     ]
    }
   ],
   "source": [
    "# # Hypothesis testing for question one using Two-sample T-Test with a 95% confidence interval\n",
    "explore.hypothesis_test_reprint_or_not(train)"
   ]
  },
  {
   "cell_type": "markdown",
   "id": "5d3bc778-ced3-4cb9-aa26-8fa236761219",
   "metadata": {},
   "source": [
    "<hr style=\"border-top: 10px groove red; margin-top: 1px; margin-bottom: 1px\">"
   ]
  },
  {
   "cell_type": "markdown",
   "id": "875066d0-2f9a-4768-a020-008f42703474",
   "metadata": {},
   "source": [
    "## Modeling <a name='model'></a>"
   ]
  },
  {
   "cell_type": "code",
   "execution_count": 32,
   "id": "1681effa-408d-43f6-a2c7-0db7d3f469e8",
   "metadata": {},
   "outputs": [
    {
     "name": "stdout",
     "output_type": "stream",
     "text": [
      "Found file in working directory!\n",
      "(70932, 83)\n",
      "(40311, 339)(6719, 339)(6719, 339)\n"
     ]
    }
   ],
   "source": [
    "df_in = acquire.get_data(query_url = False)\n",
    "print(df_in.shape)\n",
    "df_in = prepare.prepare_dataframe(df_in)\n",
    "df_in = model.prepare_model_df(df_in) # DO NOT USE THIS LINE IF NOT MODELING\n",
    "train, validate, test = prepare.split_data(df_in)\n",
    "print(str(train.shape) + str(validate.shape) + str(test.shape))"
   ]
  },
  {
   "cell_type": "markdown",
   "id": "71076766-8508-4669-815a-bd8db33b5ca5",
   "metadata": {
    "tags": []
   },
   "source": [
    "# Introduction to Modeling\n",
    "- Since most cards that are recently published are lower in value, card prices are capped at \\$200.\n",
    "    - Any card over $200 can be interpreted as simply an expensive card.\n",
    "- Clusters are used as a feature in the models by a K-Means algorithm.\n",
    "    - Making two columns with 5 and 6 clusters each are used, created using the data without the target variable.\n",
    "    - Clustered by USD price, usually with one cluster representing signifcantly more valuable cards.\n",
    "- Two evaluation metrics are used:\n",
    "    - Mean Absolute Error (MAE).  This is chosen because models tended to poorly predict expensive cards, leading to the RMSE being a poor metric since it over emphasizes large errors\n",
    "    - Card predictions within a dime of the actual value.  The models tended to be better at predicting lower priced cards.  Since the use case is to determine if new cards hit many price points in the market, if a larger percentage of cards are accurately predicted, more price points can be easily marketed to with the model."
   ]
  },
  {
   "cell_type": "markdown",
   "id": "9b6212b1-8832-4bb8-a577-599b095ac46d",
   "metadata": {},
   "source": [
    "<a href='#contents'>Return to Contents</a>"
   ]
  },
  {
   "cell_type": "markdown",
   "id": "975ab34f-a0cf-42b4-8274-5a9d23274a4b",
   "metadata": {
    "tags": []
   },
   "source": [
    "### Baseline Model <a name='baseline'></a>\n",
    "\n",
    "- Two baseline models are created and evaluated\n",
    "- One uses the median USD price and the other uses the mean USD price\n",
    "- The baseline model using the median price more accurately predicts the price, and predicts a higher percentage of cards within a dime"
   ]
  },
  {
   "cell_type": "code",
   "execution_count": 33,
   "id": "da060761-8465-40c8-bbf4-0147f59b9bdf",
   "metadata": {},
   "outputs": [
    {
     "data": {
      "text/html": [
       "<div>\n",
       "<style scoped>\n",
       "    .dataframe tbody tr th:only-of-type {\n",
       "        vertical-align: middle;\n",
       "    }\n",
       "\n",
       "    .dataframe tbody tr th {\n",
       "        vertical-align: top;\n",
       "    }\n",
       "\n",
       "    .dataframe thead th {\n",
       "        text-align: right;\n",
       "    }\n",
       "</style>\n",
       "<table border=\"1\" class=\"dataframe\">\n",
       "  <thead>\n",
       "    <tr style=\"text-align: right;\">\n",
       "      <th></th>\n",
       "      <th>train_MAE</th>\n",
       "      <th>train_within_a_dime</th>\n",
       "      <th>validate_MAE</th>\n",
       "      <th>validate_within_a_dime</th>\n",
       "    </tr>\n",
       "    <tr>\n",
       "      <th>model</th>\n",
       "      <th></th>\n",
       "      <th></th>\n",
       "      <th></th>\n",
       "      <th></th>\n",
       "    </tr>\n",
       "  </thead>\n",
       "  <tbody>\n",
       "    <tr>\n",
       "      <th>baseline_mean</th>\n",
       "      <td>5.827456</td>\n",
       "      <td>0.004267</td>\n",
       "      <td>5.724399</td>\n",
       "      <td>0.005953</td>\n",
       "    </tr>\n",
       "    <tr>\n",
       "      <th>baseline_median</th>\n",
       "      <td>3.721033</td>\n",
       "      <td>0.311974</td>\n",
       "      <td>3.632730</td>\n",
       "      <td>0.308677</td>\n",
       "    </tr>\n",
       "  </tbody>\n",
       "</table>\n",
       "</div>"
      ],
      "text/plain": [
       "                 train_MAE  train_within_a_dime  validate_MAE  \\\n",
       "model                                                           \n",
       "baseline_mean     5.827456             0.004267      5.724399   \n",
       "baseline_median   3.721033             0.311974      3.632730   \n",
       "\n",
       "                 validate_within_a_dime  \n",
       "model                                    \n",
       "baseline_mean                  0.005953  \n",
       "baseline_median                0.308677  "
      ]
     },
     "execution_count": 33,
     "metadata": {},
     "output_type": "execute_result"
    }
   ],
   "source": [
    "model.make_baseline_model(train, validate, return_df = True)"
   ]
  },
  {
   "cell_type": "markdown",
   "id": "09744bab-2f88-42e2-a5fa-abe1f5057bc2",
   "metadata": {},
   "source": [
    "<a href='#contents'>Return to Contents</a>"
   ]
  },
  {
   "cell_type": "markdown",
   "id": "97afc721-8de1-46f4-8781-781373e726dc",
   "metadata": {
    "tags": []
   },
   "source": [
    "### Modeling on Train and Validate <a name='train_validate_model'></a>\n"
   ]
  },
  {
   "cell_type": "markdown",
   "id": "64e74ad8-769e-47cb-b6ff-224a4e63f967",
   "metadata": {
    "tags": []
   },
   "source": [
    "# Choosing top model algorithms\n",
    "- A series of different model algorithms are compared against the baseline models.\n",
    "- The top performing models are used to improve upon by determining the number of features needed for the model.\n",
    "    - RandomForestRegressor : This has the lowest MAE and one of the higher rates of within-a-dime predictions\n",
    "    - KNeighborsRegressor weighted by distance : This model has the second lower MAE and had a high rate of within-a-dime predictions\n",
    "    - DecisionTreeRegressor: This model had the highest rate of within-a-dime predictions\n",
    "    - LinearSVR : This model had a high rate of predictions within a dime"
   ]
  },
  {
   "cell_type": "code",
   "execution_count": 34,
   "id": "d590b991-0ddd-4c22-bb0c-a485c9e06ccd",
   "metadata": {},
   "outputs": [],
   "source": [
    "outputs = model.model_loop(train, validate)"
   ]
  },
  {
   "cell_type": "code",
   "execution_count": 35,
   "id": "24f5ad00-d481-4698-94e1-157637dc113c",
   "metadata": {},
   "outputs": [
    {
     "data": {
      "text/html": [
       "<div>\n",
       "<style scoped>\n",
       "    .dataframe tbody tr th:only-of-type {\n",
       "        vertical-align: middle;\n",
       "    }\n",
       "\n",
       "    .dataframe tbody tr th {\n",
       "        vertical-align: top;\n",
       "    }\n",
       "\n",
       "    .dataframe thead th {\n",
       "        text-align: right;\n",
       "    }\n",
       "</style>\n",
       "<table border=\"1\" class=\"dataframe\">\n",
       "  <thead>\n",
       "    <tr style=\"text-align: right;\">\n",
       "      <th></th>\n",
       "      <th>train_MAE</th>\n",
       "      <th>train_within_a_dime</th>\n",
       "      <th>validate_MAE</th>\n",
       "      <th>validate_within_a_dime</th>\n",
       "    </tr>\n",
       "    <tr>\n",
       "      <th>model</th>\n",
       "      <th></th>\n",
       "      <th></th>\n",
       "      <th></th>\n",
       "      <th></th>\n",
       "    </tr>\n",
       "  </thead>\n",
       "  <tbody>\n",
       "    <tr>\n",
       "      <th>RandomForestRegressor</th>\n",
       "      <td>1.442782</td>\n",
       "      <td>0.511622</td>\n",
       "      <td>2.765467e+00</td>\n",
       "      <td>0.419110</td>\n",
       "    </tr>\n",
       "    <tr>\n",
       "      <th>KNeighborsRegressor_weighted</th>\n",
       "      <td>0.926974</td>\n",
       "      <td>0.730545</td>\n",
       "      <td>2.927149e+00</td>\n",
       "      <td>0.432803</td>\n",
       "    </tr>\n",
       "    <tr>\n",
       "      <th>KNeighborsRegressor</th>\n",
       "      <td>2.482755</td>\n",
       "      <td>0.456898</td>\n",
       "      <td>2.994726e+00</td>\n",
       "      <td>0.412561</td>\n",
       "    </tr>\n",
       "    <tr>\n",
       "      <th>DecisionTreeRegressor</th>\n",
       "      <td>0.913396</td>\n",
       "      <td>0.728784</td>\n",
       "      <td>3.065815e+00</td>\n",
       "      <td>0.452895</td>\n",
       "    </tr>\n",
       "    <tr>\n",
       "      <th>LinearSVR</th>\n",
       "      <td>3.379344</td>\n",
       "      <td>0.459949</td>\n",
       "      <td>3.292252e+00</td>\n",
       "      <td>0.448579</td>\n",
       "    </tr>\n",
       "    <tr>\n",
       "      <th>XGBoostRegressor</th>\n",
       "      <td>3.407522</td>\n",
       "      <td>0.062489</td>\n",
       "      <td>3.599480e+00</td>\n",
       "      <td>0.060426</td>\n",
       "    </tr>\n",
       "    <tr>\n",
       "      <th>baseline_median</th>\n",
       "      <td>3.721033</td>\n",
       "      <td>0.311974</td>\n",
       "      <td>3.632730e+00</td>\n",
       "      <td>0.308677</td>\n",
       "    </tr>\n",
       "    <tr>\n",
       "      <th>RadiusNeighborsRegressor_weighted</th>\n",
       "      <td>0.913396</td>\n",
       "      <td>0.728784</td>\n",
       "      <td>3.639562e+00</td>\n",
       "      <td>0.325197</td>\n",
       "    </tr>\n",
       "    <tr>\n",
       "      <th>RadiusNeighborsRegressor</th>\n",
       "      <td>5.428092</td>\n",
       "      <td>0.007045</td>\n",
       "      <td>5.330757e+00</td>\n",
       "      <td>0.007590</td>\n",
       "    </tr>\n",
       "    <tr>\n",
       "      <th>baseline_mean</th>\n",
       "      <td>5.827456</td>\n",
       "      <td>0.004267</td>\n",
       "      <td>5.724399e+00</td>\n",
       "      <td>0.005953</td>\n",
       "    </tr>\n",
       "    <tr>\n",
       "      <th>LinearRegression</th>\n",
       "      <td>5.509399</td>\n",
       "      <td>0.029818</td>\n",
       "      <td>1.057490e+07</td>\n",
       "      <td>0.032892</td>\n",
       "    </tr>\n",
       "  </tbody>\n",
       "</table>\n",
       "</div>"
      ],
      "text/plain": [
       "                                   train_MAE  train_within_a_dime  \\\n",
       "model                                                               \n",
       "RandomForestRegressor               1.442782             0.511622   \n",
       "KNeighborsRegressor_weighted        0.926974             0.730545   \n",
       "KNeighborsRegressor                 2.482755             0.456898   \n",
       "DecisionTreeRegressor               0.913396             0.728784   \n",
       "LinearSVR                           3.379344             0.459949   \n",
       "XGBoostRegressor                    3.407522             0.062489   \n",
       "baseline_median                     3.721033             0.311974   \n",
       "RadiusNeighborsRegressor_weighted   0.913396             0.728784   \n",
       "RadiusNeighborsRegressor            5.428092             0.007045   \n",
       "baseline_mean                       5.827456             0.004267   \n",
       "LinearRegression                    5.509399             0.029818   \n",
       "\n",
       "                                   validate_MAE  validate_within_a_dime  \n",
       "model                                                                    \n",
       "RandomForestRegressor              2.765467e+00                0.419110  \n",
       "KNeighborsRegressor_weighted       2.927149e+00                0.432803  \n",
       "KNeighborsRegressor                2.994726e+00                0.412561  \n",
       "DecisionTreeRegressor              3.065815e+00                0.452895  \n",
       "LinearSVR                          3.292252e+00                0.448579  \n",
       "XGBoostRegressor                   3.599480e+00                0.060426  \n",
       "baseline_median                    3.632730e+00                0.308677  \n",
       "RadiusNeighborsRegressor_weighted  3.639562e+00                0.325197  \n",
       "RadiusNeighborsRegressor           5.330757e+00                0.007590  \n",
       "baseline_mean                      5.724399e+00                0.005953  \n",
       "LinearRegression                   1.057490e+07                0.032892  "
      ]
     },
     "execution_count": 35,
     "metadata": {},
     "output_type": "execute_result"
    }
   ],
   "source": [
    "pd.DataFrame(outputs).set_index('model').sort_values('validate_MAE')"
   ]
  },
  {
   "cell_type": "markdown",
   "id": "5f0be365-0122-4648-94da-00552a84a43b",
   "metadata": {},
   "source": [
    "# Second Level Models\n",
    "- Four models are chosen to determine the best feature selection\n",
    "- The KBest algorithm is used to determine the optimal number of features for the model\n",
    "- The best performing model was a RandomForestRegression with 300 of the features.  However, the difference all of the top three models (all RandomForestRegressor) were less than one thousandth of a dollar/percentage for both the MAE and predictions within a dime metrics.\n",
    "    - Therefore a RandomForestRegressor with 200 features is used as the final model."
   ]
  },
  {
   "cell_type": "code",
   "execution_count": 36,
   "id": "509c6b16-db71-4c3e-86a2-ccf1f868fc81",
   "metadata": {
    "tags": []
   },
   "outputs": [],
   "source": [
    "outputs = model.make_models_features(train, validate)"
   ]
  },
  {
   "cell_type": "code",
   "execution_count": 37,
   "id": "5ee11896-3dfa-4ce3-9be5-891566d73cdf",
   "metadata": {},
   "outputs": [
    {
     "data": {
      "text/html": [
       "<div>\n",
       "<style scoped>\n",
       "    .dataframe tbody tr th:only-of-type {\n",
       "        vertical-align: middle;\n",
       "    }\n",
       "\n",
       "    .dataframe tbody tr th {\n",
       "        vertical-align: top;\n",
       "    }\n",
       "\n",
       "    .dataframe thead th {\n",
       "        text-align: right;\n",
       "    }\n",
       "</style>\n",
       "<table border=\"1\" class=\"dataframe\">\n",
       "  <thead>\n",
       "    <tr style=\"text-align: right;\">\n",
       "      <th></th>\n",
       "      <th>train_MAE</th>\n",
       "      <th>train_within_a_dime</th>\n",
       "      <th>validate_MAE</th>\n",
       "      <th>validate_within_a_dime</th>\n",
       "      <th>kbest_features</th>\n",
       "    </tr>\n",
       "    <tr>\n",
       "      <th>model</th>\n",
       "      <th></th>\n",
       "      <th></th>\n",
       "      <th></th>\n",
       "      <th></th>\n",
       "      <th></th>\n",
       "    </tr>\n",
       "  </thead>\n",
       "  <tbody>\n",
       "    <tr>\n",
       "      <th>RandomForestRegression</th>\n",
       "      <td>1.484639</td>\n",
       "      <td>0.507430</td>\n",
       "      <td>2.769116</td>\n",
       "      <td>0.416729</td>\n",
       "      <td>300.0</td>\n",
       "    </tr>\n",
       "    <tr>\n",
       "      <th>RandomForestRegression</th>\n",
       "      <td>1.511960</td>\n",
       "      <td>0.501600</td>\n",
       "      <td>2.790222</td>\n",
       "      <td>0.416282</td>\n",
       "      <td>250.0</td>\n",
       "    </tr>\n",
       "    <tr>\n",
       "      <th>RandomForestRegression</th>\n",
       "      <td>1.559428</td>\n",
       "      <td>0.494530</td>\n",
       "      <td>2.792427</td>\n",
       "      <td>0.411966</td>\n",
       "      <td>200.0</td>\n",
       "    </tr>\n",
       "    <tr>\n",
       "      <th>KNeighborsRegressor_weighted</th>\n",
       "      <td>1.044276</td>\n",
       "      <td>0.713006</td>\n",
       "      <td>2.885796</td>\n",
       "      <td>0.441435</td>\n",
       "      <td>250.0</td>\n",
       "    </tr>\n",
       "    <tr>\n",
       "      <th>KNeighborsRegressor_weighted</th>\n",
       "      <td>1.105560</td>\n",
       "      <td>0.694699</td>\n",
       "      <td>2.905213</td>\n",
       "      <td>0.445751</td>\n",
       "      <td>200.0</td>\n",
       "    </tr>\n",
       "    <tr>\n",
       "      <th>KNeighborsRegressor_weighted</th>\n",
       "      <td>1.007862</td>\n",
       "      <td>0.726675</td>\n",
       "      <td>2.915711</td>\n",
       "      <td>0.446346</td>\n",
       "      <td>300.0</td>\n",
       "    </tr>\n",
       "    <tr>\n",
       "      <th>RandomForestRegression</th>\n",
       "      <td>1.876995</td>\n",
       "      <td>0.447942</td>\n",
       "      <td>2.921444</td>\n",
       "      <td>0.400804</td>\n",
       "      <td>100.0</td>\n",
       "    </tr>\n",
       "    <tr>\n",
       "      <th>RandomForestRegression</th>\n",
       "      <td>1.705921</td>\n",
       "      <td>0.485302</td>\n",
       "      <td>2.992080</td>\n",
       "      <td>0.408841</td>\n",
       "      <td>150.0</td>\n",
       "    </tr>\n",
       "    <tr>\n",
       "      <th>DecisionTreeRegresson</th>\n",
       "      <td>0.965975</td>\n",
       "      <td>0.718985</td>\n",
       "      <td>3.026346</td>\n",
       "      <td>0.454234</td>\n",
       "      <td>300.0</td>\n",
       "    </tr>\n",
       "    <tr>\n",
       "      <th>DecisionTreeRegresson</th>\n",
       "      <td>1.091676</td>\n",
       "      <td>0.685991</td>\n",
       "      <td>3.036062</td>\n",
       "      <td>0.449025</td>\n",
       "      <td>200.0</td>\n",
       "    </tr>\n",
       "    <tr>\n",
       "      <th>DecisionTreeRegresson</th>\n",
       "      <td>1.572067</td>\n",
       "      <td>0.554538</td>\n",
       "      <td>3.048164</td>\n",
       "      <td>0.425212</td>\n",
       "      <td>100.0</td>\n",
       "    </tr>\n",
       "    <tr>\n",
       "      <th>KNeighborsRegressor_weighted</th>\n",
       "      <td>1.648175</td>\n",
       "      <td>0.581727</td>\n",
       "      <td>3.060971</td>\n",
       "      <td>0.444411</td>\n",
       "      <td>100.0</td>\n",
       "    </tr>\n",
       "    <tr>\n",
       "      <th>DecisionTreeRegresson</th>\n",
       "      <td>1.008496</td>\n",
       "      <td>0.707301</td>\n",
       "      <td>3.068463</td>\n",
       "      <td>0.451704</td>\n",
       "      <td>250.0</td>\n",
       "    </tr>\n",
       "    <tr>\n",
       "      <th>KNeighborsRegressor_weighted</th>\n",
       "      <td>1.305397</td>\n",
       "      <td>0.669470</td>\n",
       "      <td>3.136013</td>\n",
       "      <td>0.436970</td>\n",
       "      <td>150.0</td>\n",
       "    </tr>\n",
       "    <tr>\n",
       "      <th>DecisionTreeRegresson</th>\n",
       "      <td>1.282902</td>\n",
       "      <td>0.661408</td>\n",
       "      <td>3.176859</td>\n",
       "      <td>0.447537</td>\n",
       "      <td>150.0</td>\n",
       "    </tr>\n",
       "    <tr>\n",
       "      <th>LinearSVR</th>\n",
       "      <td>3.388824</td>\n",
       "      <td>0.453822</td>\n",
       "      <td>3.299590</td>\n",
       "      <td>0.440095</td>\n",
       "      <td>300.0</td>\n",
       "    </tr>\n",
       "    <tr>\n",
       "      <th>LinearSVR</th>\n",
       "      <td>3.392342</td>\n",
       "      <td>0.446578</td>\n",
       "      <td>3.300907</td>\n",
       "      <td>0.437119</td>\n",
       "      <td>250.0</td>\n",
       "    </tr>\n",
       "    <tr>\n",
       "      <th>LinearSVR</th>\n",
       "      <td>3.398781</td>\n",
       "      <td>0.442634</td>\n",
       "      <td>3.306923</td>\n",
       "      <td>0.435035</td>\n",
       "      <td>200.0</td>\n",
       "    </tr>\n",
       "    <tr>\n",
       "      <th>LinearSVR</th>\n",
       "      <td>3.409185</td>\n",
       "      <td>0.432884</td>\n",
       "      <td>3.325022</td>\n",
       "      <td>0.421789</td>\n",
       "      <td>150.0</td>\n",
       "    </tr>\n",
       "    <tr>\n",
       "      <th>LinearSVR</th>\n",
       "      <td>3.416974</td>\n",
       "      <td>0.440227</td>\n",
       "      <td>3.330215</td>\n",
       "      <td>0.428933</td>\n",
       "      <td>100.0</td>\n",
       "    </tr>\n",
       "    <tr>\n",
       "      <th>baseline_median</th>\n",
       "      <td>3.721033</td>\n",
       "      <td>0.311974</td>\n",
       "      <td>3.632730</td>\n",
       "      <td>0.308677</td>\n",
       "      <td>NaN</td>\n",
       "    </tr>\n",
       "    <tr>\n",
       "      <th>baseline_mean</th>\n",
       "      <td>5.827456</td>\n",
       "      <td>0.004267</td>\n",
       "      <td>5.724399</td>\n",
       "      <td>0.005953</td>\n",
       "      <td>NaN</td>\n",
       "    </tr>\n",
       "  </tbody>\n",
       "</table>\n",
       "</div>"
      ],
      "text/plain": [
       "                              train_MAE  train_within_a_dime  validate_MAE  \\\n",
       "model                                                                        \n",
       "RandomForestRegression         1.484639             0.507430      2.769116   \n",
       "RandomForestRegression         1.511960             0.501600      2.790222   \n",
       "RandomForestRegression         1.559428             0.494530      2.792427   \n",
       "KNeighborsRegressor_weighted   1.044276             0.713006      2.885796   \n",
       "KNeighborsRegressor_weighted   1.105560             0.694699      2.905213   \n",
       "KNeighborsRegressor_weighted   1.007862             0.726675      2.915711   \n",
       "RandomForestRegression         1.876995             0.447942      2.921444   \n",
       "RandomForestRegression         1.705921             0.485302      2.992080   \n",
       "DecisionTreeRegresson          0.965975             0.718985      3.026346   \n",
       "DecisionTreeRegresson          1.091676             0.685991      3.036062   \n",
       "DecisionTreeRegresson          1.572067             0.554538      3.048164   \n",
       "KNeighborsRegressor_weighted   1.648175             0.581727      3.060971   \n",
       "DecisionTreeRegresson          1.008496             0.707301      3.068463   \n",
       "KNeighborsRegressor_weighted   1.305397             0.669470      3.136013   \n",
       "DecisionTreeRegresson          1.282902             0.661408      3.176859   \n",
       "LinearSVR                      3.388824             0.453822      3.299590   \n",
       "LinearSVR                      3.392342             0.446578      3.300907   \n",
       "LinearSVR                      3.398781             0.442634      3.306923   \n",
       "LinearSVR                      3.409185             0.432884      3.325022   \n",
       "LinearSVR                      3.416974             0.440227      3.330215   \n",
       "baseline_median                3.721033             0.311974      3.632730   \n",
       "baseline_mean                  5.827456             0.004267      5.724399   \n",
       "\n",
       "                              validate_within_a_dime  kbest_features  \n",
       "model                                                                 \n",
       "RandomForestRegression                      0.416729           300.0  \n",
       "RandomForestRegression                      0.416282           250.0  \n",
       "RandomForestRegression                      0.411966           200.0  \n",
       "KNeighborsRegressor_weighted                0.441435           250.0  \n",
       "KNeighborsRegressor_weighted                0.445751           200.0  \n",
       "KNeighborsRegressor_weighted                0.446346           300.0  \n",
       "RandomForestRegression                      0.400804           100.0  \n",
       "RandomForestRegression                      0.408841           150.0  \n",
       "DecisionTreeRegresson                       0.454234           300.0  \n",
       "DecisionTreeRegresson                       0.449025           200.0  \n",
       "DecisionTreeRegresson                       0.425212           100.0  \n",
       "KNeighborsRegressor_weighted                0.444411           100.0  \n",
       "DecisionTreeRegresson                       0.451704           250.0  \n",
       "KNeighborsRegressor_weighted                0.436970           150.0  \n",
       "DecisionTreeRegresson                       0.447537           150.0  \n",
       "LinearSVR                                   0.440095           300.0  \n",
       "LinearSVR                                   0.437119           250.0  \n",
       "LinearSVR                                   0.435035           200.0  \n",
       "LinearSVR                                   0.421789           150.0  \n",
       "LinearSVR                                   0.428933           100.0  \n",
       "baseline_median                             0.308677             NaN  \n",
       "baseline_mean                               0.005953             NaN  "
      ]
     },
     "execution_count": 37,
     "metadata": {},
     "output_type": "execute_result"
    }
   ],
   "source": [
    "pd.DataFrame(outputs).set_index('model').sort_values('validate_MAE')"
   ]
  },
  {
   "cell_type": "markdown",
   "id": "ad04abea-3ad7-4f7a-903f-af9104954a67",
   "metadata": {},
   "source": [
    "<a href='#contents'>Return to Contents</a>"
   ]
  },
  {
   "cell_type": "markdown",
   "id": "695c4b33-55df-46b6-ab9a-c4c417190e74",
   "metadata": {},
   "source": [
    "### Final Model <a name='final_model'></a>\n"
   ]
  },
  {
   "cell_type": "markdown",
   "id": "e08b827f-f898-430e-b587-5edac443a503",
   "metadata": {},
   "source": [
    "- The final model is a RandomForestRegressor with 200 features and predictions are made on unseen test data.\n",
    "- The model metrics improve with the test data in both MAE and within-a-dime.\n",
    "- From plotting the residuals, it is clear that more expensive cards are likely to be underestimated; sometimes by a significant amount."
   ]
  },
  {
   "cell_type": "code",
   "execution_count": 38,
   "id": "f1a03206-d39f-461e-b414-2bfcc9fd6c65",
   "metadata": {
    "tags": []
   },
   "outputs": [],
   "source": [
    "metrics_output, test_predictions = model.final_model(train, validate, test)"
   ]
  },
  {
   "cell_type": "code",
   "execution_count": 39,
   "id": "a5dd3af2-eedd-4f4f-9176-0bb60f28c03c",
   "metadata": {
    "tags": []
   },
   "outputs": [
    {
     "data": {
      "text/html": [
       "<div>\n",
       "<style scoped>\n",
       "    .dataframe tbody tr th:only-of-type {\n",
       "        vertical-align: middle;\n",
       "    }\n",
       "\n",
       "    .dataframe tbody tr th {\n",
       "        vertical-align: top;\n",
       "    }\n",
       "\n",
       "    .dataframe thead th {\n",
       "        text-align: right;\n",
       "    }\n",
       "</style>\n",
       "<table border=\"1\" class=\"dataframe\">\n",
       "  <thead>\n",
       "    <tr style=\"text-align: right;\">\n",
       "      <th></th>\n",
       "      <th>train_MAE</th>\n",
       "      <th>train_within_a_dime</th>\n",
       "      <th>validate_MAE</th>\n",
       "      <th>validate_within_a_dime</th>\n",
       "      <th>test_MAE</th>\n",
       "      <th>test_within_a_dime</th>\n",
       "    </tr>\n",
       "    <tr>\n",
       "      <th>model</th>\n",
       "      <th></th>\n",
       "      <th></th>\n",
       "      <th></th>\n",
       "      <th></th>\n",
       "      <th></th>\n",
       "      <th></th>\n",
       "    </tr>\n",
       "  </thead>\n",
       "  <tbody>\n",
       "    <tr>\n",
       "      <th>RandomForestRegressor</th>\n",
       "      <td>1.51196</td>\n",
       "      <td>0.5016</td>\n",
       "      <td>2.790222</td>\n",
       "      <td>0.416282</td>\n",
       "      <td>2.532968</td>\n",
       "      <td>0.42164</td>\n",
       "    </tr>\n",
       "  </tbody>\n",
       "</table>\n",
       "</div>"
      ],
      "text/plain": [
       "                       train_MAE  train_within_a_dime  validate_MAE  \\\n",
       "model                                                                 \n",
       "RandomForestRegressor    1.51196               0.5016      2.790222   \n",
       "\n",
       "                       validate_within_a_dime  test_MAE  test_within_a_dime  \n",
       "model                                                                        \n",
       "RandomForestRegressor                0.416282  2.532968             0.42164  "
      ]
     },
     "execution_count": 39,
     "metadata": {},
     "output_type": "execute_result"
    }
   ],
   "source": [
    "pd.DataFrame(metrics_output).set_index('model')"
   ]
  },
  {
   "cell_type": "code",
   "execution_count": 40,
   "id": "f4cb535e-3105-4fdb-becf-cc2cd6bc83de",
   "metadata": {},
   "outputs": [
    {
     "data": {
      "text/plain": [
       "<AxesSubplot:>"
      ]
     },
     "execution_count": 40,
     "metadata": {},
     "output_type": "execute_result"
    },
    {
     "data": {
      "image/png": "[encoded data removed]",
      "text/plain": [
       "<Figure size 432x288 with 1 Axes>"
      ]
     },
     "metadata": {
      "needs_background": "light"
     },
     "output_type": "display_data"
    }
   ],
   "source": [
    "test_predictions['residual'].hist(bins = 100)"
   ]
  },
  {
   "cell_type": "code",
   "execution_count": 41,
   "id": "5d92da47-044f-4abe-b12e-e96b3362297f",
   "metadata": {},
   "outputs": [
    {
     "data": {
      "image/png": "[encoded data removed]",
      "text/plain": [
       "<Figure size 720x720 with 1 Axes>"
      ]
     },
     "metadata": {
      "needs_background": "light"
     },
     "output_type": "display_data"
    }
   ],
   "source": [
    "model.residual_plot(test_predictions)"
   ]
  },
  {
   "cell_type": "markdown",
   "id": "61c8aa20-13c3-4c97-86a3-a094f8a81798",
   "metadata": {},
   "source": [
    "<a href='#contents'>Return to Contents</a>"
   ]
  },
  {
   "cell_type": "markdown",
   "id": "e3964d17-159c-40ca-9b5f-90ab9a9dd499",
   "metadata": {},
   "source": [
    "## Conclusions <a name='conclusions'></a>\n",
    "Using Scryfall data we are predicting the USD price of Magic The Gathering cards. This allows the publisher to determine the price of newly published cards by their similarity to other cards to make sure that they are hitting all the likely price points within the current market. It will also allow buyers and sellers to determine the price of cards with no or little current price data.\n"
   ]
  },
  {
   "cell_type": "markdown",
   "id": "e6a1f9bd-3cd6-40b9-9e3c-ae5825027d65",
   "metadata": {},
   "source": [
    "<a href='#contents'>Return to Contents</a>"
   ]
  }
 ],
 "metadata": {
  "kernelspec": {
   "display_name": "Python 3 (ipykernel)",
   "language": "python",
   "name": "python3"
  },
  "language_info": {
   "codemirror_mode": {
    "name": "ipython",
    "version": 3
   },
   "file_extension": ".py",
   "mimetype": "text/x-python",
   "name": "python",
   "nbconvert_exporter": "python",
   "pygments_lexer": "ipython3",
   "version": "3.9.7"
  }
 },
 "nbformat": 4,
 "nbformat_minor": 5
}
