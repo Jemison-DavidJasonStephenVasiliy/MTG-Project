{
 "cells": [
  {
   "cell_type": "markdown",
   "id": "938272da-e951-43e6-a478-a847dc23db1e",
   "metadata": {
    "tags": []
   },
   "source": [
    "# Magic the Gathering Card Price Prediction\n",
    "*David Mitchell, Vasiliy Melkozerov, Jason Turner, Stephen FitzSimon*\n",
    "\n",
    "## Key Takeaways\n",
    "- Takeaway 1\n",
    "\n",
    "## Contents <a name='contents'></a>\n",
    "1. <a href='#intro'>Introduction</a>\n",
    "2. <a href='#explore'>Explore</a>\n",
    "    1. <a href='#q_1'>Question 1</a>\n",
    "3. <a href='#model'>Modeling</a>\n",
    "    1. <a href='#baseline'>Basline Model</a>\n",
    "    2. <a href='#train_validate_model'>Modeling on Train and Validate</a>\n",
    "    3. <a href='#final_model'>Final Model</a>\n",
    "4. <a href='#conclusions'>Conclusions</a>"
   ]
  },
  {
   "cell_type": "code",
   "execution_count": 1,
   "id": "cb65208f-ab6f-4425-8e74-556ca09903e9",
   "metadata": {},
   "outputs": [],
   "source": [
    "# Data Science libraries\n",
    "import pandas as pd\n",
    "from scipy import stats\n",
    "\n",
    "# Custom modules\n",
    "import acquire\n",
    "import prepare\n",
    "import explore\n",
    "\n",
    "# import model\n",
    "\n",
    "#ignore minor warnings\n",
    "import warnings\n",
    "warnings.filterwarnings(\"ignore\")"
   ]
  },
  {
   "cell_type": "markdown",
   "id": "1f4e6efd-0426-4722-ac7d-72c946af0dc7",
   "metadata": {
    "tags": []
   },
   "source": [
    "## Wrangle"
   ]
  },
  {
   "cell_type": "code",
   "execution_count": 2,
   "id": "04f5a173-8ad6-4c73-850b-9cd2c81dbf8a",
   "metadata": {},
   "outputs": [
    {
     "name": "stdout",
     "output_type": "stream",
     "text": [
      "Found file in working directory!\n",
      "(70932, 83)\n"
     ]
    },
    {
     "data": {
      "text/plain": [
       "((40311, 60), (20155, 60), (20156, 60))"
      ]
     },
     "execution_count": 2,
     "metadata": {},
     "output_type": "execute_result"
    }
   ],
   "source": [
    "# Acquire and prepare data returned as a dataframe\n",
    "df_in = acquire.get_data(query_url = False)\n",
    "print(df_in.shape)\n",
    "df_in = prepare.prepare_dataframe(df_in)\n",
    "train, validate, test = prepare.split_data(df_in)\n",
    "train.shape, validate.shape, test.shape"
   ]
  },
  {
   "cell_type": "markdown",
   "id": "6ff27113-0d3e-4bc3-b326-b9554ecbb319",
   "metadata": {
    "tags": []
   },
   "source": [
    "## Introduction <a name='intro'></a>\n",
    "\n",
    "<a href='#contents'>Return to Contents</a>"
   ]
  },
  {
   "cell_type": "markdown",
   "id": "81c276da-81f3-475d-adf5-f5931f3eccef",
   "metadata": {},
   "source": [
    "## Explore <a name='explore'></a>"
   ]
  },
  {
   "cell_type": "markdown",
   "id": "08882e39-3af6-40c5-a1f2-1077c5e7dff8",
   "metadata": {},
   "source": [
    "### Key Explore Takeaways\n",
    "- Takeaway 1"
   ]
  },
  {
   "cell_type": "markdown",
   "id": "abbf0650-a087-473a-9810-cbe72886f53d",
   "metadata": {},
   "source": [
    "### Discussion\n",
    "\n",
    "<a href='#contents'>Return to Contents</a>"
   ]
  },
  {
   "cell_type": "markdown",
   "id": "edc2326b-e8f3-442d-813d-fd9604bd81ab",
   "metadata": {},
   "source": [
    "### Question 1 <a name='q_1'></a>"
   ]
  },
  {
   "cell_type": "markdown",
   "id": "552fcfef-93b8-4b20-9b21-2f501d476098",
   "metadata": {},
   "source": [
    "#### Key Takeaways For Question 1\n",
    "- The legality of a card does have an effect on price\n",
    "- The effect is disproportionate among the legalities\n",
    "- The difference of the price is dependent on what legalities the card is in"
   ]
  },
  {
   "cell_type": "markdown",
   "id": "ff9090c2-3345-454d-bf97-fd89b735d59c",
   "metadata": {},
   "source": [
    "#### Visualization"
   ]
  },
  {
   "cell_type": "code",
   "execution_count": 1,
   "id": "2bf9f66d-855e-4337-b13b-9630ee80314d",
   "metadata": {},
   "outputs": [
    {
     "ename": "NameError",
     "evalue": "name 'explore' is not defined",
     "output_type": "error",
     "traceback": [
      "\u001b[0;31m---------------------------------------------------------------------------\u001b[0m",
      "\u001b[0;31mNameError\u001b[0m                                 Traceback (most recent call last)",
      "\u001b[0;32m/var/folders/tg/c6tcjwk13mj583lxrf25k3jm0000gn/T/ipykernel_23306/1021605277.py\u001b[0m in \u001b[0;36m<module>\u001b[0;34m\u001b[0m\n\u001b[0;32m----> 1\u001b[0;31m \u001b[0mexplore\u001b[0m\u001b[0;34m.\u001b[0m\u001b[0mget_legalites_chart\u001b[0m\u001b[0;34m(\u001b[0m\u001b[0mtrain\u001b[0m\u001b[0;34m)\u001b[0m\u001b[0;34m\u001b[0m\u001b[0;34m\u001b[0m\u001b[0m\n\u001b[0m",
      "\u001b[0;31mNameError\u001b[0m: name 'explore' is not defined"
     ]
    }
   ],
   "source": [
    "explore.get_legalites_chart(train)"
   ]
  },
  {
   "cell_type": "markdown",
   "id": "854bab7c-cdf8-4b06-bea4-66f72afcc09a",
   "metadata": {},
   "source": [
    "#### Hypothesis Testing\n",
    "- $H_0$: There is no correlation between legality and usd\n",
    "- $H_a$: There is a correlation between legality and price"
   ]
  },
  {
   "cell_type": "code",
   "execution_count": 4,
   "id": "246610f7-5aad-45d1-a1e6-68030e14042d",
   "metadata": {},
   "outputs": [],
   "source": [
    "# hypothesis testing code"
   ]
  },
  {
   "cell_type": "markdown",
   "id": "14115539-ed64-4f29-8c44-5fb135894cb1",
   "metadata": {},
   "source": [
    "<a href='#contents'>Return to Contents</a>\n",
    "\n",
    "## Modeling <a name = 'model'></a>\n",
    "\n",
    "### Key Modelling Takeaways\n",
    "- Takeaway 1\n",
    "\n",
    "### Discussion\n",
    "\n",
    "<a href='#contents'>Return to Contents</a>\n",
    "\n",
    "### Baseline Model <a name='baseline'></a>"
   ]
  },
  {
   "cell_type": "code",
   "execution_count": 5,
   "id": "e668b3d0-31d3-430f-9c16-0529a6ea1155",
   "metadata": {},
   "outputs": [],
   "source": [
    "# basline model code"
   ]
  },
  {
   "cell_type": "markdown",
   "id": "9c6c5fb4-6004-4e9f-b3fe-99f67a01a783",
   "metadata": {},
   "source": [
    "<a href='#contents'>Return to Contents</a>\n",
    "\n",
    "### Modeling on Train and Validate <a name='train_validate_model'></a>"
   ]
  },
  {
   "cell_type": "code",
   "execution_count": 6,
   "id": "5e7d2411-5b33-444d-9d05-969a9d05136b",
   "metadata": {},
   "outputs": [],
   "source": [
    "# train/validate modeling code"
   ]
  },
  {
   "cell_type": "markdown",
   "id": "6563ca20-5b6e-4189-9c77-563f95487f50",
   "metadata": {},
   "source": [
    "<a href='#contents'>Return to Contents</a>\n",
    "\n",
    "### Final Model <a name = 'final_model'></a>"
   ]
  },
  {
   "cell_type": "code",
   "execution_count": 7,
   "id": "2bf0f8af-a38e-437a-a4e1-96adf26448b2",
   "metadata": {},
   "outputs": [],
   "source": [
    "# final model code"
   ]
  },
  {
   "cell_type": "markdown",
   "id": "76cc177c-45b8-4dde-b67f-d7694447e15e",
   "metadata": {},
   "source": [
    "<a href='#contents'>Return to Contents</a>\n",
    "\n",
    "## Conclusions <a name='conclusions'></a>\n",
    "\n",
    "### Key Takeaways\n",
    "- Takeaway 1\n",
    "\n",
    "### Discussion\n",
    "\n",
    "### Further Development\n",
    "\n",
    "<a href='#contents'>Return to Contents</a>"
   ]
  },
  {
   "cell_type": "code",
   "execution_count": 8,
   "id": "b8293eca-5dd4-4bbc-b88f-c1c1fa564963",
   "metadata": {},
   "outputs": [
    {
     "name": "stdout",
     "output_type": "stream",
     "text": [
      "Thanks for reading!\n"
     ]
    }
   ],
   "source": [
    "print('Thanks for reading!')"
   ]
  }
 ],
 "metadata": {
  "kernelspec": {
   "display_name": "Python 3 (ipykernel)",
   "language": "python",
   "name": "python3"
  },
  "language_info": {
   "codemirror_mode": {
    "name": "ipython",
    "version": 3
   },
   "file_extension": ".py",
   "mimetype": "text/x-python",
   "name": "python",
   "nbconvert_exporter": "python",
   "pygments_lexer": "ipython3",
   "version": "3.9.7"
  }
 },
 "nbformat": 4,
 "nbformat_minor": 5
}
