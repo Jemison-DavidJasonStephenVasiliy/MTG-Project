{
 "cells": [
  {
   "cell_type": "code",
   "execution_count": 10,
   "id": "e1e05a5a-8ee7-409e-a83b-8480900fcc07",
   "metadata": {},
   "outputs": [],
   "source": [
    "import pandas as pd\n",
    "import matplotlib.pyplot as plt\n",
    "import seaborn as sns\n",
    "import scipy.stats as stats\n",
    "\n",
    "import acquire\n",
    "import prepare\n",
    "\n",
    "#ignore minor warnings\n",
    "import warnings\n",
    "warnings.filterwarnings(\"ignore\")"
   ]
  },
  {
   "cell_type": "code",
   "execution_count": 11,
   "id": "e7a90dc6-7dc6-4b74-b191-289ee2417e3a",
   "metadata": {},
   "outputs": [
    {
     "name": "stdout",
     "output_type": "stream",
     "text": [
      "Found file in working directory!\n",
      "(70932, 83)\n"
     ]
    },
    {
     "data": {
      "text/plain": [
       "((40311, 60), (6719, 60), (6719, 60))"
      ]
     },
     "execution_count": 11,
     "metadata": {},
     "output_type": "execute_result"
    }
   ],
   "source": [
    "df = acquire.get_data(query_url = False)\n",
    "print(df.shape)\n",
    "df = prepare.prepare_dataframe(df)\n",
    "train, validate, test = prepare.split_data(df)\n",
    "train.shape, validate.shape, test.shape"
   ]
  },
  {
   "cell_type": "markdown",
   "id": "fd6721f4-b8d2-4973-a7ae-676f7cb2bed5",
   "metadata": {
    "tags": []
   },
   "source": [
    "# Question 1\n",
    "Does legality effect the price?"
   ]
  },
  {
   "cell_type": "markdown",
   "id": "75c18fde-ae0a-497c-a0d7-683845c29373",
   "metadata": {
    "tags": []
   },
   "source": [
    "## Key takeaway\n",
    "- The legality of a card does have an effect on price\n",
    "- The effect is disproportionate among the legalities\n",
    "- The difference of the price is dependent on what legalities the card is in\n",
    "\n",
    "## Discusion\n",
    "At least 3 sentences explanation\n",
    "context goes here\n",
    "\n",
    "The goal was to find tangable differences in price based off of its legality. "
   ]
  },
  {
   "cell_type": "markdown",
   "id": "f179b917-762d-4c04-b690-11120065d0b9",
   "metadata": {},
   "source": [
    "## Visualization"
   ]
  },
  {
   "cell_type": "code",
   "execution_count": 12,
   "id": "069f729d-65c8-4b88-8fc8-94fd95e116fe",
   "metadata": {},
   "outputs": [
    {
     "data": {
      "image/png": "[encoded data removed]",
      "text/plain": [
       "<Figure size 432x288 with 1 Axes>"
      ]
     },
     "metadata": {
      "needs_background": "light"
     },
     "output_type": "display_data"
    }
   ],
   "source": [
    "#functions go here\n",
    "\"\"\"\n",
    "To hammer out the visuals here I will have to go over the code that has gotten me the results:\n",
    "To do so would require starting with identifying where tey meet\n",
    "I started from the top and got all of the peices assembled\n",
    "\"\"\"\n",
    "def get_legalites_chart(df):\n",
    "\n",
    "    train['standard'] = train.legalities.apply(lambda r : r['standard'])\n",
    "    train['future'] = train.legalities.apply(lambda r : r['future'])\n",
    "    train['historic'] = train.legalities.apply(lambda r : r['historic'])\n",
    "    train['gladiator'] = train.legalities.apply(lambda r : r['gladiator'])\n",
    "    train['pioneer'] = train.legalities.apply(lambda r : r['pioneer'])\n",
    "    train['explorer'] = train.legalities.apply(lambda r : r['explorer'])\n",
    "    train['modern'] = train.legalities.apply(lambda r : r['modern'])\n",
    "    train['legacy'] = train.legalities.apply(lambda r : r['legacy'])\n",
    "    train['pauper'] = train.legalities.apply(lambda r : r['pauper'])\n",
    "    train['vintage'] = train.legalities.apply(lambda r : r['vintage'])\n",
    "    train['penny'] = train.legalities.apply(lambda r : r['penny'])\n",
    "    train['commander'] = train.legalities.apply(lambda r : r['commander'])\n",
    "    train['brawl'] = train.legalities.apply(lambda r : r['brawl'])\n",
    "    train['historicbrawl'] = train.legalities.apply(lambda r : r['historicbrawl'])\n",
    "    train['alchemy'] = train.legalities.apply(lambda r : r['alchemy'])\n",
    "    train['paupercommander'] = train.legalities.apply(lambda r : r['paupercommander'])\n",
    "    train['duel'] = train.legalities.apply(lambda r : r['duel'])\n",
    "    train['oldschool'] = train.legalities.apply(lambda r : r['oldschool'])\n",
    "    train['premodern'] = train.legalities.apply(lambda r : r['premodern'])\n",
    "\n",
    "    smu = train[train.standard == 'legal'].usd.mean()\n",
    "    fmu = train[train.future == 'legal'].usd.mean()\n",
    "    hmu = train[train.historic == 'legal'].usd.mean()\n",
    "    gmu = train[train.gladiator == 'legal'].usd.mean()\n",
    "    pmu = train[train.pioneer == 'legal'].usd.mean()\n",
    "    emu = train[train.explorer == 'legal'].usd.mean()\n",
    "    mmu = train[train.modern == 'legal'].usd.mean()\n",
    "    lmu = train[train.legacy == 'legal'].usd.mean()\n",
    "    pamu = train[train.pauper == 'legal'].usd.mean()\n",
    "    vmu = train[train.vintage == 'legal'].usd.mean()\n",
    "    pemu = train[train.penny == 'legal'].usd.mean()\n",
    "    cmu = train[train.commander == 'legal'].usd.mean()\n",
    "    bmu = train[train.brawl == 'legal'].usd.mean()\n",
    "    hmu = train[train.historicbrawl == 'legal'].usd.mean()\n",
    "    amu = train[train.alchemy == 'legal'].usd.mean()\n",
    "    pcmu = train[train.paupercommander == 'legal'].usd.mean()\n",
    "    dmu = train[train.duel == 'legal'].usd.mean()\n",
    "    omu = train[train.oldschool == 'legal'].usd.mean()\n",
    "    premu = train[train.premodern == 'legal'].usd.mean()\n",
    "\n",
    "    unrounded_answers = {\"Standard\": [smu],\n",
    "            \"Future\": [fmu],\n",
    "            \"Historic\": [hmu],\n",
    "            \"Gladiator\": [gmu],\n",
    "            \"Pioneer\": [pmu],\n",
    "            \"Explorer\": [emu],\n",
    "            \"Modern\": [mmu],\n",
    "            \"Legacy\": [lmu],\n",
    "            \"Pauper\": [pamu],\n",
    "            \"Vintage\": [vmu],\n",
    "            \"Penny\": [pemu],\n",
    "            \"Commander\": [cmu],\n",
    "            \"Brawl\": [bmu],\n",
    "            \"Historice Brawl\": [hmu],\n",
    "            \"Alchemy\": [amu],\n",
    "            \"Pauper Commander\": [pcmu],\n",
    "            \"Duel\": [dmu],\n",
    "            \"Oldschool\": [omu],\n",
    "            \"Premodern\": [premu]}\n",
    "\n",
    "    answers = pd.DataFrame.from_dict(unrounded_answers)\n",
    "    answers\n",
    "\n",
    "    sns.barplot(data = answers, orient = \"h\")\n",
    "    \n",
    "get_legalites_chart(df)\n",
    "#xlabel\n",
    "#ylabel\n",
    "#title\n"
   ]
  },
  {
   "cell_type": "markdown",
   "id": "b83cae43-ce51-4360-8a5e-13761cfcf909",
   "metadata": {},
   "source": [
    "## Hypothesis Testing\n",
    "\n",
    "- Null hypothesis: There is no correlation between legality and usd\n",
    "- Alternative hypothesis: There is a correlation between legality and price\n"
   ]
  },
  {
   "cell_type": "code",
   "execution_count": 13,
   "id": "09edc15c-7af9-4de8-9486-9aeabc9cacd8",
   "metadata": {},
   "outputs": [
    {
     "name": "stdout",
     "output_type": "stream",
     "text": [
      "10.036785439379459 5.599619248138624e-24 0.05\n",
      "We reject the null hypothesis\n"
     ]
    }
   ],
   "source": [
    "#functions go here\n",
    "alpha = .05\n",
    "\n",
    "t, p = stats.ttest_1samp(train.usd, train[train.standard == \"legal\"].usd.mean())\n",
    "print(t, p/2, alpha)\n",
    "\n",
    "if p/2 > alpha:\n",
    "    print(\"We fail to reject the null hypothesis\")\n",
    "elif t < 0:\n",
    "    print(\"We fail to reject the null hypothesis\")\n",
    "else:\n",
    "    print(\"We reject the null hypothesis\")"
   ]
  },
  {
   "cell_type": "markdown",
   "id": "cdbd6666-d157-48be-bf06-7b185d701aa6",
   "metadata": {
    "tags": []
   },
   "source": [
    "# Question 2\n",
    "Is there a difference in price between sets?"
   ]
  },
  {
   "cell_type": "markdown",
   "id": "f14d2c27-e534-4246-952f-4543afd81650",
   "metadata": {
    "tags": []
   },
   "source": [
    "## Key takeaway\n",
    "- There is a large difference in price between some sets\n",
    "- Most of the sets that have gone through standard are roughly worth the same\n",
    "\n",
    "## Discusion\n",
    "The initial assumption going into this is that not all sets are worth the same amount. Some more then others. Some in the class of comodeities "
   ]
  },
  {
   "cell_type": "markdown",
   "id": "d1da5d61-9344-477b-a248-36e31ab6bd7c",
   "metadata": {},
   "source": [
    "## Visualization"
   ]
  },
  {
   "cell_type": "code",
   "execution_count": 23,
   "id": "3a6775e4-0578-4491-ad6d-b5672a2676c5",
   "metadata": {},
   "outputs": [
    {
     "data": {
      "image/png": "[encoded data removed]",
      "text/plain": [
       "<Figure size 720x360 with 1 Axes>"
      ]
     },
     "metadata": {
      "needs_background": "light"
     },
     "output_type": "display_data"
    }
   ],
   "source": [
    "def top_7_sets(train):\n",
    "    top7 = train[(train['set_name'] == 'Mirrodin') | (train['set_name'] == \"Throne of Eldraine\") | (train['set_name'] == \"Worldwake\") | (train['set_name'] == \"Exodus\") | (train['set_name'] == \"Urza\\'s Saga\") | (train['set_name'] == \"Arabian Nights\") | (train['set_name'] == \"Limited Edition Alpha\")]\n",
    "    plt.figure(figsize=(10,5))\n",
    "    sns.barplot(data = top7, x=top7.usd, y=top7.set_name)\n",
    "    plt.title('USD price by top 7 most popular sets')\n",
    "    plt.xlabel('USD Price')\n",
    "    plt.ylabel('Set Name')\n",
    "    plt.show()\n",
    "top_7_sets(train)"
   ]
  },
  {
   "cell_type": "markdown",
   "id": "65893c8f-764e-4d55-8b7b-3ee7224011df",
   "metadata": {},
   "source": [
    "## Hypothesis Testing\n",
    "- Null hypothesis: There is no correlation between set_name and usd\n",
    "- Alternative hypothesis: There is a correlation between set_name and price"
   ]
  },
  {
   "cell_type": "code",
   "execution_count": 24,
   "id": "0d6e7ae8-afa1-4d82-b805-24023de9ace1",
   "metadata": {},
   "outputs": [
    {
     "name": "stdout",
     "output_type": "stream",
     "text": [
      "11.116220871223732 5.75770128334448e-29 0.05\n",
      "We reject the null hypothesis\n"
     ]
    }
   ],
   "source": [
    "#functions go here\n",
    "alpha = .05\n",
    "\n",
    "t, p = stats.ttest_1samp(train.usd, train[train.set_name == \"Mirrodin\"].usd.mean())\n",
    "print(t, p/2, alpha)\n",
    "\n",
    "if p/2 > alpha:\n",
    "    print(\"We fail to reject the null hypothesis\")\n",
    "elif t < 0:\n",
    "    print(\"We fail to reject the null hypothesis\")\n",
    "else:\n",
    "    print(\"We reject the null hypothesis\")"
   ]
  },
  {
   "cell_type": "markdown",
   "id": "e901771f-911a-4244-bfb3-37f6c207f7cb",
   "metadata": {
    "tags": []
   },
   "source": [
    "# Question 3\n",
    "What would be the \"best\" card to buy? for the laymen"
   ]
  },
  {
   "cell_type": "markdown",
   "id": "f02615d2-3850-4125-8998-f09939d90f0c",
   "metadata": {
    "tags": []
   },
   "source": [
    "## Key takeaway\n",
    "- key takeaway 1\n",
    "\n",
    "## Discusion\n",
    "At least 3 sentences explanation"
   ]
  },
  {
   "cell_type": "markdown",
   "id": "c33bffa3-1c50-46ca-b1fb-62b6a9f9ae71",
   "metadata": {},
   "source": [
    "## Visualization"
   ]
  },
  {
   "cell_type": "code",
   "execution_count": 17,
   "id": "18764c64-a269-4c42-a69c-d5f5fdd24dcd",
   "metadata": {},
   "outputs": [],
   "source": [
    "#functions go here"
   ]
  },
  {
   "cell_type": "markdown",
   "id": "5fac2c00-5c3e-4a10-a6cb-84b9fdce73ce",
   "metadata": {},
   "source": [
    "## Hypothesis Testing"
   ]
  },
  {
   "cell_type": "code",
   "execution_count": 18,
   "id": "1220b602-ea5e-4538-85cb-12267fabd3a5",
   "metadata": {},
   "outputs": [],
   "source": [
    "#functions go here"
   ]
  }
 ],
 "metadata": {
  "kernelspec": {
   "display_name": "Python 3.9.7 ('base')",
   "language": "python",
   "name": "python3"
  },
  "language_info": {
   "codemirror_mode": {
    "name": "ipython",
    "version": 3
   },
   "file_extension": ".py",
   "mimetype": "text/x-python",
   "name": "python",
   "nbconvert_exporter": "python",
   "pygments_lexer": "ipython3",
   "version": "3.9.7"
  },
  "vscode": {
   "interpreter": {
    "hash": "3067ead486e059ec00ffe7555bdb889e6e264a24dc711bf108106cc7baee8d5d"
   }
  }
 },
 "nbformat": 4,
 "nbformat_minor": 5
}
