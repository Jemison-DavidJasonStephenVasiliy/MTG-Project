{
 "cells": [
  {
   "cell_type": "markdown",
   "id": "c9675e6c-ce26-49cc-bba0-2d728cde20d6",
   "metadata": {},
   "source": [
    "New Scractchbook with just usd from 'Price' column"
   ]
  },
  {
   "cell_type": "code",
   "execution_count": 1,
   "id": "eff128ef-f0bf-4fc0-8aaa-12bf3837eeba",
   "metadata": {},
   "outputs": [],
   "source": [
    "# Import libraries\n",
    "import numpy as np\n",
    "import pandas as pd\n",
    "from bs4 import BeautifulSoup\n",
    "import time\n",
    "\n",
    "# Import visualizations\n",
    "import matplotlib.pyplot as plt\n",
    "import seaborn as sns\n",
    "\n",
    "# Import statistical module\n",
    "from scipy import stats\n",
    "\n",
    "# Import custom modules\n",
    "import acquire\n",
    "import prepare\n",
    "import util\n",
    "\n",
    "pd.set_option('display.max_columns', None)"
   ]
  },
  {
   "cell_type": "markdown",
   "id": "c5078f0b-5eb2-46c1-a946-d26ddbdaa4e1",
   "metadata": {},
   "source": [
    "## Wrangle"
   ]
  },
  {
   "cell_type": "code",
   "execution_count": 2,
   "id": "8f6e8479-bd21-4f40-9c0d-81edf02dfcf8",
   "metadata": {},
   "outputs": [
    {
     "name": "stdout",
     "output_type": "stream",
     "text": [
      "Found file in working directory!\n",
      "(70932, 83)\n"
     ]
    },
    {
     "data": {
      "text/plain": [
       "((40311, 60), (20155, 60), (20156, 60))"
      ]
     },
     "execution_count": 2,
     "metadata": {},
     "output_type": "execute_result"
    }
   ],
   "source": [
    "# Acquire and prepare data returned as dataframe\n",
    "df = acquire.get_data(query_url = False)\n",
    "print(df.shape)\n",
    "df = prepare.prepare_dataframe(df)\n",
    "train, validate, test = prepare.split_data(df)\n",
    "train.shape, validate.shape, test.shape"
   ]
  },
  {
   "cell_type": "markdown",
   "id": "f4079cd3-a9ca-42d6-ac90-291245e90e63",
   "metadata": {
    "tags": []
   },
   "source": [
    "## Q1: Is there a significant difference in usd between non-foil only cards and non-foil cards with foil versions?"
   ]
  },
  {
   "cell_type": "markdown",
   "id": "50710d8d-1928-47a3-a67a-7ac85c076444",
   "metadata": {
    "jp-MarkdownHeadingCollapsed": true,
    "tags": []
   },
   "source": [
    "## Key takeaway:\n",
    "- Taking into account all sets the difference in favor of non-foil only cards is about $10.91\n",
    "\n",
    "## Discusion:\n",
    "- The alternate hypothesis that there is a statistically significant difference between the prices of non-foil only cards and cards with both foil & non-foil versions is True."
   ]
  },
  {
   "cell_type": "code",
   "execution_count": 3,
   "id": "9898b2a1-3943-4ce8-b575-bdb7de0ccf9f",
   "metadata": {},
   "outputs": [
    {
     "name": "stderr",
     "output_type": "stream",
     "text": [
      "/var/folders/tg/c6tcjwk13mj583lxrf25k3jm0000gn/T/ipykernel_60039/4029545030.py:2: SettingWithCopyWarning: \n",
      "A value is trying to be set on a copy of a slice from a DataFrame.\n",
      "Try using .loc[row_indexer,col_indexer] = value instead\n",
      "\n",
      "See the caveats in the documentation: https://pandas.pydata.org/pandas-docs/stable/user_guide/indexing.html#returning-a-view-versus-a-copy\n",
      "  train['foil_and_nonfoil'] = train['nonfoil'] == train['foil']\n"
     ]
    },
    {
     "data": {
      "text/plain": [
       "(True     23367\n",
       " False    16944\n",
       " Name: foil_and_nonfoil, dtype: int64,\n",
       " True     0.579668\n",
       " False    0.420332\n",
       " Name: foil_and_nonfoil, dtype: float64)"
      ]
     },
     "execution_count": 3,
     "metadata": {},
     "output_type": "execute_result"
    }
   ],
   "source": [
    "# Creates column for cards that have both foil & non-foil versions\n",
    "train['foil_and_nonfoil'] = train['nonfoil'] == train['foil']\n",
    "\n",
    "# Shows number of cards and percentage of cards with both versions\n",
    "train.foil_and_nonfoil.value_counts(), train.foil_and_nonfoil.value_counts(normalize = True)"
   ]
  },
  {
   "cell_type": "code",
   "execution_count": 4,
   "id": "693c9464-8f93-45e0-ad88-b9471f1e4de5",
   "metadata": {},
   "outputs": [
    {
     "name": "stderr",
     "output_type": "stream",
     "text": [
      "/var/folders/tg/c6tcjwk13mj583lxrf25k3jm0000gn/T/ipykernel_60039/4174067358.py:2: SettingWithCopyWarning: \n",
      "A value is trying to be set on a copy of a slice from a DataFrame.\n",
      "Try using .loc[row_indexer,col_indexer] = value instead\n",
      "\n",
      "See the caveats in the documentation: https://pandas.pydata.org/pandas-docs/stable/user_guide/indexing.html#returning-a-view-versus-a-copy\n",
      "  train['nonfoil_only'] = (train['nonfoil'] == True) & (train['foil'] == False)\n"
     ]
    },
    {
     "data": {
      "text/plain": [
       "(False    23367\n",
       " True     16944\n",
       " Name: nonfoil_only, dtype: int64,\n",
       " False    0.579668\n",
       " True     0.420332\n",
       " Name: nonfoil_only, dtype: float64)"
      ]
     },
     "execution_count": 4,
     "metadata": {},
     "output_type": "execute_result"
    }
   ],
   "source": [
    "# Creates column for cards that have only non-foil versions\n",
    "train['nonfoil_only'] = (train['nonfoil'] == True) & (train['foil'] == False)\n",
    "\n",
    "# Shows number of cards and percentage of cards with with only non-foil versions\n",
    "train.nonfoil_only.value_counts(), train.nonfoil_only.value_counts(normalize = True)"
   ]
  },
  {
   "cell_type": "code",
   "execution_count": 5,
   "id": "533f4b66-75ca-44a6-add4-5377b5c0e170",
   "metadata": {},
   "outputs": [
    {
     "name": "stderr",
     "output_type": "stream",
     "text": [
      "/opt/homebrew/anaconda3/lib/python3.9/site-packages/pandas/core/indexing.py:1681: SettingWithCopyWarning: \n",
      "A value is trying to be set on a copy of a slice from a DataFrame.\n",
      "Try using .loc[row_indexer,col_indexer] = value instead\n",
      "\n",
      "See the caveats in the documentation: https://pandas.pydata.org/pandas-docs/stable/user_guide/indexing.html#returning-a-view-versus-a-copy\n",
      "  self.obj[key] = empty_value\n",
      "/opt/homebrew/anaconda3/lib/python3.9/site-packages/pandas/core/indexing.py:1773: SettingWithCopyWarning: \n",
      "A value is trying to be set on a copy of a slice from a DataFrame.\n",
      "Try using .loc[row_indexer,col_indexer] = value instead\n",
      "\n",
      "See the caveats in the documentation: https://pandas.pydata.org/pandas-docs/stable/user_guide/indexing.html#returning-a-view-versus-a-copy\n",
      "  self._setitem_single_column(ilocs[0], value, pi)\n"
     ]
    }
   ],
   "source": [
    "train.loc[train['nonfoil_only'] == True, 'nonfoil_only_usd'] = train['usd']"
   ]
  },
  {
   "cell_type": "code",
   "execution_count": 8,
   "id": "ecaa583a-5d5e-4f0e-92af-1cf91e137da1",
   "metadata": {},
   "outputs": [
    {
     "data": {
      "text/plain": [
       "39296    False\n",
       "30783     True\n",
       "26765     True\n",
       "8690     False\n",
       "25570     True\n",
       "         ...  \n",
       "60911    False\n",
       "58616    False\n",
       "1656     False\n",
       "4195      True\n",
       "2198      True\n",
       "Name: foil_and_nonfoil, Length: 40311, dtype: bool"
      ]
     },
     "execution_count": 8,
     "metadata": {},
     "output_type": "execute_result"
    }
   ],
   "source": [
    "train.foil_and_nonfoil"
   ]
  },
  {
   "cell_type": "code",
   "execution_count": 6,
   "id": "2323c614-4c69-4abc-a945-43d19ad57632",
   "metadata": {},
   "outputs": [
    {
     "ename": "TypeError",
     "evalue": "numpy boolean subtract, the `-` operator, is not supported, use the bitwise_xor, the `^` operator, or the logical_xor function instead.",
     "output_type": "error",
     "traceback": [
      "\u001b[0;31m---------------------------------------------------------------------------\u001b[0m",
      "\u001b[0;31mTypeError\u001b[0m                                 Traceback (most recent call last)",
      "\u001b[0;32m/var/folders/tg/c6tcjwk13mj583lxrf25k3jm0000gn/T/ipykernel_60039/3513935017.py\u001b[0m in \u001b[0;36m<module>\u001b[0;34m\u001b[0m\n\u001b[0;32m----> 1\u001b[0;31m \u001b[0mtrain\u001b[0m\u001b[0;34m[\u001b[0m\u001b[0;34m'nonfoil_only_and_both_diff'\u001b[0m\u001b[0;34m]\u001b[0m \u001b[0;34m=\u001b[0m \u001b[0mtrain\u001b[0m\u001b[0;34m.\u001b[0m\u001b[0mnonfoil_only\u001b[0m \u001b[0;34m-\u001b[0m \u001b[0mtrain\u001b[0m\u001b[0;34m.\u001b[0m\u001b[0mfoil_and_nonfoil\u001b[0m\u001b[0;34m\u001b[0m\u001b[0;34m\u001b[0m\u001b[0m\n\u001b[0m\u001b[1;32m      2\u001b[0m \u001b[0mtrain\u001b[0m\u001b[0;34m[\u001b[0m\u001b[0;34m'nonfoil_only_and_both_diff'\u001b[0m\u001b[0;34m]\u001b[0m\u001b[0;34m\u001b[0m\u001b[0;34m\u001b[0m\u001b[0m\n",
      "\u001b[0;32m/opt/homebrew/anaconda3/lib/python3.9/site-packages/pandas/core/ops/common.py\u001b[0m in \u001b[0;36mnew_method\u001b[0;34m(self, other)\u001b[0m\n\u001b[1;32m     67\u001b[0m         \u001b[0mother\u001b[0m \u001b[0;34m=\u001b[0m \u001b[0mitem_from_zerodim\u001b[0m\u001b[0;34m(\u001b[0m\u001b[0mother\u001b[0m\u001b[0;34m)\u001b[0m\u001b[0;34m\u001b[0m\u001b[0;34m\u001b[0m\u001b[0m\n\u001b[1;32m     68\u001b[0m \u001b[0;34m\u001b[0m\u001b[0m\n\u001b[0;32m---> 69\u001b[0;31m         \u001b[0;32mreturn\u001b[0m \u001b[0mmethod\u001b[0m\u001b[0;34m(\u001b[0m\u001b[0mself\u001b[0m\u001b[0;34m,\u001b[0m \u001b[0mother\u001b[0m\u001b[0;34m)\u001b[0m\u001b[0;34m\u001b[0m\u001b[0;34m\u001b[0m\u001b[0m\n\u001b[0m\u001b[1;32m     70\u001b[0m \u001b[0;34m\u001b[0m\u001b[0m\n\u001b[1;32m     71\u001b[0m     \u001b[0;32mreturn\u001b[0m \u001b[0mnew_method\u001b[0m\u001b[0;34m\u001b[0m\u001b[0;34m\u001b[0m\u001b[0m\n",
      "\u001b[0;32m/opt/homebrew/anaconda3/lib/python3.9/site-packages/pandas/core/arraylike.py\u001b[0m in \u001b[0;36m__sub__\u001b[0;34m(self, other)\u001b[0m\n\u001b[1;32m     98\u001b[0m     \u001b[0;34m@\u001b[0m\u001b[0munpack_zerodim_and_defer\u001b[0m\u001b[0;34m(\u001b[0m\u001b[0;34m\"__sub__\"\u001b[0m\u001b[0;34m)\u001b[0m\u001b[0;34m\u001b[0m\u001b[0;34m\u001b[0m\u001b[0m\n\u001b[1;32m     99\u001b[0m     \u001b[0;32mdef\u001b[0m \u001b[0m__sub__\u001b[0m\u001b[0;34m(\u001b[0m\u001b[0mself\u001b[0m\u001b[0;34m,\u001b[0m \u001b[0mother\u001b[0m\u001b[0;34m)\u001b[0m\u001b[0;34m:\u001b[0m\u001b[0;34m\u001b[0m\u001b[0;34m\u001b[0m\u001b[0m\n\u001b[0;32m--> 100\u001b[0;31m         \u001b[0;32mreturn\u001b[0m \u001b[0mself\u001b[0m\u001b[0;34m.\u001b[0m\u001b[0m_arith_method\u001b[0m\u001b[0;34m(\u001b[0m\u001b[0mother\u001b[0m\u001b[0;34m,\u001b[0m \u001b[0moperator\u001b[0m\u001b[0;34m.\u001b[0m\u001b[0msub\u001b[0m\u001b[0;34m)\u001b[0m\u001b[0;34m\u001b[0m\u001b[0;34m\u001b[0m\u001b[0m\n\u001b[0m\u001b[1;32m    101\u001b[0m \u001b[0;34m\u001b[0m\u001b[0m\n\u001b[1;32m    102\u001b[0m     \u001b[0;34m@\u001b[0m\u001b[0munpack_zerodim_and_defer\u001b[0m\u001b[0;34m(\u001b[0m\u001b[0;34m\"__rsub__\"\u001b[0m\u001b[0;34m)\u001b[0m\u001b[0;34m\u001b[0m\u001b[0;34m\u001b[0m\u001b[0m\n",
      "\u001b[0;32m/opt/homebrew/anaconda3/lib/python3.9/site-packages/pandas/core/series.py\u001b[0m in \u001b[0;36m_arith_method\u001b[0;34m(self, other, op)\u001b[0m\n\u001b[1;32m   5524\u001b[0m \u001b[0;34m\u001b[0m\u001b[0m\n\u001b[1;32m   5525\u001b[0m         \u001b[0;32mwith\u001b[0m \u001b[0mnp\u001b[0m\u001b[0;34m.\u001b[0m\u001b[0merrstate\u001b[0m\u001b[0;34m(\u001b[0m\u001b[0mall\u001b[0m\u001b[0;34m=\u001b[0m\u001b[0;34m\"ignore\"\u001b[0m\u001b[0;34m)\u001b[0m\u001b[0;34m:\u001b[0m\u001b[0;34m\u001b[0m\u001b[0;34m\u001b[0m\u001b[0m\n\u001b[0;32m-> 5526\u001b[0;31m             \u001b[0mresult\u001b[0m \u001b[0;34m=\u001b[0m \u001b[0mops\u001b[0m\u001b[0;34m.\u001b[0m\u001b[0marithmetic_op\u001b[0m\u001b[0;34m(\u001b[0m\u001b[0mlvalues\u001b[0m\u001b[0;34m,\u001b[0m \u001b[0mrvalues\u001b[0m\u001b[0;34m,\u001b[0m \u001b[0mop\u001b[0m\u001b[0;34m)\u001b[0m\u001b[0;34m\u001b[0m\u001b[0;34m\u001b[0m\u001b[0m\n\u001b[0m\u001b[1;32m   5527\u001b[0m \u001b[0;34m\u001b[0m\u001b[0m\n\u001b[1;32m   5528\u001b[0m         \u001b[0;32mreturn\u001b[0m \u001b[0mself\u001b[0m\u001b[0;34m.\u001b[0m\u001b[0m_construct_result\u001b[0m\u001b[0;34m(\u001b[0m\u001b[0mresult\u001b[0m\u001b[0;34m,\u001b[0m \u001b[0mname\u001b[0m\u001b[0;34m=\u001b[0m\u001b[0mres_name\u001b[0m\u001b[0;34m)\u001b[0m\u001b[0;34m\u001b[0m\u001b[0;34m\u001b[0m\u001b[0m\n",
      "\u001b[0;32m/opt/homebrew/anaconda3/lib/python3.9/site-packages/pandas/core/ops/array_ops.py\u001b[0m in \u001b[0;36marithmetic_op\u001b[0;34m(left, right, op)\u001b[0m\n\u001b[1;32m    222\u001b[0m         \u001b[0m_bool_arith_check\u001b[0m\u001b[0;34m(\u001b[0m\u001b[0mop\u001b[0m\u001b[0;34m,\u001b[0m \u001b[0mleft\u001b[0m\u001b[0;34m,\u001b[0m \u001b[0mright\u001b[0m\u001b[0;34m)\u001b[0m\u001b[0;34m\u001b[0m\u001b[0;34m\u001b[0m\u001b[0m\n\u001b[1;32m    223\u001b[0m \u001b[0;34m\u001b[0m\u001b[0m\n\u001b[0;32m--> 224\u001b[0;31m         \u001b[0mres_values\u001b[0m \u001b[0;34m=\u001b[0m \u001b[0m_na_arithmetic_op\u001b[0m\u001b[0;34m(\u001b[0m\u001b[0mleft\u001b[0m\u001b[0;34m,\u001b[0m \u001b[0mright\u001b[0m\u001b[0;34m,\u001b[0m \u001b[0mop\u001b[0m\u001b[0;34m)\u001b[0m\u001b[0;34m\u001b[0m\u001b[0;34m\u001b[0m\u001b[0m\n\u001b[0m\u001b[1;32m    225\u001b[0m \u001b[0;34m\u001b[0m\u001b[0m\n\u001b[1;32m    226\u001b[0m     \u001b[0;32mreturn\u001b[0m \u001b[0mres_values\u001b[0m\u001b[0;34m\u001b[0m\u001b[0;34m\u001b[0m\u001b[0m\n",
      "\u001b[0;32m/opt/homebrew/anaconda3/lib/python3.9/site-packages/pandas/core/ops/array_ops.py\u001b[0m in \u001b[0;36m_na_arithmetic_op\u001b[0;34m(left, right, op, is_cmp)\u001b[0m\n\u001b[1;32m    164\u001b[0m \u001b[0;34m\u001b[0m\u001b[0m\n\u001b[1;32m    165\u001b[0m     \u001b[0;32mtry\u001b[0m\u001b[0;34m:\u001b[0m\u001b[0;34m\u001b[0m\u001b[0;34m\u001b[0m\u001b[0m\n\u001b[0;32m--> 166\u001b[0;31m         \u001b[0mresult\u001b[0m \u001b[0;34m=\u001b[0m \u001b[0mfunc\u001b[0m\u001b[0;34m(\u001b[0m\u001b[0mleft\u001b[0m\u001b[0;34m,\u001b[0m \u001b[0mright\u001b[0m\u001b[0;34m)\u001b[0m\u001b[0;34m\u001b[0m\u001b[0;34m\u001b[0m\u001b[0m\n\u001b[0m\u001b[1;32m    167\u001b[0m     \u001b[0;32mexcept\u001b[0m \u001b[0mTypeError\u001b[0m\u001b[0;34m:\u001b[0m\u001b[0;34m\u001b[0m\u001b[0;34m\u001b[0m\u001b[0m\n\u001b[1;32m    168\u001b[0m         \u001b[0;32mif\u001b[0m \u001b[0mis_object_dtype\u001b[0m\u001b[0;34m(\u001b[0m\u001b[0mleft\u001b[0m\u001b[0;34m)\u001b[0m \u001b[0;32mor\u001b[0m \u001b[0mis_object_dtype\u001b[0m\u001b[0;34m(\u001b[0m\u001b[0mright\u001b[0m\u001b[0;34m)\u001b[0m \u001b[0;32mand\u001b[0m \u001b[0;32mnot\u001b[0m \u001b[0mis_cmp\u001b[0m\u001b[0;34m:\u001b[0m\u001b[0;34m\u001b[0m\u001b[0;34m\u001b[0m\u001b[0m\n",
      "\u001b[0;32m/opt/homebrew/anaconda3/lib/python3.9/site-packages/pandas/core/computation/expressions.py\u001b[0m in \u001b[0;36mevaluate\u001b[0;34m(op, a, b, use_numexpr)\u001b[0m\n\u001b[1;32m    237\u001b[0m         \u001b[0;32mif\u001b[0m \u001b[0muse_numexpr\u001b[0m\u001b[0;34m:\u001b[0m\u001b[0;34m\u001b[0m\u001b[0;34m\u001b[0m\u001b[0m\n\u001b[1;32m    238\u001b[0m             \u001b[0;31m# error: \"None\" not callable\u001b[0m\u001b[0;34m\u001b[0m\u001b[0;34m\u001b[0m\u001b[0m\n\u001b[0;32m--> 239\u001b[0;31m             \u001b[0;32mreturn\u001b[0m \u001b[0m_evaluate\u001b[0m\u001b[0;34m(\u001b[0m\u001b[0mop\u001b[0m\u001b[0;34m,\u001b[0m \u001b[0mop_str\u001b[0m\u001b[0;34m,\u001b[0m \u001b[0ma\u001b[0m\u001b[0;34m,\u001b[0m \u001b[0mb\u001b[0m\u001b[0;34m)\u001b[0m  \u001b[0;31m# type: ignore[misc]\u001b[0m\u001b[0;34m\u001b[0m\u001b[0;34m\u001b[0m\u001b[0m\n\u001b[0m\u001b[1;32m    240\u001b[0m     \u001b[0;32mreturn\u001b[0m \u001b[0m_evaluate_standard\u001b[0m\u001b[0;34m(\u001b[0m\u001b[0mop\u001b[0m\u001b[0;34m,\u001b[0m \u001b[0mop_str\u001b[0m\u001b[0;34m,\u001b[0m \u001b[0ma\u001b[0m\u001b[0;34m,\u001b[0m \u001b[0mb\u001b[0m\u001b[0;34m)\u001b[0m\u001b[0;34m\u001b[0m\u001b[0;34m\u001b[0m\u001b[0m\n\u001b[1;32m    241\u001b[0m \u001b[0;34m\u001b[0m\u001b[0m\n",
      "\u001b[0;32m/opt/homebrew/anaconda3/lib/python3.9/site-packages/pandas/core/computation/expressions.py\u001b[0m in \u001b[0;36m_evaluate_numexpr\u001b[0;34m(op, op_str, a, b)\u001b[0m\n\u001b[1;32m    126\u001b[0m \u001b[0;34m\u001b[0m\u001b[0m\n\u001b[1;32m    127\u001b[0m     \u001b[0;32mif\u001b[0m \u001b[0mresult\u001b[0m \u001b[0;32mis\u001b[0m \u001b[0;32mNone\u001b[0m\u001b[0;34m:\u001b[0m\u001b[0;34m\u001b[0m\u001b[0;34m\u001b[0m\u001b[0m\n\u001b[0;32m--> 128\u001b[0;31m         \u001b[0mresult\u001b[0m \u001b[0;34m=\u001b[0m \u001b[0m_evaluate_standard\u001b[0m\u001b[0;34m(\u001b[0m\u001b[0mop\u001b[0m\u001b[0;34m,\u001b[0m \u001b[0mop_str\u001b[0m\u001b[0;34m,\u001b[0m \u001b[0ma\u001b[0m\u001b[0;34m,\u001b[0m \u001b[0mb\u001b[0m\u001b[0;34m)\u001b[0m\u001b[0;34m\u001b[0m\u001b[0;34m\u001b[0m\u001b[0m\n\u001b[0m\u001b[1;32m    129\u001b[0m \u001b[0;34m\u001b[0m\u001b[0m\n\u001b[1;32m    130\u001b[0m     \u001b[0;32mreturn\u001b[0m \u001b[0mresult\u001b[0m\u001b[0;34m\u001b[0m\u001b[0;34m\u001b[0m\u001b[0m\n",
      "\u001b[0;32m/opt/homebrew/anaconda3/lib/python3.9/site-packages/pandas/core/computation/expressions.py\u001b[0m in \u001b[0;36m_evaluate_standard\u001b[0;34m(op, op_str, a, b)\u001b[0m\n\u001b[1;32m     67\u001b[0m     \u001b[0;32mif\u001b[0m \u001b[0m_TEST_MODE\u001b[0m\u001b[0;34m:\u001b[0m\u001b[0;34m\u001b[0m\u001b[0;34m\u001b[0m\u001b[0m\n\u001b[1;32m     68\u001b[0m         \u001b[0m_store_test_result\u001b[0m\u001b[0;34m(\u001b[0m\u001b[0;32mFalse\u001b[0m\u001b[0;34m)\u001b[0m\u001b[0;34m\u001b[0m\u001b[0;34m\u001b[0m\u001b[0m\n\u001b[0;32m---> 69\u001b[0;31m     \u001b[0;32mreturn\u001b[0m \u001b[0mop\u001b[0m\u001b[0;34m(\u001b[0m\u001b[0ma\u001b[0m\u001b[0;34m,\u001b[0m \u001b[0mb\u001b[0m\u001b[0;34m)\u001b[0m\u001b[0;34m\u001b[0m\u001b[0;34m\u001b[0m\u001b[0m\n\u001b[0m\u001b[1;32m     70\u001b[0m \u001b[0;34m\u001b[0m\u001b[0m\n\u001b[1;32m     71\u001b[0m \u001b[0;34m\u001b[0m\u001b[0m\n",
      "\u001b[0;31mTypeError\u001b[0m: numpy boolean subtract, the `-` operator, is not supported, use the bitwise_xor, the `^` operator, or the logical_xor function instead."
     ]
    }
   ],
   "source": []
  },
  {
   "cell_type": "code",
   "execution_count": 9,
   "id": "94488479-d2a9-4bb1-9fff-704fb03a3006",
   "metadata": {},
   "outputs": [
    {
     "data": {
      "text/plain": [
       "12.755895302171844"
      ]
     },
     "execution_count": 9,
     "metadata": {},
     "output_type": "execute_result"
    }
   ],
   "source": [
    "avg_nonfoil_only = train.nonfoil_only_usd.mean()\n",
    "avg_nonfoil_only"
   ]
  },
  {
   "cell_type": "code",
   "execution_count": 10,
   "id": "07cc7d06-5671-4c56-9d06-67f0fdd00910",
   "metadata": {},
   "outputs": [],
   "source": [
    "# Fills in NaN values of non-foil only cards with '0'\n",
    "train = train.fillna(0)"
   ]
  },
  {
   "cell_type": "code",
   "execution_count": 11,
   "id": "6209fffd-25f5-4e70-b390-71c1b414c4d9",
   "metadata": {},
   "outputs": [],
   "source": [
    "train.loc[train['foil_and_nonfoil'] == True, 'foil_and_nonfoil_usd'] = train['usd']"
   ]
  },
  {
   "cell_type": "code",
   "execution_count": 12,
   "id": "9be24810-195e-4c0b-a962-b1587145dfff",
   "metadata": {
    "tags": []
   },
   "outputs": [
    {
     "data": {
      "text/plain": [
       "1.8492977275644948"
      ]
     },
     "execution_count": 12,
     "metadata": {},
     "output_type": "execute_result"
    }
   ],
   "source": [
    "avg_foil_and_nonfoil = train.foil_and_nonfoil_usd.mean()\n",
    "avg_foil_and_nonfoil"
   ]
  },
  {
   "cell_type": "code",
   "execution_count": 13,
   "id": "83624566-20ec-4657-b136-39b97fae580f",
   "metadata": {},
   "outputs": [],
   "source": [
    "# Fills in NaN values for foil & nonfoil version with '0'\n",
    "train = train.fillna(0)"
   ]
  },
  {
   "cell_type": "code",
   "execution_count": 14,
   "id": "c8c7288b-691d-41c3-939a-a7d825c3fb8f",
   "metadata": {},
   "outputs": [
    {
     "data": {
      "text/plain": [
       "10.90659757460735"
      ]
     },
     "execution_count": 14,
     "metadata": {},
     "output_type": "execute_result"
    }
   ],
   "source": [
    "# Difference in USD of both foil & non-foil from only non-foil\n",
    "foil_diff = avg_nonfoil_only - avg_foil_and_nonfoil\n",
    "foil_diff"
   ]
  },
  {
   "cell_type": "code",
   "execution_count": 16,
   "id": "31e7b6a7-4419-4c15-b767-4a11214ad783",
   "metadata": {},
   "outputs": [
    {
     "data": {
      "text/plain": [
       "39296      0.11\n",
       "30783     -0.25\n",
       "26765     -0.30\n",
       "8690       0.05\n",
       "25570     -0.20\n",
       "          ...  \n",
       "60911      0.06\n",
       "58616    175.77\n",
       "1656      61.97\n",
       "4195      -0.29\n",
       "2198      -5.71\n",
       "Name: nonfoil_only_and_both_diff, Length: 40311, dtype: float64"
      ]
     },
     "execution_count": 16,
     "metadata": {},
     "output_type": "execute_result"
    }
   ],
   "source": [
    "train['nonfoil_only_and_both_diff'] = train.nonfoil_only_usd - train.foil_and_nonfoil_usd\n",
    "train['nonfoil_only_and_both_diff']"
   ]
  },
  {
   "cell_type": "code",
   "execution_count": 20,
   "id": "fa6c9702-ceea-419d-88ba-dfb4aa2a30de",
   "metadata": {},
   "outputs": [],
   "source": [
    "foil_only_vs_both = pd.concat([train.nonfoil_only_usd, train.foil_and_nonfoil_usd, train.nonfoil_only_and_both_diff], axis=1)"
   ]
  },
  {
   "cell_type": "code",
   "execution_count": 23,
   "id": "82541c8c-e77f-408b-99e1-b64242f3aebf",
   "metadata": {},
   "outputs": [
    {
     "data": {
      "text/html": [
       "<div>\n",
       "<style scoped>\n",
       "    .dataframe tbody tr th:only-of-type {\n",
       "        vertical-align: middle;\n",
       "    }\n",
       "\n",
       "    .dataframe tbody tr th {\n",
       "        vertical-align: top;\n",
       "    }\n",
       "\n",
       "    .dataframe thead th {\n",
       "        text-align: right;\n",
       "    }\n",
       "</style>\n",
       "<table border=\"1\" class=\"dataframe\">\n",
       "  <thead>\n",
       "    <tr style=\"text-align: right;\">\n",
       "      <th></th>\n",
       "      <th>nonfoil_only_usd</th>\n",
       "      <th>foil_and_nonfoil_usd</th>\n",
       "      <th>nonfoil_only_and_both_diff</th>\n",
       "    </tr>\n",
       "  </thead>\n",
       "  <tbody>\n",
       "    <tr>\n",
       "      <th>39296</th>\n",
       "      <td>0.11</td>\n",
       "      <td>0.00</td>\n",
       "      <td>0.11</td>\n",
       "    </tr>\n",
       "    <tr>\n",
       "      <th>30783</th>\n",
       "      <td>0.00</td>\n",
       "      <td>0.25</td>\n",
       "      <td>-0.25</td>\n",
       "    </tr>\n",
       "    <tr>\n",
       "      <th>26765</th>\n",
       "      <td>0.00</td>\n",
       "      <td>0.30</td>\n",
       "      <td>-0.30</td>\n",
       "    </tr>\n",
       "    <tr>\n",
       "      <th>8690</th>\n",
       "      <td>0.05</td>\n",
       "      <td>0.00</td>\n",
       "      <td>0.05</td>\n",
       "    </tr>\n",
       "    <tr>\n",
       "      <th>25570</th>\n",
       "      <td>0.00</td>\n",
       "      <td>0.20</td>\n",
       "      <td>-0.20</td>\n",
       "    </tr>\n",
       "  </tbody>\n",
       "</table>\n",
       "</div>"
      ],
      "text/plain": [
       "       nonfoil_only_usd  foil_and_nonfoil_usd  nonfoil_only_and_both_diff\n",
       "39296              0.11                  0.00                        0.11\n",
       "30783              0.00                  0.25                       -0.25\n",
       "26765              0.00                  0.30                       -0.30\n",
       "8690               0.05                  0.00                        0.05\n",
       "25570              0.00                  0.20                       -0.20"
      ]
     },
     "execution_count": 23,
     "metadata": {},
     "output_type": "execute_result"
    }
   ],
   "source": [
    "foil_only_vs_both.head()"
   ]
  },
  {
   "cell_type": "code",
   "execution_count": null,
   "id": "820ff8ce-67c6-4af5-81ab-5be786cb29cf",
   "metadata": {},
   "outputs": [],
   "source": [
    "def only_foil_vs_both_versions_viz(df):\n",
    "    plt.figure(figsize = (16,9))\n",
    "    sns.swarmplot(data = train, x = 'usd')\n",
    "    plt.title('Difference in Average Price of Only Foils and Both Foils & Non-Foils')\n",
    "    plt.xlabel('USD')\n",
    "    plt.ylabel('Only Foil or Both Versions')\n",
    "    plt.show()\n",
    "\n",
    "only_foil_vs_both_versions_viz(foil_only_vs_both)"
   ]
  },
  {
   "cell_type": "markdown",
   "id": "0bee4b9d-e070-4e9a-bc98-54cf1f4f8904",
   "metadata": {
    "tags": []
   },
   "source": [
    "## Hypothesis Testing\n",
    "Significance Level: α = 0.05\n",
    "- $H_0$ = There is not a signficant difference between non-foil only cards and cards with both foil & non-foil\n",
    "- $H_A$ = There is a signficant difference between non-foil only cards and cards with both foil & non-foil"
   ]
  },
  {
   "cell_type": "code",
   "execution_count": null,
   "id": "4dbdd206-cac8-48df-922f-66bdbdb1fc82",
   "metadata": {},
   "outputs": [],
   "source": [
    "# Set α to 0.05\n",
    "α = 0.05\n",
    "# Checks variance\n",
    "print(nonfoil_only_usd.var())\n",
    "print(foil_and_nonfoil_usd.var())"
   ]
  },
  {
   "cell_type": "code",
   "execution_count": null,
   "id": "b8d26e47-ff49-40a7-8470-b84876a1b954",
   "metadata": {},
   "outputs": [],
   "source": [
    "t, p = stats.ttest_ind(train.foil_and_nonfoil_usd, train.nonfoil_only_usd, equal_var=False)\n",
    "t, p / 2"
   ]
  },
  {
   "cell_type": "code",
   "execution_count": null,
   "id": "d59b169e-ed45-478d-9eea-077f1ea198a4",
   "metadata": {},
   "outputs": [],
   "source": [
    "p / 2 < α"
   ]
  },
  {
   "cell_type": "code",
   "execution_count": null,
   "id": "af42b9c6-6a90-435c-a0eb-06b0c2e752c5",
   "metadata": {},
   "outputs": [],
   "source": []
  },
  {
   "cell_type": "markdown",
   "id": "830f1e2c-a34b-44df-87b8-fcdb5d3a7a7a",
   "metadata": {
    "jp-MarkdownHeadingCollapsed": true,
    "tags": []
   },
   "source": [
    "## Q2: What’s the difference in card prices of prior printings vs its latest reprint?\n",
    "- Difference in price for reprinted vs not reprinted"
   ]
  },
  {
   "cell_type": "code",
   "execution_count": null,
   "id": "cac9456c-b02a-4395-a2a9-7e68ce740297",
   "metadata": {},
   "outputs": [],
   "source": [
    "reprints = train.groupby(\"reprint\")['usd'].mean().dropna()"
   ]
  },
  {
   "cell_type": "code",
   "execution_count": null,
   "id": "87eac638-2046-40e8-aee9-89be4162d6a0",
   "metadata": {},
   "outputs": [],
   "source": [
    "reprints\n",
    "# Figure out how to get the difference progammatically"
   ]
  },
  {
   "cell_type": "markdown",
   "id": "7d23c584-d35e-4893-bcfb-23d6ab6a2964",
   "metadata": {},
   "source": [
    "## Key Takeaway:\n",
    "- Reprinted cards cost about 77¢ more on average than original prints\n"
   ]
  },
  {
   "cell_type": "markdown",
   "id": "fe7c161c-eecf-49f2-a452-d6755a497979",
   "metadata": {
    "jp-MarkdownHeadingCollapsed": true,
    "tags": []
   },
   "source": [
    "## Visualization"
   ]
  },
  {
   "cell_type": "markdown",
   "id": "0c4821a7-8503-4538-adb3-2a6ba2cbc117",
   "metadata": {
    "tags": []
   },
   "source": [
    "## Discusion\n",
    "- The alternate hypothesis that there is a statistically significant difference between the prices of reprints and original printings is true."
   ]
  },
  {
   "cell_type": "markdown",
   "id": "9f118026-9bf9-4139-b5db-bbda02cf9f28",
   "metadata": {
    "jp-MarkdownHeadingCollapsed": true,
    "tags": []
   },
   "source": [
    "## Hypothesis Testing\n",
    "Significance Level: α = 0.05\n",
    "- $H_0$ = There is not a signficant difference between foil & non-foil cards\n",
    "- $H_A$ = There is a significant difference between foil & non-foil cards"
   ]
  },
  {
   "cell_type": "code",
   "execution_count": null,
   "id": "b85638d2-09f1-45f8-9218-7ce0c877060a",
   "metadata": {},
   "outputs": [],
   "source": [
    "t, p = stats.ttest_ind(avg_foil, avg_nonfoil, equal_var=False)\n",
    "t, p / 2"
   ]
  },
  {
   "cell_type": "markdown",
   "id": "e8618cf6-c0ed-4d4d-8d1c-aaa9c205bddb",
   "metadata": {},
   "source": [
    "Exploratory Mode"
   ]
  },
  {
   "cell_type": "code",
   "execution_count": null,
   "id": "f3637a92-7c45-4210-adc6-7bd061451880",
   "metadata": {},
   "outputs": [],
   "source": [
    "train.columns"
   ]
  },
  {
   "cell_type": "code",
   "execution_count": null,
   "id": "2c5365e9-5c7a-4f2d-92f6-8637afd99c6e",
   "metadata": {},
   "outputs": [],
   "source": [
    "train['name'].value_counts()"
   ]
  },
  {
   "cell_type": "code",
   "execution_count": null,
   "id": "7b1204b5-65c6-4025-a013-212e70404941",
   "metadata": {},
   "outputs": [],
   "source": [
    "train['lang'].value_counts()"
   ]
  },
  {
   "cell_type": "code",
   "execution_count": null,
   "id": "3caf2608-c2ab-4b58-9c19-1953542b34a8",
   "metadata": {},
   "outputs": [],
   "source": [
    "train['released_at'].value_counts()"
   ]
  },
  {
   "cell_type": "code",
   "execution_count": null,
   "id": "8eed7627-d2ef-4d31-ada8-e3d22086d16e",
   "metadata": {},
   "outputs": [],
   "source": [
    "train['layout'].value_counts()"
   ]
  },
  {
   "cell_type": "code",
   "execution_count": null,
   "id": "b5b91cee-6f61-4349-903d-2f2b0452c146",
   "metadata": {},
   "outputs": [],
   "source": [
    "train['highres_image'].value_counts()"
   ]
  },
  {
   "cell_type": "code",
   "execution_count": null,
   "id": "4cca34a2-1296-47b4-aa4f-f8bf3b9b88aa",
   "metadata": {},
   "outputs": [],
   "source": [
    "train['image_status'].value_counts()"
   ]
  },
  {
   "cell_type": "code",
   "execution_count": null,
   "id": "f1d90492-3e0d-4a89-981c-27063596d114",
   "metadata": {},
   "outputs": [],
   "source": [
    "train['mana_cost'].value_counts()"
   ]
  },
  {
   "cell_type": "code",
   "execution_count": null,
   "id": "5c2a2997-7ca8-415a-afd2-1cfdfb1943a2",
   "metadata": {},
   "outputs": [],
   "source": [
    "train['cmc'].value_counts()"
   ]
  },
  {
   "cell_type": "code",
   "execution_count": null,
   "id": "45dc554c-4bb7-4990-8e38-bb5dadcae55f",
   "metadata": {},
   "outputs": [],
   "source": [
    "train['type_line'].value_counts()"
   ]
  },
  {
   "cell_type": "code",
   "execution_count": null,
   "id": "e0396270-a90a-4a14-906c-748c53ccc513",
   "metadata": {},
   "outputs": [],
   "source": [
    "train['oracle_text'].value_counts()"
   ]
  },
  {
   "cell_type": "code",
   "execution_count": null,
   "id": "c52ff42c-e262-4b11-86da-6a9aeb4abf5d",
   "metadata": {},
   "outputs": [],
   "source": [
    "train['power'].value_counts()"
   ]
  },
  {
   "cell_type": "code",
   "execution_count": null,
   "id": "6637e92f-28b0-477b-adea-c07850118af2",
   "metadata": {},
   "outputs": [],
   "source": [
    "train['toughness'].value_counts()"
   ]
  },
  {
   "cell_type": "code",
   "execution_count": null,
   "id": "5bfbb871-36d1-4ee1-be1c-0d1bfb19a27a",
   "metadata": {},
   "outputs": [],
   "source": [
    "train['colors'].value_counts()\n",
    "# Separate colors into their own columns if they have that color?"
   ]
  },
  {
   "cell_type": "code",
   "execution_count": null,
   "id": "50b591b6-e059-4f51-a7e6-cd0470196b4c",
   "metadata": {},
   "outputs": [],
   "source": [
    "train['color_identity'].value_counts()\n",
    "# Should I go based off of color identity or actual casting colors?"
   ]
  },
  {
   "cell_type": "code",
   "execution_count": null,
   "id": "2cf4226f-c16e-4b63-ad7f-a68ff579433d",
   "metadata": {},
   "outputs": [],
   "source": [
    "train['keywords'].value_counts()"
   ]
  },
  {
   "cell_type": "code",
   "execution_count": null,
   "id": "60a55dd1-4f53-4c38-b521-507bb3dd5c39",
   "metadata": {},
   "outputs": [],
   "source": [
    "train['legalities'].value_counts()"
   ]
  },
  {
   "cell_type": "code",
   "execution_count": null,
   "id": "5f35e1d1-c661-49d6-96ae-0be4785cca85",
   "metadata": {},
   "outputs": [],
   "source": [
    "train['games'].value_counts()"
   ]
  },
  {
   "cell_type": "code",
   "execution_count": null,
   "id": "266daa5e-39e7-46b6-b64d-0bd7f9c34b00",
   "metadata": {},
   "outputs": [],
   "source": [
    "train['reserved'].value_counts()"
   ]
  },
  {
   "cell_type": "code",
   "execution_count": null,
   "id": "aca3c3ac-99ec-45e2-9bac-821bc2773f8f",
   "metadata": {},
   "outputs": [],
   "source": [
    "train['foil'].value_counts()"
   ]
  },
  {
   "cell_type": "code",
   "execution_count": null,
   "id": "c0c93788-89c1-4c58-91a5-09a9203bc60d",
   "metadata": {},
   "outputs": [],
   "source": [
    "train['nonfoil'].value_counts()"
   ]
  },
  {
   "cell_type": "code",
   "execution_count": null,
   "id": "9a6e3fb5-b9ea-4e4b-b75a-68ccd5c01d01",
   "metadata": {},
   "outputs": [],
   "source": [
    "train['finishes'].value_counts()"
   ]
  },
  {
   "cell_type": "code",
   "execution_count": null,
   "id": "bd0348d2-4174-4060-ae98-9ffe556c89b3",
   "metadata": {},
   "outputs": [],
   "source": [
    "train['oversized'].value_counts()"
   ]
  },
  {
   "cell_type": "code",
   "execution_count": null,
   "id": "9dc874ca-62ae-4383-9e74-8bdfb7cc2467",
   "metadata": {},
   "outputs": [],
   "source": [
    "train['promo'].value_counts()"
   ]
  },
  {
   "cell_type": "code",
   "execution_count": null,
   "id": "f027eccf-025f-4190-be23-3a1c9f78bbad",
   "metadata": {},
   "outputs": [],
   "source": []
  }
 ],
 "metadata": {
  "kernelspec": {
   "display_name": "Python 3 (ipykernel)",
   "language": "python",
   "name": "python3"
  },
  "language_info": {
   "codemirror_mode": {
    "name": "ipython",
    "version": 3
   },
   "file_extension": ".py",
   "mimetype": "text/x-python",
   "name": "python",
   "nbconvert_exporter": "python",
   "pygments_lexer": "ipython3",
   "version": "3.9.7"
  }
 },
 "nbformat": 4,
 "nbformat_minor": 5
}
