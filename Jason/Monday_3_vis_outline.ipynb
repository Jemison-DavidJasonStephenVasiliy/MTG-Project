{
 "cells": [
  {
   "cell_type": "code",
   "execution_count": 1,
   "id": "e1e05a5a-8ee7-409e-a83b-8480900fcc07",
   "metadata": {},
   "outputs": [],
   "source": [
    "import pandas as pd\n",
    "import matplotlib.pyplot as plt\n",
    "import seaborn as sns\n",
    "import scipy.stats as stats\n",
    "\n",
    "import acquire\n",
    "import prepare\n",
    "\n",
    "#ignore minor warnings\n",
    "import warnings\n",
    "warnings.filterwarnings(\"ignore\")"
   ]
  },
  {
   "cell_type": "code",
   "execution_count": 2,
   "id": "e7a90dc6-7dc6-4b74-b191-289ee2417e3a",
   "metadata": {},
   "outputs": [
    {
     "name": "stdout",
     "output_type": "stream",
     "text": [
      "Found file in working directory!\n",
      "(70932, 83)\n"
     ]
    },
    {
     "data": {
      "text/plain": [
       "((40311, 60), (20155, 60), (20156, 60))"
      ]
     },
     "execution_count": 2,
     "metadata": {},
     "output_type": "execute_result"
    }
   ],
   "source": [
    "df = acquire.get_data(query_url = False)\n",
    "print(df.shape)\n",
    "df = prepare.prepare_dataframe(df)\n",
    "train, validate, test = prepare.split_data(df)\n",
    "train.shape, validate.shape, test.shape"
   ]
  },
  {
   "cell_type": "markdown",
   "id": "fd6721f4-b8d2-4973-a7ae-676f7cb2bed5",
   "metadata": {
    "tags": []
   },
   "source": [
    "# Question 1 How much difference between foil vs non-foil card versions from the same set?"
   ]
  },
  {
   "cell_type": "markdown",
   "id": "75c18fde-ae0a-497c-a0d7-683845c29373",
   "metadata": {
    "jp-MarkdownHeadingCollapsed": true,
    "tags": []
   },
   "source": [
    "## Key takeaway\n",
    "- Taking into account all sets the difference in favor of foil cards is $9.82\n",
    "\n",
    "## Discusion\n",
    "- The alternate hypothesis that there is a statistically significant difference between the prices of foil and non-foil cards is true."
   ]
  },
  {
   "cell_type": "markdown",
   "id": "f179b917-762d-4c04-b690-11120065d0b9",
   "metadata": {
    "tags": []
   },
   "source": [
    "## Visualization"
   ]
  },
  {
   "cell_type": "code",
   "execution_count": 3,
   "id": "4a521079-bb59-4731-8d67-687043acb6c3",
   "metadata": {},
   "outputs": [],
   "source": [
    "def extract_price_data(df):\n",
    "    \"\"\"\n",
    "    Extracts the price data from the price column\n",
    "    Args:\n",
    "        df (DataFrame) : a dataframe containing the scryfall data\n",
    "    \"\"\"\n",
    "    # make columns for the data\n",
    "    # each row contains a dictionary of data, use a lambda function \n",
    "    # applied to each item to extact the value\n",
    "    df['usd'] = df.prices.apply(lambda r : r['usd'])\n",
    "    df['usd'] = df['usd'].fillna(0)\n",
    "    df['usd_foil'] = df.prices.apply(lambda r : r['usd_foil'])\n",
    "    df['usd_foil'] = df['usd_foil'].fillna(0)\n",
    "    df['eur'] = df.prices.apply(lambda r : r['eur'])\n",
    "    df['eur'] = df['eur'].fillna(0)\n",
    "    df['eur_foil'] = df.prices.apply(lambda r : r['eur_foil'])\n",
    "    df['eur_foil'] = df['eur_foil'].fillna(0)\n",
    "    # cast to a float value\n",
    "    df['usd'] = df.usd.astype(float)\n",
    "    df['usd_foil'] = df.usd_foil.astype(float)\n",
    "    df['eur'] = df.usd.astype(float)\n",
    "    df['eur_foil'] = df.usd_foil.astype(float)\n",
    "    #return the dataframe\n",
    "    return df"
   ]
  },
  {
   "cell_type": "code",
   "execution_count": 4,
   "id": "9a34d2bf-5325-43b8-8008-3674932f2087",
   "metadata": {},
   "outputs": [
    {
     "data": {
      "text/html": [
       "<div>\n",
       "<style scoped>\n",
       "    .dataframe tbody tr th:only-of-type {\n",
       "        vertical-align: middle;\n",
       "    }\n",
       "\n",
       "    .dataframe tbody tr th {\n",
       "        vertical-align: top;\n",
       "    }\n",
       "\n",
       "    .dataframe thead th {\n",
       "        text-align: right;\n",
       "    }\n",
       "</style>\n",
       "<table border=\"1\" class=\"dataframe\">\n",
       "  <thead>\n",
       "    <tr style=\"text-align: right;\">\n",
       "      <th></th>\n",
       "      <th>id</th>\n",
       "      <th>name</th>\n",
       "      <th>lang</th>\n",
       "      <th>released_at</th>\n",
       "      <th>layout</th>\n",
       "      <th>highres_image</th>\n",
       "      <th>image_status</th>\n",
       "      <th>mana_cost</th>\n",
       "      <th>cmc</th>\n",
       "      <th>type_line</th>\n",
       "      <th>...</th>\n",
       "      <th>hand_modifier</th>\n",
       "      <th>content_warning</th>\n",
       "      <th>flavor_name</th>\n",
       "      <th>usd</th>\n",
       "      <th>is_foil</th>\n",
       "      <th>is_etched</th>\n",
       "      <th>is_glossy</th>\n",
       "      <th>usd_foil</th>\n",
       "      <th>eur</th>\n",
       "      <th>eur_foil</th>\n",
       "    </tr>\n",
       "  </thead>\n",
       "  <tbody>\n",
       "    <tr>\n",
       "      <th>39296</th>\n",
       "      <td>8e1e4b26-0a2b-4078-adb3-1f66315afcf5</td>\n",
       "      <td>Goblin Razerunners</td>\n",
       "      <td>en</td>\n",
       "      <td>2017-10-24</td>\n",
       "      <td>normal</td>\n",
       "      <td>True</td>\n",
       "      <td>highres_scan</td>\n",
       "      <td>{2}{R}{R}</td>\n",
       "      <td>4.0</td>\n",
       "      <td>Creature — Goblin Warrior</td>\n",
       "      <td>...</td>\n",
       "      <td>0.0</td>\n",
       "      <td>False</td>\n",
       "      <td>no_flavor</td>\n",
       "      <td>0.11</td>\n",
       "      <td>False</td>\n",
       "      <td>False</td>\n",
       "      <td>False</td>\n",
       "      <td>0.00</td>\n",
       "      <td>0.11</td>\n",
       "      <td>0.00</td>\n",
       "    </tr>\n",
       "    <tr>\n",
       "      <th>30783</th>\n",
       "      <td>6f2fc246-2e95-456f-aa4e-97768c4f4bb4</td>\n",
       "      <td>Rites of Initiation</td>\n",
       "      <td>en</td>\n",
       "      <td>2001-10-01</td>\n",
       "      <td>normal</td>\n",
       "      <td>True</td>\n",
       "      <td>highres_scan</td>\n",
       "      <td>{R}</td>\n",
       "      <td>1.0</td>\n",
       "      <td>Instant</td>\n",
       "      <td>...</td>\n",
       "      <td>0.0</td>\n",
       "      <td>False</td>\n",
       "      <td>no_flavor</td>\n",
       "      <td>0.25</td>\n",
       "      <td>True</td>\n",
       "      <td>False</td>\n",
       "      <td>False</td>\n",
       "      <td>3.75</td>\n",
       "      <td>0.25</td>\n",
       "      <td>3.75</td>\n",
       "    </tr>\n",
       "    <tr>\n",
       "      <th>26765</th>\n",
       "      <td>606206c7-1a8a-46f4-b368-cf18e02f3df8</td>\n",
       "      <td>Undying Flames</td>\n",
       "      <td>en</td>\n",
       "      <td>2005-06-03</td>\n",
       "      <td>normal</td>\n",
       "      <td>True</td>\n",
       "      <td>highres_scan</td>\n",
       "      <td>{4}{R}{R}</td>\n",
       "      <td>6.0</td>\n",
       "      <td>Sorcery</td>\n",
       "      <td>...</td>\n",
       "      <td>0.0</td>\n",
       "      <td>False</td>\n",
       "      <td>no_flavor</td>\n",
       "      <td>0.30</td>\n",
       "      <td>True</td>\n",
       "      <td>False</td>\n",
       "      <td>False</td>\n",
       "      <td>2.21</td>\n",
       "      <td>0.30</td>\n",
       "      <td>2.21</td>\n",
       "    </tr>\n",
       "    <tr>\n",
       "      <th>8690</th>\n",
       "      <td>1f391555-4697-4492-9854-32393f473104</td>\n",
       "      <td>Bombard</td>\n",
       "      <td>en</td>\n",
       "      <td>2018-11-16</td>\n",
       "      <td>normal</td>\n",
       "      <td>True</td>\n",
       "      <td>highres_scan</td>\n",
       "      <td>{2}{R}</td>\n",
       "      <td>3.0</td>\n",
       "      <td>Instant</td>\n",
       "      <td>...</td>\n",
       "      <td>0.0</td>\n",
       "      <td>False</td>\n",
       "      <td>no_flavor</td>\n",
       "      <td>0.05</td>\n",
       "      <td>False</td>\n",
       "      <td>False</td>\n",
       "      <td>False</td>\n",
       "      <td>0.00</td>\n",
       "      <td>0.05</td>\n",
       "      <td>0.00</td>\n",
       "    </tr>\n",
       "    <tr>\n",
       "      <th>25570</th>\n",
       "      <td>5c1f3f52-cb9b-4b2a-bb02-6175897ae76e</td>\n",
       "      <td>Our Market Research Shows That Players Like Re...</td>\n",
       "      <td>en</td>\n",
       "      <td>2004-11-19</td>\n",
       "      <td>normal</td>\n",
       "      <td>True</td>\n",
       "      <td>highres_scan</td>\n",
       "      <td>{1}{G}{G}</td>\n",
       "      <td>3.0</td>\n",
       "      <td>Creature — Elemental</td>\n",
       "      <td>...</td>\n",
       "      <td>0.0</td>\n",
       "      <td>False</td>\n",
       "      <td>no_flavor</td>\n",
       "      <td>0.20</td>\n",
       "      <td>True</td>\n",
       "      <td>False</td>\n",
       "      <td>False</td>\n",
       "      <td>13.92</td>\n",
       "      <td>0.20</td>\n",
       "      <td>13.92</td>\n",
       "    </tr>\n",
       "    <tr>\n",
       "      <th>...</th>\n",
       "      <td>...</td>\n",
       "      <td>...</td>\n",
       "      <td>...</td>\n",
       "      <td>...</td>\n",
       "      <td>...</td>\n",
       "      <td>...</td>\n",
       "      <td>...</td>\n",
       "      <td>...</td>\n",
       "      <td>...</td>\n",
       "      <td>...</td>\n",
       "      <td>...</td>\n",
       "      <td>...</td>\n",
       "      <td>...</td>\n",
       "      <td>...</td>\n",
       "      <td>...</td>\n",
       "      <td>...</td>\n",
       "      <td>...</td>\n",
       "      <td>...</td>\n",
       "      <td>...</td>\n",
       "      <td>...</td>\n",
       "      <td>...</td>\n",
       "    </tr>\n",
       "    <tr>\n",
       "      <th>60911</th>\n",
       "      <td>db490f74-977f-476d-b8ee-da7b0a98b4c4</td>\n",
       "      <td>Sharktocrab</td>\n",
       "      <td>en</td>\n",
       "      <td>2020-11-20</td>\n",
       "      <td>normal</td>\n",
       "      <td>True</td>\n",
       "      <td>highres_scan</td>\n",
       "      <td>{2}{G}{U}</td>\n",
       "      <td>4.0</td>\n",
       "      <td>Creature — Shark Octopus Crab</td>\n",
       "      <td>...</td>\n",
       "      <td>0.0</td>\n",
       "      <td>False</td>\n",
       "      <td>no_flavor</td>\n",
       "      <td>0.06</td>\n",
       "      <td>False</td>\n",
       "      <td>False</td>\n",
       "      <td>False</td>\n",
       "      <td>0.00</td>\n",
       "      <td>0.06</td>\n",
       "      <td>0.00</td>\n",
       "    </tr>\n",
       "    <tr>\n",
       "      <th>58616</th>\n",
       "      <td>d2e9decf-47b7-44e0-b380-8055b6011021</td>\n",
       "      <td>Pyramids</td>\n",
       "      <td>en</td>\n",
       "      <td>1993-12-17</td>\n",
       "      <td>normal</td>\n",
       "      <td>True</td>\n",
       "      <td>highres_scan</td>\n",
       "      <td>{6}</td>\n",
       "      <td>6.0</td>\n",
       "      <td>Artifact</td>\n",
       "      <td>...</td>\n",
       "      <td>0.0</td>\n",
       "      <td>False</td>\n",
       "      <td>no_flavor</td>\n",
       "      <td>175.77</td>\n",
       "      <td>False</td>\n",
       "      <td>False</td>\n",
       "      <td>False</td>\n",
       "      <td>0.00</td>\n",
       "      <td>175.77</td>\n",
       "      <td>0.00</td>\n",
       "    </tr>\n",
       "    <tr>\n",
       "      <th>1656</th>\n",
       "      <td>05e9fec4-1e0a-4206-ab2b-cc2543cba667</td>\n",
       "      <td>Mana Vault</td>\n",
       "      <td>en</td>\n",
       "      <td>1997-03-24</td>\n",
       "      <td>normal</td>\n",
       "      <td>True</td>\n",
       "      <td>highres_scan</td>\n",
       "      <td>{1}</td>\n",
       "      <td>1.0</td>\n",
       "      <td>Artifact</td>\n",
       "      <td>...</td>\n",
       "      <td>0.0</td>\n",
       "      <td>False</td>\n",
       "      <td>no_flavor</td>\n",
       "      <td>61.97</td>\n",
       "      <td>False</td>\n",
       "      <td>False</td>\n",
       "      <td>False</td>\n",
       "      <td>0.00</td>\n",
       "      <td>61.97</td>\n",
       "      <td>0.00</td>\n",
       "    </tr>\n",
       "    <tr>\n",
       "      <th>4195</th>\n",
       "      <td>0edc37c6-b6a8-424f-95dd-928d03c28542</td>\n",
       "      <td>Kamahl's Summons</td>\n",
       "      <td>en</td>\n",
       "      <td>2002-10-07</td>\n",
       "      <td>normal</td>\n",
       "      <td>True</td>\n",
       "      <td>highres_scan</td>\n",
       "      <td>{3}{G}</td>\n",
       "      <td>4.0</td>\n",
       "      <td>Sorcery</td>\n",
       "      <td>...</td>\n",
       "      <td>0.0</td>\n",
       "      <td>False</td>\n",
       "      <td>no_flavor</td>\n",
       "      <td>0.29</td>\n",
       "      <td>True</td>\n",
       "      <td>False</td>\n",
       "      <td>False</td>\n",
       "      <td>3.02</td>\n",
       "      <td>0.29</td>\n",
       "      <td>3.02</td>\n",
       "    </tr>\n",
       "    <tr>\n",
       "      <th>2198</th>\n",
       "      <td>07c3e78d-d917-4552-842f-feff99c059e0</td>\n",
       "      <td>Blind Obedience</td>\n",
       "      <td>en</td>\n",
       "      <td>2013-02-01</td>\n",
       "      <td>normal</td>\n",
       "      <td>True</td>\n",
       "      <td>highres_scan</td>\n",
       "      <td>{1}{W}</td>\n",
       "      <td>2.0</td>\n",
       "      <td>Enchantment</td>\n",
       "      <td>...</td>\n",
       "      <td>0.0</td>\n",
       "      <td>False</td>\n",
       "      <td>no_flavor</td>\n",
       "      <td>5.71</td>\n",
       "      <td>True</td>\n",
       "      <td>False</td>\n",
       "      <td>False</td>\n",
       "      <td>23.08</td>\n",
       "      <td>5.71</td>\n",
       "      <td>23.08</td>\n",
       "    </tr>\n",
       "  </tbody>\n",
       "</table>\n",
       "<p>40311 rows × 63 columns</p>\n",
       "</div>"
      ],
      "text/plain": [
       "                                         id  \\\n",
       "39296  8e1e4b26-0a2b-4078-adb3-1f66315afcf5   \n",
       "30783  6f2fc246-2e95-456f-aa4e-97768c4f4bb4   \n",
       "26765  606206c7-1a8a-46f4-b368-cf18e02f3df8   \n",
       "8690   1f391555-4697-4492-9854-32393f473104   \n",
       "25570  5c1f3f52-cb9b-4b2a-bb02-6175897ae76e   \n",
       "...                                     ...   \n",
       "60911  db490f74-977f-476d-b8ee-da7b0a98b4c4   \n",
       "58616  d2e9decf-47b7-44e0-b380-8055b6011021   \n",
       "1656   05e9fec4-1e0a-4206-ab2b-cc2543cba667   \n",
       "4195   0edc37c6-b6a8-424f-95dd-928d03c28542   \n",
       "2198   07c3e78d-d917-4552-842f-feff99c059e0   \n",
       "\n",
       "                                                    name lang released_at  \\\n",
       "39296                                 Goblin Razerunners   en  2017-10-24   \n",
       "30783                                Rites of Initiation   en  2001-10-01   \n",
       "26765                                     Undying Flames   en  2005-06-03   \n",
       "8690                                             Bombard   en  2018-11-16   \n",
       "25570  Our Market Research Shows That Players Like Re...   en  2004-11-19   \n",
       "...                                                  ...  ...         ...   \n",
       "60911                                        Sharktocrab   en  2020-11-20   \n",
       "58616                                           Pyramids   en  1993-12-17   \n",
       "1656                                          Mana Vault   en  1997-03-24   \n",
       "4195                                    Kamahl's Summons   en  2002-10-07   \n",
       "2198                                     Blind Obedience   en  2013-02-01   \n",
       "\n",
       "       layout  highres_image  image_status  mana_cost  cmc  \\\n",
       "39296  normal           True  highres_scan  {2}{R}{R}  4.0   \n",
       "30783  normal           True  highres_scan        {R}  1.0   \n",
       "26765  normal           True  highres_scan  {4}{R}{R}  6.0   \n",
       "8690   normal           True  highres_scan     {2}{R}  3.0   \n",
       "25570  normal           True  highres_scan  {1}{G}{G}  3.0   \n",
       "...       ...            ...           ...        ...  ...   \n",
       "60911  normal           True  highres_scan  {2}{G}{U}  4.0   \n",
       "58616  normal           True  highres_scan        {6}  6.0   \n",
       "1656   normal           True  highres_scan        {1}  1.0   \n",
       "4195   normal           True  highres_scan     {3}{G}  4.0   \n",
       "2198   normal           True  highres_scan     {1}{W}  2.0   \n",
       "\n",
       "                           type_line  ... hand_modifier content_warning  \\\n",
       "39296      Creature — Goblin Warrior  ...           0.0           False   \n",
       "30783                        Instant  ...           0.0           False   \n",
       "26765                        Sorcery  ...           0.0           False   \n",
       "8690                         Instant  ...           0.0           False   \n",
       "25570           Creature — Elemental  ...           0.0           False   \n",
       "...                              ...  ...           ...             ...   \n",
       "60911  Creature — Shark Octopus Crab  ...           0.0           False   \n",
       "58616                       Artifact  ...           0.0           False   \n",
       "1656                        Artifact  ...           0.0           False   \n",
       "4195                         Sorcery  ...           0.0           False   \n",
       "2198                     Enchantment  ...           0.0           False   \n",
       "\n",
       "      flavor_name     usd is_foil is_etched is_glossy usd_foil     eur  \\\n",
       "39296   no_flavor    0.11   False     False     False     0.00    0.11   \n",
       "30783   no_flavor    0.25    True     False     False     3.75    0.25   \n",
       "26765   no_flavor    0.30    True     False     False     2.21    0.30   \n",
       "8690    no_flavor    0.05   False     False     False     0.00    0.05   \n",
       "25570   no_flavor    0.20    True     False     False    13.92    0.20   \n",
       "...           ...     ...     ...       ...       ...      ...     ...   \n",
       "60911   no_flavor    0.06   False     False     False     0.00    0.06   \n",
       "58616   no_flavor  175.77   False     False     False     0.00  175.77   \n",
       "1656    no_flavor   61.97   False     False     False     0.00   61.97   \n",
       "4195    no_flavor    0.29    True     False     False     3.02    0.29   \n",
       "2198    no_flavor    5.71    True     False     False    23.08    5.71   \n",
       "\n",
       "       eur_foil  \n",
       "39296      0.00  \n",
       "30783      3.75  \n",
       "26765      2.21  \n",
       "8690       0.00  \n",
       "25570     13.92  \n",
       "...         ...  \n",
       "60911      0.00  \n",
       "58616      0.00  \n",
       "1656       0.00  \n",
       "4195       3.02  \n",
       "2198      23.08  \n",
       "\n",
       "[40311 rows x 63 columns]"
      ]
     },
     "execution_count": 4,
     "metadata": {},
     "output_type": "execute_result"
    }
   ],
   "source": [
    "extract_price_data(train)"
   ]
  },
  {
   "cell_type": "code",
   "execution_count": 5,
   "id": "30c30690-e6d3-4ccf-b39d-31ae78e70e05",
   "metadata": {},
   "outputs": [],
   "source": [
    "train['usd'] = pd.to_numeric(train['usd'])\n",
    "train['usd_foil'] = pd.to_numeric(train['usd_foil'])\n",
    "avg_nonfoil = train.groupby(\"foil\")['usd'].mean().dropna()\n",
    "avg_foil = train.groupby(\"nonfoil\")['usd_foil'].mean().dropna()\n",
    "foil_diff = avg_foil - avg_nonfoil\n",
    "foil_vs_nonfoil = pd.concat([avg_foil, avg_nonfoil, foil_diff], axis=1)\n",
    "foil_vs_nonfoil = foil_vs_nonfoil[~(foil_vs_nonfoil == 0).all(axis=1)]\n",
    "foil_vs_nonfoil.columns = ['foils', 'nonfoils', 'price_difference']"
   ]
  },
  {
   "cell_type": "code",
   "execution_count": 16,
   "id": "abc5240b-1dab-4f77-a9fd-5d3459c365de",
   "metadata": {},
   "outputs": [
    {
     "data": {
      "text/plain": [
       "foil\n",
       "False    12.755895\n",
       "True      1.849298\n",
       "Name: usd, dtype: float64"
      ]
     },
     "execution_count": 16,
     "metadata": {},
     "output_type": "execute_result"
    }
   ],
   "source": [
    "train.groupby(\"foil\")['usd'].mean().dropna()"
   ]
  },
  {
   "cell_type": "code",
   "execution_count": 18,
   "id": "76158417-9ca9-4daa-84f5-a8d146380385",
   "metadata": {},
   "outputs": [
    {
     "data": {
      "text/html": [
       "<div>\n",
       "<style scoped>\n",
       "    .dataframe tbody tr th:only-of-type {\n",
       "        vertical-align: middle;\n",
       "    }\n",
       "\n",
       "    .dataframe tbody tr th {\n",
       "        vertical-align: top;\n",
       "    }\n",
       "\n",
       "    .dataframe thead th {\n",
       "        text-align: right;\n",
       "    }\n",
       "</style>\n",
       "<table border=\"1\" class=\"dataframe\">\n",
       "  <thead>\n",
       "    <tr style=\"text-align: right;\">\n",
       "      <th></th>\n",
       "      <th>foils</th>\n",
       "      <th>nonfoils</th>\n",
       "      <th>price_difference</th>\n",
       "    </tr>\n",
       "  </thead>\n",
       "  <tbody>\n",
       "    <tr>\n",
       "      <th>True</th>\n",
       "      <td>4.73478</td>\n",
       "      <td>1.849298</td>\n",
       "      <td>2.885482</td>\n",
       "    </tr>\n",
       "    <tr>\n",
       "      <th>False</th>\n",
       "      <td>NaN</td>\n",
       "      <td>12.755895</td>\n",
       "      <td>NaN</td>\n",
       "    </tr>\n",
       "  </tbody>\n",
       "</table>\n",
       "</div>"
      ],
      "text/plain": [
       "         foils   nonfoils  price_difference\n",
       "True   4.73478   1.849298          2.885482\n",
       "False      NaN  12.755895               NaN"
      ]
     },
     "execution_count": 18,
     "metadata": {},
     "output_type": "execute_result"
    }
   ],
   "source": [
    "foil_vs_nonfoil"
   ]
  },
  {
   "cell_type": "code",
   "execution_count": 6,
   "id": "ba517460-508f-438d-8987-5cdc7c853c12",
   "metadata": {},
   "outputs": [
    {
     "data": {
      "text/plain": [
       "<Figure size 1152x648 with 0 Axes>"
      ]
     },
     "metadata": {},
     "output_type": "display_data"
    },
    {
     "data": {
      "image/png": "[encoded data removed]",
      "text/plain": [
       "<Figure size 432x288 with 1 Axes>"
      ]
     },
     "metadata": {
      "needs_background": "light"
     },
     "output_type": "display_data"
    }
   ],
   "source": [
    "def foil_vs_nonfoil_viz(df):\n",
    "    plt.figure(figsize = (16,9))\n",
    "    df.plot(rot=90)\n",
    "    plt.title('Difference in Average Price Between Foils and Non-Foils')\n",
    "    plt.xlabel('Set Name')\n",
    "    plt.ylabel('Avg Price')\n",
    "    plt.show()\n",
    "\n",
    "foil_vs_nonfoil_viz(foil_vs_nonfoil)\n",
    "# try as barchart with foil/non-foil"
   ]
  },
  {
   "cell_type": "markdown",
   "id": "b83cae43-ce51-4360-8a5e-13761cfcf909",
   "metadata": {
    "tags": []
   },
   "source": [
    "## Hypothesis Testing\n",
    "Significance Level: α = 0.05\n",
    "- $H_0$ = There is not a signficant difference between foil & non-foil cards\n",
    "- $H_A$ = There is a significant difference between foil & non-foil cards"
   ]
  },
  {
   "cell_type": "code",
   "execution_count": 7,
   "id": "20e38731-eb3d-4d8f-b28e-3461e40a7efc",
   "metadata": {},
   "outputs": [
    {
     "name": "stdout",
     "output_type": "stream",
     "text": [
      "nan\n",
      "59.47693532721543\n"
     ]
    }
   ],
   "source": [
    "α = 0.05\n",
    "# Checks variance\n",
    "print(avg_foil.var())\n",
    "print(avg_nonfoil.var())"
   ]
  },
  {
   "cell_type": "code",
   "execution_count": 8,
   "id": "09edc15c-7af9-4de8-9486-9aeabc9cacd8",
   "metadata": {},
   "outputs": [
    {
     "data": {
      "text/plain": [
       "(nan, nan)"
      ]
     },
     "execution_count": 8,
     "metadata": {},
     "output_type": "execute_result"
    }
   ],
   "source": [
    "t, p = stats.ttest_ind(avg_foil, avg_nonfoil, equal_var=False)\n",
    "t, p / 2"
   ]
  },
  {
   "cell_type": "code",
   "execution_count": 9,
   "id": "473745e9-c86d-4c1f-8ea1-1363f53aa69a",
   "metadata": {},
   "outputs": [
    {
     "data": {
      "text/plain": [
       "False"
      ]
     },
     "execution_count": 9,
     "metadata": {},
     "output_type": "execute_result"
    }
   ],
   "source": [
    "p / 2 < α"
   ]
  },
  {
   "cell_type": "markdown",
   "id": "cdbd6666-d157-48be-bf06-7b185d701aa6",
   "metadata": {
    "tags": []
   },
   "source": [
    "# Question 2: What effect does frame/full art/ highres_image have on price?"
   ]
  },
  {
   "cell_type": "markdown",
   "id": "f14d2c27-e534-4246-952f-4543afd81650",
   "metadata": {
    "tags": []
   },
   "source": [
    "## Key takeaway\n",
    "- key takeaway 1\n",
    "\n",
    "## Discusion\n",
    "At least 3 sentences explanation"
   ]
  },
  {
   "cell_type": "markdown",
   "id": "d1da5d61-9344-477b-a248-36e31ab6bd7c",
   "metadata": {},
   "source": [
    "## Visualization"
   ]
  },
  {
   "cell_type": "code",
   "execution_count": 10,
   "id": "3a6775e4-0578-4491-ad6d-b5672a2676c5",
   "metadata": {},
   "outputs": [],
   "source": [
    "#functions go here"
   ]
  },
  {
   "cell_type": "markdown",
   "id": "65893c8f-764e-4d55-8b7b-3ee7224011df",
   "metadata": {},
   "source": [
    "## Hypothesis Testing"
   ]
  },
  {
   "cell_type": "code",
   "execution_count": 11,
   "id": "0d6e7ae8-afa1-4d82-b805-24023de9ace1",
   "metadata": {},
   "outputs": [],
   "source": [
    "#functions go here"
   ]
  },
  {
   "cell_type": "markdown",
   "id": "e901771f-911a-4244-bfb3-37f6c207f7cb",
   "metadata": {
    "tags": []
   },
   "source": [
    "# Question 3: What’s the difference in card prices of prior printings vs its latest reprint?"
   ]
  },
  {
   "cell_type": "markdown",
   "id": "f02615d2-3850-4125-8998-f09939d90f0c",
   "metadata": {
    "tags": []
   },
   "source": [
    "## Key takeaway\n",
    "- key takeaway 1\n",
    "\n",
    "## Discusion\n",
    "At least 3 sentences explanation"
   ]
  },
  {
   "cell_type": "markdown",
   "id": "c33bffa3-1c50-46ca-b1fb-62b6a9f9ae71",
   "metadata": {},
   "source": [
    "## Visualization"
   ]
  },
  {
   "cell_type": "code",
   "execution_count": 12,
   "id": "18764c64-a269-4c42-a69c-d5f5fdd24dcd",
   "metadata": {},
   "outputs": [],
   "source": [
    "#functions go here"
   ]
  },
  {
   "cell_type": "markdown",
   "id": "5fac2c00-5c3e-4a10-a6cb-84b9fdce73ce",
   "metadata": {},
   "source": [
    "## Hypothesis Testing"
   ]
  },
  {
   "cell_type": "code",
   "execution_count": 13,
   "id": "1220b602-ea5e-4538-85cb-12267fabd3a5",
   "metadata": {},
   "outputs": [],
   "source": [
    "#functions go here"
   ]
  }
 ],
 "metadata": {
  "kernelspec": {
   "display_name": "Python 3 (ipykernel)",
   "language": "python",
   "name": "python3"
  },
  "language_info": {
   "codemirror_mode": {
    "name": "ipython",
    "version": 3
   },
   "file_extension": ".py",
   "mimetype": "text/x-python",
   "name": "python",
   "nbconvert_exporter": "python",
   "pygments_lexer": "ipython3",
   "version": "3.9.7"
  }
 },
 "nbformat": 4,
 "nbformat_minor": 5
}
