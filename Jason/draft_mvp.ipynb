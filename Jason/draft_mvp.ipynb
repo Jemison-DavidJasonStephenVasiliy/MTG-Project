{
 "cells": [
  {
   "cell_type": "markdown",
   "id": "0b5374fc-5217-4b7f-8084-1c8094f7c281",
   "metadata": {
    "tags": []
   },
   "source": [
    "# Magic the Gathering Card Price Prediction\n",
    "*David Mitchell, Vasiliy Melkozerov, Jason Turner, Stephen FitzSimon*\n",
    "\n",
    "## Key Takeaways\n",
    "- Takeaway 1\n",
    "\n",
    "## Contents <a name='contents'></a>\n",
    "1. <a href='#intro'>Introduction</a>\n",
    "2. <a href='#explore'>Explore</a>\n",
    "    1. <a href='#q_1'>Question 1</a>\n",
    "3. <a href='#model'>Modeling</a>\n",
    "    1. <a href='#baseline'>Basline Model</a>\n",
    "    2. <a href='#train_validate_model'>Modeling on Train and Validate</a>\n",
    "    3. <a href='#final_model'>Final Model</a>\n",
    "4. <a href='#conclusions'>Conclusions</a>"
   ]
  },
  {
   "cell_type": "code",
   "execution_count": 1,
   "id": "45dbab98-dff3-4701-992e-11f4deee2ac3",
   "metadata": {},
   "outputs": [],
   "source": [
    "# Import libraries\n",
    "import numpy as np\n",
    "import pandas as pd\n",
    "\n",
    "# Import statistical module\n",
    "from scipy import stats\n",
    "\n",
    "# Import custom modules\n",
    "import acquire\n",
    "import prepare\n",
    "import explore\n",
    "# import model\n",
    "\n",
    "# Ignore minor warnings\n",
    "import warnings\n",
    "warnings.filterwarnings(\"ignore\")"
   ]
  },
  {
   "cell_type": "markdown",
   "id": "4ecc1a63-d486-488f-b7f5-e7403d04792f",
   "metadata": {
    "tags": []
   },
   "source": [
    "## Wrangle"
   ]
  },
  {
   "cell_type": "code",
   "execution_count": 2,
   "id": "fdc7509f-9c29-4a29-be4c-fbb004deb99b",
   "metadata": {
    "tags": []
   },
   "outputs": [
    {
     "name": "stdout",
     "output_type": "stream",
     "text": [
      "Found file in working directory!\n",
      "(70932, 83)\n"
     ]
    },
    {
     "data": {
      "text/plain": [
       "((40311, 60), (6719, 60), (6719, 60))"
      ]
     },
     "execution_count": 2,
     "metadata": {},
     "output_type": "execute_result"
    }
   ],
   "source": [
    "# Acquire and prepare data returned as a dataframe\n",
    "df = acquire.get_data(query_url = False)\n",
    "print(df.shape)\n",
    "df = prepare.prepare_dataframe(df)\n",
    "train, validate, test = prepare.split_data(df)\n",
    "train.shape, validate.shape, test.shape"
   ]
  },
  {
   "cell_type": "markdown",
   "id": "3cb02cd9-f0a5-4137-9983-a4ef58c266aa",
   "metadata": {},
   "source": [
    "## Introduction <a name='intro'></a>\n",
    "\n",
    "<a href='#contents'>Return to Contents</a>"
   ]
  },
  {
   "cell_type": "markdown",
   "id": "239837a4-9dad-4497-a071-29cbe103bb8b",
   "metadata": {},
   "source": [
    "# Explore"
   ]
  },
  {
   "cell_type": "markdown",
   "id": "b86c4185-22aa-46bc-be32-f6b37d5c5717",
   "metadata": {},
   "source": [
    "### Key Explore Takeaways\n",
    "- Takeaway 1"
   ]
  },
  {
   "cell_type": "markdown",
   "id": "063670b0-3498-4f9b-ba90-b2e6b5d4b387",
   "metadata": {},
   "source": [
    "### Discussion\n",
    "\n",
    "<a href='#contents'>Return to Contents</a>"
   ]
  },
  {
   "cell_type": "markdown",
   "id": "90687d46-6469-422a-8239-0c705cc7c0e9",
   "metadata": {},
   "source": [
    "## Vasily's EDA & Hypotheses"
   ]
  },
  {
   "cell_type": "markdown",
   "id": "c74edd4d-e19b-4ecd-957c-4a47461879b3",
   "metadata": {},
   "source": [
    "<hr style=\"border-top: 10px groove blue; margin-top: 1px; margin-bottom: 1px\">\n"
   ]
  },
  {
   "cell_type": "markdown",
   "id": "8126c15a-259a-4611-b246-2abd216ef6cd",
   "metadata": {
    "tags": []
   },
   "source": [
    "<a name='q_1'></a>\n",
    "### Does legality affect the price?"
   ]
  },
  {
   "cell_type": "markdown",
   "id": "8536812e-2f98-4a9c-8cb7-aa8bc654567a",
   "metadata": {},
   "source": [
    "#### Key Takeaways\n",
    "- The legality of a card does have an affect on price.\n",
    "- The effect is disproportionate among the legalities.\n",
    "- The difference in the price is dependent on what legalities the card is in."
   ]
  },
  {
   "cell_type": "markdown",
   "id": "ebc18743-b9ea-4654-9eda-434d6bef7255",
   "metadata": {
    "tags": []
   },
   "source": [
    "### Discussion\n",
    "\n",
    "The goal was to find tangible differences in the Key Takeaways for price based off of its legality."
   ]
  },
  {
   "cell_type": "markdown",
   "id": "2f479dba-2410-4446-9bc9-2b5b6d370de1",
   "metadata": {},
   "source": [
    "#### Visualization"
   ]
  },
  {
   "cell_type": "code",
   "execution_count": 3,
   "id": "bf6ba8ac-b5bf-40e4-a466-1876e23d41e7",
   "metadata": {},
   "outputs": [
    {
     "data": {
      "image/png": "[encoded data removed]",
      "text/plain": [
       "<Figure size 432x288 with 1 Axes>"
      ]
     },
     "metadata": {
      "needs_background": "light"
     },
     "output_type": "display_data"
    }
   ],
   "source": [
    "explore.get_legalites_chart(train)"
   ]
  },
  {
   "cell_type": "markdown",
   "id": "d225d9bf-3fbb-4a26-9dc1-d7cb50a6574f",
   "metadata": {},
   "source": [
    "#### Hypothesis Testing\n",
    "$H_0$: There is no correlation between legality and USD price.\n",
    "\n",
    "$H_a$: There is a correlation between legality and USD price."
   ]
  },
  {
   "cell_type": "code",
   "execution_count": 4,
   "id": "58863348-c3e0-452e-afc3-64714ffb6394",
   "metadata": {},
   "outputs": [
    {
     "name": "stdout",
     "output_type": "stream",
     "text": [
      "10.412185191299939 1.1746763888223343e-25 0.05\n",
      "We reject the null hypothesis\n"
     ]
    }
   ],
   "source": [
    "explore.hypothesis_test_legalities(train)"
   ]
  },
  {
   "cell_type": "markdown",
   "id": "ccaab6d0-855d-4e35-82c2-693e83d03b70",
   "metadata": {},
   "source": [
    "<hr style=\"border-top: 10px groove blue; margin-top: 1px; margin-bottom: 1px\">"
   ]
  },
  {
   "cell_type": "markdown",
   "id": "6f528a6c-2b15-4f42-b947-ef19711149a9",
   "metadata": {},
   "source": [
    "<a name='q_2'></a>\n",
    "### Is there a difference in price between sets?"
   ]
  },
  {
   "cell_type": "markdown",
   "id": "fcab9b20-35b6-4538-9386-da96f1268b7f",
   "metadata": {},
   "source": [
    "#### Key Takeaways\n",
    "- There is a large difference in price between some sets.\n",
    "- Most of the sets that have gone through standard are roughly worth the same."
   ]
  },
  {
   "cell_type": "markdown",
   "id": "a438d1bc-5f06-4495-8aee-c0ae4a53282e",
   "metadata": {
    "tags": []
   },
   "source": [
    "### Discussion\n",
    "The initial assumption going into this is that not all sets are worth the same amount. Some more then others and some in the class of commodities."
   ]
  },
  {
   "cell_type": "markdown",
   "id": "a7e8b70d-40c5-496a-a08a-d7ff55b49fbc",
   "metadata": {},
   "source": [
    "#### Visualization"
   ]
  },
  {
   "cell_type": "code",
   "execution_count": 5,
   "id": "981b86d5-435d-4e57-a0ea-c1792bfef3cb",
   "metadata": {},
   "outputs": [
    {
     "data": {
      "image/png": "[encoded data removed]",
      "text/plain": [
       "<Figure size 720x360 with 1 Axes>"
      ]
     },
     "metadata": {
      "needs_background": "light"
     },
     "output_type": "display_data"
    }
   ],
   "source": [
    "explore.top_7_sets(train)"
   ]
  },
  {
   "cell_type": "markdown",
   "id": "d7b75ef0-03c7-4e28-b1f4-3036dc2feeaf",
   "metadata": {},
   "source": [
    "#### Hypothesis Testing\n",
    "$H_0$: There is no correlation between the set name and USD price.\n",
    "\n",
    "$H_a$: There is a correlation between the set name and USD price."
   ]
  },
  {
   "cell_type": "code",
   "execution_count": 6,
   "id": "b9b27892-0d02-489d-8b3a-3ad1931699a8",
   "metadata": {},
   "outputs": [
    {
     "name": "stdout",
     "output_type": "stream",
     "text": [
      "11.500764578143793 7.297024862617009e-31 0.05\n",
      "We reject the null hypothesis\n"
     ]
    }
   ],
   "source": [
    "explore.hypothesis_test_set_name(train)"
   ]
  },
  {
   "cell_type": "markdown",
   "id": "13a12797-f13a-4eb0-a898-cc3541530615",
   "metadata": {},
   "source": [
    "<hr style=\"border-top: 10px groove blue; margin-top: 1px; margin-bottom: 1px\">"
   ]
  },
  {
   "cell_type": "markdown",
   "id": "98babfbe-3a6f-4dce-af26-a9c9ae5201e7",
   "metadata": {},
   "source": [
    "<a name='q_3'></a>\n",
    "### Is combined mana cost a good indicator for price?"
   ]
  },
  {
   "cell_type": "markdown",
   "id": "957bf7b6-841f-4d0f-81c6-bab2c4cdf4f6",
   "metadata": {
    "tags": []
   },
   "source": [
    "#### Key Takeaway\n",
    "- At 0, 11, and 13 mana cost there is a statistically significant difference in price compared to the mean."
   ]
  },
  {
   "cell_type": "markdown",
   "id": "864d63b7-1b6b-4cc7-bd5d-7a87d64a8ac1",
   "metadata": {
    "tags": []
   },
   "source": [
    "### Discussion\n",
    "CMC stands for combined mana cost. Idea here being that the more \"rare\" and obscure a card is the more valuable it may be. Oddly enough the more mana expensive a card is it goes up in value after 8 mana."
   ]
  },
  {
   "cell_type": "markdown",
   "id": "5073fd8c-7f59-4d87-aa43-fd753d8d6d16",
   "metadata": {},
   "source": [
    "#### Visualization"
   ]
  },
  {
   "cell_type": "code",
   "execution_count": 7,
   "id": "1015dc31-abd2-4ed0-ae04-a579ba1d0b45",
   "metadata": {},
   "outputs": [
    {
     "data": {
      "image/png": "[encoded data removed]",
      "text/plain": [
       "<Figure size 1080x720 with 1 Axes>"
      ]
     },
     "metadata": {
      "needs_background": "light"
     },
     "output_type": "display_data"
    }
   ],
   "source": [
    "explore.cmc_by_price(train)"
   ]
  },
  {
   "cell_type": "markdown",
   "id": "19dd1281-5126-4c6b-921a-652e26f0ec97",
   "metadata": {},
   "source": [
    "#### Hypothesis Testing\n",
    "$H_0$: There is no correlation between the release date and USD price.\n",
    "\n",
    "$H_a$: There is a correlation between the release date and USD price."
   ]
  },
  {
   "cell_type": "code",
   "execution_count": 8,
   "id": "87bb6325-b58b-452e-a449-5b7340c07ffb",
   "metadata": {},
   "outputs": [
    {
     "data": {
      "text/html": [
       "<div>\n",
       "<style scoped>\n",
       "    .dataframe tbody tr th:only-of-type {\n",
       "        vertical-align: middle;\n",
       "    }\n",
       "\n",
       "    .dataframe tbody tr th {\n",
       "        vertical-align: top;\n",
       "    }\n",
       "\n",
       "    .dataframe thead th {\n",
       "        text-align: right;\n",
       "    }\n",
       "</style>\n",
       "<table border=\"1\" class=\"dataframe\">\n",
       "  <thead>\n",
       "    <tr style=\"text-align: right;\">\n",
       "      <th></th>\n",
       "      <th>mana_cost</th>\n",
       "      <th>cost_mean</th>\n",
       "      <th>t_stat</th>\n",
       "      <th>p_value</th>\n",
       "      <th>reject_null</th>\n",
       "    </tr>\n",
       "  </thead>\n",
       "  <tbody>\n",
       "    <tr>\n",
       "      <th>13</th>\n",
       "      <td>11.0</td>\n",
       "      <td>17.896667</td>\n",
       "      <td>2.193620</td>\n",
       "      <td>0.042454</td>\n",
       "      <td>True</td>\n",
       "    </tr>\n",
       "    <tr>\n",
       "      <th>6</th>\n",
       "      <td>0.0</td>\n",
       "      <td>13.848302</td>\n",
       "      <td>3.815167</td>\n",
       "      <td>0.000138</td>\n",
       "      <td>True</td>\n",
       "    </tr>\n",
       "    <tr>\n",
       "      <th>10</th>\n",
       "      <td>15.0</td>\n",
       "      <td>17.096250</td>\n",
       "      <td>1.904770</td>\n",
       "      <td>0.098513</td>\n",
       "      <td>True</td>\n",
       "    </tr>\n",
       "    <tr>\n",
       "      <th>0</th>\n",
       "      <td>4.0</td>\n",
       "      <td>5.318918</td>\n",
       "      <td>-1.703086</td>\n",
       "      <td>0.088600</td>\n",
       "      <td>False</td>\n",
       "    </tr>\n",
       "    <tr>\n",
       "      <th>9</th>\n",
       "      <td>10.0</td>\n",
       "      <td>8.971642</td>\n",
       "      <td>1.065848</td>\n",
       "      <td>0.290376</td>\n",
       "      <td>False</td>\n",
       "    </tr>\n",
       "  </tbody>\n",
       "</table>\n",
       "</div>"
      ],
      "text/plain": [
       "    mana_cost  cost_mean    t_stat   p_value  reject_null\n",
       "13       11.0  17.896667  2.193620  0.042454         True\n",
       "6         0.0  13.848302  3.815167  0.000138         True\n",
       "10       15.0  17.096250  1.904770  0.098513         True\n",
       "0         4.0   5.318918 -1.703086  0.088600        False\n",
       "9        10.0   8.971642  1.065848  0.290376        False"
      ]
     },
     "execution_count": 8,
     "metadata": {},
     "output_type": "execute_result"
    }
   ],
   "source": [
    "explore.hypothesis_test_cmc(train).sort_values('reject_null', ascending = False).head(5)"
   ]
  },
  {
   "cell_type": "markdown",
   "id": "bc635ba3-119f-4e33-8212-1c01bf67461d",
   "metadata": {},
   "source": [
    "## Stephen's EDA & Hypotheses"
   ]
  },
  {
   "cell_type": "markdown",
   "id": "3b316da8-eee5-4484-9b5f-6ff2282c6bb7",
   "metadata": {},
   "source": [
    "<hr style=\"border-top: 10px groove blue; margin-top: 1px; margin-bottom: 1px\">"
   ]
  },
  {
   "cell_type": "markdown",
   "id": "c9455914-07f2-406e-942a-a618c7607947",
   "metadata": {},
   "source": [
    "<a name='q_1'></a>\n",
    "### What effect does the release date have on the price?"
   ]
  },
  {
   "cell_type": "markdown",
   "id": "e7475143-ad89-4010-ae04-133eb846454b",
   "metadata": {
    "tags": []
   },
   "source": [
    "#### Key Takeaway\n",
    "- 1993, 1994 and 1999 have a higher than average price for cards released in those years."
   ]
  },
  {
   "cell_type": "markdown",
   "id": "a96e9298-33ef-482c-9e5f-1b46eba42b3d",
   "metadata": {
    "tags": []
   },
   "source": [
    "### Discussion\n",
    "In charting the USD price as a line graph, it appears that there are spikes in the price in the '90s, and possible in the '20s. In charting mean price per year in a (FIX)"
   ]
  },
  {
   "cell_type": "markdown",
   "id": "2f22bec1-f3b2-42b3-b608-124b3f75bbf3",
   "metadata": {},
   "source": [
    "## Visualization\n",
    "\n",
    "It looks like the mid '90s, just before '00, and post-'20 might have higher prices"
   ]
  },
  {
   "cell_type": "code",
   "execution_count": 9,
   "id": "8d34333e-9326-4abd-ae57-6178c0695353",
   "metadata": {},
   "outputs": [
    {
     "data": {
      "image/png": "[encoded data removed]",
      "text/plain": [
       "<Figure size 720x720 with 1 Axes>"
      ]
     },
     "metadata": {
      "needs_background": "light"
     },
     "output_type": "display_data"
    }
   ],
   "source": [
    "explore.vis_usd_by_released_at(train)"
   ]
  },
  {
   "cell_type": "markdown",
   "id": "e96dfee3-0842-45bd-80ac-78d9663d5f0e",
   "metadata": {},
   "source": [
    "Looks like '93 and '94 have the highest average price, followed by '98 and '99. The spikes in the line graph are not affecting the average price in the year."
   ]
  },
  {
   "cell_type": "code",
   "execution_count": 10,
   "id": "27bc078d-c59d-4765-93a5-b330079c0682",
   "metadata": {},
   "outputs": [
    {
     "data": {
      "image/png": "[encoded data removed]",
      "text/plain": [
       "<Figure size 720x720 with 1 Axes>"
      ]
     },
     "metadata": {
      "needs_background": "light"
     },
     "output_type": "display_data"
    }
   ],
   "source": [
    "explore.vis_usd_by_year(train)"
   ]
  },
  {
   "cell_type": "markdown",
   "id": "9c2fa15d-c31d-4b51-b4b7-6f9c44a614fb",
   "metadata": {},
   "source": [
    "## Hypothesis Testing\n",
    "\n",
    "$H_0$: Year $x$ has a average price per card equal to or less than the general average price.\n",
    "\n",
    "$H_a$: Year $x$ has a average price per card greater than the general average price."
   ]
  },
  {
   "cell_type": "code",
   "execution_count": 11,
   "id": "48d92cf3-0dec-4fa7-bb0a-ec9ab56e12bc",
   "metadata": {},
   "outputs": [
    {
     "data": {
      "text/html": [
       "<div>\n",
       "<style scoped>\n",
       "    .dataframe tbody tr th:only-of-type {\n",
       "        vertical-align: middle;\n",
       "    }\n",
       "\n",
       "    .dataframe tbody tr th {\n",
       "        vertical-align: top;\n",
       "    }\n",
       "\n",
       "    .dataframe thead th {\n",
       "        text-align: right;\n",
       "    }\n",
       "</style>\n",
       "<table border=\"1\" class=\"dataframe\">\n",
       "  <thead>\n",
       "    <tr style=\"text-align: right;\">\n",
       "      <th></th>\n",
       "      <th>year</th>\n",
       "      <th>year_mean</th>\n",
       "      <th>t_stat</th>\n",
       "      <th>p_value</th>\n",
       "      <th>reject_null</th>\n",
       "    </tr>\n",
       "  </thead>\n",
       "  <tbody>\n",
       "    <tr>\n",
       "      <th>24</th>\n",
       "      <td>1994</td>\n",
       "      <td>41.753568</td>\n",
       "      <td>5.076309</td>\n",
       "      <td>4.697974e-07</td>\n",
       "      <td>True</td>\n",
       "    </tr>\n",
       "    <tr>\n",
       "      <th>23</th>\n",
       "      <td>1993</td>\n",
       "      <td>136.695879</td>\n",
       "      <td>9.072537</td>\n",
       "      <td>6.133079e-19</td>\n",
       "      <td>True</td>\n",
       "    </tr>\n",
       "    <tr>\n",
       "      <th>20</th>\n",
       "      <td>1999</td>\n",
       "      <td>11.965388</td>\n",
       "      <td>2.540423</td>\n",
       "      <td>1.119745e-02</td>\n",
       "      <td>True</td>\n",
       "    </tr>\n",
       "    <tr>\n",
       "      <th>0</th>\n",
       "      <td>2017</td>\n",
       "      <td>1.191322</td>\n",
       "      <td>-59.796312</td>\n",
       "      <td>0.000000e+00</td>\n",
       "      <td>False</td>\n",
       "    </tr>\n",
       "    <tr>\n",
       "      <th>1</th>\n",
       "      <td>2001</td>\n",
       "      <td>1.308977</td>\n",
       "      <td>-37.885491</td>\n",
       "      <td>2.464977e-182</td>\n",
       "      <td>False</td>\n",
       "    </tr>\n",
       "  </tbody>\n",
       "</table>\n",
       "</div>"
      ],
      "text/plain": [
       "    year   year_mean     t_stat        p_value  reject_null\n",
       "24  1994   41.753568   5.076309   4.697974e-07         True\n",
       "23  1993  136.695879   9.072537   6.133079e-19         True\n",
       "20  1999   11.965388   2.540423   1.119745e-02         True\n",
       "0   2017    1.191322 -59.796312   0.000000e+00        False\n",
       "1   2001    1.308977 -37.885491  2.464977e-182        False"
      ]
     },
     "execution_count": 11,
     "metadata": {},
     "output_type": "execute_result"
    }
   ],
   "source": [
    "explore.hypothesis_test_years(train).sort_values('reject_null', ascending = False).head(5)"
   ]
  },
  {
   "cell_type": "markdown",
   "id": "7532b4a6-b7f6-49ba-9727-dcdd71473cd5",
   "metadata": {},
   "source": [
    "The null is likely wrong for '93, '99 and '94.  These years have a higher than average price for their cards."
   ]
  },
  {
   "cell_type": "markdown",
   "id": "fd625d2c-e6be-4e4f-8ae7-e9d1590dad3b",
   "metadata": {},
   "source": [
    "<hr style=\"border-top: 10px groove blue; margin-top: 1px; margin-bottom: 1px\">"
   ]
  },
  {
   "cell_type": "markdown",
   "id": "f95dd598-b1e9-4c86-8686-4a9daa82856f",
   "metadata": {
    "tags": []
   },
   "source": [
    "<a name='q_2'></a>\n",
    "What affect does basic card type have on price?"
   ]
  },
  {
   "cell_type": "markdown",
   "id": "3e97d446-fe10-4520-be87-c8b417ba5459",
   "metadata": {
    "tags": []
   },
   "source": [
    "#### Key Takeaway\n",
    "- Land, artifacts, enchantment and legendary are priced higher than other cards"
   ]
  },
  {
   "cell_type": "markdown",
   "id": "fc76c07d-8cce-43c3-a65e-f2edfa8e201f",
   "metadata": {},
   "source": [
    "### Discussion\n",
    "Land, artifact, enchantment and legendary cards have a statistically higher price than other cards. Some further questions to be asked is if these card types have more rares or particular artists.  In addition, it might be worth looking at subsets of some of these."
   ]
  },
  {
   "cell_type": "markdown",
   "id": "aec1246c-d811-4549-b419-8e72ac7c770d",
   "metadata": {},
   "source": [
    "#### Visualization\n",
    "\n",
    "Definitely looks like the card type has an effect."
   ]
  },
  {
   "cell_type": "code",
   "execution_count": 12,
   "id": "ce16df14-4b54-4d2c-b6b7-61226cdb06cf",
   "metadata": {},
   "outputs": [
    {
     "data": {
      "image/png": "[encoded data removed]",
      "text/plain": [
       "<Figure size 720x720 with 1 Axes>"
      ]
     },
     "metadata": {
      "needs_background": "light"
     },
     "output_type": "display_data"
    },
    {
     "data": {
      "text/html": [
       "<div>\n",
       "<style scoped>\n",
       "    .dataframe tbody tr th:only-of-type {\n",
       "        vertical-align: middle;\n",
       "    }\n",
       "\n",
       "    .dataframe tbody tr th {\n",
       "        vertical-align: top;\n",
       "    }\n",
       "\n",
       "    .dataframe thead th {\n",
       "        text-align: right;\n",
       "    }\n",
       "</style>\n",
       "<table border=\"1\" class=\"dataframe\">\n",
       "  <thead>\n",
       "    <tr style=\"text-align: right;\">\n",
       "      <th></th>\n",
       "      <th>count</th>\n",
       "      <th>mean</th>\n",
       "      <th>std</th>\n",
       "      <th>min</th>\n",
       "      <th>25%</th>\n",
       "      <th>50%</th>\n",
       "      <th>75%</th>\n",
       "      <th>max</th>\n",
       "    </tr>\n",
       "    <tr>\n",
       "      <th>card_type</th>\n",
       "      <th></th>\n",
       "      <th></th>\n",
       "      <th></th>\n",
       "      <th></th>\n",
       "      <th></th>\n",
       "      <th></th>\n",
       "      <th></th>\n",
       "      <th></th>\n",
       "    </tr>\n",
       "  </thead>\n",
       "  <tbody>\n",
       "    <tr>\n",
       "      <th>artifact</th>\n",
       "      <td>3891.0</td>\n",
       "      <td>11.059594</td>\n",
       "      <td>95.527098</td>\n",
       "      <td>0.01</td>\n",
       "      <td>0.1200</td>\n",
       "      <td>0.290</td>\n",
       "      <td>1.7900</td>\n",
       "      <td>3099.99</td>\n",
       "    </tr>\n",
       "    <tr>\n",
       "      <th>card</th>\n",
       "      <td>20.0</td>\n",
       "      <td>0.120000</td>\n",
       "      <td>0.089912</td>\n",
       "      <td>0.01</td>\n",
       "      <td>0.0550</td>\n",
       "      <td>0.090</td>\n",
       "      <td>0.1875</td>\n",
       "      <td>0.30</td>\n",
       "    </tr>\n",
       "    <tr>\n",
       "      <th>creature</th>\n",
       "      <td>15127.0</td>\n",
       "      <td>2.840369</td>\n",
       "      <td>31.472724</td>\n",
       "      <td>0.01</td>\n",
       "      <td>0.0700</td>\n",
       "      <td>0.150</td>\n",
       "      <td>0.3900</td>\n",
       "      <td>2499.94</td>\n",
       "    </tr>\n",
       "    <tr>\n",
       "      <th>enchantment</th>\n",
       "      <td>4034.0</td>\n",
       "      <td>7.475025</td>\n",
       "      <td>68.037474</td>\n",
       "      <td>0.01</td>\n",
       "      <td>0.1100</td>\n",
       "      <td>0.260</td>\n",
       "      <td>1.9400</td>\n",
       "      <td>2849.99</td>\n",
       "    </tr>\n",
       "    <tr>\n",
       "      <th>instant</th>\n",
       "      <td>4859.0</td>\n",
       "      <td>5.551062</td>\n",
       "      <td>105.282756</td>\n",
       "      <td>0.01</td>\n",
       "      <td>0.0800</td>\n",
       "      <td>0.170</td>\n",
       "      <td>0.5700</td>\n",
       "      <td>6999.99</td>\n",
       "    </tr>\n",
       "    <tr>\n",
       "      <th>land</th>\n",
       "      <td>4140.0</td>\n",
       "      <td>12.530761</td>\n",
       "      <td>131.352571</td>\n",
       "      <td>0.03</td>\n",
       "      <td>0.1400</td>\n",
       "      <td>0.260</td>\n",
       "      <td>1.4800</td>\n",
       "      <td>6000.00</td>\n",
       "    </tr>\n",
       "    <tr>\n",
       "      <th>legendary</th>\n",
       "      <td>2827.0</td>\n",
       "      <td>9.310007</td>\n",
       "      <td>79.840352</td>\n",
       "      <td>0.01</td>\n",
       "      <td>0.3300</td>\n",
       "      <td>1.510</td>\n",
       "      <td>5.5150</td>\n",
       "      <td>3888.00</td>\n",
       "    </tr>\n",
       "    <tr>\n",
       "      <th>other_type</th>\n",
       "      <td>143.0</td>\n",
       "      <td>2.769161</td>\n",
       "      <td>5.140162</td>\n",
       "      <td>0.05</td>\n",
       "      <td>0.2750</td>\n",
       "      <td>0.790</td>\n",
       "      <td>2.7150</td>\n",
       "      <td>38.14</td>\n",
       "    </tr>\n",
       "    <tr>\n",
       "      <th>plane</th>\n",
       "      <td>120.0</td>\n",
       "      <td>2.065583</td>\n",
       "      <td>1.480464</td>\n",
       "      <td>0.52</td>\n",
       "      <td>1.3475</td>\n",
       "      <td>1.690</td>\n",
       "      <td>2.4250</td>\n",
       "      <td>14.42</td>\n",
       "    </tr>\n",
       "    <tr>\n",
       "      <th>sorcery</th>\n",
       "      <td>4525.0</td>\n",
       "      <td>7.930336</td>\n",
       "      <td>111.240811</td>\n",
       "      <td>0.01</td>\n",
       "      <td>0.1000</td>\n",
       "      <td>0.230</td>\n",
       "      <td>0.9300</td>\n",
       "      <td>5732.99</td>\n",
       "    </tr>\n",
       "    <tr>\n",
       "      <th>token</th>\n",
       "      <td>601.0</td>\n",
       "      <td>1.227304</td>\n",
       "      <td>4.553455</td>\n",
       "      <td>0.02</td>\n",
       "      <td>0.1200</td>\n",
       "      <td>0.220</td>\n",
       "      <td>0.5300</td>\n",
       "      <td>58.99</td>\n",
       "    </tr>\n",
       "    <tr>\n",
       "      <th>vanguard</th>\n",
       "      <td>24.0</td>\n",
       "      <td>31.543750</td>\n",
       "      <td>81.441176</td>\n",
       "      <td>0.36</td>\n",
       "      <td>5.9200</td>\n",
       "      <td>9.665</td>\n",
       "      <td>17.0700</td>\n",
       "      <td>399.97</td>\n",
       "    </tr>\n",
       "  </tbody>\n",
       "</table>\n",
       "</div>"
      ],
      "text/plain": [
       "               count       mean         std   min     25%    50%      75%  \\\n",
       "card_type                                                                   \n",
       "artifact      3891.0  11.059594   95.527098  0.01  0.1200  0.290   1.7900   \n",
       "card            20.0   0.120000    0.089912  0.01  0.0550  0.090   0.1875   \n",
       "creature     15127.0   2.840369   31.472724  0.01  0.0700  0.150   0.3900   \n",
       "enchantment   4034.0   7.475025   68.037474  0.01  0.1100  0.260   1.9400   \n",
       "instant       4859.0   5.551062  105.282756  0.01  0.0800  0.170   0.5700   \n",
       "land          4140.0  12.530761  131.352571  0.03  0.1400  0.260   1.4800   \n",
       "legendary     2827.0   9.310007   79.840352  0.01  0.3300  1.510   5.5150   \n",
       "other_type     143.0   2.769161    5.140162  0.05  0.2750  0.790   2.7150   \n",
       "plane          120.0   2.065583    1.480464  0.52  1.3475  1.690   2.4250   \n",
       "sorcery       4525.0   7.930336  111.240811  0.01  0.1000  0.230   0.9300   \n",
       "token          601.0   1.227304    4.553455  0.02  0.1200  0.220   0.5300   \n",
       "vanguard        24.0  31.543750   81.441176  0.36  5.9200  9.665  17.0700   \n",
       "\n",
       "                 max  \n",
       "card_type             \n",
       "artifact     3099.99  \n",
       "card            0.30  \n",
       "creature     2499.94  \n",
       "enchantment  2849.99  \n",
       "instant      6999.99  \n",
       "land         6000.00  \n",
       "legendary    3888.00  \n",
       "other_type     38.14  \n",
       "plane          14.42  \n",
       "sorcery      5732.99  \n",
       "token          58.99  \n",
       "vanguard      399.97  "
      ]
     },
     "execution_count": 12,
     "metadata": {},
     "output_type": "execute_result"
    }
   ],
   "source": [
    "explore.vis_by_card_type(train)\n",
    "explore.make_card_type_column(train).groupby('card_type').usd.describe()"
   ]
  },
  {
   "cell_type": "markdown",
   "id": "d3906c72-a7fb-463e-9d8f-dd790297fbe2",
   "metadata": {
    "tags": []
   },
   "source": [
    "#### Hypothesis Testing\n",
    "\n",
    "$H_0$: Mean price for card type $x$ is less than or equal to the overall mean price.\n",
    "\n",
    "$H_a$: Mean price for card type $x$ is greater than the overall mean price."
   ]
  },
  {
   "cell_type": "markdown",
   "id": "193a6c7e-2f62-422b-8c80-a83f5eb26d1f",
   "metadata": {},
   "source": [
    "<hr style=\"border-top: 10px groove blue; margin-top: 1px; margin-bottom: 1px\">"
   ]
  },
  {
   "cell_type": "markdown",
   "id": "bc82ca4c-5981-4098-89f2-af6e046e0c58",
   "metadata": {},
   "source": [
    "<a name='q_3'></a>\n",
    "### What effect does the game style (arena etc) have on price?"
   ]
  },
  {
   "cell_type": "markdown",
   "id": "5f495497-ddb9-4881-a732-9a55ddc4359d",
   "metadata": {},
   "source": [
    "#### Key Takeaway\n",
    "- Cards available exclusively in the paper game are more valuable than ones also available in other games."
   ]
  },
  {
   "cell_type": "markdown",
   "id": "431a24fe-daef-465a-a0c8-c61701332584",
   "metadata": {},
   "source": [
    "### Discussion\n",
    "Each card is tested by its inclusion in each game type, and cards that are in the paper game exclusively are more expensive. Inclusion into the other game types appears to lower the value of the card.\n",
    "\n",
    "### Notes\n",
    "The column contains a list of options to make a number of boolean columns to visualize."
   ]
  },
  {
   "cell_type": "markdown",
   "id": "7fd371ed-0ac7-4267-8c49-8d842f252d96",
   "metadata": {},
   "source": [
    "#### Visualization\n",
    "Cards that are in the paper game are definitely more valuable than cards available only in the non-paper game."
   ]
  },
  {
   "cell_type": "code",
   "execution_count": 13,
   "id": "be5033a3-fdcb-4446-b01e-91197200a261",
   "metadata": {},
   "outputs": [
    {
     "data": {
      "text/html": [
       "<div>\n",
       "<style scoped>\n",
       "    .dataframe tbody tr th:only-of-type {\n",
       "        vertical-align: middle;\n",
       "    }\n",
       "\n",
       "    .dataframe tbody tr th {\n",
       "        vertical-align: top;\n",
       "    }\n",
       "\n",
       "    .dataframe thead th {\n",
       "        text-align: right;\n",
       "    }\n",
       "</style>\n",
       "<table border=\"1\" class=\"dataframe\">\n",
       "  <thead>\n",
       "    <tr style=\"text-align: right;\">\n",
       "      <th></th>\n",
       "      <th>card_type</th>\n",
       "      <th>overall_mean</th>\n",
       "      <th>card_type_mean</th>\n",
       "      <th>t_stat</th>\n",
       "      <th>p_value</th>\n",
       "      <th>reject_null</th>\n",
       "    </tr>\n",
       "  </thead>\n",
       "  <tbody>\n",
       "    <tr>\n",
       "      <th>4</th>\n",
       "      <td>artifact</td>\n",
       "      <td>6.433689</td>\n",
       "      <td>11.241445</td>\n",
       "      <td>3.088901</td>\n",
       "      <td>2.023393e-03</td>\n",
       "      <td>True</td>\n",
       "    </tr>\n",
       "    <tr>\n",
       "      <th>5</th>\n",
       "      <td>land</td>\n",
       "      <td>6.433689</td>\n",
       "      <td>12.530761</td>\n",
       "      <td>2.986640</td>\n",
       "      <td>2.837148e-03</td>\n",
       "      <td>True</td>\n",
       "    </tr>\n",
       "    <tr>\n",
       "      <th>6</th>\n",
       "      <td>legendary</td>\n",
       "      <td>6.433689</td>\n",
       "      <td>9.316591</td>\n",
       "      <td>1.918514</td>\n",
       "      <td>5.514653e-02</td>\n",
       "      <td>True</td>\n",
       "    </tr>\n",
       "    <tr>\n",
       "      <th>0</th>\n",
       "      <td>creature</td>\n",
       "      <td>6.433689</td>\n",
       "      <td>2.951802</td>\n",
       "      <td>-13.093473</td>\n",
       "      <td>5.956357e-39</td>\n",
       "      <td>False</td>\n",
       "    </tr>\n",
       "    <tr>\n",
       "      <th>1</th>\n",
       "      <td>instant</td>\n",
       "      <td>6.433689</td>\n",
       "      <td>5.694970</td>\n",
       "      <td>-0.476732</td>\n",
       "      <td>6.335749e-01</td>\n",
       "      <td>False</td>\n",
       "    </tr>\n",
       "    <tr>\n",
       "      <th>2</th>\n",
       "      <td>sorcery</td>\n",
       "      <td>6.433689</td>\n",
       "      <td>8.065635</td>\n",
       "      <td>0.970315</td>\n",
       "      <td>3.319422e-01</td>\n",
       "      <td>False</td>\n",
       "    </tr>\n",
       "    <tr>\n",
       "      <th>3</th>\n",
       "      <td>enchantment</td>\n",
       "      <td>6.433689</td>\n",
       "      <td>7.580113</td>\n",
       "      <td>1.055432</td>\n",
       "      <td>2.912921e-01</td>\n",
       "      <td>False</td>\n",
       "    </tr>\n",
       "    <tr>\n",
       "      <th>7</th>\n",
       "      <td>token</td>\n",
       "      <td>6.433689</td>\n",
       "      <td>1.227304</td>\n",
       "      <td>-28.030601</td>\n",
       "      <td>3.789460e-111</td>\n",
       "      <td>False</td>\n",
       "    </tr>\n",
       "    <tr>\n",
       "      <th>8</th>\n",
       "      <td>plane</td>\n",
       "      <td>6.433689</td>\n",
       "      <td>2.065583</td>\n",
       "      <td>-32.321076</td>\n",
       "      <td>9.222349e-61</td>\n",
       "      <td>False</td>\n",
       "    </tr>\n",
       "    <tr>\n",
       "      <th>9</th>\n",
       "      <td>other_type</td>\n",
       "      <td>6.433689</td>\n",
       "      <td>2.769161</td>\n",
       "      <td>-8.525292</td>\n",
       "      <td>2.040294e-14</td>\n",
       "      <td>False</td>\n",
       "    </tr>\n",
       "    <tr>\n",
       "      <th>10</th>\n",
       "      <td>card</td>\n",
       "      <td>6.433689</td>\n",
       "      <td>0.125789</td>\n",
       "      <td>-310.812944</td>\n",
       "      <td>5.012473e-35</td>\n",
       "      <td>False</td>\n",
       "    </tr>\n",
       "    <tr>\n",
       "      <th>11</th>\n",
       "      <td>vanguard</td>\n",
       "      <td>6.433689</td>\n",
       "      <td>31.543750</td>\n",
       "      <td>1.510460</td>\n",
       "      <td>1.445436e-01</td>\n",
       "      <td>False</td>\n",
       "    </tr>\n",
       "  </tbody>\n",
       "</table>\n",
       "</div>"
      ],
      "text/plain": [
       "      card_type  overall_mean  card_type_mean      t_stat        p_value  \\\n",
       "4      artifact      6.433689       11.241445    3.088901   2.023393e-03   \n",
       "5          land      6.433689       12.530761    2.986640   2.837148e-03   \n",
       "6     legendary      6.433689        9.316591    1.918514   5.514653e-02   \n",
       "0      creature      6.433689        2.951802  -13.093473   5.956357e-39   \n",
       "1       instant      6.433689        5.694970   -0.476732   6.335749e-01   \n",
       "2       sorcery      6.433689        8.065635    0.970315   3.319422e-01   \n",
       "3   enchantment      6.433689        7.580113    1.055432   2.912921e-01   \n",
       "7         token      6.433689        1.227304  -28.030601  3.789460e-111   \n",
       "8         plane      6.433689        2.065583  -32.321076   9.222349e-61   \n",
       "9    other_type      6.433689        2.769161   -8.525292   2.040294e-14   \n",
       "10         card      6.433689        0.125789 -310.812944   5.012473e-35   \n",
       "11     vanguard      6.433689       31.543750    1.510460   1.445436e-01   \n",
       "\n",
       "    reject_null  \n",
       "4          True  \n",
       "5          True  \n",
       "6          True  \n",
       "0         False  \n",
       "1         False  \n",
       "2         False  \n",
       "3         False  \n",
       "7         False  \n",
       "8         False  \n",
       "9         False  \n",
       "10        False  \n",
       "11        False  "
      ]
     },
     "execution_count": 13,
     "metadata": {},
     "output_type": "execute_result"
    }
   ],
   "source": [
    "explore.hypothesis_test_card_type(train).sort_values('reject_null', ascending = False)"
   ]
  },
  {
   "cell_type": "code",
   "execution_count": 14,
   "id": "68de5c14-b57b-416a-90f4-d0608d1f376d",
   "metadata": {},
   "outputs": [
    {
     "data": {
      "image/png": "[encoded data removed]",
      "text/plain": [
       "<Figure size 720x1800 with 3 Axes>"
      ]
     },
     "metadata": {
      "needs_background": "light"
     },
     "output_type": "display_data"
    },
    {
     "data": {
      "image/png": "[encoded data removed]",
      "text/plain": [
       "<Figure size 720x720 with 1 Axes>"
      ]
     },
     "metadata": {
      "needs_background": "light"
     },
     "output_type": "display_data"
    }
   ],
   "source": [
    "explore.vis_game_type(train)\n",
    "explore.vis_game_type_by_combo(train)"
   ]
  },
  {
   "cell_type": "markdown",
   "id": "7ba2b780-d440-4fcc-a2c0-f084ff21b922",
   "metadata": {},
   "source": [
    "#### Hypothesis Testing\n",
    "$H_0$: The mean usd price for cards which are available in game type $x$ is less than or equal to the mean usd price of those not available in game type $x$.\n",
    "\n",
    "$H_a$: The mean usd price for cards which are available in game type $x$ is greater than the mean usd price of those not available in game type $x$.\n",
    "\n",
    "Where $x$ is paper, astral, mtgo, arena, or sega."
   ]
  },
  {
   "cell_type": "code",
   "execution_count": 15,
   "id": "6d130097-28e5-44ab-888d-206abc0bf143",
   "metadata": {},
   "outputs": [
    {
     "data": {
      "text/html": [
       "<div>\n",
       "<style scoped>\n",
       "    .dataframe tbody tr th:only-of-type {\n",
       "        vertical-align: middle;\n",
       "    }\n",
       "\n",
       "    .dataframe tbody tr th {\n",
       "        vertical-align: top;\n",
       "    }\n",
       "\n",
       "    .dataframe thead th {\n",
       "        text-align: right;\n",
       "    }\n",
       "</style>\n",
       "<table border=\"1\" class=\"dataframe\">\n",
       "  <thead>\n",
       "    <tr style=\"text-align: right;\">\n",
       "      <th></th>\n",
       "      <th>game_type</th>\n",
       "      <th>card_count</th>\n",
       "      <th>game_type_mean</th>\n",
       "      <th>t_stat</th>\n",
       "      <th>p_value</th>\n",
       "      <th>reject_null</th>\n",
       "    </tr>\n",
       "  </thead>\n",
       "  <tbody>\n",
       "    <tr>\n",
       "      <th>0</th>\n",
       "      <td>is_arena</td>\n",
       "      <td>5072</td>\n",
       "      <td>1.205419</td>\n",
       "      <td>-87.500291</td>\n",
       "      <td>0.000000</td>\n",
       "      <td>False</td>\n",
       "    </tr>\n",
       "    <tr>\n",
       "      <th>1</th>\n",
       "      <td>is_mtgo</td>\n",
       "      <td>24922</td>\n",
       "      <td>1.787554</td>\n",
       "      <td>-63.769316</td>\n",
       "      <td>0.000000</td>\n",
       "      <td>False</td>\n",
       "    </tr>\n",
       "    <tr>\n",
       "      <th>2</th>\n",
       "      <td>is_paper</td>\n",
       "      <td>39356</td>\n",
       "      <td>6.437399</td>\n",
       "      <td>0.009104</td>\n",
       "      <td>0.992737</td>\n",
       "      <td>False</td>\n",
       "    </tr>\n",
       "  </tbody>\n",
       "</table>\n",
       "</div>"
      ],
      "text/plain": [
       "  game_type  card_count  game_type_mean     t_stat   p_value  reject_null\n",
       "0  is_arena        5072        1.205419 -87.500291  0.000000        False\n",
       "1   is_mtgo       24922        1.787554 -63.769316  0.000000        False\n",
       "2  is_paper       39356        6.437399   0.009104  0.992737        False"
      ]
     },
     "execution_count": 15,
     "metadata": {},
     "output_type": "execute_result"
    }
   ],
   "source": [
    "explore.hypothesis_test_game_type(train).sort_values('reject_null', ascending=False)"
   ]
  },
  {
   "cell_type": "markdown",
   "id": "43361c9e-e53e-4a71-ab6c-1482bf37777e",
   "metadata": {},
   "source": [
    "$H_0$ : The mean usd price for cards which are available $l$ games is less than or equal to the mean usd price of those not available in $l$ games.\n",
    "\n",
    "$H_a$ : The mean usd price for cards which are available $l$ games is greater than the mean usd price of those not available in $l$ games.\n",
    "\n",
    "Where $l$ is one of the following combinations: \n",
    "- 'paper'\n",
    "- 'paper', 'mtgo'\n",
    "- 'arena', 'paper', 'mtgo'\n",
    "- 'mtgo'\n",
    "- 'arena'\n",
    "- 'paper', 'mtgo', 'arena'\n",
    "- 'arena', 'paper'\n",
    "- no combination\n",
    "- 'paper', 'arena', 'mtgo'\n",
    "- 'astral'\n",
    "- 'sega'"
   ]
  },
  {
   "cell_type": "code",
   "execution_count": 16,
   "id": "39bff2a6-d7dd-4287-a12d-ff1650ef8056",
   "metadata": {},
   "outputs": [
    {
     "data": {
      "text/html": [
       "<div>\n",
       "<style scoped>\n",
       "    .dataframe tbody tr th:only-of-type {\n",
       "        vertical-align: middle;\n",
       "    }\n",
       "\n",
       "    .dataframe tbody tr th {\n",
       "        vertical-align: top;\n",
       "    }\n",
       "\n",
       "    .dataframe thead th {\n",
       "        text-align: right;\n",
       "    }\n",
       "</style>\n",
       "<table border=\"1\" class=\"dataframe\">\n",
       "  <thead>\n",
       "    <tr style=\"text-align: right;\">\n",
       "      <th></th>\n",
       "      <th>games_combination</th>\n",
       "      <th>card_count</th>\n",
       "      <th>in_sample_mean</th>\n",
       "      <th>t_stat</th>\n",
       "      <th>p_value</th>\n",
       "      <th>reject_null</th>\n",
       "    </tr>\n",
       "  </thead>\n",
       "  <tbody>\n",
       "    <tr>\n",
       "      <th>1</th>\n",
       "      <td>paper</td>\n",
       "      <td>14132</td>\n",
       "      <td>15.018361</td>\n",
       "      <td>7.490320</td>\n",
       "      <td>7.276010e-14</td>\n",
       "      <td>True</td>\n",
       "    </tr>\n",
       "    <tr>\n",
       "      <th>0</th>\n",
       "      <td>paper mtgo</td>\n",
       "      <td>20152</td>\n",
       "      <td>1.927415</td>\n",
       "      <td>-49.955943</td>\n",
       "      <td>0.000000e+00</td>\n",
       "      <td>False</td>\n",
       "    </tr>\n",
       "    <tr>\n",
       "      <th>2</th>\n",
       "      <td>arena paper mtgo</td>\n",
       "      <td>4163</td>\n",
       "      <td>1.202358</td>\n",
       "      <td>-78.480391</td>\n",
       "      <td>0.000000e+00</td>\n",
       "      <td>False</td>\n",
       "    </tr>\n",
       "    <tr>\n",
       "      <th>3</th>\n",
       "      <td>paper mtgo arena</td>\n",
       "      <td>572</td>\n",
       "      <td>1.386755</td>\n",
       "      <td>-26.366627</td>\n",
       "      <td>2.007565e-104</td>\n",
       "      <td>False</td>\n",
       "    </tr>\n",
       "    <tr>\n",
       "      <th>4</th>\n",
       "      <td>arena paper</td>\n",
       "      <td>302</td>\n",
       "      <td>0.530062</td>\n",
       "      <td>-58.087016</td>\n",
       "      <td>4.910872e-172</td>\n",
       "      <td>False</td>\n",
       "    </tr>\n",
       "    <tr>\n",
       "      <th>5</th>\n",
       "      <td></td>\n",
       "      <td>61</td>\n",
       "      <td>3.985574</td>\n",
       "      <td>-3.507827</td>\n",
       "      <td>8.626413e-04</td>\n",
       "      <td>False</td>\n",
       "    </tr>\n",
       "    <tr>\n",
       "      <th>6</th>\n",
       "      <td>paper arena mtgo</td>\n",
       "      <td>35</td>\n",
       "      <td>4.466000</td>\n",
       "      <td>-1.991392</td>\n",
       "      <td>5.452106e-02</td>\n",
       "      <td>False</td>\n",
       "    </tr>\n",
       "  </tbody>\n",
       "</table>\n",
       "</div>"
      ],
      "text/plain": [
       "  games_combination  card_count  in_sample_mean     t_stat        p_value  \\\n",
       "1             paper       14132       15.018361   7.490320   7.276010e-14   \n",
       "0        paper mtgo       20152        1.927415 -49.955943   0.000000e+00   \n",
       "2  arena paper mtgo        4163        1.202358 -78.480391   0.000000e+00   \n",
       "3  paper mtgo arena         572        1.386755 -26.366627  2.007565e-104   \n",
       "4       arena paper         302        0.530062 -58.087016  4.910872e-172   \n",
       "5                            61        3.985574  -3.507827   8.626413e-04   \n",
       "6  paper arena mtgo          35        4.466000  -1.991392   5.452106e-02   \n",
       "\n",
       "   reject_null  \n",
       "1         True  \n",
       "0        False  \n",
       "2        False  \n",
       "3        False  \n",
       "4        False  \n",
       "5        False  \n",
       "6        False  "
      ]
     },
     "execution_count": 16,
     "metadata": {},
     "output_type": "execute_result"
    }
   ],
   "source": [
    "explore.hypothesis_test_game_type_combinations(train).sort_values('reject_null', ascending=False)"
   ]
  },
  {
   "cell_type": "markdown",
   "id": "39ae40c3-bcd3-4e43-90af-f5e3e0cf305c",
   "metadata": {},
   "source": [
    "<hr style=\"border-top: 10px groove blue; margin-top: 1px; margin-bottom: 1px\">"
   ]
  },
  {
   "cell_type": "markdown",
   "id": "8399fa80-a148-4520-bca4-7d5793e3ced4",
   "metadata": {
    "tags": []
   },
   "source": [
    "<a name='q_4'></a>\n",
    "### What is the overlap between card types and rarity?"
   ]
  },
  {
   "cell_type": "markdown",
   "id": "78226423-65db-4911-9b5d-43266f81d25a",
   "metadata": {},
   "source": [
    "#### Key Takeaway\n",
    "- Certain combinations of rarity and card type are more valuable than others; for example, rare enchantments are more valuable--but an enchantment card is not above average by itself."
   ]
  },
  {
   "cell_type": "markdown",
   "id": "ab0cb884-fc54-4fab-8a4c-1c4fdea95361",
   "metadata": {
    "tags": []
   },
   "source": [
    "### Discussion\n",
    "\n",
    "USD price is only significant for artifact, land and legendary; however, when some cards are also a certain rarity, then they become valuable.  This indicates that these two columns should both be used in the model together to try to capture the more valuable cards."
   ]
  },
  {
   "cell_type": "markdown",
   "id": "90b31b93-1f8d-4ec9-b892-eab21230c113",
   "metadata": {},
   "source": [
    "#### Visualization\n",
    "Rare and mythic cards are the most expensive.  However, there are not very many mythic cards."
   ]
  },
  {
   "cell_type": "code",
   "execution_count": 17,
   "id": "ce9364bb-ee8a-4f6f-8749-e3da2c9128fa",
   "metadata": {},
   "outputs": [
    {
     "data": {
      "image/png": "[encoded data removed]",
      "text/plain": [
       "<Figure size 720x720 with 1 Axes>"
      ]
     },
     "metadata": {
      "needs_background": "light"
     },
     "output_type": "display_data"
    }
   ],
   "source": [
    "explore.viz_rarity_price(train)"
   ]
  },
  {
   "cell_type": "markdown",
   "id": "9d2a5ff5-4ced-4455-b7d6-9abe4b184e93",
   "metadata": {},
   "source": [
    "It looks like for mythic tends to have more legendary.  Creatures are more represented in the other card types. Since the uncommon, rare and mythic cards are more expensive, is there a difference in the prices of the different card types?"
   ]
  },
  {
   "cell_type": "code",
   "execution_count": 18,
   "id": "0ea20847-8c50-49c8-a63f-846452273fec",
   "metadata": {},
   "outputs": [
    {
     "data": {
      "image/png": "[encoded data removed]",
      "text/plain": [
       "<Figure size 720x720 with 1 Axes>"
      ]
     },
     "metadata": {
      "needs_background": "light"
     },
     "output_type": "display_data"
    }
   ],
   "source": [
    "explore.viz_card_type_rarity(train)"
   ]
  },
  {
   "cell_type": "markdown",
   "id": "b7e2854c-7b11-44b8-acf0-afac4f04977c",
   "metadata": {},
   "source": [
    "Within the most expensive rarity types, land and artifact card types were still more expensive."
   ]
  },
  {
   "cell_type": "code",
   "execution_count": 19,
   "id": "58522071-56ad-45b8-b696-a3bae3b48f86",
   "metadata": {},
   "outputs": [
    {
     "data": {
      "image/png": "[encoded data removed]",
      "text/plain": [
       "<Figure size 720x720 with 1 Axes>"
      ]
     },
     "metadata": {
      "needs_background": "light"
     },
     "output_type": "display_data"
    }
   ],
   "source": [
    "explore.viz_rare_uncommon_card_type_prices(train)"
   ]
  },
  {
   "cell_type": "markdown",
   "id": "df175899-a3b0-4288-89d1-a9831ef273ed",
   "metadata": {},
   "source": [
    "#### Hypothesis Testing\n",
    "$H_0$: Cards of $raritytype$ and $cardtype$ have a mean value less than or equal to the overall card mean value.\n",
    "\n",
    "$H_a$: Cards of $raritytype$ and $cardtype$ have a mean value greater than the overall card mean value.\n",
    "\n",
    "Where $raritytype$ is one of 'rare', 'uncommon', 'mythic', and $cardtype$ is any basic card type from the `card_type` columns."
   ]
  },
  {
   "cell_type": "code",
   "execution_count": 20,
   "id": "fdbff542-9ae2-40f9-9497-a0bc8948950e",
   "metadata": {},
   "outputs": [
    {
     "data": {
      "text/html": [
       "<div>\n",
       "<style scoped>\n",
       "    .dataframe tbody tr th:only-of-type {\n",
       "        vertical-align: middle;\n",
       "    }\n",
       "\n",
       "    .dataframe tbody tr th {\n",
       "        vertical-align: top;\n",
       "    }\n",
       "\n",
       "    .dataframe thead th {\n",
       "        text-align: right;\n",
       "    }\n",
       "</style>\n",
       "<table border=\"1\" class=\"dataframe\">\n",
       "  <thead>\n",
       "    <tr style=\"text-align: right;\">\n",
       "      <th></th>\n",
       "      <th>rarity_type</th>\n",
       "      <th>card_type</th>\n",
       "      <th>overall_mean</th>\n",
       "      <th>subgroup_mean</th>\n",
       "      <th>t_stat</th>\n",
       "      <th>p_value</th>\n",
       "      <th>reject_null</th>\n",
       "    </tr>\n",
       "  </thead>\n",
       "  <tbody>\n",
       "    <tr>\n",
       "      <th>2</th>\n",
       "      <td>rare</td>\n",
       "      <td>land</td>\n",
       "      <td>6.433689</td>\n",
       "      <td>45.751851</td>\n",
       "      <td>4.609644</td>\n",
       "      <td>4.584154e-06</td>\n",
       "      <td>True</td>\n",
       "    </tr>\n",
       "    <tr>\n",
       "      <th>3</th>\n",
       "      <td>rare</td>\n",
       "      <td>artifact</td>\n",
       "      <td>6.433689</td>\n",
       "      <td>23.564593</td>\n",
       "      <td>4.209475</td>\n",
       "      <td>2.719814e-05</td>\n",
       "      <td>True</td>\n",
       "    </tr>\n",
       "    <tr>\n",
       "      <th>5</th>\n",
       "      <td>rare</td>\n",
       "      <td>enchantment</td>\n",
       "      <td>6.433689</td>\n",
       "      <td>14.174143</td>\n",
       "      <td>2.765816</td>\n",
       "      <td>5.748335e-03</td>\n",
       "      <td>True</td>\n",
       "    </tr>\n",
       "    <tr>\n",
       "      <th>6</th>\n",
       "      <td>rare</td>\n",
       "      <td>legendary</td>\n",
       "      <td>6.433689</td>\n",
       "      <td>11.543221</td>\n",
       "      <td>1.800819</td>\n",
       "      <td>7.193407e-02</td>\n",
       "      <td>True</td>\n",
       "    </tr>\n",
       "    <tr>\n",
       "      <th>25</th>\n",
       "      <td>mythic</td>\n",
       "      <td>enchantment</td>\n",
       "      <td>6.433689</td>\n",
       "      <td>12.280000</td>\n",
       "      <td>2.884459</td>\n",
       "      <td>4.894132e-03</td>\n",
       "      <td>True</td>\n",
       "    </tr>\n",
       "    <tr>\n",
       "      <th>24</th>\n",
       "      <td>mythic</td>\n",
       "      <td>instant</td>\n",
       "      <td>6.433689</td>\n",
       "      <td>14.350465</td>\n",
       "      <td>2.030992</td>\n",
       "      <td>4.861689e-02</td>\n",
       "      <td>True</td>\n",
       "    </tr>\n",
       "    <tr>\n",
       "      <th>23</th>\n",
       "      <td>mythic</td>\n",
       "      <td>artifact</td>\n",
       "      <td>6.433689</td>\n",
       "      <td>26.505000</td>\n",
       "      <td>4.598121</td>\n",
       "      <td>1.173936e-05</td>\n",
       "      <td>True</td>\n",
       "    </tr>\n",
       "    <tr>\n",
       "      <th>20</th>\n",
       "      <td>mythic</td>\n",
       "      <td>land</td>\n",
       "      <td>6.433689</td>\n",
       "      <td>31.773333</td>\n",
       "      <td>6.324940</td>\n",
       "      <td>6.557570e-07</td>\n",
       "      <td>True</td>\n",
       "    </tr>\n",
       "    <tr>\n",
       "      <th>19</th>\n",
       "      <td>mythic</td>\n",
       "      <td>legendary</td>\n",
       "      <td>6.433689</td>\n",
       "      <td>8.725692</td>\n",
       "      <td>5.351288</td>\n",
       "      <td>1.081975e-07</td>\n",
       "      <td>True</td>\n",
       "    </tr>\n",
       "    <tr>\n",
       "      <th>1</th>\n",
       "      <td>rare</td>\n",
       "      <td>sorcery</td>\n",
       "      <td>6.433689</td>\n",
       "      <td>17.913771</td>\n",
       "      <td>2.536849</td>\n",
       "      <td>1.127783e-02</td>\n",
       "      <td>True</td>\n",
       "    </tr>\n",
       "    <tr>\n",
       "      <th>0</th>\n",
       "      <td>rare</td>\n",
       "      <td>creature</td>\n",
       "      <td>6.433689</td>\n",
       "      <td>6.107988</td>\n",
       "      <td>-0.396551</td>\n",
       "      <td>6.917199e-01</td>\n",
       "      <td>False</td>\n",
       "    </tr>\n",
       "    <tr>\n",
       "      <th>17</th>\n",
       "      <td>uncommon</td>\n",
       "      <td>land</td>\n",
       "      <td>6.433689</td>\n",
       "      <td>4.830099</td>\n",
       "      <td>-0.560365</td>\n",
       "      <td>5.754092e-01</td>\n",
       "      <td>False</td>\n",
       "    </tr>\n",
       "    <tr>\n",
       "      <th>26</th>\n",
       "      <td>mythic</td>\n",
       "      <td>card</td>\n",
       "      <td>6.433689</td>\n",
       "      <td>0.236667</td>\n",
       "      <td>-178.070121</td>\n",
       "      <td>3.153533e-05</td>\n",
       "      <td>False</td>\n",
       "    </tr>\n",
       "    <tr>\n",
       "      <th>22</th>\n",
       "      <td>mythic</td>\n",
       "      <td>sorcery</td>\n",
       "      <td>6.433689</td>\n",
       "      <td>7.410336</td>\n",
       "      <td>0.789483</td>\n",
       "      <td>4.310928e-01</td>\n",
       "      <td>False</td>\n",
       "    </tr>\n",
       "    <tr>\n",
       "      <th>21</th>\n",
       "      <td>mythic</td>\n",
       "      <td>creature</td>\n",
       "      <td>6.433689</td>\n",
       "      <td>7.221172</td>\n",
       "      <td>1.542001</td>\n",
       "      <td>1.237365e-01</td>\n",
       "      <td>False</td>\n",
       "    </tr>\n",
       "  </tbody>\n",
       "</table>\n",
       "</div>"
      ],
      "text/plain": [
       "   rarity_type    card_type  overall_mean  subgroup_mean      t_stat  \\\n",
       "2         rare         land      6.433689      45.751851    4.609644   \n",
       "3         rare     artifact      6.433689      23.564593    4.209475   \n",
       "5         rare  enchantment      6.433689      14.174143    2.765816   \n",
       "6         rare    legendary      6.433689      11.543221    1.800819   \n",
       "25      mythic  enchantment      6.433689      12.280000    2.884459   \n",
       "24      mythic      instant      6.433689      14.350465    2.030992   \n",
       "23      mythic     artifact      6.433689      26.505000    4.598121   \n",
       "20      mythic         land      6.433689      31.773333    6.324940   \n",
       "19      mythic    legendary      6.433689       8.725692    5.351288   \n",
       "1         rare      sorcery      6.433689      17.913771    2.536849   \n",
       "0         rare     creature      6.433689       6.107988   -0.396551   \n",
       "17    uncommon         land      6.433689       4.830099   -0.560365   \n",
       "26      mythic         card      6.433689       0.236667 -178.070121   \n",
       "22      mythic      sorcery      6.433689       7.410336    0.789483   \n",
       "21      mythic     creature      6.433689       7.221172    1.542001   \n",
       "\n",
       "         p_value  reject_null  \n",
       "2   4.584154e-06         True  \n",
       "3   2.719814e-05         True  \n",
       "5   5.748335e-03         True  \n",
       "6   7.193407e-02         True  \n",
       "25  4.894132e-03         True  \n",
       "24  4.861689e-02         True  \n",
       "23  1.173936e-05         True  \n",
       "20  6.557570e-07         True  \n",
       "19  1.081975e-07         True  \n",
       "1   1.127783e-02         True  \n",
       "0   6.917199e-01        False  \n",
       "17  5.754092e-01        False  \n",
       "26  3.153533e-05        False  \n",
       "22  4.310928e-01        False  \n",
       "21  1.237365e-01        False  "
      ]
     },
     "execution_count": 20,
     "metadata": {},
     "output_type": "execute_result"
    }
   ],
   "source": [
    "explore.rarity_card_type_hypothesis_tests(train).sort_values('reject_null', ascending=False).head(15)"
   ]
  },
  {
   "cell_type": "markdown",
   "id": "e830dde9-c1a4-4aa0-a1c4-b01e1eaf6981",
   "metadata": {},
   "source": [
    "<hr style=\"border-top: 10px groove blue; margin-top: 1px; margin-bottom: 1px\">"
   ]
  },
  {
   "cell_type": "markdown",
   "id": "784dc0c0-8c99-4f6b-ad59-3a4af487ab71",
   "metadata": {
    "tags": []
   },
   "source": [
    "<a name='q_5'></a>\n",
    "### What effect does lang have on the price?"
   ]
  },
  {
   "cell_type": "markdown",
   "id": "65047eee-56c8-4cde-aa91-add9e7a57302",
   "metadata": {},
   "source": [
    "#### Key Takeaways\n",
    "(Fix)"
   ]
  },
  {
   "cell_type": "markdown",
   "id": "daf8e9fd-c4a8-4d03-8007-0c9ad08a33aa",
   "metadata": {
    "tags": []
   },
   "source": [
    "### Discussion\n",
    "(Fix)"
   ]
  },
  {
   "cell_type": "markdown",
   "id": "cadd829f-8cc0-4ba6-8d5c-2ab8b9a113ec",
   "metadata": {},
   "source": [
    "#### Visualization\n",
    "It looks like the French cards are the most expensive."
   ]
  },
  {
   "cell_type": "code",
   "execution_count": 21,
   "id": "1d7f3686-fdda-4286-820b-4c2efa170d16",
   "metadata": {},
   "outputs": [
    {
     "data": {
      "image/png": "[encoded data removed]",
      "text/plain": [
       "<Figure size 720x720 with 1 Axes>"
      ]
     },
     "metadata": {
      "needs_background": "light"
     },
     "output_type": "display_data"
    }
   ],
   "source": [
    "explore.viz_lang_column_usd(train)"
   ]
  },
  {
   "cell_type": "markdown",
   "id": "325b7d05-8e72-4fc9-9f77-9e4574a4917e",
   "metadata": {},
   "source": [
    "#### Hypothesis Testing\n",
    "$H_0$: (Fix)\n",
    "\n",
    "$H_a$: (Fix)"
   ]
  },
  {
   "cell_type": "code",
   "execution_count": 22,
   "id": "d18cc20d-b2be-40ff-b687-ecd41871f284",
   "metadata": {},
   "outputs": [
    {
     "data": {
      "text/html": [
       "<div>\n",
       "<style scoped>\n",
       "    .dataframe tbody tr th:only-of-type {\n",
       "        vertical-align: middle;\n",
       "    }\n",
       "\n",
       "    .dataframe tbody tr th {\n",
       "        vertical-align: top;\n",
       "    }\n",
       "\n",
       "    .dataframe thead th {\n",
       "        text-align: right;\n",
       "    }\n",
       "</style>\n",
       "<table border=\"1\" class=\"dataframe\">\n",
       "  <thead>\n",
       "    <tr style=\"text-align: right;\">\n",
       "      <th></th>\n",
       "      <th>langauge</th>\n",
       "      <th>overall_mean</th>\n",
       "      <th>legality_mean</th>\n",
       "      <th>t_value</th>\n",
       "      <th>p_value</th>\n",
       "      <th>reject_null</th>\n",
       "    </tr>\n",
       "  </thead>\n",
       "  <tbody>\n",
       "    <tr>\n",
       "      <th>1</th>\n",
       "      <td>fr</td>\n",
       "      <td>6.433689</td>\n",
       "      <td>47.988393</td>\n",
       "      <td>2.507406</td>\n",
       "      <td>1.360934e-02</td>\n",
       "      <td>True</td>\n",
       "    </tr>\n",
       "    <tr>\n",
       "      <th>3</th>\n",
       "      <td>es</td>\n",
       "      <td>6.433689</td>\n",
       "      <td>12.751308</td>\n",
       "      <td>3.299197</td>\n",
       "      <td>1.253594e-03</td>\n",
       "      <td>True</td>\n",
       "    </tr>\n",
       "    <tr>\n",
       "      <th>0</th>\n",
       "      <td>en</td>\n",
       "      <td>6.433689</td>\n",
       "      <td>6.292161</td>\n",
       "      <td>-0.346722</td>\n",
       "      <td>7.288024e-01</td>\n",
       "      <td>False</td>\n",
       "    </tr>\n",
       "    <tr>\n",
       "      <th>2</th>\n",
       "      <td>ja</td>\n",
       "      <td>6.433689</td>\n",
       "      <td>7.105481</td>\n",
       "      <td>0.381300</td>\n",
       "      <td>7.037661e-01</td>\n",
       "      <td>False</td>\n",
       "    </tr>\n",
       "    <tr>\n",
       "      <th>4</th>\n",
       "      <td>zhs</td>\n",
       "      <td>6.433689</td>\n",
       "      <td>0.714286</td>\n",
       "      <td>-24.062587</td>\n",
       "      <td>8.941103e-20</td>\n",
       "      <td>False</td>\n",
       "    </tr>\n",
       "    <tr>\n",
       "      <th>5</th>\n",
       "      <td>it</td>\n",
       "      <td>6.433689</td>\n",
       "      <td>15.722692</td>\n",
       "      <td>1.340509</td>\n",
       "      <td>1.921353e-01</td>\n",
       "      <td>False</td>\n",
       "    </tr>\n",
       "    <tr>\n",
       "      <th>6</th>\n",
       "      <td>ph</td>\n",
       "      <td>6.433689</td>\n",
       "      <td>11.755000</td>\n",
       "      <td>1.031976</td>\n",
       "      <td>3.779905e-01</td>\n",
       "      <td>False</td>\n",
       "    </tr>\n",
       "  </tbody>\n",
       "</table>\n",
       "</div>"
      ],
      "text/plain": [
       "  langauge  overall_mean  legality_mean    t_value       p_value  reject_null\n",
       "1       fr      6.433689      47.988393   2.507406  1.360934e-02         True\n",
       "3       es      6.433689      12.751308   3.299197  1.253594e-03         True\n",
       "0       en      6.433689       6.292161  -0.346722  7.288024e-01        False\n",
       "2       ja      6.433689       7.105481   0.381300  7.037661e-01        False\n",
       "4      zhs      6.433689       0.714286 -24.062587  8.941103e-20        False\n",
       "5       it      6.433689      15.722692   1.340509  1.921353e-01        False\n",
       "6       ph      6.433689      11.755000   1.031976  3.779905e-01        False"
      ]
     },
     "execution_count": 22,
     "metadata": {},
     "output_type": "execute_result"
    }
   ],
   "source": [
    "explore.lang_hypothesis_test(train).sort_values('reject_null', ascending=False)"
   ]
  },
  {
   "cell_type": "markdown",
   "id": "76365231-c10e-4167-9a86-6783c4c23d95",
   "metadata": {
    "tags": []
   },
   "source": [
    "## David's EDA & Hypotheses"
   ]
  },
  {
   "cell_type": "markdown",
   "id": "cc73e5e9-2fbb-4aee-8e62-657526b79874",
   "metadata": {},
   "source": [
    "<hr style=\"border-top: 10px groove blue; margin-top: 1px; margin-bottom: 1px\">"
   ]
  },
  {
   "cell_type": "markdown",
   "id": "487139d2-4101-40f8-9270-4a1f12b27b02",
   "metadata": {
    "tags": []
   },
   "source": [
    "<a name='q_1'></a>\n",
    "### Does the artist have any effect on the price of the card?"
   ]
  },
  {
   "cell_type": "markdown",
   "id": "1e71e1da-af80-47e0-b394-15cc8019a773",
   "metadata": {},
   "source": [
    "#### Key Takeaways\n",
    "- The amount of cards created by and individual artist is not equal to the artist value. \n",
    "- In the charts, artist Jon Avon created the most cards but the artist Christopher Rush created the most expensive card (Black Lotus)"
   ]
  },
  {
   "cell_type": "markdown",
   "id": "b2244ffb-583d-4361-b8ee-0d6ae0595c57",
   "metadata": {
    "tags": []
   },
   "source": [
    "### Discussion\n",
    "While some artist have created more cards then others, it appears that the amount of cards created is not equal to the value of the cards."
   ]
  },
  {
   "cell_type": "markdown",
   "id": "e052efe0-6fe9-4806-9ff4-c523924991e8",
   "metadata": {
    "tags": []
   },
   "source": [
    "#### Visualization\n",
    "It looks like the mid '90s, just before '00, and post-'20 might have higher prices.\n"
   ]
  },
  {
   "cell_type": "code",
   "execution_count": 23,
   "id": "32e4c47c-09cc-41a5-86cd-a3361cf1c0fe",
   "metadata": {},
   "outputs": [
    {
     "data": {
      "image/png": "[encoded data removed]",
      "text/plain": [
       "<Figure size 720x720 with 1 Axes>"
      ]
     },
     "metadata": {
      "needs_background": "light"
     },
     "output_type": "display_data"
    }
   ],
   "source": [
    "# Bar plot to show Artist and USD price, for top artist\n",
    "explore.vis_artist_by_usd(train)"
   ]
  },
  {
   "cell_type": "code",
   "execution_count": 24,
   "id": "66a9db7c-d415-4107-8a0c-f73f483bde91",
   "metadata": {},
   "outputs": [
    {
     "data": {
      "image/png": "[encoded data removed]",
      "text/plain": [
       "<Figure size 720x720 with 1 Axes>"
      ]
     },
     "metadata": {
      "needs_background": "light"
     },
     "output_type": "display_data"
    }
   ],
   "source": [
    "# Median price for all cards based on Rarity and USD price\n",
    "explore.vis_rarity_by_usd(train)"
   ]
  },
  {
   "cell_type": "markdown",
   "id": "d6fc97ac-0262-4dcd-bff9-57c4dbc28d1b",
   "metadata": {},
   "source": [
    "#### Hypothesis Testing\n",
    "$H_0$: The amount of cards created is equal to the artist value.\n",
    "\n",
    "$H_a$: The amount of cards created is not equal to the artist value."
   ]
  },
  {
   "cell_type": "markdown",
   "id": "2abc4f8b-380f-439c-b067-82512a88c073",
   "metadata": {},
   "source": [
    "(Fix by adding statistical test or move visualizations down here?)"
   ]
  },
  {
   "cell_type": "markdown",
   "id": "b04c8932-eff3-4ae3-b899-efaf7564e962",
   "metadata": {},
   "source": [
    "<hr style=\"border-top: 10px groove blue; margin-top: 1px; margin-bottom: 1px\">"
   ]
  },
  {
   "cell_type": "markdown",
   "id": "55620647-e964-4cd8-bb2e-7683f80ca643",
   "metadata": {
    "tags": []
   },
   "source": [
    "<a name='q_2'></a>\n",
    "### Does the Rarity of the card have any effect on the card price?"
   ]
  },
  {
   "cell_type": "markdown",
   "id": "d51d1bca-b7d5-43ad-a177-1f20a6723679",
   "metadata": {},
   "source": [
    "#### Key Takeaways\n",
    "- The rarity of cards is not the total indicator of the price. \n",
    "- In the charts while uncommon there are some non-rare card in the high value price range."
   ]
  },
  {
   "cell_type": "markdown",
   "id": "98b309c5-ba10-49cb-a9c3-b54602fc567e",
   "metadata": {
    "tags": []
   },
   "source": [
    "### Discussion\n",
    "The rarity of the card and Artist have no effect on the card price. Will need more information in the future to see if higher price cards are more affected by tournament play and age of the card."
   ]
  },
  {
   "cell_type": "markdown",
   "id": "b4fd9845-804c-4398-ae47-e5d98bf98b43",
   "metadata": {},
   "source": [
    "#### Visualization\n",
    "\n",
    "Rarity of the cards has some --- on the value of the card more analysis more information is need to tell if it is a predictor of the card price."
   ]
  },
  {
   "cell_type": "code",
   "execution_count": 25,
   "id": "c7bba3ad-b9fb-4313-9c44-113dd36f9400",
   "metadata": {},
   "outputs": [
    {
     "data": {
      "image/png": "[encoded data removed]",
      "text/plain": [
       "<Figure size 720x720 with 1 Axes>"
      ]
     },
     "metadata": {
      "needs_background": "light"
     },
     "output_type": "display_data"
    }
   ],
   "source": [
    "# Bar plot to show Artist, USD price and top 60 cards in the rarity category\n",
    "explore.vis_artist_rarity_usd(train)"
   ]
  },
  {
   "cell_type": "markdown",
   "id": "16e9a144-6397-4f5f-9798-ebd0d6d57906",
   "metadata": {
    "tags": []
   },
   "source": [
    "#### Hypothesis Testing\n",
    "\n",
    "$H_0$: The artist and rarity of cards is equal to price.\n",
    "\n",
    "$H_a$: The artist and rarity of cards is not equal to price."
   ]
  },
  {
   "cell_type": "markdown",
   "id": "b7749e25-7ae3-4471-bb6a-8f03f22ca958",
   "metadata": {},
   "source": [
    "(Fix by adding statistical test or move visualizations down here?)"
   ]
  },
  {
   "cell_type": "markdown",
   "id": "1fb27a7e-859b-4f4d-8950-8213504a89ea",
   "metadata": {},
   "source": [
    "<hr style=\"border-top: 10px groove blue; margin-top: 1px; margin-bottom: 1px\">"
   ]
  },
  {
   "cell_type": "markdown",
   "id": "918bc6ba-8d8c-494d-af93-e2820204d381",
   "metadata": {
    "tags": []
   },
   "source": [
    "<a name='q_3'></a>\n",
    "### Does the set type and rarity of the cards affect the USD price?"
   ]
  },
  {
   "cell_type": "markdown",
   "id": "2ee2e04d-0de3-4d45-ae3a-ce73070bf24d",
   "metadata": {},
   "source": [
    "#### Key Takeaways\n",
    "- The set type and rarity of cards is not equal to price. \n",
    "- Some set types are older so we would have to evaluate the category to better understand this hypothesis.\n",
    "- Rare cards are the most expensive regardless of set type\n",
    "- In the charts there are only a few none rare cards in the top 100 high value price range."
   ]
  },
  {
   "cell_type": "markdown",
   "id": "1f5e0573-fc90-4167-8bff-0246b50e89b4",
   "metadata": {
    "tags": []
   },
   "source": [
    "### Discussion\n",
    "\n",
    "While set type and rarity of the card do have some effect on the card's value more information is needed to see if this determines the value.\n",
    "\n",
    "From ANOVA analysis, we know that set_type differences are statistically significant, but ANOVA does not tell which set_type are significantly different from each other. To know the pairs of significant different treatments, we will perform multiple pairwise comparison (post hoc comparison) analysis for all unplanned comparison using Tukey’s honestly significantly differenced (HSD) test."
   ]
  },
  {
   "cell_type": "markdown",
   "id": "3c146a3f-195e-4360-833c-32cae4d96846",
   "metadata": {},
   "source": [
    "#### Visualization\n",
    "Rarity of the cards has some --- (fix?) on the value of the card more analysis more information is need to tell if it is a predictor of the card price."
   ]
  },
  {
   "cell_type": "code",
   "execution_count": 26,
   "id": "011fc7ee-a5ba-41f0-aa56-71c40bc9c62a",
   "metadata": {},
   "outputs": [
    {
     "data": {
      "image/png": "[encoded data removed]",
      "text/plain": [
       "<Figure size 720x720 with 1 Axes>"
      ]
     },
     "metadata": {
      "needs_background": "light"
     },
     "output_type": "display_data"
    }
   ],
   "source": [
    "# Most expensive cards by set type.\n",
    "explore.viz_expensive_cards_by_set_type(train)"
   ]
  },
  {
   "cell_type": "code",
   "execution_count": 27,
   "id": "95acf9b1-f9be-4e1b-9458-340bf2bf3cba",
   "metadata": {},
   "outputs": [
    {
     "data": {
      "image/png": "[encoded data removed]",
      "text/plain": [
       "<Figure size 720x720 with 1 Axes>"
      ]
     },
     "metadata": {
      "needs_background": "light"
     },
     "output_type": "display_data"
    }
   ],
   "source": [
    "# The top 100 cards by set type and rarity\n",
    "explore.usd_rarity_set_type_total(train)"
   ]
  },
  {
   "cell_type": "markdown",
   "id": "cb1ea60a-0b9e-4817-ba0d-eb359e42966c",
   "metadata": {
    "tags": []
   },
   "source": [
    "#### Hypothesis Testing\n",
    "$H_0$: The set type and rarity of cards is equal to the price. \n",
    "\n",
    "$H_A$: The set type and rarity of cards is not equal to the price."
   ]
  },
  {
   "cell_type": "markdown",
   "id": "3d35f3db-0fc7-4ccd-a1f0-ea4e9eb8bf5f",
   "metadata": {},
   "source": [
    "(Fix by adding statistical test or move visualizations down here?)"
   ]
  },
  {
   "cell_type": "markdown",
   "id": "c85bf472-999d-4cdd-bad7-0a81840b70ea",
   "metadata": {
    "tags": []
   },
   "source": [
    "## Key takeaway\n",
    "- Rare cards are the most expensive regardless of set_type\n",
    "- In the charts there are only a few none rare cards in the top 100 high value price range.\n"
   ]
  },
  {
   "cell_type": "markdown",
   "id": "dd1adc38-a97f-4461-b894-a1d3f9489670",
   "metadata": {},
   "source": [
    "## Jason's EDA and Hypotheses\n"
   ]
  },
  {
   "cell_type": "markdown",
   "id": "a18198ee-a487-4695-80b9-005cd1a3f020",
   "metadata": {},
   "source": [
    "<hr style=\"border-top: 10px groove blue; margin-top: 1px; margin-bottom: 1px\">"
   ]
  },
  {
   "cell_type": "markdown",
   "id": "149f4190-028f-407d-aec7-7e04470b77b4",
   "metadata": {
    "tags": []
   },
   "source": [
    "<a name='q_1'></a>\n",
    "### Is there a significant difference in USD between non-foil only cards and non-foil cards with foil versions?"
   ]
  },
  {
   "cell_type": "markdown",
   "id": "cb969066-7c05-4b51-8a98-c5c3b39c4a7a",
   "metadata": {},
   "source": [
    "#### Key Takeaway\n",
    "- Taking into account all sets the difference in favor of non-foil only cards is about $10.91"
   ]
  },
  {
   "cell_type": "markdown",
   "id": "6ec3a492-e195-4d09-9640-48db58620667",
   "metadata": {
    "tags": []
   },
   "source": [
    "### Discussion\n",
    "\n",
    "Found the null hypothesis to be false and the alternative hypothesis to be true. That there is a statistically significant difference between the prices of cards that are only non-foil and cards with both foil & non-foil versions.\n",
    "\n",
    "The difference isn't in the way I initially anticipated as foil cards are supposed to be the premium product and rarer in general, but the non-foil onlys were almost seven times more expensive.  I suspect that the cards that only come in non-foil are much older on average than those with both foil and non-foil versions.\n",
    "\n",
    "I set up the functions to account for any cards that come in foil but not in non-foil, however it appears that there non-foil versions of all cards but I'll leave it as is in case that changes in the future. \n",
    "\n",
    "There appear to be some large outliers for both non-foil only and both foil & non-foil sets.  The non-foil onlys have much higher outliers in USD but may be less extreme in relation to the rest of the non-foil onlys in comparison to the cards with both foil and non-foil versions."
   ]
  },
  {
   "cell_type": "markdown",
   "id": "4c952a1d-bdab-45eb-8f4d-a3d85c99df94",
   "metadata": {
    "tags": []
   },
   "source": [
    "#### Visualization\n",
    "\n",
    "Bar plot comparing cards that are only non-foils to those that have both foil & non-foil version."
   ]
  },
  {
   "cell_type": "code",
   "execution_count": 28,
   "id": "6da71c0d-1da2-420d-a872-68cc01efff06",
   "metadata": {},
   "outputs": [
    {
     "data": {
      "image/png": "[encoded data removed]",
      "text/plain": [
       "<Figure size 2160x1080 with 1 Axes>"
      ]
     },
     "metadata": {
      "needs_background": "light"
     },
     "output_type": "display_data"
    },
    {
     "data": {
      "text/plain": [
       "(None,\n",
       " 'The average USD price of non-foil only cards is $12.76,  and for cards with both foil and non-foil is $1.85. The difference in average price is $10.91.')"
      ]
     },
     "execution_count": 28,
     "metadata": {},
     "output_type": "execute_result"
    }
   ],
   "source": [
    "# Creates a bar plot for columns in the dataframe for if it's non-foil only or not.\n",
    "explore.nonfoil_only_or_not_viz(train)"
   ]
  },
  {
   "cell_type": "markdown",
   "id": "54ecef8b-3103-4f6f-9335-3a2a88aac996",
   "metadata": {
    "tags": []
   },
   "source": [
    "#### Hypothesis Testing\n",
    "95% significance level: α = 0.05\n",
    "\n",
    "$H_0$: There is not a signficant difference between foil & non-foil cards.\n",
    "\n",
    "$H_a$: There is a significant difference between foil & non-foil cards."
   ]
  },
  {
   "cell_type": "code",
   "execution_count": 29,
   "id": "bf6d40f2-3255-4cd6-8790-7a23eb398c10",
   "metadata": {},
   "outputs": [
    {
     "name": "stdout",
     "output_type": "stream",
     "text": [
      "Variance for non-foil only cards is 15743.686.\n",
      "Variance for cards with both foil and non-foil cards is 50.2.\n",
      "The t-statistic of -11.302 is less than 0, and the p-value of 8.201e-30 is statistically significant.\n",
      "We reject the Null Hypothesis\n"
     ]
    }
   ],
   "source": [
    "# # Hypothesis testing for question one using Two-sample T-Test with a 95% confidence interval.\n",
    "explore.hypothesis_test_foil_vs_nonfoil(train)"
   ]
  },
  {
   "cell_type": "markdown",
   "id": "547b35eb-15d6-481f-8ed0-bea03b4c99fb",
   "metadata": {},
   "source": [
    "<hr style=\"border-top: 10px groove blue; margin-top: 1px; margin-bottom: 1px\">"
   ]
  },
  {
   "cell_type": "markdown",
   "id": "fd3d8020-5fd5-4068-b1dd-f6b7ddf79971",
   "metadata": {
    "tags": []
   },
   "source": [
    "<a name='q_1'></a>\n",
    "### What’s the difference in card prices for reprints versus first printings?"
   ]
  },
  {
   "cell_type": "markdown",
   "id": "aec790ef-81c5-4951-82e8-e19d5af5e224",
   "metadata": {},
   "source": [
    "#### Key Takeaway\n",
    "- Reprinted cards cost about 77¢ more on average than first printings"
   ]
  },
  {
   "cell_type": "markdown",
   "id": "a2a6721b-603c-466a-a034-48f0f4f00283",
   "metadata": {
    "tags": []
   },
   "source": [
    "### Discussion\n",
    "We fail to reject the null hypothesis that there is a statistically significant difference between the prices of reprints and first printings.\n",
    "\n",
    "Next I would try filtering out all the cards that don't have reprinted versions.\n",
    "\n",
    "There may be an issue with the reprints lowering the price of the first printings so that there's a less statistically significant difference."
   ]
  },
  {
   "cell_type": "markdown",
   "id": "22f4ed3c-57cf-487f-9440-e5c48a7ffd15",
   "metadata": {},
   "source": [
    "#### Visualization"
   ]
  },
  {
   "cell_type": "code",
   "execution_count": 30,
   "id": "f63acc15-1414-4ce1-8d5d-91c80550534f",
   "metadata": {},
   "outputs": [
    {
     "data": {
      "image/png": "[encoded data removed]",
      "text/plain": [
       "<Figure size 2160x1080 with 1 Axes>"
      ]
     },
     "metadata": {
      "needs_background": "light"
     },
     "output_type": "display_data"
    },
    {
     "data": {
      "text/plain": [
       "(None,\n",
       " 'The average USD price of reprinted cards is $6.82,  and first print cards is $6.04. The difference in average price is $0.77.')"
      ]
     },
     "execution_count": 30,
     "metadata": {},
     "output_type": "execute_result"
    }
   ],
   "source": [
    "# # Combines explore functions for question two visualization\n",
    "explore.reprint_or_not_viz(train)"
   ]
  },
  {
   "cell_type": "markdown",
   "id": "11f2ca59-0e3b-4cc1-a023-27c372957848",
   "metadata": {
    "tags": []
   },
   "source": [
    "#### Hypothesis Testing\n",
    "95% significance level: α = 0.05\n",
    "- $H_0$ = There is not a signficant difference in USD prices between reprints & first printings.\n",
    "- $H_a$ = There is a significant difference in USD prices between reprints & first printings."
   ]
  },
  {
   "cell_type": "code",
   "execution_count": 31,
   "id": "39072bfd-99ec-4176-9bbf-22d0caef7fee",
   "metadata": {},
   "outputs": [
    {
     "name": "stdout",
     "output_type": "stream",
     "text": [
      "Variance for non-foil only cards is 7721.256.\n",
      "Variance for cards with both foil and non-foil cards is 5609.148.\n",
      "The t-statistic of -0.952 is less than 0, but the p-value of 1.705e-01 is not statistically significant.\n",
      "We fail to reject the Null Hypothesis\n"
     ]
    }
   ],
   "source": [
    "# # Hypothesis testing for question one using Two-sample T-Test with a 95% confidence interval\n",
    "explore.hypothesis_test_reprint_or_not(train)"
   ]
  },
  {
   "cell_type": "markdown",
   "id": "291e2ffa-cdc9-4b97-951e-6d253772b85b",
   "metadata": {},
   "source": [
    "<hr style=\"border-top: 10px groove blue; margin-top: 1px; margin-bottom: 1px\">"
   ]
  },
  {
   "cell_type": "markdown",
   "id": "c27474a4-abe0-4217-ae11-9845015d9533",
   "metadata": {
    "jp-MarkdownHeadingCollapsed": true,
    "tags": []
   },
   "source": [
    "<a name='q_1'></a>\n",
    "### How do cards with style treatments like frames or full art, affect their prices?"
   ]
  },
  {
   "cell_type": "markdown",
   "id": "94f8c70e-d57d-4ea3-9822-7021baa2adf6",
   "metadata": {
    "tags": []
   },
   "source": [
    "## Key takeaway\n",
    "- "
   ]
  },
  {
   "cell_type": "markdown",
   "id": "61a60aea-7e9b-41cc-9a31-61e7e31dccd9",
   "metadata": {
    "tags": []
   },
   "source": [
    "## Discusion\n",
    "- \n",
    "- \n",
    "- "
   ]
  },
  {
   "cell_type": "markdown",
   "id": "4cb09501-c65c-429e-9124-934f920664cf",
   "metadata": {},
   "source": [
    "## Visualization"
   ]
  },
  {
   "cell_type": "code",
   "execution_count": 32,
   "id": "87f00429-4ac1-403e-b7f3-b70aae6857d6",
   "metadata": {},
   "outputs": [
    {
     "ename": "NameError",
     "evalue": "name 'frame_effects_usd' is not defined",
     "output_type": "error",
     "traceback": [
      "\u001b[0;31m---------------------------------------------------------------------------\u001b[0m",
      "\u001b[0;31mNameError\u001b[0m                                 Traceback (most recent call last)",
      "\u001b[0;32m/var/folders/tg/c6tcjwk13mj583lxrf25k3jm0000gn/T/ipykernel_11772/661160033.py\u001b[0m in \u001b[0;36m<module>\u001b[0;34m\u001b[0m\n\u001b[1;32m      1\u001b[0m \u001b[0;31m# # Combines explore functions for question three visualization\u001b[0m\u001b[0;34m\u001b[0m\u001b[0;34m\u001b[0m\u001b[0m\n\u001b[0;32m----> 2\u001b[0;31m \u001b[0mexplore\u001b[0m\u001b[0;34m.\u001b[0m\u001b[0mstylized_or_not_viz\u001b[0m\u001b[0;34m(\u001b[0m\u001b[0mtrain\u001b[0m\u001b[0;34m)\u001b[0m\u001b[0;34m\u001b[0m\u001b[0;34m\u001b[0m\u001b[0m\n\u001b[0m",
      "\u001b[0;32m~/codeup-data-science/MTG-Project/Jason/explore.py\u001b[0m in \u001b[0;36mstylized_or_not_viz\u001b[0;34m(df)\u001b[0m\n\u001b[1;32m    708\u001b[0m     '''\n\u001b[1;32m    709\u001b[0m     \u001b[0mdf\u001b[0m \u001b[0;34m=\u001b[0m \u001b[0madd_columns_with_usd_prices_for_styles\u001b[0m\u001b[0;34m(\u001b[0m\u001b[0mdf\u001b[0m\u001b[0;34m)\u001b[0m\u001b[0;34m\u001b[0m\u001b[0;34m\u001b[0m\u001b[0m\n\u001b[0;32m--> 710\u001b[0;31m     \u001b[0mdiff\u001b[0m \u001b[0;34m=\u001b[0m \u001b[0mavg_stylized_and_normal_printings_and_diff\u001b[0m\u001b[0;34m(\u001b[0m\u001b[0mdf\u001b[0m\u001b[0;34m)\u001b[0m\u001b[0;34m\u001b[0m\u001b[0;34m\u001b[0m\u001b[0m\n\u001b[0m\u001b[1;32m    711\u001b[0m     \u001b[0mviz\u001b[0m \u001b[0;34m=\u001b[0m \u001b[0mstylized_vs_normals_viz\u001b[0m\u001b[0;34m(\u001b[0m\u001b[0mdf\u001b[0m\u001b[0;34m)\u001b[0m\u001b[0;34m\u001b[0m\u001b[0;34m\u001b[0m\u001b[0m\n\u001b[1;32m    712\u001b[0m     \u001b[0;32mreturn\u001b[0m \u001b[0mviz\u001b[0m\u001b[0;34m,\u001b[0m \u001b[0mdiff\u001b[0m\u001b[0;34m\u001b[0m\u001b[0;34m\u001b[0m\u001b[0m\n",
      "\u001b[0;32m~/codeup-data-science/MTG-Project/Jason/explore.py\u001b[0m in \u001b[0;36mavg_stylized_and_normal_printings_and_diff\u001b[0;34m(df)\u001b[0m\n\u001b[1;32m    682\u001b[0m     \u001b[0mavg_security_stamp\u001b[0m \u001b[0;34m=\u001b[0m \u001b[0mdf\u001b[0m\u001b[0;34m.\u001b[0m\u001b[0msecurity_stamp_usd\u001b[0m\u001b[0;34m.\u001b[0m\u001b[0mmean\u001b[0m\u001b[0;34m(\u001b[0m\u001b[0;34m)\u001b[0m\u001b[0;34m\u001b[0m\u001b[0;34m\u001b[0m\u001b[0m\n\u001b[1;32m    683\u001b[0m     \u001b[0mavg_watermark\u001b[0m \u001b[0;34m=\u001b[0m \u001b[0mdf\u001b[0m\u001b[0;34m.\u001b[0m\u001b[0mwatermark_usd\u001b[0m\u001b[0;34m.\u001b[0m\u001b[0mmean\u001b[0m\u001b[0;34m(\u001b[0m\u001b[0;34m)\u001b[0m\u001b[0;34m\u001b[0m\u001b[0;34m\u001b[0m\u001b[0m\n\u001b[0;32m--> 684\u001b[0;31m     \u001b[0mstylized_usd\u001b[0m \u001b[0;34m=\u001b[0m \u001b[0;34m(\u001b[0m\u001b[0mframe_effects_usd\u001b[0m \u001b[0;34m+\u001b[0m \u001b[0mborder_color_usd\u001b[0m \u001b[0;34m+\u001b[0m \u001b[0mflavor_text_usd\u001b[0m \u001b[0;34m+\u001b[0m \u001b[0mframe_usd\u001b[0m \u001b[0;34m+\u001b[0m \u001b[0mfull_art_usd\u001b[0m \u001b[0;34m+\u001b[0m \u001b[0mhighres_images_usd\u001b[0m \u001b[0;34m+\u001b[0m \u001b[0mlang_usd\u001b[0m \u001b[0;34m+\u001b[0m \u001b[0mlayout_usd\u001b[0m \u001b[0;34m+\u001b[0m \u001b[0mpromo_types_usd\u001b[0m \u001b[0;34m+\u001b[0m \u001b[0msecurity_stamp_usd\u001b[0m \u001b[0;34m+\u001b[0m \u001b[0mwatermark_usd\u001b[0m\u001b[0;34m)\u001b[0m\u001b[0;34m\u001b[0m\u001b[0;34m\u001b[0m\u001b[0m\n\u001b[0m\u001b[1;32m    685\u001b[0m     \u001b[0mavg_stylized\u001b[0m \u001b[0;34m=\u001b[0m \u001b[0mdf\u001b[0m\u001b[0;34m.\u001b[0m\u001b[0mstylized_usd\u001b[0m\u001b[0;34m.\u001b[0m\u001b[0mmean\u001b[0m\u001b[0;34m(\u001b[0m\u001b[0;34m)\u001b[0m\u001b[0;34m\u001b[0m\u001b[0;34m\u001b[0m\u001b[0m\n\u001b[1;32m    686\u001b[0m     \u001b[0;32mreturn\u001b[0m \u001b[0;34mf'The average USD price of stylized cards is ${round(avg_stylized, 2)}'\u001b[0m\u001b[0;34m\u001b[0m\u001b[0;34m\u001b[0m\u001b[0m\n",
      "\u001b[0;31mNameError\u001b[0m: name 'frame_effects_usd' is not defined"
     ]
    }
   ],
   "source": [
    "# # Combines explore functions for question three visualization\n",
    "explore.stylized_or_not_viz(train)"
   ]
  },
  {
   "cell_type": "markdown",
   "id": "6ffd47ab-3a4e-412e-9dd7-7df4211968a1",
   "metadata": {
    "tags": []
   },
   "source": [
    "#### Hypothesis Testing\n",
    "95% significance level: α = 0.05\n",
    "- $H_0$ = There is not a signficant difference in USD prices between regular & styled cards.\n",
    "- $H_a$ = There is a significant difference in USD prices between regular & styled cards."
   ]
  },
  {
   "cell_type": "code",
   "execution_count": null,
   "id": "ffe2abbf-06e6-40f5-ae3d-fd0a90aff822",
   "metadata": {},
   "outputs": [],
   "source": [
    "# # Hypothesis testing for question three using Two-sample T-Test with a 95% confidence interval\n",
    "explore.q3_hypothesis_test(train)"
   ]
  },
  {
   "cell_type": "code",
   "execution_count": null,
   "id": "61382a87-fff6-400b-9cf5-0741b2a8145e",
   "metadata": {},
   "outputs": [],
   "source": []
  }
 ],
 "metadata": {
  "kernelspec": {
   "display_name": "Python 3 (ipykernel)",
   "language": "python",
   "name": "python3"
  },
  "language_info": {
   "codemirror_mode": {
    "name": "ipython",
    "version": 3
   },
   "file_extension": ".py",
   "mimetype": "text/x-python",
   "name": "python",
   "nbconvert_exporter": "python",
   "pygments_lexer": "ipython3",
   "version": "3.9.7"
  }
 },
 "nbformat": 4,
 "nbformat_minor": 5
}
