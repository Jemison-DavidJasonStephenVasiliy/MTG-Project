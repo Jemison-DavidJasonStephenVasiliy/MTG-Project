{
 "cells": [
  {
   "cell_type": "code",
   "execution_count": 1,
   "id": "f468e701",
   "metadata": {},
   "outputs": [
    {
     "name": "stderr",
     "output_type": "stream",
     "text": [
      "/opt/homebrew/anaconda3/lib/python3.9/site-packages/scipy/__init__.py:146: UserWarning: A NumPy version >=1.16.5 and <1.23.0 is required for this version of SciPy (detected version 1.23.1\n",
      "  warnings.warn(f\"A NumPy version >={np_minversion} and <{np_maxversion}\"\n"
     ]
    }
   ],
   "source": [
    "import requests\n",
    "from requests import get\n",
    "import os\n",
    "import unicodedata\n",
    "import re\n",
    "import json\n",
    "\n",
    "import acquire as a\n",
    "import prepare as p\n",
    "\n",
    "import pandas as pd # to handle the dataframe\n",
    "import numpy as np\n",
    "from sklearn.model_selection import train_test_split\n",
    "\n",
    "%matplotlib inline\n",
    "import matplotlib.pyplot as plt\n",
    "import seaborn as sns\n"
   ]
  },
  {
   "cell_type": "code",
   "execution_count": 2,
   "id": "dc64a8ed",
   "metadata": {},
   "outputs": [
    {
     "name": "stdout",
     "output_type": "stream",
     "text": [
      "Found file in working directory!\n",
      "(70932, 83)\n"
     ]
    },
    {
     "data": {
      "text/plain": [
       "((53199, 63), (26599, 63), (26600, 63))"
      ]
     },
     "execution_count": 2,
     "metadata": {},
     "output_type": "execute_result"
    }
   ],
   "source": [
    "# Acquire and Prepare functions with train, validate and test\n",
    "df = a.get_data(query_url = False)\n",
    "print(df.shape)\n",
    "df = p.prepare_dataframe(df)\n",
    "train, validate, test = p.split_data(df)\n",
    "train.shape, validate.shape, test.shape"
   ]
  },
  {
   "cell_type": "code",
   "execution_count": 3,
   "id": "8b4cf102",
   "metadata": {},
   "outputs": [
    {
     "data": {
      "text/html": [
       "<div>\n",
       "<style scoped>\n",
       "    .dataframe tbody tr th:only-of-type {\n",
       "        vertical-align: middle;\n",
       "    }\n",
       "\n",
       "    .dataframe tbody tr th {\n",
       "        vertical-align: top;\n",
       "    }\n",
       "\n",
       "    .dataframe thead th {\n",
       "        text-align: right;\n",
       "    }\n",
       "</style>\n",
       "<table border=\"1\" class=\"dataframe\">\n",
       "  <thead>\n",
       "    <tr style=\"text-align: right;\">\n",
       "      <th></th>\n",
       "      <th>id</th>\n",
       "      <th>name</th>\n",
       "      <th>lang</th>\n",
       "      <th>released_at</th>\n",
       "      <th>layout</th>\n",
       "      <th>highres_image</th>\n",
       "      <th>image_status</th>\n",
       "      <th>mana_cost</th>\n",
       "      <th>cmc</th>\n",
       "      <th>type_line</th>\n",
       "      <th>...</th>\n",
       "      <th>hand_modifier</th>\n",
       "      <th>content_warning</th>\n",
       "      <th>flavor_name</th>\n",
       "      <th>usd</th>\n",
       "      <th>usd_foil</th>\n",
       "      <th>eur</th>\n",
       "      <th>eur_foil</th>\n",
       "      <th>is_foil</th>\n",
       "      <th>is_etched</th>\n",
       "      <th>is_glossy</th>\n",
       "    </tr>\n",
       "  </thead>\n",
       "  <tbody>\n",
       "    <tr>\n",
       "      <th>12661</th>\n",
       "      <td>2d911053-a026-4b20-ba2d-dbcc367c1413</td>\n",
       "      <td>Ajani Goldmane</td>\n",
       "      <td>en</td>\n",
       "      <td>2010-07-16</td>\n",
       "      <td>normal</td>\n",
       "      <td>True</td>\n",
       "      <td>highres_scan</td>\n",
       "      <td>{2}{W}{W}</td>\n",
       "      <td>4.0</td>\n",
       "      <td>Legendary Planeswalker — Ajani</td>\n",
       "      <td>...</td>\n",
       "      <td>0.0</td>\n",
       "      <td>False</td>\n",
       "      <td>no_flavor</td>\n",
       "      <td>8.02</td>\n",
       "      <td>15.11</td>\n",
       "      <td>8.02</td>\n",
       "      <td>15.11</td>\n",
       "      <td>True</td>\n",
       "      <td>False</td>\n",
       "      <td>False</td>\n",
       "    </tr>\n",
       "    <tr>\n",
       "      <th>61300</th>\n",
       "      <td>dcb2e0d6-3181-4d3d-a3b4-3896288b2e0e</td>\n",
       "      <td>Champion of Lambholt</td>\n",
       "      <td>en</td>\n",
       "      <td>2020-08-07</td>\n",
       "      <td>normal</td>\n",
       "      <td>True</td>\n",
       "      <td>highres_scan</td>\n",
       "      <td>{1}{G}{G}</td>\n",
       "      <td>3.0</td>\n",
       "      <td>Creature — Human Warrior</td>\n",
       "      <td>...</td>\n",
       "      <td>0.0</td>\n",
       "      <td>False</td>\n",
       "      <td>no_flavor</td>\n",
       "      <td>0.36</td>\n",
       "      <td>3.22</td>\n",
       "      <td>0.36</td>\n",
       "      <td>3.22</td>\n",
       "      <td>True</td>\n",
       "      <td>False</td>\n",
       "      <td>False</td>\n",
       "    </tr>\n",
       "    <tr>\n",
       "      <th>48604</th>\n",
       "      <td>af3aa149-00fa-4932-b004-f64c8b5d3ca7</td>\n",
       "      <td>Gargoyle</td>\n",
       "      <td>en</td>\n",
       "      <td>2009-07-17</td>\n",
       "      <td>token</td>\n",
       "      <td>True</td>\n",
       "      <td>highres_scan</td>\n",
       "      <td></td>\n",
       "      <td>0.0</td>\n",
       "      <td>Token Artifact Creature — Gargoyle</td>\n",
       "      <td>...</td>\n",
       "      <td>0.0</td>\n",
       "      <td>False</td>\n",
       "      <td>no_flavor</td>\n",
       "      <td>0.25</td>\n",
       "      <td>0.00</td>\n",
       "      <td>0.25</td>\n",
       "      <td>0.00</td>\n",
       "      <td>False</td>\n",
       "      <td>False</td>\n",
       "      <td>False</td>\n",
       "    </tr>\n",
       "    <tr>\n",
       "      <th>55734</th>\n",
       "      <td>c8d75604-4941-4faf-8f1a-7fc529e64962</td>\n",
       "      <td>Goblin Settler</td>\n",
       "      <td>en</td>\n",
       "      <td>2022-04-12</td>\n",
       "      <td>normal</td>\n",
       "      <td>True</td>\n",
       "      <td>highres_scan</td>\n",
       "      <td>{3}{R}</td>\n",
       "      <td>4.0</td>\n",
       "      <td>Creature — Goblin</td>\n",
       "      <td>...</td>\n",
       "      <td>0.0</td>\n",
       "      <td>False</td>\n",
       "      <td>no_flavor</td>\n",
       "      <td>9.76</td>\n",
       "      <td>11.87</td>\n",
       "      <td>9.76</td>\n",
       "      <td>11.87</td>\n",
       "      <td>True</td>\n",
       "      <td>False</td>\n",
       "      <td>False</td>\n",
       "    </tr>\n",
       "    <tr>\n",
       "      <th>70638</th>\n",
       "      <td>feef03a1-f19a-413b-ad86-0b357cf9c09c</td>\n",
       "      <td>Weight Advantage</td>\n",
       "      <td>en</td>\n",
       "      <td>2016-08-26</td>\n",
       "      <td>normal</td>\n",
       "      <td>True</td>\n",
       "      <td>highres_scan</td>\n",
       "      <td></td>\n",
       "      <td>0.0</td>\n",
       "      <td>Conspiracy</td>\n",
       "      <td>...</td>\n",
       "      <td>0.0</td>\n",
       "      <td>False</td>\n",
       "      <td>no_flavor</td>\n",
       "      <td>0.11</td>\n",
       "      <td>0.42</td>\n",
       "      <td>0.11</td>\n",
       "      <td>0.42</td>\n",
       "      <td>True</td>\n",
       "      <td>False</td>\n",
       "      <td>False</td>\n",
       "    </tr>\n",
       "  </tbody>\n",
       "</table>\n",
       "<p>5 rows × 63 columns</p>\n",
       "</div>"
      ],
      "text/plain": [
       "                                         id                  name lang  \\\n",
       "12661  2d911053-a026-4b20-ba2d-dbcc367c1413        Ajani Goldmane   en   \n",
       "61300  dcb2e0d6-3181-4d3d-a3b4-3896288b2e0e  Champion of Lambholt   en   \n",
       "48604  af3aa149-00fa-4932-b004-f64c8b5d3ca7              Gargoyle   en   \n",
       "55734  c8d75604-4941-4faf-8f1a-7fc529e64962        Goblin Settler   en   \n",
       "70638  feef03a1-f19a-413b-ad86-0b357cf9c09c      Weight Advantage   en   \n",
       "\n",
       "      released_at  layout  highres_image  image_status  mana_cost  cmc  \\\n",
       "12661  2010-07-16  normal           True  highres_scan  {2}{W}{W}  4.0   \n",
       "61300  2020-08-07  normal           True  highres_scan  {1}{G}{G}  3.0   \n",
       "48604  2009-07-17   token           True  highres_scan             0.0   \n",
       "55734  2022-04-12  normal           True  highres_scan     {3}{R}  4.0   \n",
       "70638  2016-08-26  normal           True  highres_scan             0.0   \n",
       "\n",
       "                                type_line  ... hand_modifier content_warning  \\\n",
       "12661      Legendary Planeswalker — Ajani  ...           0.0           False   \n",
       "61300            Creature — Human Warrior  ...           0.0           False   \n",
       "48604  Token Artifact Creature — Gargoyle  ...           0.0           False   \n",
       "55734                   Creature — Goblin  ...           0.0           False   \n",
       "70638                          Conspiracy  ...           0.0           False   \n",
       "\n",
       "      flavor_name   usd usd_foil   eur eur_foil is_foil  is_etched  is_glossy  \n",
       "12661   no_flavor  8.02    15.11  8.02    15.11    True      False      False  \n",
       "61300   no_flavor  0.36     3.22  0.36     3.22    True      False      False  \n",
       "48604   no_flavor  0.25     0.00  0.25     0.00   False      False      False  \n",
       "55734   no_flavor  9.76    11.87  9.76    11.87    True      False      False  \n",
       "70638   no_flavor  0.11     0.42  0.11     0.42    True      False      False  \n",
       "\n",
       "[5 rows x 63 columns]"
      ]
     },
     "execution_count": 3,
     "metadata": {},
     "output_type": "execute_result"
    }
   ],
   "source": [
    "train.head()"
   ]
  },
  {
   "cell_type": "code",
   "execution_count": 4,
   "id": "94964a2a",
   "metadata": {},
   "outputs": [
    {
     "name": "stdout",
     "output_type": "stream",
     "text": [
      "<class 'pandas.core.frame.DataFrame'>\n",
      "Int64Index: 53199 entries, 12661 to 1677\n",
      "Data columns (total 63 columns):\n",
      " #   Column            Non-Null Count  Dtype         \n",
      "---  ------            --------------  -----         \n",
      " 0   id                53199 non-null  object        \n",
      " 1   name              53199 non-null  object        \n",
      " 2   lang              53199 non-null  object        \n",
      " 3   released_at       53199 non-null  datetime64[ns]\n",
      " 4   layout            53199 non-null  object        \n",
      " 5   highres_image     53199 non-null  bool          \n",
      " 6   image_status      53199 non-null  object        \n",
      " 7   mana_cost         53199 non-null  object        \n",
      " 8   cmc               53194 non-null  float64       \n",
      " 9   type_line         53194 non-null  object        \n",
      " 10  oracle_text       53199 non-null  object        \n",
      " 11  power             53199 non-null  object        \n",
      " 12  toughness         53199 non-null  object        \n",
      " 13  colors            53199 non-null  object        \n",
      " 14  color_identity    53199 non-null  object        \n",
      " 15  keywords          53199 non-null  object        \n",
      " 16  legalities        53199 non-null  object        \n",
      " 17  games             53199 non-null  object        \n",
      " 18  reserved          53199 non-null  bool          \n",
      " 19  foil              53199 non-null  bool          \n",
      " 20  nonfoil           53199 non-null  bool          \n",
      " 21  finishes          53199 non-null  object        \n",
      " 22  oversized         53199 non-null  bool          \n",
      " 23  promo             53199 non-null  bool          \n",
      " 24  reprint           53199 non-null  bool          \n",
      " 25  variation         53199 non-null  bool          \n",
      " 26  set_id            53199 non-null  object        \n",
      " 27  set               53199 non-null  object        \n",
      " 28  set_name          53199 non-null  object        \n",
      " 29  set_type          53199 non-null  object        \n",
      " 30  collector_number  53199 non-null  object        \n",
      " 31  digital           53199 non-null  bool          \n",
      " 32  rarity            53199 non-null  object        \n",
      " 33  flavor_text       53199 non-null  object        \n",
      " 34  artist            53199 non-null  object        \n",
      " 35  border_color      53199 non-null  object        \n",
      " 36  frame             53199 non-null  object        \n",
      " 37  full_art          53199 non-null  bool          \n",
      " 38  textless          53199 non-null  bool          \n",
      " 39  booster           53199 non-null  bool          \n",
      " 40  story_spotlight   53199 non-null  bool          \n",
      " 41  edhrec_rank       53199 non-null  float64       \n",
      " 42  penny_rank        53199 non-null  float64       \n",
      " 43  prices            53199 non-null  object        \n",
      " 44  promo_types       53199 non-null  object        \n",
      " 45  security_stamp    53199 non-null  object        \n",
      " 46  produced_mana     53199 non-null  object        \n",
      " 47  watermark         53199 non-null  object        \n",
      " 48  frame_effects     53199 non-null  object        \n",
      " 49  loyalty           53199 non-null  object        \n",
      " 50  printed_name      53199 non-null  object        \n",
      " 51  color_indicator   53199 non-null  object        \n",
      " 52  life_modifier     53199 non-null  float64       \n",
      " 53  hand_modifier     53199 non-null  float64       \n",
      " 54  content_warning   53199 non-null  bool          \n",
      " 55  flavor_name       53199 non-null  object        \n",
      " 56  usd               53199 non-null  float64       \n",
      " 57  usd_foil          53199 non-null  float64       \n",
      " 58  eur               53199 non-null  float64       \n",
      " 59  eur_foil          53199 non-null  float64       \n",
      " 60  is_foil           53199 non-null  bool          \n",
      " 61  is_etched         53199 non-null  bool          \n",
      " 62  is_glossy         53199 non-null  bool          \n",
      "dtypes: bool(17), datetime64[ns](1), float64(9), object(36)\n",
      "memory usage: 19.9+ MB\n"
     ]
    }
   ],
   "source": [
    "train.info()"
   ]
  },
  {
   "cell_type": "raw",
   "id": "addf6e58",
   "metadata": {},
   "source": [
    "https://www.dicebreaker.com/games/magic-the-gathering-game/best-games/most-expensive-mtg-cards"
   ]
  },
  {
   "cell_type": "markdown",
   "id": "688f6adb",
   "metadata": {},
   "source": [
    "# Hypothesis 1\n",
    "- H0:The amount of cards created is not = to the artist value.\n",
    "- HA:The amount of cards created is not = to the artist value."
   ]
  },
  {
   "cell_type": "code",
   "execution_count": 5,
   "id": "2973bca6",
   "metadata": {},
   "outputs": [
    {
     "data": {
      "text/plain": [
       "common      25755\n",
       "rare        22792\n",
       "uncommon    17468\n",
       "mythic       4659\n",
       "special       248\n",
       "bonus          10\n",
       "Name: rarity, dtype: int64"
      ]
     },
     "execution_count": 5,
     "metadata": {},
     "output_type": "execute_result"
    }
   ],
   "source": [
    "# Rarity card count\n",
    "df.rarity.value_counts()"
   ]
  },
  {
   "cell_type": "code",
   "execution_count": 6,
   "id": "09b8e6d4",
   "metadata": {},
   "outputs": [
    {
     "data": {
      "text/plain": [
       "0.00       12933\n",
       "0.10        1611\n",
       "0.09        1301\n",
       "0.08        1173\n",
       "0.05        1150\n",
       "           ...  \n",
       "28.61          1\n",
       "1787.50        1\n",
       "29.78          1\n",
       "44.23          1\n",
       "55.99          1\n",
       "Name: usd, Length: 2895, dtype: int64"
      ]
     },
     "execution_count": 6,
     "metadata": {},
     "output_type": "execute_result"
    }
   ],
   "source": [
    "train['usd'].value_counts()"
   ]
  },
  {
   "cell_type": "code",
   "execution_count": 7,
   "id": "0d7bba30",
   "metadata": {},
   "outputs": [
    {
     "data": {
      "text/plain": [
       "<AxesSubplot:>"
      ]
     },
     "execution_count": 7,
     "metadata": {},
     "output_type": "execute_result"
    },
    {
     "data": {
      "image/png": "[encoded data removed]",
      "text/plain": [
       "<Figure size 432x288 with 1 Axes>"
      ]
     },
     "metadata": {
      "needs_background": "light"
     },
     "output_type": "display_data"
    }
   ],
   "source": [
    "# Top 20 artist who created the most cards\n",
    "train['artist'].value_counts()[:20].plot(kind='barh')"
   ]
  },
  {
   "cell_type": "code",
   "execution_count": 8,
   "id": "2be7684d",
   "metadata": {},
   "outputs": [
    {
     "data": {
      "text/plain": [
       "<AxesSubplot:>"
      ]
     },
     "execution_count": 8,
     "metadata": {},
     "output_type": "execute_result"
    },
    {
     "data": {
      "image/png": "[encoded data removed]",
      "text/plain": [
       "<Figure size 432x288 with 1 Axes>"
      ]
     },
     "metadata": {
      "needs_background": "light"
     },
     "output_type": "display_data"
    }
   ],
   "source": [
    "# Count of cards by rarity\n",
    "train.rarity.hist()"
   ]
  },
  {
   "cell_type": "code",
   "execution_count": 9,
   "id": "489fa7cc",
   "metadata": {},
   "outputs": [
    {
     "name": "stdout",
     "output_type": "stream",
     "text": [
      "<class 'pandas.core.frame.DataFrame'>\n",
      "Int64Index: 53199 entries, 12661 to 1677\n",
      "Columns: 63 entries, id to is_glossy\n",
      "dtypes: bool(17), datetime64[ns](1), float64(9), object(36)\n",
      "memory usage: 19.9+ MB\n"
     ]
    }
   ],
   "source": [
    "# filter out lands and tokens \n",
    "\n",
    "train = train.loc[train['rarity'].isin(['common', 'uncommon', 'rare', \n",
    "                                        'mythic', 'special', 'bonus'])]\n",
    "train.info(verbose=False)"
   ]
  },
  {
   "cell_type": "markdown",
   "id": "3aa395fd",
   "metadata": {},
   "source": [
    "This gives 53199 cards."
   ]
  },
  {
   "cell_type": "code",
   "execution_count": 10,
   "id": "7f1d9385",
   "metadata": {},
   "outputs": [],
   "source": [
    "# show only data from the selected columns\n",
    "df2 = train[['name', 'set_type', 'artist', 'rarity', 'usd', 'collector_number']]\n"
   ]
  },
  {
   "cell_type": "code",
   "execution_count": 11,
   "id": "827ca801",
   "metadata": {},
   "outputs": [],
   "source": [
    "# show only data from top 40 cards by price\n",
    "df3 = df2.loc[:,'name':'collector_number'].sort_values(by=['usd'], ascending=False,)[:20]"
   ]
  },
  {
   "cell_type": "code",
   "execution_count": 12,
   "id": "7a60cd80",
   "metadata": {},
   "outputs": [
    {
     "data": {
      "text/html": [
       "<div>\n",
       "<style scoped>\n",
       "    .dataframe tbody tr th:only-of-type {\n",
       "        vertical-align: middle;\n",
       "    }\n",
       "\n",
       "    .dataframe tbody tr th {\n",
       "        vertical-align: top;\n",
       "    }\n",
       "\n",
       "    .dataframe thead th {\n",
       "        text-align: right;\n",
       "    }\n",
       "</style>\n",
       "<table border=\"1\" class=\"dataframe\">\n",
       "  <thead>\n",
       "    <tr style=\"text-align: right;\">\n",
       "      <th></th>\n",
       "      <th>name</th>\n",
       "      <th>set_type</th>\n",
       "      <th>artist</th>\n",
       "      <th>rarity</th>\n",
       "      <th>usd</th>\n",
       "      <th>collector_number</th>\n",
       "    </tr>\n",
       "  </thead>\n",
       "  <tbody>\n",
       "    <tr>\n",
       "      <th>49832</th>\n",
       "      <td>Black Lotus</td>\n",
       "      <td>core</td>\n",
       "      <td>Christopher Rush</td>\n",
       "      <td>rare</td>\n",
       "      <td>11500.00</td>\n",
       "      <td>233</td>\n",
       "    </tr>\n",
       "    <tr>\n",
       "      <th>12737</th>\n",
       "      <td>Ancestral Recall</td>\n",
       "      <td>core</td>\n",
       "      <td>Mark Poole</td>\n",
       "      <td>rare</td>\n",
       "      <td>6999.99</td>\n",
       "      <td>48</td>\n",
       "    </tr>\n",
       "    <tr>\n",
       "      <th>47092</th>\n",
       "      <td>Tropical Island</td>\n",
       "      <td>core</td>\n",
       "      <td>Jesper Myrfors</td>\n",
       "      <td>rare</td>\n",
       "      <td>6000.00</td>\n",
       "      <td>283</td>\n",
       "    </tr>\n",
       "    <tr>\n",
       "      <th>497</th>\n",
       "      <td>Timetwister</td>\n",
       "      <td>core</td>\n",
       "      <td>Mark Tedin</td>\n",
       "      <td>rare</td>\n",
       "      <td>5732.99</td>\n",
       "      <td>85</td>\n",
       "    </tr>\n",
       "    <tr>\n",
       "      <th>9371</th>\n",
       "      <td>Mox Ruby</td>\n",
       "      <td>core</td>\n",
       "      <td>Dan Frazier</td>\n",
       "      <td>rare</td>\n",
       "      <td>5499.99</td>\n",
       "      <td>265</td>\n",
       "    </tr>\n",
       "    <tr>\n",
       "      <th>45705</th>\n",
       "      <td>Mox Emerald</td>\n",
       "      <td>core</td>\n",
       "      <td>Dan Frazier</td>\n",
       "      <td>rare</td>\n",
       "      <td>5279.99</td>\n",
       "      <td>262</td>\n",
       "    </tr>\n",
       "    <tr>\n",
       "      <th>70712</th>\n",
       "      <td>Bazaar of Baghdad</td>\n",
       "      <td>expansion</td>\n",
       "      <td>Jeff A. Menges</td>\n",
       "      <td>uncommon</td>\n",
       "      <td>4999.99</td>\n",
       "      <td>70</td>\n",
       "    </tr>\n",
       "    <tr>\n",
       "      <th>27959</th>\n",
       "      <td>The Tabernacle at Pendrell Vale</td>\n",
       "      <td>expansion</td>\n",
       "      <td>Nicola Leonard</td>\n",
       "      <td>rare</td>\n",
       "      <td>3888.00</td>\n",
       "      <td>307</td>\n",
       "    </tr>\n",
       "    <tr>\n",
       "      <th>31249</th>\n",
       "      <td>Mox Jet</td>\n",
       "      <td>core</td>\n",
       "      <td>Dan Frazier</td>\n",
       "      <td>rare</td>\n",
       "      <td>3099.99</td>\n",
       "      <td>263</td>\n",
       "    </tr>\n",
       "    <tr>\n",
       "      <th>48249</th>\n",
       "      <td>Time Walk</td>\n",
       "      <td>core</td>\n",
       "      <td>Amy Weber</td>\n",
       "      <td>rare</td>\n",
       "      <td>2999.00</td>\n",
       "      <td>84</td>\n",
       "    </tr>\n",
       "    <tr>\n",
       "      <th>55578</th>\n",
       "      <td>Mox Pearl</td>\n",
       "      <td>core</td>\n",
       "      <td>Dan Frazier</td>\n",
       "      <td>rare</td>\n",
       "      <td>2879.99</td>\n",
       "      <td>264</td>\n",
       "    </tr>\n",
       "    <tr>\n",
       "      <th>5467</th>\n",
       "      <td>Mishra's Workshop</td>\n",
       "      <td>expansion</td>\n",
       "      <td>Kaja Foglio</td>\n",
       "      <td>rare</td>\n",
       "      <td>2700.00</td>\n",
       "      <td>81</td>\n",
       "    </tr>\n",
       "    <tr>\n",
       "      <th>13853</th>\n",
       "      <td>Juzám Djinn</td>\n",
       "      <td>expansion</td>\n",
       "      <td>Mark Tedin</td>\n",
       "      <td>rare</td>\n",
       "      <td>2499.94</td>\n",
       "      <td>29</td>\n",
       "    </tr>\n",
       "    <tr>\n",
       "      <th>35941</th>\n",
       "      <td>Imperial Seal</td>\n",
       "      <td>starter</td>\n",
       "      <td>Li Tie</td>\n",
       "      <td>rare</td>\n",
       "      <td>1787.50</td>\n",
       "      <td>78</td>\n",
       "    </tr>\n",
       "    <tr>\n",
       "      <th>30839</th>\n",
       "      <td>Volcanic Island</td>\n",
       "      <td>core</td>\n",
       "      <td>Brian Snõddy</td>\n",
       "      <td>rare</td>\n",
       "      <td>1650.00</td>\n",
       "      <td>291</td>\n",
       "    </tr>\n",
       "    <tr>\n",
       "      <th>5858</th>\n",
       "      <td>Timetwister</td>\n",
       "      <td>memorabilia</td>\n",
       "      <td>Mark Tedin</td>\n",
       "      <td>rare</td>\n",
       "      <td>1537.50</td>\n",
       "      <td>85</td>\n",
       "    </tr>\n",
       "    <tr>\n",
       "      <th>41223</th>\n",
       "      <td>Moat</td>\n",
       "      <td>expansion</td>\n",
       "      <td>Jeff A. Menges</td>\n",
       "      <td>rare</td>\n",
       "      <td>1500.73</td>\n",
       "      <td>28</td>\n",
       "    </tr>\n",
       "    <tr>\n",
       "      <th>36782</th>\n",
       "      <td>Tropical Island</td>\n",
       "      <td>core</td>\n",
       "      <td>Jesper Myrfors</td>\n",
       "      <td>rare</td>\n",
       "      <td>1490.00</td>\n",
       "      <td>284</td>\n",
       "    </tr>\n",
       "    <tr>\n",
       "      <th>14981</th>\n",
       "      <td>Candelabra of Tawnos</td>\n",
       "      <td>expansion</td>\n",
       "      <td>Douglas Shuler</td>\n",
       "      <td>rare</td>\n",
       "      <td>1468.97</td>\n",
       "      <td>43</td>\n",
       "    </tr>\n",
       "    <tr>\n",
       "      <th>43725</th>\n",
       "      <td>Volcanic Island</td>\n",
       "      <td>core</td>\n",
       "      <td>Brian Snõddy</td>\n",
       "      <td>rare</td>\n",
       "      <td>1433.00</td>\n",
       "      <td>287</td>\n",
       "    </tr>\n",
       "  </tbody>\n",
       "</table>\n",
       "</div>"
      ],
      "text/plain": [
       "                                  name     set_type            artist  \\\n",
       "49832                      Black Lotus         core  Christopher Rush   \n",
       "12737                 Ancestral Recall         core        Mark Poole   \n",
       "47092                  Tropical Island         core    Jesper Myrfors   \n",
       "497                        Timetwister         core        Mark Tedin   \n",
       "9371                          Mox Ruby         core       Dan Frazier   \n",
       "45705                      Mox Emerald         core       Dan Frazier   \n",
       "70712                Bazaar of Baghdad    expansion    Jeff A. Menges   \n",
       "27959  The Tabernacle at Pendrell Vale    expansion    Nicola Leonard   \n",
       "31249                          Mox Jet         core       Dan Frazier   \n",
       "48249                        Time Walk         core         Amy Weber   \n",
       "55578                        Mox Pearl         core       Dan Frazier   \n",
       "5467                 Mishra's Workshop    expansion       Kaja Foglio   \n",
       "13853                      Juzám Djinn    expansion        Mark Tedin   \n",
       "35941                    Imperial Seal      starter            Li Tie   \n",
       "30839                  Volcanic Island         core      Brian Snõddy   \n",
       "5858                       Timetwister  memorabilia        Mark Tedin   \n",
       "41223                             Moat    expansion    Jeff A. Menges   \n",
       "36782                  Tropical Island         core    Jesper Myrfors   \n",
       "14981             Candelabra of Tawnos    expansion    Douglas Shuler   \n",
       "43725                  Volcanic Island         core      Brian Snõddy   \n",
       "\n",
       "         rarity       usd collector_number  \n",
       "49832      rare  11500.00              233  \n",
       "12737      rare   6999.99               48  \n",
       "47092      rare   6000.00              283  \n",
       "497        rare   5732.99               85  \n",
       "9371       rare   5499.99              265  \n",
       "45705      rare   5279.99              262  \n",
       "70712  uncommon   4999.99               70  \n",
       "27959      rare   3888.00              307  \n",
       "31249      rare   3099.99              263  \n",
       "48249      rare   2999.00               84  \n",
       "55578      rare   2879.99              264  \n",
       "5467       rare   2700.00               81  \n",
       "13853      rare   2499.94               29  \n",
       "35941      rare   1787.50               78  \n",
       "30839      rare   1650.00              291  \n",
       "5858       rare   1537.50               85  \n",
       "41223      rare   1500.73               28  \n",
       "36782      rare   1490.00              284  \n",
       "14981      rare   1468.97               43  \n",
       "43725      rare   1433.00              287  "
      ]
     },
     "execution_count": 12,
     "metadata": {},
     "output_type": "execute_result"
    }
   ],
   "source": [
    "df3"
   ]
  },
  {
   "cell_type": "code",
   "execution_count": 13,
   "id": "0912d592",
   "metadata": {},
   "outputs": [
    {
     "name": "stdout",
     "output_type": "stream",
     "text": [
      "<class 'pandas.core.frame.DataFrame'>\n",
      "Int64Index: 20 entries, 49832 to 43725\n",
      "Data columns (total 6 columns):\n",
      " #   Column            Non-Null Count  Dtype  \n",
      "---  ------            --------------  -----  \n",
      " 0   name              20 non-null     object \n",
      " 1   set_type          20 non-null     object \n",
      " 2   artist            20 non-null     object \n",
      " 3   rarity            20 non-null     object \n",
      " 4   usd               20 non-null     float64\n",
      " 5   collector_number  20 non-null     object \n",
      "dtypes: float64(1), object(5)\n",
      "memory usage: 1.1+ KB\n"
     ]
    }
   ],
   "source": [
    "df3.info()"
   ]
  },
  {
   "cell_type": "markdown",
   "id": "b9c83fbf",
   "metadata": {},
   "source": [
    "### Visualization\n",
    "\n",
    "Used the top 100 cards based on value to chart results."
   ]
  },
  {
   "cell_type": "code",
   "execution_count": 14,
   "id": "48771735",
   "metadata": {},
   "outputs": [
    {
     "data": {
      "text/plain": [
       "<AxesSubplot:>"
      ]
     },
     "execution_count": 14,
     "metadata": {},
     "output_type": "execute_result"
    },
    {
     "data": {
      "image/png": "[encoded data removed]",
      "text/plain": [
       "<Figure size 432x288 with 1 Axes>"
      ]
     },
     "metadata": {
      "needs_background": "light"
     },
     "output_type": "display_data"
    }
   ],
   "source": [
    "# Plot top 20 cards and artist by amount of cards created\n",
    "train['artist'].value_counts().head(20).plot(kind='barh')\n",
    "\n"
   ]
  },
  {
   "cell_type": "code",
   "execution_count": 15,
   "id": "bf4e8b40",
   "metadata": {},
   "outputs": [],
   "source": [
    "# Bar plor to show Artist and USD price, for top artist\n",
    "def vis_artist_by_usd(train):\n",
    "    train2 = train.sort_values(by=['usd'], ascending=False,)[:100]\n",
    "    plt.figure(figsize=(10,10))\n",
    "    sns.barplot(data=train2, x='usd', y='artist')\n",
    "    plt.title('Rarity vs Artist/USD price')\n",
    "    plt.xlabel('USD price')\n",
    "    plt.ylabel('Artist name')\n",
    "    plt.show()"
   ]
  },
  {
   "cell_type": "code",
   "execution_count": 16,
   "id": "4dd1c820",
   "metadata": {},
   "outputs": [
    {
     "data": {
      "image/png": "[encoded data removed]",
      "text/plain": [
       "<Figure size 720x720 with 1 Axes>"
      ]
     },
     "metadata": {
      "needs_background": "light"
     },
     "output_type": "display_data"
    }
   ],
   "source": [
    "vis_artist_by_usd(train)"
   ]
  },
  {
   "cell_type": "code",
   "execution_count": 17,
   "id": "644759d4",
   "metadata": {},
   "outputs": [],
   "source": [
    "# Median price for all cards based on Rarity and USD price\n",
    "def vis_rarity_by_usd(train):\n",
    "    plt.figure(figsize=(10,10))\n",
    "    sns.barplot(data=train, x='usd', y='rarity')\n",
    "    plt.title('Median price: Rarity vs USD price')\n",
    "    plt.xlabel('USD price')\n",
    "    plt.ylabel('Artist name')\n",
    "    plt.show()"
   ]
  },
  {
   "cell_type": "code",
   "execution_count": 18,
   "id": "7d88e2e4",
   "metadata": {},
   "outputs": [
    {
     "data": {
      "image/png": "[encoded data removed]",
      "text/plain": [
       "<Figure size 720x720 with 1 Axes>"
      ]
     },
     "metadata": {
      "needs_background": "light"
     },
     "output_type": "display_data"
    }
   ],
   "source": [
    "vis_rarity_by_usd(train)"
   ]
  },
  {
   "cell_type": "code",
   "execution_count": 19,
   "id": "d4433f47",
   "metadata": {},
   "outputs": [
    {
     "data": {
      "text/plain": [
       "common      25755\n",
       "rare        22792\n",
       "uncommon    17468\n",
       "mythic       4659\n",
       "special       248\n",
       "bonus          10\n",
       "Name: rarity, dtype: int64"
      ]
     },
     "execution_count": 19,
     "metadata": {},
     "output_type": "execute_result"
    }
   ],
   "source": [
    "df.rarity.value_counts()\n"
   ]
  },
  {
   "cell_type": "markdown",
   "id": "ad570a0f",
   "metadata": {},
   "source": [
    "### Key takeaway\n",
    "\n",
    "- The amount of cards created is not = to the artist value.\n",
    "\n",
    "- In the charts artist Jon Avon created the most cards but the artist Christopher Rush created the most expensive card(Black Lotus)\n",
    "\n"
   ]
  },
  {
   "cell_type": "markdown",
   "id": "3884f16b",
   "metadata": {},
   "source": [
    "# Hypothesis 2\n",
    "- H0: artist and rarity of cards is = to price \n",
    "- HA: artist and rarity of cards is not = to price"
   ]
  },
  {
   "cell_type": "code",
   "execution_count": 35,
   "id": "6d001774",
   "metadata": {},
   "outputs": [],
   "source": [
    "# Bar plot to show Artist, USD price and top 60 cards in the rarity category\n",
    "def vis_artist_rarity_usd(train):\n",
    "    train2 = train.sort_values(by=['usd'], ascending=False,)[:60]\n",
    "    plt.figure(figsize=(10,10))\n",
    "    sns.barplot(data=train2, x='usd', y='artist', hue='rarity')\n",
    "    plt.title('Rarity vs Artist/USD price')\n",
    "    plt.xlabel('USD price')\n",
    "    plt.ylabel('Artist name')\n",
    "    plt.show()\n",
    "\n"
   ]
  },
  {
   "cell_type": "code",
   "execution_count": 36,
   "id": "1c01ff31",
   "metadata": {},
   "outputs": [
    {
     "data": {
      "image/png": "[encoded data removed]",
      "text/plain": [
       "<Figure size 720x720 with 1 Axes>"
      ]
     },
     "metadata": {
      "needs_background": "light"
     },
     "output_type": "display_data"
    }
   ],
   "source": [
    "vis_artist_rarity_usd(train)"
   ]
  },
  {
   "cell_type": "markdown",
   "id": "ec81c1a0",
   "metadata": {},
   "source": [
    "### Key takeaway\n",
    "\n",
    "- The artist and rarity of cards is not equal to price\n",
    "\n",
    "- In the charts only a few non-rare rarity cards are in the high value price range.\n"
   ]
  },
  {
   "cell_type": "markdown",
   "id": "0d341e79",
   "metadata": {},
   "source": [
    "# Hypothesis 3\n",
    "- H0: set_type and rarity of cards is = to price \n",
    "- HA: set_type and rarity of cards is not = to price"
   ]
  },
  {
   "cell_type": "code",
   "execution_count": 22,
   "id": "0ba735d3",
   "metadata": {},
   "outputs": [
    {
     "data": {
      "text/plain": [
       "expansion           22466\n",
       "masters              8233\n",
       "core                 7840\n",
       "promo                7481\n",
       "commander            5671\n",
       "draft_innovation     4552\n",
       "memorabilia          3204\n",
       "box                  3090\n",
       "duel_deck            1945\n",
       "token                1613\n",
       "starter              1115\n",
       "funny                 971\n",
       "planechase            647\n",
       "alchemy               536\n",
       "treasure_chest        431\n",
       "masterpiece           373\n",
       "archenemy             326\n",
       "from_the_vault        157\n",
       "vanguard              117\n",
       "premium_deck          105\n",
       "arsenal                35\n",
       "spellbook              24\n",
       "Name: set_type, dtype: int64"
      ]
     },
     "execution_count": 22,
     "metadata": {},
     "output_type": "execute_result"
    }
   ],
   "source": [
    "# Cards value count to set_types\n",
    "df.set_type.value_counts()"
   ]
  },
  {
   "cell_type": "code",
   "execution_count": 23,
   "id": "613c4829",
   "metadata": {},
   "outputs": [
    {
     "data": {
      "text/plain": [
       "<AxesSubplot:xlabel='count', ylabel='set_type'>"
      ]
     },
     "execution_count": 23,
     "metadata": {},
     "output_type": "execute_result"
    },
    {
     "data": {
      "image/png": "[encoded data removed]",
      "text/plain": [
       "<Figure size 432x288 with 1 Axes>"
      ]
     },
     "metadata": {
      "needs_background": "light"
     },
     "output_type": "display_data"
    }
   ],
   "source": [
    "# Most expensive cards by set_type\n",
    "sns.countplot(data= df, y='set_type')"
   ]
  },
  {
   "cell_type": "code",
   "execution_count": 42,
   "id": "f7f9683d",
   "metadata": {},
   "outputs": [],
   "source": [
    "# top 100 cards: Set_type and Rarity \n",
    "def usd_rarity_set_type_total(train):\n",
    "    train2 = train.sort_values(by=['usd'], ascending=False,)[:100]\n",
    "    plt.figure(figsize=(10,10))\n",
    "    sns.barplot(data=train2, x='usd', y='set_type', hue='rarity', estimator=sum)\n",
    "    plt.title('Price vs Set_type/Rarity')\n",
    "    plt.xlabel('USD price')\n",
    "    plt.ylabel('Set_type')\n",
    "    plt.show()\n",
    "\n"
   ]
  },
  {
   "cell_type": "code",
   "execution_count": 43,
   "id": "d2b5735e",
   "metadata": {},
   "outputs": [
    {
     "data": {
      "image/png": "[encoded data removed]",
      "text/plain": [
       "<Figure size 720x720 with 1 Axes>"
      ]
     },
     "metadata": {
      "needs_background": "light"
     },
     "output_type": "display_data"
    }
   ],
   "source": [
    "usd_rarity_set_type_total(train)"
   ]
  },
  {
   "cell_type": "markdown",
   "id": "85773c37",
   "metadata": {},
   "source": [
    "### Key takeaway\n",
    "\n",
    "- Rare cards are the most expensive regardless of set_type\n",
    "\n",
    "- In the charts there are only a few none rare cards in the top 100 high value price range.\n",
    "\n"
   ]
  },
  {
   "cell_type": "markdown",
   "id": "18f68a8b",
   "metadata": {},
   "source": [
    "Hypothesis 4\n",
    "- Is there a relationship between collector number and usd?"
   ]
  },
  {
   "cell_type": "code",
   "execution_count": 25,
   "id": "fe5cfb08",
   "metadata": {},
   "outputs": [
    {
     "data": {
      "text/plain": [
       "1        434\n",
       "5        388\n",
       "4        384\n",
       "2        384\n",
       "3        379\n",
       "        ... \n",
       "78p        1\n",
       "ll129      1\n",
       "E57        1\n",
       "65648      1\n",
       "1439       1\n",
       "Name: collector_number, Length: 6406, dtype: int64"
      ]
     },
     "execution_count": 25,
     "metadata": {},
     "output_type": "execute_result"
    }
   ],
   "source": [
    "# Amount of cards collected by top collectors.\n",
    "train['collector_number'].value_counts()"
   ]
  },
  {
   "cell_type": "code",
   "execution_count": 26,
   "id": "4457cfb5",
   "metadata": {},
   "outputs": [
    {
     "data": {
      "text/plain": [
       "<AxesSubplot:>"
      ]
     },
     "execution_count": 26,
     "metadata": {},
     "output_type": "execute_result"
    },
    {
     "data": {
      "image/png": "[encoded data removed]",
      "text/plain": [
       "<Figure size 432x288 with 1 Axes>"
      ]
     },
     "metadata": {
      "needs_background": "light"
     },
     "output_type": "display_data"
    }
   ],
   "source": [
    "df3.collector_number.hist()"
   ]
  },
  {
   "cell_type": "code",
   "execution_count": 27,
   "id": "ff2edbca",
   "metadata": {},
   "outputs": [
    {
     "data": {
      "text/plain": [
       "<AxesSubplot:xlabel='count', ylabel='collector_number'>"
      ]
     },
     "execution_count": 27,
     "metadata": {},
     "output_type": "execute_result"
    },
    {
     "data": {
      "image/png": "[encoded data removed]",
      "text/plain": [
       "<Figure size 432x288 with 1 Axes>"
      ]
     },
     "metadata": {
      "needs_background": "light"
     },
     "output_type": "display_data"
    }
   ],
   "source": [
    "sns.countplot(data= df3, y='collector_number')"
   ]
  },
  {
   "cell_type": "code",
   "execution_count": 45,
   "id": "65c228f1",
   "metadata": {},
   "outputs": [
    {
     "data": {
      "image/png": "[encoded data removed]",
      "text/plain": [
       "<Figure size 720x720 with 1 Axes>"
      ]
     },
     "metadata": {
      "needs_background": "light"
     },
     "output_type": "display_data"
    }
   ],
   "source": [
    "# Median price for all cards based Collector, Set Type and USD price\n",
    "def vis_collector_set_by_usd(train):\n",
    "    train2 = train.sort_values(by=['usd'], ascending=False,)[:20]\n",
    "    plt.figure(figsize=(10,10))\n",
    "    sns.barplot(data=train2, x='usd', y='collector_number', hue='set_type')\n",
    "    plt.title('Median price: collector_number vs USD price')\n",
    "    plt.xlabel('USD price')\n",
    "    plt.ylabel('collector_number')\n",
    "    plt.show()\n",
    "\n",
    "vis_collector_set_by_usd(train)"
   ]
  },
  {
   "cell_type": "markdown",
   "id": "956edbec",
   "metadata": {},
   "source": [
    "Takeaway:\n",
    "More information on the collecters would be need to complete this H0. But from this data it seems that the top collecters do seem to collects mostly core and expansion cards."
   ]
  },
  {
   "cell_type": "markdown",
   "id": "42550ca3",
   "metadata": {},
   "source": [
    "# Other Testing"
   ]
  },
  {
   "cell_type": "code",
   "execution_count": 53,
   "id": "0a586f21",
   "metadata": {},
   "outputs": [
    {
     "data": {
      "text/plain": [
       "                       9882\n",
       "{1}{W}                 1925\n",
       "no_mana_cost           1844\n",
       "{1}{G}                 1764\n",
       "{2}{G}                 1675\n",
       "                       ... \n",
       "{10}{G}{G}{G}{W}{W}       1\n",
       "{3}{R/W}                  1\n",
       "{5}{U}{B}{R}              1\n",
       "{8}{B}{B}{B}              1\n",
       "{1}{R} // {3}{G}          1\n",
       "Name: mana_cost, Length: 885, dtype: int64"
      ]
     },
     "execution_count": 53,
     "metadata": {},
     "output_type": "execute_result"
    }
   ],
   "source": [
    "df.mana_cost.value_counts()"
   ]
  },
  {
   "cell_type": "code",
   "execution_count": 54,
   "id": "387fd82a",
   "metadata": {},
   "outputs": [
    {
     "data": {
      "text/plain": [
       "<AxesSubplot:>"
      ]
     },
     "execution_count": 54,
     "metadata": {},
     "output_type": "execute_result"
    },
    {
     "data": {
      "image/png": "[encoded data removed]",
      "text/plain": [
       "<Figure size 432x288 with 1 Axes>"
      ]
     },
     "metadata": {
      "needs_background": "light"
     },
     "output_type": "display_data"
    }
   ],
   "source": [
    "train['mana_cost'].value_counts()[:20].plot(kind='barh')"
   ]
  },
  {
   "cell_type": "code",
   "execution_count": null,
   "id": "2555d7da",
   "metadata": {},
   "outputs": [],
   "source": []
  },
  {
   "cell_type": "code",
   "execution_count": null,
   "id": "1649adb0",
   "metadata": {},
   "outputs": [],
   "source": []
  },
  {
   "cell_type": "code",
   "execution_count": null,
   "id": "39878d30",
   "metadata": {},
   "outputs": [],
   "source": []
  },
  {
   "cell_type": "code",
   "execution_count": null,
   "id": "3c087464",
   "metadata": {},
   "outputs": [],
   "source": []
  },
  {
   "cell_type": "code",
   "execution_count": null,
   "id": "fe868d00",
   "metadata": {},
   "outputs": [],
   "source": []
  },
  {
   "cell_type": "code",
   "execution_count": null,
   "id": "7caf11e5",
   "metadata": {},
   "outputs": [],
   "source": []
  },
  {
   "cell_type": "code",
   "execution_count": null,
   "id": "c371a0b8",
   "metadata": {},
   "outputs": [],
   "source": []
  },
  {
   "cell_type": "code",
   "execution_count": null,
   "id": "1605c9b3",
   "metadata": {},
   "outputs": [],
   "source": []
  },
  {
   "cell_type": "code",
   "execution_count": null,
   "id": "ad9c65a0",
   "metadata": {},
   "outputs": [],
   "source": []
  },
  {
   "cell_type": "code",
   "execution_count": null,
   "id": "eec2864b",
   "metadata": {},
   "outputs": [],
   "source": []
  },
  {
   "cell_type": "code",
   "execution_count": null,
   "id": "710766cb",
   "metadata": {},
   "outputs": [],
   "source": []
  }
 ],
 "metadata": {
  "kernelspec": {
   "display_name": "Python 3 (ipykernel)",
   "language": "python",
   "name": "python3"
  },
  "language_info": {
   "codemirror_mode": {
    "name": "ipython",
    "version": 3
   },
   "file_extension": ".py",
   "mimetype": "text/x-python",
   "name": "python",
   "nbconvert_exporter": "python",
   "pygments_lexer": "ipython3",
   "version": "3.9.7"
  }
 },
 "nbformat": 4,
 "nbformat_minor": 5
}
