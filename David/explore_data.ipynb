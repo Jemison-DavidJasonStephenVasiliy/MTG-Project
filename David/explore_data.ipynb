{
 "cells": [
  {
   "cell_type": "code",
   "execution_count": 1,
   "id": "f468e701",
   "metadata": {},
   "outputs": [
    {
     "name": "stderr",
     "output_type": "stream",
     "text": [
      "/opt/homebrew/anaconda3/lib/python3.9/site-packages/scipy/__init__.py:146: UserWarning: A NumPy version >=1.16.5 and <1.23.0 is required for this version of SciPy (detected version 1.23.1\n",
      "  warnings.warn(f\"A NumPy version >={np_minversion} and <{np_maxversion}\"\n"
     ]
    }
   ],
   "source": [
    "import requests\n",
    "from requests import get\n",
    "import os\n",
    "import unicodedata\n",
    "import re\n",
    "import json\n",
    "\n",
    "import acquire as a\n",
    "import prepare as p\n",
    "\n",
    "import pandas as pd # to handle the dataframe\n",
    "import numpy as np\n",
    "from sklearn.model_selection import train_test_split\n",
    "\n",
    "%matplotlib inline\n",
    "import matplotlib.pyplot as plt\n",
    "import seaborn as sns\n"
   ]
  },
  {
   "cell_type": "code",
   "execution_count": 2,
   "id": "dc64a8ed",
   "metadata": {},
   "outputs": [
    {
     "name": "stdout",
     "output_type": "stream",
     "text": [
      "Getting file from URL...\n",
      "Retrieved data from url!\n",
      "Saved data to file!\n",
      "(70932, 83)\n"
     ]
    },
    {
     "data": {
      "text/plain": [
       "((40311, 60), (6719, 60), (6719, 60))"
      ]
     },
     "execution_count": 2,
     "metadata": {},
     "output_type": "execute_result"
    }
   ],
   "source": [
    "# Acquire and Prepare functions with train, validate and test\n",
    "df = a.get_data(query_url = False)\n",
    "print(df.shape)\n",
    "df = p.prepare_dataframe(df)\n",
    "train, validate, test = p.split_data(df)\n",
    "train.shape, validate.shape, test.shape"
   ]
  },
  {
   "cell_type": "code",
   "execution_count": 3,
   "id": "8b4cf102",
   "metadata": {},
   "outputs": [
    {
     "data": {
      "text/html": [
       "<div>\n",
       "<style scoped>\n",
       "    .dataframe tbody tr th:only-of-type {\n",
       "        vertical-align: middle;\n",
       "    }\n",
       "\n",
       "    .dataframe tbody tr th {\n",
       "        vertical-align: top;\n",
       "    }\n",
       "\n",
       "    .dataframe thead th {\n",
       "        text-align: right;\n",
       "    }\n",
       "</style>\n",
       "<table border=\"1\" class=\"dataframe\">\n",
       "  <thead>\n",
       "    <tr style=\"text-align: right;\">\n",
       "      <th></th>\n",
       "      <th>id</th>\n",
       "      <th>name</th>\n",
       "      <th>lang</th>\n",
       "      <th>released_at</th>\n",
       "      <th>layout</th>\n",
       "      <th>highres_image</th>\n",
       "      <th>image_status</th>\n",
       "      <th>mana_cost</th>\n",
       "      <th>cmc</th>\n",
       "      <th>type_line</th>\n",
       "      <th>...</th>\n",
       "      <th>printed_name</th>\n",
       "      <th>color_indicator</th>\n",
       "      <th>life_modifier</th>\n",
       "      <th>hand_modifier</th>\n",
       "      <th>content_warning</th>\n",
       "      <th>flavor_name</th>\n",
       "      <th>usd</th>\n",
       "      <th>is_foil</th>\n",
       "      <th>is_etched</th>\n",
       "      <th>is_glossy</th>\n",
       "    </tr>\n",
       "  </thead>\n",
       "  <tbody>\n",
       "    <tr>\n",
       "      <th>39296</th>\n",
       "      <td>8e1e4b26-0a2b-4078-adb3-1f66315afcf5</td>\n",
       "      <td>Goblin Razerunners</td>\n",
       "      <td>en</td>\n",
       "      <td>2017-10-24</td>\n",
       "      <td>normal</td>\n",
       "      <td>True</td>\n",
       "      <td>highres_scan</td>\n",
       "      <td>{2}{R}{R}</td>\n",
       "      <td>4.0</td>\n",
       "      <td>Creature — Goblin Warrior</td>\n",
       "      <td>...</td>\n",
       "      <td>no_printed_name</td>\n",
       "      <td>no_color_indicator</td>\n",
       "      <td>0.0</td>\n",
       "      <td>0.0</td>\n",
       "      <td>False</td>\n",
       "      <td>no_flavor</td>\n",
       "      <td>0.11</td>\n",
       "      <td>False</td>\n",
       "      <td>False</td>\n",
       "      <td>False</td>\n",
       "    </tr>\n",
       "    <tr>\n",
       "      <th>30783</th>\n",
       "      <td>6f2fc246-2e95-456f-aa4e-97768c4f4bb4</td>\n",
       "      <td>Rites of Initiation</td>\n",
       "      <td>en</td>\n",
       "      <td>2001-10-01</td>\n",
       "      <td>normal</td>\n",
       "      <td>True</td>\n",
       "      <td>highres_scan</td>\n",
       "      <td>{R}</td>\n",
       "      <td>1.0</td>\n",
       "      <td>Instant</td>\n",
       "      <td>...</td>\n",
       "      <td>no_printed_name</td>\n",
       "      <td>no_color_indicator</td>\n",
       "      <td>0.0</td>\n",
       "      <td>0.0</td>\n",
       "      <td>False</td>\n",
       "      <td>no_flavor</td>\n",
       "      <td>0.25</td>\n",
       "      <td>True</td>\n",
       "      <td>False</td>\n",
       "      <td>False</td>\n",
       "    </tr>\n",
       "    <tr>\n",
       "      <th>26765</th>\n",
       "      <td>606206c7-1a8a-46f4-b368-cf18e02f3df8</td>\n",
       "      <td>Undying Flames</td>\n",
       "      <td>en</td>\n",
       "      <td>2005-06-03</td>\n",
       "      <td>normal</td>\n",
       "      <td>True</td>\n",
       "      <td>highres_scan</td>\n",
       "      <td>{4}{R}{R}</td>\n",
       "      <td>6.0</td>\n",
       "      <td>Sorcery</td>\n",
       "      <td>...</td>\n",
       "      <td>no_printed_name</td>\n",
       "      <td>no_color_indicator</td>\n",
       "      <td>0.0</td>\n",
       "      <td>0.0</td>\n",
       "      <td>False</td>\n",
       "      <td>no_flavor</td>\n",
       "      <td>0.30</td>\n",
       "      <td>True</td>\n",
       "      <td>False</td>\n",
       "      <td>False</td>\n",
       "    </tr>\n",
       "    <tr>\n",
       "      <th>8690</th>\n",
       "      <td>1f391555-4697-4492-9854-32393f473104</td>\n",
       "      <td>Bombard</td>\n",
       "      <td>en</td>\n",
       "      <td>2018-11-16</td>\n",
       "      <td>normal</td>\n",
       "      <td>True</td>\n",
       "      <td>highres_scan</td>\n",
       "      <td>{2}{R}</td>\n",
       "      <td>3.0</td>\n",
       "      <td>Instant</td>\n",
       "      <td>...</td>\n",
       "      <td>no_printed_name</td>\n",
       "      <td>no_color_indicator</td>\n",
       "      <td>0.0</td>\n",
       "      <td>0.0</td>\n",
       "      <td>False</td>\n",
       "      <td>no_flavor</td>\n",
       "      <td>0.05</td>\n",
       "      <td>False</td>\n",
       "      <td>False</td>\n",
       "      <td>False</td>\n",
       "    </tr>\n",
       "    <tr>\n",
       "      <th>25570</th>\n",
       "      <td>5c1f3f52-cb9b-4b2a-bb02-6175897ae76e</td>\n",
       "      <td>Our Market Research Shows That Players Like Re...</td>\n",
       "      <td>en</td>\n",
       "      <td>2004-11-19</td>\n",
       "      <td>normal</td>\n",
       "      <td>True</td>\n",
       "      <td>highres_scan</td>\n",
       "      <td>{1}{G}{G}</td>\n",
       "      <td>3.0</td>\n",
       "      <td>Creature — Elemental</td>\n",
       "      <td>...</td>\n",
       "      <td>no_printed_name</td>\n",
       "      <td>no_color_indicator</td>\n",
       "      <td>0.0</td>\n",
       "      <td>0.0</td>\n",
       "      <td>False</td>\n",
       "      <td>no_flavor</td>\n",
       "      <td>0.20</td>\n",
       "      <td>True</td>\n",
       "      <td>False</td>\n",
       "      <td>False</td>\n",
       "    </tr>\n",
       "  </tbody>\n",
       "</table>\n",
       "<p>5 rows × 60 columns</p>\n",
       "</div>"
      ],
      "text/plain": [
       "                                         id  \\\n",
       "39296  8e1e4b26-0a2b-4078-adb3-1f66315afcf5   \n",
       "30783  6f2fc246-2e95-456f-aa4e-97768c4f4bb4   \n",
       "26765  606206c7-1a8a-46f4-b368-cf18e02f3df8   \n",
       "8690   1f391555-4697-4492-9854-32393f473104   \n",
       "25570  5c1f3f52-cb9b-4b2a-bb02-6175897ae76e   \n",
       "\n",
       "                                                    name lang released_at  \\\n",
       "39296                                 Goblin Razerunners   en  2017-10-24   \n",
       "30783                                Rites of Initiation   en  2001-10-01   \n",
       "26765                                     Undying Flames   en  2005-06-03   \n",
       "8690                                             Bombard   en  2018-11-16   \n",
       "25570  Our Market Research Shows That Players Like Re...   en  2004-11-19   \n",
       "\n",
       "       layout  highres_image  image_status  mana_cost  cmc  \\\n",
       "39296  normal           True  highres_scan  {2}{R}{R}  4.0   \n",
       "30783  normal           True  highres_scan        {R}  1.0   \n",
       "26765  normal           True  highres_scan  {4}{R}{R}  6.0   \n",
       "8690   normal           True  highres_scan     {2}{R}  3.0   \n",
       "25570  normal           True  highres_scan  {1}{G}{G}  3.0   \n",
       "\n",
       "                       type_line  ...     printed_name     color_indicator  \\\n",
       "39296  Creature — Goblin Warrior  ...  no_printed_name  no_color_indicator   \n",
       "30783                    Instant  ...  no_printed_name  no_color_indicator   \n",
       "26765                    Sorcery  ...  no_printed_name  no_color_indicator   \n",
       "8690                     Instant  ...  no_printed_name  no_color_indicator   \n",
       "25570       Creature — Elemental  ...  no_printed_name  no_color_indicator   \n",
       "\n",
       "      life_modifier hand_modifier content_warning flavor_name   usd is_foil  \\\n",
       "39296           0.0           0.0           False   no_flavor  0.11   False   \n",
       "30783           0.0           0.0           False   no_flavor  0.25    True   \n",
       "26765           0.0           0.0           False   no_flavor  0.30    True   \n",
       "8690            0.0           0.0           False   no_flavor  0.05   False   \n",
       "25570           0.0           0.0           False   no_flavor  0.20    True   \n",
       "\n",
       "       is_etched  is_glossy  \n",
       "39296      False      False  \n",
       "30783      False      False  \n",
       "26765      False      False  \n",
       "8690       False      False  \n",
       "25570      False      False  \n",
       "\n",
       "[5 rows x 60 columns]"
      ]
     },
     "execution_count": 3,
     "metadata": {},
     "output_type": "execute_result"
    }
   ],
   "source": [
    "train.head()"
   ]
  },
  {
   "cell_type": "code",
   "execution_count": 4,
   "id": "94964a2a",
   "metadata": {},
   "outputs": [
    {
     "name": "stdout",
     "output_type": "stream",
     "text": [
      "<class 'pandas.core.frame.DataFrame'>\n",
      "Int64Index: 40311 entries, 39296 to 2198\n",
      "Data columns (total 60 columns):\n",
      " #   Column            Non-Null Count  Dtype         \n",
      "---  ------            --------------  -----         \n",
      " 0   id                40311 non-null  object        \n",
      " 1   name              40311 non-null  object        \n",
      " 2   lang              40311 non-null  object        \n",
      " 3   released_at       40311 non-null  datetime64[ns]\n",
      " 4   layout            40311 non-null  object        \n",
      " 5   highres_image     40311 non-null  bool          \n",
      " 6   image_status      40311 non-null  object        \n",
      " 7   mana_cost         40311 non-null  object        \n",
      " 8   cmc               40311 non-null  float64       \n",
      " 9   type_line         40311 non-null  object        \n",
      " 10  oracle_text       40311 non-null  object        \n",
      " 11  power             40311 non-null  object        \n",
      " 12  toughness         40311 non-null  object        \n",
      " 13  colors            40311 non-null  object        \n",
      " 14  color_identity    40311 non-null  object        \n",
      " 15  keywords          40311 non-null  object        \n",
      " 16  legalities        40311 non-null  object        \n",
      " 17  games             40311 non-null  object        \n",
      " 18  reserved          40311 non-null  bool          \n",
      " 19  foil              40311 non-null  bool          \n",
      " 20  nonfoil           40311 non-null  bool          \n",
      " 21  finishes          40311 non-null  object        \n",
      " 22  oversized         40311 non-null  bool          \n",
      " 23  promo             40311 non-null  bool          \n",
      " 24  reprint           40311 non-null  bool          \n",
      " 25  variation         40311 non-null  bool          \n",
      " 26  set_id            40311 non-null  object        \n",
      " 27  set               40311 non-null  object        \n",
      " 28  set_name          40311 non-null  object        \n",
      " 29  set_type          40311 non-null  object        \n",
      " 30  collector_number  40311 non-null  object        \n",
      " 31  digital           40311 non-null  bool          \n",
      " 32  rarity            40311 non-null  object        \n",
      " 33  flavor_text       40311 non-null  object        \n",
      " 34  artist            40311 non-null  object        \n",
      " 35  border_color      40311 non-null  object        \n",
      " 36  frame             40311 non-null  object        \n",
      " 37  full_art          40311 non-null  bool          \n",
      " 38  textless          40311 non-null  bool          \n",
      " 39  booster           40311 non-null  bool          \n",
      " 40  story_spotlight   40311 non-null  bool          \n",
      " 41  edhrec_rank       40311 non-null  float64       \n",
      " 42  penny_rank        40311 non-null  float64       \n",
      " 43  prices            40311 non-null  object        \n",
      " 44  promo_types       40311 non-null  object        \n",
      " 45  security_stamp    40311 non-null  object        \n",
      " 46  produced_mana     40311 non-null  object        \n",
      " 47  watermark         40311 non-null  object        \n",
      " 48  frame_effects     40311 non-null  object        \n",
      " 49  loyalty           40311 non-null  object        \n",
      " 50  printed_name      40311 non-null  object        \n",
      " 51  color_indicator   40311 non-null  object        \n",
      " 52  life_modifier     40311 non-null  float64       \n",
      " 53  hand_modifier     40311 non-null  float64       \n",
      " 54  content_warning   40311 non-null  bool          \n",
      " 55  flavor_name       40311 non-null  object        \n",
      " 56  usd               40311 non-null  float64       \n",
      " 57  is_foil           40311 non-null  bool          \n",
      " 58  is_etched         40311 non-null  bool          \n",
      " 59  is_glossy         40311 non-null  bool          \n",
      "dtypes: bool(17), datetime64[ns](1), float64(6), object(36)\n",
      "memory usage: 14.2+ MB\n"
     ]
    }
   ],
   "source": [
    "train.info()"
   ]
  },
  {
   "cell_type": "raw",
   "id": "addf6e58",
   "metadata": {},
   "source": [
    "https://www.dicebreaker.com/games/magic-the-gathering-game/best-games/most-expensive-mtg-cards"
   ]
  },
  {
   "cell_type": "markdown",
   "id": "688f6adb",
   "metadata": {},
   "source": [
    "# Hypothesis 1\n",
    "- H0:The amount of cards created is not = to the artist value.\n",
    "- HA:The amount of cards created is not = to the artist value."
   ]
  },
  {
   "cell_type": "code",
   "execution_count": 5,
   "id": "2973bca6",
   "metadata": {},
   "outputs": [
    {
     "data": {
      "text/plain": [
       "common      20294\n",
       "rare        16059\n",
       "uncommon    14595\n",
       "mythic       2554\n",
       "special       247\n",
       "Name: rarity, dtype: int64"
      ]
     },
     "execution_count": 5,
     "metadata": {},
     "output_type": "execute_result"
    }
   ],
   "source": [
    "# Rarity card count\n",
    "df.rarity.value_counts()"
   ]
  },
  {
   "cell_type": "code",
   "execution_count": 6,
   "id": "09b8e6d4",
   "metadata": {},
   "outputs": [
    {
     "data": {
      "text/plain": [
       "0.10      1609\n",
       "0.09      1301\n",
       "0.08      1168\n",
       "0.05      1165\n",
       "0.06      1127\n",
       "          ... \n",
       "15.95        1\n",
       "445.00       1\n",
       "19.94        1\n",
       "38.90        1\n",
       "61.97        1\n",
       "Name: usd, Length: 2878, dtype: int64"
      ]
     },
     "execution_count": 6,
     "metadata": {},
     "output_type": "execute_result"
    }
   ],
   "source": [
    "train['usd'].value_counts()"
   ]
  },
  {
   "cell_type": "code",
   "execution_count": 7,
   "id": "0d7bba30",
   "metadata": {},
   "outputs": [
    {
     "data": {
      "text/plain": [
       "<AxesSubplot:>"
      ]
     },
     "execution_count": 7,
     "metadata": {},
     "output_type": "execute_result"
    },
    {
     "data": {
      "image/png": "[encoded data removed]",
      "text/plain": [
       "<Figure size 432x288 with 1 Axes>"
      ]
     },
     "metadata": {
      "needs_background": "light"
     },
     "output_type": "display_data"
    }
   ],
   "source": [
    "# Top 20 artist who created the most cards\n",
    "train['artist'].value_counts()[:20].plot(kind='barh')"
   ]
  },
  {
   "cell_type": "code",
   "execution_count": 8,
   "id": "2be7684d",
   "metadata": {},
   "outputs": [
    {
     "data": {
      "text/plain": [
       "<AxesSubplot:>"
      ]
     },
     "execution_count": 8,
     "metadata": {},
     "output_type": "execute_result"
    },
    {
     "data": {
      "image/png": "[encoded data removed]",
      "text/plain": [
       "<Figure size 432x288 with 1 Axes>"
      ]
     },
     "metadata": {
      "needs_background": "light"
     },
     "output_type": "display_data"
    }
   ],
   "source": [
    "# Count of cards by rarity\n",
    "train.rarity.hist()"
   ]
  },
  {
   "cell_type": "code",
   "execution_count": 9,
   "id": "489fa7cc",
   "metadata": {},
   "outputs": [
    {
     "name": "stdout",
     "output_type": "stream",
     "text": [
      "<class 'pandas.core.frame.DataFrame'>\n",
      "Int64Index: 40311 entries, 39296 to 2198\n",
      "Columns: 60 entries, id to is_glossy\n",
      "dtypes: bool(17), datetime64[ns](1), float64(6), object(36)\n",
      "memory usage: 14.2+ MB\n"
     ]
    }
   ],
   "source": [
    "# filter out lands and tokens \n",
    "\n",
    "train = train.loc[train['rarity'].isin(['common', 'uncommon', 'rare', \n",
    "                                        'mythic', 'special', 'bonus'])]\n",
    "train.info(verbose=False)"
   ]
  },
  {
   "cell_type": "markdown",
   "id": "3aa395fd",
   "metadata": {},
   "source": [
    "This gives 53199 cards."
   ]
  },
  {
   "cell_type": "code",
   "execution_count": 10,
   "id": "7f1d9385",
   "metadata": {},
   "outputs": [],
   "source": [
    "# show only data from the selected columns\n",
    "df2 = train[['name', 'set_type', 'artist', 'rarity', 'usd', 'collector_number']]\n"
   ]
  },
  {
   "cell_type": "code",
   "execution_count": 30,
   "id": "827ca801",
   "metadata": {},
   "outputs": [],
   "source": [
    "# show only data from top 40 cards by price\n",
    "df3 = df2.loc[:,'name':'collector_number'].sort_values(by=['usd'], ascending=False,)[:20]"
   ]
  },
  {
   "cell_type": "code",
   "execution_count": 31,
   "id": "7a60cd80",
   "metadata": {},
   "outputs": [
    {
     "data": {
      "text/html": [
       "<div>\n",
       "<style scoped>\n",
       "    .dataframe tbody tr th:only-of-type {\n",
       "        vertical-align: middle;\n",
       "    }\n",
       "\n",
       "    .dataframe tbody tr th {\n",
       "        vertical-align: top;\n",
       "    }\n",
       "\n",
       "    .dataframe thead th {\n",
       "        text-align: right;\n",
       "    }\n",
       "</style>\n",
       "<table border=\"1\" class=\"dataframe\">\n",
       "  <thead>\n",
       "    <tr style=\"text-align: right;\">\n",
       "      <th></th>\n",
       "      <th>name</th>\n",
       "      <th>set_type</th>\n",
       "      <th>artist</th>\n",
       "      <th>rarity</th>\n",
       "      <th>usd</th>\n",
       "      <th>collector_number</th>\n",
       "    </tr>\n",
       "  </thead>\n",
       "  <tbody>\n",
       "    <tr>\n",
       "      <th>12737</th>\n",
       "      <td>Ancestral Recall</td>\n",
       "      <td>core</td>\n",
       "      <td>Mark Poole</td>\n",
       "      <td>rare</td>\n",
       "      <td>6999.99</td>\n",
       "      <td>48</td>\n",
       "    </tr>\n",
       "    <tr>\n",
       "      <th>47092</th>\n",
       "      <td>Tropical Island</td>\n",
       "      <td>core</td>\n",
       "      <td>Jesper Myrfors</td>\n",
       "      <td>rare</td>\n",
       "      <td>6000.00</td>\n",
       "      <td>283</td>\n",
       "    </tr>\n",
       "    <tr>\n",
       "      <th>497</th>\n",
       "      <td>Timetwister</td>\n",
       "      <td>core</td>\n",
       "      <td>Mark Tedin</td>\n",
       "      <td>rare</td>\n",
       "      <td>5732.99</td>\n",
       "      <td>85</td>\n",
       "    </tr>\n",
       "    <tr>\n",
       "      <th>27959</th>\n",
       "      <td>The Tabernacle at Pendrell Vale</td>\n",
       "      <td>expansion</td>\n",
       "      <td>Nicola Leonard</td>\n",
       "      <td>rare</td>\n",
       "      <td>3888.00</td>\n",
       "      <td>307</td>\n",
       "    </tr>\n",
       "    <tr>\n",
       "      <th>31249</th>\n",
       "      <td>Mox Jet</td>\n",
       "      <td>core</td>\n",
       "      <td>Dan Frazier</td>\n",
       "      <td>rare</td>\n",
       "      <td>3099.99</td>\n",
       "      <td>263</td>\n",
       "    </tr>\n",
       "    <tr>\n",
       "      <th>48249</th>\n",
       "      <td>Time Walk</td>\n",
       "      <td>core</td>\n",
       "      <td>Amy Weber</td>\n",
       "      <td>rare</td>\n",
       "      <td>2999.00</td>\n",
       "      <td>84</td>\n",
       "    </tr>\n",
       "    <tr>\n",
       "      <th>55578</th>\n",
       "      <td>Mox Pearl</td>\n",
       "      <td>core</td>\n",
       "      <td>Dan Frazier</td>\n",
       "      <td>rare</td>\n",
       "      <td>2879.99</td>\n",
       "      <td>264</td>\n",
       "    </tr>\n",
       "    <tr>\n",
       "      <th>70206</th>\n",
       "      <td>Copy Artifact</td>\n",
       "      <td>core</td>\n",
       "      <td>Amy Weber</td>\n",
       "      <td>rare</td>\n",
       "      <td>2849.99</td>\n",
       "      <td>53</td>\n",
       "    </tr>\n",
       "    <tr>\n",
       "      <th>5467</th>\n",
       "      <td>Mishra's Workshop</td>\n",
       "      <td>expansion</td>\n",
       "      <td>Kaja Foglio</td>\n",
       "      <td>rare</td>\n",
       "      <td>2700.00</td>\n",
       "      <td>81</td>\n",
       "    </tr>\n",
       "    <tr>\n",
       "      <th>13853</th>\n",
       "      <td>Juzám Djinn</td>\n",
       "      <td>expansion</td>\n",
       "      <td>Mark Tedin</td>\n",
       "      <td>rare</td>\n",
       "      <td>2499.94</td>\n",
       "      <td>29</td>\n",
       "    </tr>\n",
       "    <tr>\n",
       "      <th>66079</th>\n",
       "      <td>Library of Alexandria</td>\n",
       "      <td>expansion</td>\n",
       "      <td>Mark Poole</td>\n",
       "      <td>uncommon</td>\n",
       "      <td>2000.50</td>\n",
       "      <td>76</td>\n",
       "    </tr>\n",
       "    <tr>\n",
       "      <th>35941</th>\n",
       "      <td>Imperial Seal</td>\n",
       "      <td>starter</td>\n",
       "      <td>Li Tie</td>\n",
       "      <td>rare</td>\n",
       "      <td>1787.50</td>\n",
       "      <td>78</td>\n",
       "    </tr>\n",
       "    <tr>\n",
       "      <th>52316</th>\n",
       "      <td>Underground Sea</td>\n",
       "      <td>core</td>\n",
       "      <td>Rob Alexander</td>\n",
       "      <td>rare</td>\n",
       "      <td>1698.99</td>\n",
       "      <td>286</td>\n",
       "    </tr>\n",
       "    <tr>\n",
       "      <th>12145</th>\n",
       "      <td>Chains of Mephistopheles</td>\n",
       "      <td>expansion</td>\n",
       "      <td>Heather Hudson</td>\n",
       "      <td>rare</td>\n",
       "      <td>1578.94</td>\n",
       "      <td>91</td>\n",
       "    </tr>\n",
       "    <tr>\n",
       "      <th>5858</th>\n",
       "      <td>Timetwister</td>\n",
       "      <td>memorabilia</td>\n",
       "      <td>Mark Tedin</td>\n",
       "      <td>rare</td>\n",
       "      <td>1537.50</td>\n",
       "      <td>85</td>\n",
       "    </tr>\n",
       "    <tr>\n",
       "      <th>36782</th>\n",
       "      <td>Tropical Island</td>\n",
       "      <td>core</td>\n",
       "      <td>Jesper Myrfors</td>\n",
       "      <td>rare</td>\n",
       "      <td>1490.00</td>\n",
       "      <td>284</td>\n",
       "    </tr>\n",
       "    <tr>\n",
       "      <th>14981</th>\n",
       "      <td>Candelabra of Tawnos</td>\n",
       "      <td>expansion</td>\n",
       "      <td>Douglas Shuler</td>\n",
       "      <td>rare</td>\n",
       "      <td>1468.97</td>\n",
       "      <td>43</td>\n",
       "    </tr>\n",
       "    <tr>\n",
       "      <th>43725</th>\n",
       "      <td>Volcanic Island</td>\n",
       "      <td>core</td>\n",
       "      <td>Brian Snõddy</td>\n",
       "      <td>rare</td>\n",
       "      <td>1433.00</td>\n",
       "      <td>287</td>\n",
       "    </tr>\n",
       "    <tr>\n",
       "      <th>18363</th>\n",
       "      <td>Lich</td>\n",
       "      <td>core</td>\n",
       "      <td>Daniel Gelon</td>\n",
       "      <td>rare</td>\n",
       "      <td>1375.00</td>\n",
       "      <td>113</td>\n",
       "    </tr>\n",
       "    <tr>\n",
       "      <th>39052</th>\n",
       "      <td>Underground Sea</td>\n",
       "      <td>core</td>\n",
       "      <td>Rob Alexander</td>\n",
       "      <td>rare</td>\n",
       "      <td>1299.99</td>\n",
       "      <td>290</td>\n",
       "    </tr>\n",
       "  </tbody>\n",
       "</table>\n",
       "</div>"
      ],
      "text/plain": [
       "                                  name     set_type          artist    rarity  \\\n",
       "12737                 Ancestral Recall         core      Mark Poole      rare   \n",
       "47092                  Tropical Island         core  Jesper Myrfors      rare   \n",
       "497                        Timetwister         core      Mark Tedin      rare   \n",
       "27959  The Tabernacle at Pendrell Vale    expansion  Nicola Leonard      rare   \n",
       "31249                          Mox Jet         core     Dan Frazier      rare   \n",
       "48249                        Time Walk         core       Amy Weber      rare   \n",
       "55578                        Mox Pearl         core     Dan Frazier      rare   \n",
       "70206                    Copy Artifact         core       Amy Weber      rare   \n",
       "5467                 Mishra's Workshop    expansion     Kaja Foglio      rare   \n",
       "13853                      Juzám Djinn    expansion      Mark Tedin      rare   \n",
       "66079            Library of Alexandria    expansion      Mark Poole  uncommon   \n",
       "35941                    Imperial Seal      starter          Li Tie      rare   \n",
       "52316                  Underground Sea         core   Rob Alexander      rare   \n",
       "12145         Chains of Mephistopheles    expansion  Heather Hudson      rare   \n",
       "5858                       Timetwister  memorabilia      Mark Tedin      rare   \n",
       "36782                  Tropical Island         core  Jesper Myrfors      rare   \n",
       "14981             Candelabra of Tawnos    expansion  Douglas Shuler      rare   \n",
       "43725                  Volcanic Island         core    Brian Snõddy      rare   \n",
       "18363                             Lich         core    Daniel Gelon      rare   \n",
       "39052                  Underground Sea         core   Rob Alexander      rare   \n",
       "\n",
       "           usd collector_number  \n",
       "12737  6999.99               48  \n",
       "47092  6000.00              283  \n",
       "497    5732.99               85  \n",
       "27959  3888.00              307  \n",
       "31249  3099.99              263  \n",
       "48249  2999.00               84  \n",
       "55578  2879.99              264  \n",
       "70206  2849.99               53  \n",
       "5467   2700.00               81  \n",
       "13853  2499.94               29  \n",
       "66079  2000.50               76  \n",
       "35941  1787.50               78  \n",
       "52316  1698.99              286  \n",
       "12145  1578.94               91  \n",
       "5858   1537.50               85  \n",
       "36782  1490.00              284  \n",
       "14981  1468.97               43  \n",
       "43725  1433.00              287  \n",
       "18363  1375.00              113  \n",
       "39052  1299.99              290  "
      ]
     },
     "execution_count": 31,
     "metadata": {},
     "output_type": "execute_result"
    }
   ],
   "source": [
    "df3"
   ]
  },
  {
   "cell_type": "code",
   "execution_count": 32,
   "id": "0912d592",
   "metadata": {},
   "outputs": [
    {
     "name": "stdout",
     "output_type": "stream",
     "text": [
      "<class 'pandas.core.frame.DataFrame'>\n",
      "Int64Index: 20 entries, 12737 to 39052\n",
      "Data columns (total 6 columns):\n",
      " #   Column            Non-Null Count  Dtype  \n",
      "---  ------            --------------  -----  \n",
      " 0   name              20 non-null     object \n",
      " 1   set_type          20 non-null     object \n",
      " 2   artist            20 non-null     object \n",
      " 3   rarity            20 non-null     object \n",
      " 4   usd               20 non-null     float64\n",
      " 5   collector_number  20 non-null     object \n",
      "dtypes: float64(1), object(5)\n",
      "memory usage: 1.1+ KB\n"
     ]
    }
   ],
   "source": [
    "df3.info()"
   ]
  },
  {
   "cell_type": "markdown",
   "id": "b9c83fbf",
   "metadata": {},
   "source": [
    "### Visualization\n",
    "\n",
    "Used the top 100 cards based on value to chart results."
   ]
  },
  {
   "cell_type": "code",
   "execution_count": 33,
   "id": "48771735",
   "metadata": {},
   "outputs": [
    {
     "data": {
      "text/plain": [
       "<AxesSubplot:>"
      ]
     },
     "execution_count": 33,
     "metadata": {},
     "output_type": "execute_result"
    },
    {
     "data": {
      "image/png": "[encoded data removed]",
      "text/plain": [
       "<Figure size 432x288 with 1 Axes>"
      ]
     },
     "metadata": {
      "needs_background": "light"
     },
     "output_type": "display_data"
    }
   ],
   "source": [
    "# Plot top 100 cards and artist by amount of cards created\n",
    "df3['artist'].value_counts().plot(kind='barh')"
   ]
  },
  {
   "cell_type": "code",
   "execution_count": 34,
   "id": "bf4e8b40",
   "metadata": {},
   "outputs": [
    {
     "data": {
      "image/png": "[encoded data removed]",
      "text/plain": [
       "<Figure size 720x720 with 1 Axes>"
      ]
     },
     "metadata": {
      "needs_background": "light"
     },
     "output_type": "display_data"
    }
   ],
   "source": [
    "# Bar plor to show Artist and USD price, for top artist\n",
    "def vis_artist_by_usd(df3):\n",
    "    plt.figure(figsize=(10,10))\n",
    "    sns.barplot(data=df3, x='usd', y='artist')\n",
    "    plt.title('Rarity vs Artist/USD price')\n",
    "    plt.xlabel('USD price')\n",
    "    plt.ylabel('Artist name')\n",
    "    plt.show()\n",
    "\n",
    "vis_artist_by_usd(df3)\n"
   ]
  },
  {
   "cell_type": "code",
   "execution_count": 35,
   "id": "644759d4",
   "metadata": {},
   "outputs": [
    {
     "data": {
      "image/png": "[encoded data removed]",
      "text/plain": [
       "<Figure size 720x720 with 1 Axes>"
      ]
     },
     "metadata": {
      "needs_background": "light"
     },
     "output_type": "display_data"
    }
   ],
   "source": [
    "# Median price for all cards based on Rarity and USD price\n",
    "def vis_rarity_by_usd(df):\n",
    "    plt.figure(figsize=(10,10))\n",
    "    sns.barplot(data=df, x='usd', y='rarity')\n",
    "    plt.title('Median price: Rarity vs USD price')\n",
    "    plt.xlabel('USD price')\n",
    "    plt.ylabel('Artist name')\n",
    "    plt.show()\n",
    "\n",
    "vis_rarity_by_usd(df)\n"
   ]
  },
  {
   "cell_type": "code",
   "execution_count": 36,
   "id": "d4433f47",
   "metadata": {},
   "outputs": [
    {
     "data": {
      "text/plain": [
       "common      20294\n",
       "rare        16059\n",
       "uncommon    14595\n",
       "mythic       2554\n",
       "special       247\n",
       "Name: rarity, dtype: int64"
      ]
     },
     "execution_count": 36,
     "metadata": {},
     "output_type": "execute_result"
    }
   ],
   "source": [
    "df.rarity.value_counts()\n"
   ]
  },
  {
   "cell_type": "markdown",
   "id": "ad570a0f",
   "metadata": {},
   "source": [
    "### Key takeaway\n",
    "\n",
    "- The amount of cards created is not = to the artist value.\n",
    "\n",
    "- In the charts artist Jon Avon created the most cards but the artist Christopher Rush created the most expensive card(Black Lotus)\n",
    "\n"
   ]
  },
  {
   "cell_type": "markdown",
   "id": "3884f16b",
   "metadata": {},
   "source": [
    "# Hypothesis 2\n",
    "- H0: artist and rarity of cards is = to price \n",
    "- HA: artist and rarity of cards is not = to price"
   ]
  },
  {
   "cell_type": "code",
   "execution_count": 37,
   "id": "6d001774",
   "metadata": {},
   "outputs": [
    {
     "data": {
      "image/png": "[encoded data removed]",
      "text/plain": [
       "<Figure size 720x720 with 1 Axes>"
      ]
     },
     "metadata": {
      "needs_background": "light"
     },
     "output_type": "display_data"
    }
   ],
   "source": [
    "# Bar plot to show Artist, USD price and rarity of cards for top artist\n",
    "def vis_artist_by_usd(df3):\n",
    "    plt.figure(figsize=(10,10))\n",
    "    sns.barplot(data=df3, x='usd', y='artist', hue='rarity')\n",
    "    plt.title('Rarity vs Artist/USD price')\n",
    "    plt.xlabel('USD price')\n",
    "    plt.ylabel('Artist name')\n",
    "    plt.show()\n",
    "\n",
    "vis_artist_by_usd(df3)"
   ]
  },
  {
   "cell_type": "markdown",
   "id": "ec81c1a0",
   "metadata": {},
   "source": [
    "### Key takeaway\n",
    "\n",
    "- The artist and rarity of cards is not = to price\n",
    "\n",
    "- In the charts only one none rare card is in the high value price range.\n"
   ]
  },
  {
   "cell_type": "markdown",
   "id": "0d341e79",
   "metadata": {},
   "source": [
    "# Hypothesis 3\n",
    "- H0: set_type and rarity of cards is = to price \n",
    "- HA: set_type and rarity of cards is not = to price"
   ]
  },
  {
   "cell_type": "code",
   "execution_count": 38,
   "id": "0ba735d3",
   "metadata": {},
   "outputs": [
    {
     "data": {
      "text/plain": [
       "expansion           22211\n",
       "core                 6780\n",
       "masters              5620\n",
       "commander            5475\n",
       "draft_innovation     3910\n",
       "duel_deck            1793\n",
       "memorabilia          1473\n",
       "promo                1434\n",
       "box                  1341\n",
       "token                 865\n",
       "funny                 834\n",
       "starter               820\n",
       "planechase            645\n",
       "archenemy             324\n",
       "masterpiece           156\n",
       "vanguard               28\n",
       "spellbook              24\n",
       "arsenal                16\n",
       "Name: set_type, dtype: int64"
      ]
     },
     "execution_count": 38,
     "metadata": {},
     "output_type": "execute_result"
    }
   ],
   "source": [
    "# Cards value count to set_types\n",
    "df.set_type.value_counts()"
   ]
  },
  {
   "cell_type": "code",
   "execution_count": 39,
   "id": "613c4829",
   "metadata": {},
   "outputs": [
    {
     "data": {
      "text/plain": [
       "<AxesSubplot:xlabel='count', ylabel='set_type'>"
      ]
     },
     "execution_count": 39,
     "metadata": {},
     "output_type": "execute_result"
    },
    {
     "data": {
      "image/png": "[encoded data removed]",
      "text/plain": [
       "<Figure size 432x288 with 1 Axes>"
      ]
     },
     "metadata": {
      "needs_background": "light"
     },
     "output_type": "display_data"
    }
   ],
   "source": [
    "# Most expensive cards by set_type\n",
    "sns.countplot(data= df, y='set_type')"
   ]
  },
  {
   "cell_type": "code",
   "execution_count": 40,
   "id": "f7f9683d",
   "metadata": {},
   "outputs": [
    {
     "data": {
      "image/png": "[encoded data removed]",
      "text/plain": [
       "<Figure size 720x720 with 1 Axes>"
      ]
     },
     "metadata": {
      "needs_background": "light"
     },
     "output_type": "display_data"
    }
   ],
   "source": [
    "# top 100 cards: Set_type and Rarity \n",
    "def usd_rarity_set_type_total(df3):\n",
    "    plt.figure(figsize=(10,10))\n",
    "    sns.barplot(data=df3, x='usd', y='set_type', hue='rarity', estimator=sum)\n",
    "    plt.title('Price vs Set_type/Rarity')\n",
    "    plt.xlabel('USD price')\n",
    "    plt.ylabel('Set_type')\n",
    "    plt.show()\n",
    "\n",
    "usd_rarity_set_type_total(df3)"
   ]
  },
  {
   "cell_type": "markdown",
   "id": "85773c37",
   "metadata": {},
   "source": [
    "### Key takeaway\n",
    "\n",
    "- Rare cards are the most expensive regardless of set_type\n",
    "\n",
    "- In the charts there are only a few none rare cards in the top 100 high value price range.\n",
    "\n"
   ]
  },
  {
   "cell_type": "markdown",
   "id": "18f68a8b",
   "metadata": {},
   "source": [
    "Hypothesis 4\n",
    "- Is there a relationship between collector number and usd?"
   ]
  },
  {
   "cell_type": "code",
   "execution_count": 41,
   "id": "fe5cfb08",
   "metadata": {},
   "outputs": [
    {
     "data": {
      "text/plain": [
       "3          245\n",
       "2          240\n",
       "5          233\n",
       "1          231\n",
       "6          226\n",
       "          ... \n",
       "T3           1\n",
       "1669         1\n",
       "jk262sb      1\n",
       "57p          1\n",
       "117s         1\n",
       "Name: collector_number, Length: 2848, dtype: int64"
      ]
     },
     "execution_count": 41,
     "metadata": {},
     "output_type": "execute_result"
    }
   ],
   "source": [
    "# Amount of cards collected by top collectors.\n",
    "train['collector_number'].value_counts()"
   ]
  },
  {
   "cell_type": "code",
   "execution_count": 42,
   "id": "4457cfb5",
   "metadata": {},
   "outputs": [
    {
     "data": {
      "text/plain": [
       "<AxesSubplot:>"
      ]
     },
     "execution_count": 42,
     "metadata": {},
     "output_type": "execute_result"
    },
    {
     "data": {
      "image/png": "[encoded data removed]",
      "text/plain": [
       "<Figure size 432x288 with 1 Axes>"
      ]
     },
     "metadata": {
      "needs_background": "light"
     },
     "output_type": "display_data"
    }
   ],
   "source": [
    "df3.collector_number.hist()"
   ]
  },
  {
   "cell_type": "code",
   "execution_count": 48,
   "id": "ff2edbca",
   "metadata": {},
   "outputs": [
    {
     "data": {
      "text/plain": [
       "<AxesSubplot:xlabel='count', ylabel='collector_number'>"
      ]
     },
     "execution_count": 48,
     "metadata": {},
     "output_type": "execute_result"
    },
    {
     "data": {
      "image/png": "[encoded data removed]",
      "text/plain": [
       "<Figure size 432x288 with 1 Axes>"
      ]
     },
     "metadata": {
      "needs_background": "light"
     },
     "output_type": "display_data"
    }
   ],
   "source": [
    "sns.countplot(data= df3, y='collector_number')"
   ]
  },
  {
   "cell_type": "code",
   "execution_count": 46,
   "id": "65c228f1",
   "metadata": {},
   "outputs": [
    {
     "data": {
      "image/png": "[encoded data removed]",
      "text/plain": [
       "<Figure size 720x720 with 1 Axes>"
      ]
     },
     "metadata": {
      "needs_background": "light"
     },
     "output_type": "display_data"
    }
   ],
   "source": [
    "# Median price for all cards based on Rarity and USD price\n",
    "def vis_rarity_by_usd(df3):\n",
    "    plt.figure(figsize=(10,10))\n",
    "    sns.barplot(data=df3, x='usd', y='collector_number', hue='set_type')\n",
    "    plt.title('Median price: collector_number vs USD price')\n",
    "    plt.xlabel('USD price')\n",
    "    plt.ylabel('collector_number')\n",
    "    plt.show()\n",
    "\n",
    "vis_rarity_by_usd(df3)"
   ]
  },
  {
   "cell_type": "markdown",
   "id": "956edbec",
   "metadata": {},
   "source": [
    "Takeaway:\n",
    "More information on the collecters would be need to complete this H0. But from this data it seems that the top collecters do seem to collects mostly core and expansion cards."
   ]
  },
  {
   "cell_type": "code",
   "execution_count": null,
   "id": "775c5833",
   "metadata": {},
   "outputs": [],
   "source": []
  }
 ],
 "metadata": {
  "kernelspec": {
   "display_name": "Python 3 (ipykernel)",
   "language": "python",
   "name": "python3"
  },
  "language_info": {
   "codemirror_mode": {
    "name": "ipython",
    "version": 3
   },
   "file_extension": ".py",
   "mimetype": "text/x-python",
   "name": "python",
   "nbconvert_exporter": "python",
   "pygments_lexer": "ipython3",
   "version": "3.9.7"
  }
 },
 "nbformat": 4,
 "nbformat_minor": 5
}
