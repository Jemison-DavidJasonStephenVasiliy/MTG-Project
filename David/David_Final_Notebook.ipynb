{
 "cells": [
  {
   "cell_type": "code",
   "execution_count": 1,
   "id": "09804858",
   "metadata": {},
   "outputs": [
    {
     "name": "stderr",
     "output_type": "stream",
     "text": [
      "/opt/homebrew/anaconda3/lib/python3.9/site-packages/scipy/__init__.py:146: UserWarning: A NumPy version >=1.16.5 and <1.23.0 is required for this version of SciPy (detected version 1.23.1\n",
      "  warnings.warn(f\"A NumPy version >={np_minversion} and <{np_maxversion}\"\n"
     ]
    }
   ],
   "source": [
    "import pandas as pd\n",
    "import matplotlib.pyplot as plt\n",
    "import seaborn as sns\n",
    "import scipy.stats as stats\n",
    "\n",
    "import acquire as a\n",
    "import prepare as p\n",
    "\n",
    "#ignore minor warnings\n",
    "import warnings\n",
    "warnings.filterwarnings(\"ignore\")\n"
   ]
  },
  {
   "cell_type": "code",
   "execution_count": 2,
   "id": "8458ce53",
   "metadata": {},
   "outputs": [
    {
     "name": "stdout",
     "output_type": "stream",
     "text": [
      "Found file in working directory!\n",
      "(70932, 83)\n"
     ]
    },
    {
     "data": {
      "text/plain": [
       "((53199, 63), (26599, 63), (26600, 63))"
      ]
     },
     "execution_count": 2,
     "metadata": {},
     "output_type": "execute_result"
    }
   ],
   "source": [
    "df = a.get_data(query_url = False)\n",
    "print(df.shape)\n",
    "df = p.prepare_dataframe(df)\n",
    "train, validate, test = p.split_data(df)\n",
    "train.shape, validate.shape, test.shape"
   ]
  },
  {
   "cell_type": "markdown",
   "id": "83868083",
   "metadata": {},
   "source": [
    "# Question 1: Does the artist have any effect on the price of the card."
   ]
  },
  {
   "cell_type": "markdown",
   "id": "b963b73b",
   "metadata": {},
   "source": [
    "### Key takeaway\n",
    "\n",
    "- The amount of cards created is not = to the artist value.\n",
    "\n",
    "- In the charts artist Jon Avon created the most cards but the artist Christopher Rush created the most expensive card(Black Lotus)"
   ]
  },
  {
   "cell_type": "markdown",
   "id": "8255e3b8",
   "metadata": {},
   "source": [
    "### Discusion\n",
    "\n",
    "While some artist have created more cards then others, it appears that the amount of cards created is not equal to the value of the cards. "
   ]
  },
  {
   "cell_type": "markdown",
   "id": "315f7c49",
   "metadata": {},
   "source": [
    "## Visualization\n",
    "\n",
    "It looks like the mid '90s, just before '00, and post-'20 might have higher prices\n",
    "\n"
   ]
  },
  {
   "cell_type": "code",
   "execution_count": 3,
   "id": "a4f94c09",
   "metadata": {},
   "outputs": [],
   "source": [
    "# show only data from the selected columns\n",
    "df2 = train[['name', 'set_type', 'artist', 'rarity', 'usd']]\n"
   ]
  },
  {
   "cell_type": "code",
   "execution_count": 4,
   "id": "26de460e",
   "metadata": {},
   "outputs": [
    {
     "data": {
      "text/plain": [
       "common      19320\n",
       "rare        17089\n",
       "uncommon    13133\n",
       "mythic       3471\n",
       "special       177\n",
       "bonus           9\n",
       "Name: rarity, dtype: int64"
      ]
     },
     "execution_count": 4,
     "metadata": {},
     "output_type": "execute_result"
    }
   ],
   "source": [
    "# Rarity card count\n",
    "df2.rarity.value_counts()"
   ]
  },
  {
   "cell_type": "code",
   "execution_count": 5,
   "id": "19f5de0b",
   "metadata": {},
   "outputs": [
    {
     "data": {
      "text/plain": [
       "<AxesSubplot:>"
      ]
     },
     "execution_count": 5,
     "metadata": {},
     "output_type": "execute_result"
    },
    {
     "data": {
      "image/png": "[encoded data removed]",
      "text/plain": [
       "<Figure size 432x288 with 1 Axes>"
      ]
     },
     "metadata": {
      "needs_background": "light"
     },
     "output_type": "display_data"
    }
   ],
   "source": [
    "# Count of cards by rarity\n",
    "df2.rarity.hist()"
   ]
  },
  {
   "cell_type": "code",
   "execution_count": 6,
   "id": "b1f61ad9",
   "metadata": {},
   "outputs": [
    {
     "data": {
      "text/plain": [
       "<AxesSubplot:>"
      ]
     },
     "execution_count": 6,
     "metadata": {},
     "output_type": "execute_result"
    },
    {
     "data": {
      "image/png": "[encoded data removed]",
      "text/plain": [
       "<Figure size 432x288 with 1 Axes>"
      ]
     },
     "metadata": {
      "needs_background": "light"
     },
     "output_type": "display_data"
    }
   ],
   "source": [
    "# Top 20 artist who created the most cards\n",
    "df2['artist'].value_counts()[:20].plot(kind='barh')"
   ]
  },
  {
   "cell_type": "code",
   "execution_count": 7,
   "id": "73ca2e2c",
   "metadata": {},
   "outputs": [],
   "source": [
    "# shows only data from top 100 cards grouped by highest value.\n",
    "df3 = df2.loc[:,'name':'usd'].sort_values(by=['usd'], ascending=False,)[:100]"
   ]
  },
  {
   "cell_type": "code",
   "execution_count": 8,
   "id": "eeda0a81",
   "metadata": {},
   "outputs": [
    {
     "data": {
      "text/html": [
       "<div>\n",
       "<style scoped>\n",
       "    .dataframe tbody tr th:only-of-type {\n",
       "        vertical-align: middle;\n",
       "    }\n",
       "\n",
       "    .dataframe tbody tr th {\n",
       "        vertical-align: top;\n",
       "    }\n",
       "\n",
       "    .dataframe thead th {\n",
       "        text-align: right;\n",
       "    }\n",
       "</style>\n",
       "<table border=\"1\" class=\"dataframe\">\n",
       "  <thead>\n",
       "    <tr style=\"text-align: right;\">\n",
       "      <th></th>\n",
       "      <th>name</th>\n",
       "      <th>set_type</th>\n",
       "      <th>artist</th>\n",
       "      <th>rarity</th>\n",
       "      <th>usd</th>\n",
       "    </tr>\n",
       "  </thead>\n",
       "  <tbody>\n",
       "    <tr>\n",
       "      <th>49832</th>\n",
       "      <td>Black Lotus</td>\n",
       "      <td>core</td>\n",
       "      <td>Christopher Rush</td>\n",
       "      <td>rare</td>\n",
       "      <td>11500.00</td>\n",
       "    </tr>\n",
       "    <tr>\n",
       "      <th>12737</th>\n",
       "      <td>Ancestral Recall</td>\n",
       "      <td>core</td>\n",
       "      <td>Mark Poole</td>\n",
       "      <td>rare</td>\n",
       "      <td>6999.99</td>\n",
       "    </tr>\n",
       "    <tr>\n",
       "      <th>47092</th>\n",
       "      <td>Tropical Island</td>\n",
       "      <td>core</td>\n",
       "      <td>Jesper Myrfors</td>\n",
       "      <td>rare</td>\n",
       "      <td>6000.00</td>\n",
       "    </tr>\n",
       "    <tr>\n",
       "      <th>497</th>\n",
       "      <td>Timetwister</td>\n",
       "      <td>core</td>\n",
       "      <td>Mark Tedin</td>\n",
       "      <td>rare</td>\n",
       "      <td>5732.99</td>\n",
       "    </tr>\n",
       "    <tr>\n",
       "      <th>9371</th>\n",
       "      <td>Mox Ruby</td>\n",
       "      <td>core</td>\n",
       "      <td>Dan Frazier</td>\n",
       "      <td>rare</td>\n",
       "      <td>5499.99</td>\n",
       "    </tr>\n",
       "  </tbody>\n",
       "</table>\n",
       "</div>"
      ],
      "text/plain": [
       "                   name set_type            artist rarity       usd\n",
       "49832       Black Lotus     core  Christopher Rush   rare  11500.00\n",
       "12737  Ancestral Recall     core        Mark Poole   rare   6999.99\n",
       "47092   Tropical Island     core    Jesper Myrfors   rare   6000.00\n",
       "497         Timetwister     core        Mark Tedin   rare   5732.99\n",
       "9371           Mox Ruby     core       Dan Frazier   rare   5499.99"
      ]
     },
     "execution_count": 8,
     "metadata": {},
     "output_type": "execute_result"
    }
   ],
   "source": [
    "df3.head()"
   ]
  },
  {
   "cell_type": "code",
   "execution_count": 9,
   "id": "f8a2efaa",
   "metadata": {},
   "outputs": [
    {
     "data": {
      "text/plain": [
       "<AxesSubplot:>"
      ]
     },
     "execution_count": 9,
     "metadata": {},
     "output_type": "execute_result"
    },
    {
     "data": {
      "image/png": "[encoded data removed]",
      "text/plain": [
       "<Figure size 432x288 with 1 Axes>"
      ]
     },
     "metadata": {
      "needs_background": "light"
     },
     "output_type": "display_data"
    }
   ],
   "source": [
    "# Plot top 100 cards and artist by amount of cards created\n",
    "df3['artist'].value_counts().plot(kind='barh')"
   ]
  },
  {
   "cell_type": "code",
   "execution_count": 10,
   "id": "8409afac",
   "metadata": {},
   "outputs": [
    {
     "data": {
      "image/png": "[encoded data removed]",
      "text/plain": [
       "<Figure size 720x720 with 1 Axes>"
      ]
     },
     "metadata": {
      "needs_background": "light"
     },
     "output_type": "display_data"
    }
   ],
   "source": [
    "# Bar plor to show Artist and USD price, for top artist\n",
    "def vis_artist_by_usd(df3):\n",
    "    plt.figure(figsize=(10,10))\n",
    "    sns.barplot(data=df3, x='usd', y='artist')\n",
    "    plt.title('Rarity vs Artist/USD price')\n",
    "    plt.xlabel('USD price')\n",
    "    plt.ylabel('Artist name')\n",
    "    plt.show()\n",
    "\n",
    "vis_artist_by_usd(df3)\n",
    "\n"
   ]
  },
  {
   "cell_type": "code",
   "execution_count": 11,
   "id": "caf90d55",
   "metadata": {},
   "outputs": [
    {
     "data": {
      "image/png": "[encoded data removed]",
      "text/plain": [
       "<Figure size 720x720 with 1 Axes>"
      ]
     },
     "metadata": {
      "needs_background": "light"
     },
     "output_type": "display_data"
    }
   ],
   "source": [
    "# Median price for all cards based on Rarity and USD price\n",
    "def vis_rarity_by_usd(df):\n",
    "    plt.figure(figsize=(10,10))\n",
    "    sns.barplot(data=df, x='usd', y='rarity')\n",
    "    plt.title('Median price: Rarity vs USD price')\n",
    "    plt.xlabel('USD price')\n",
    "    plt.ylabel('Artist name')\n",
    "    plt.show()\n",
    "\n",
    "vis_rarity_by_usd(df)"
   ]
  },
  {
   "cell_type": "code",
   "execution_count": 12,
   "id": "7c0ba8e1",
   "metadata": {},
   "outputs": [
    {
     "data": {
      "text/plain": [
       "common      25755\n",
       "rare        22792\n",
       "uncommon    17468\n",
       "mythic       4659\n",
       "special       248\n",
       "bonus          10\n",
       "Name: rarity, dtype: int64"
      ]
     },
     "execution_count": 12,
     "metadata": {},
     "output_type": "execute_result"
    }
   ],
   "source": [
    "df.rarity.value_counts()"
   ]
  },
  {
   "cell_type": "markdown",
   "id": "365613f9",
   "metadata": {},
   "source": [
    "## Hypothesis Testing\n",
    "\n",
    "\n",
    "H0: The total amount of cards created by artist x is = to the value of cards there cards\n",
    " \n",
    "Ha: The total amount of cards created by artist x is not = to the value of cards there cards\n",
    " "
   ]
  },
  {
   "cell_type": "code",
   "execution_count": 70,
   "id": "945790f2",
   "metadata": {},
   "outputs": [
    {
     "data": {
      "text/html": [
       "<div>\n",
       "<style scoped>\n",
       "    .dataframe tbody tr th:only-of-type {\n",
       "        vertical-align: middle;\n",
       "    }\n",
       "\n",
       "    .dataframe tbody tr th {\n",
       "        vertical-align: top;\n",
       "    }\n",
       "\n",
       "    .dataframe thead th {\n",
       "        text-align: right;\n",
       "    }\n",
       "</style>\n",
       "<table border=\"1\" class=\"dataframe\">\n",
       "  <thead>\n",
       "    <tr style=\"text-align: right;\">\n",
       "      <th></th>\n",
       "      <th>artist</th>\n",
       "      <th>price</th>\n",
       "      <th>t_stat</th>\n",
       "      <th>p_value</th>\n",
       "      <th>reject_null</th>\n",
       "    </tr>\n",
       "  </thead>\n",
       "  <tbody>\n",
       "    <tr>\n",
       "      <th>545</th>\n",
       "      <td>Gao Yan</td>\n",
       "      <td>350.23</td>\n",
       "      <td>1.949354</td>\n",
       "      <td>0.075012</td>\n",
       "      <td>True</td>\n",
       "    </tr>\n",
       "    <tr>\n",
       "      <th>137</th>\n",
       "      <td>Drew Tucker</td>\n",
       "      <td>454.40</td>\n",
       "      <td>1.796601</td>\n",
       "      <td>0.076081</td>\n",
       "      <td>True</td>\n",
       "    </tr>\n",
       "    <tr>\n",
       "      <th>70</th>\n",
       "      <td>Anson Maddocks</td>\n",
       "      <td>1199.99</td>\n",
       "      <td>3.775458</td>\n",
       "      <td>0.000191</td>\n",
       "      <td>True</td>\n",
       "    </tr>\n",
       "    <tr>\n",
       "      <th>891</th>\n",
       "      <td>Matt Jukes</td>\n",
       "      <td>16.74</td>\n",
       "      <td>7.027372</td>\n",
       "      <td>0.002160</td>\n",
       "      <td>True</td>\n",
       "    </tr>\n",
       "    <tr>\n",
       "      <th>151</th>\n",
       "      <td>Richard Thomas</td>\n",
       "      <td>219.95</td>\n",
       "      <td>3.571004</td>\n",
       "      <td>0.000517</td>\n",
       "      <td>True</td>\n",
       "    </tr>\n",
       "    <tr>\n",
       "      <th>73</th>\n",
       "      <td>Daniel Gelon</td>\n",
       "      <td>1375.00</td>\n",
       "      <td>2.274091</td>\n",
       "      <td>0.024752</td>\n",
       "      <td>True</td>\n",
       "    </tr>\n",
       "    <tr>\n",
       "      <th>932</th>\n",
       "      <td>Yuko Shimizu</td>\n",
       "      <td>14.95</td>\n",
       "      <td>5.115735</td>\n",
       "      <td>0.036151</td>\n",
       "      <td>True</td>\n",
       "    </tr>\n",
       "    <tr>\n",
       "      <th>1254</th>\n",
       "      <td>Nagano</td>\n",
       "      <td>9.88</td>\n",
       "      <td>43.539146</td>\n",
       "      <td>0.000527</td>\n",
       "      <td>True</td>\n",
       "    </tr>\n",
       "    <tr>\n",
       "      <th>549</th>\n",
       "      <td>Wizard of Barge</td>\n",
       "      <td>7.41</td>\n",
       "      <td>5.395219</td>\n",
       "      <td>0.032680</td>\n",
       "      <td>True</td>\n",
       "    </tr>\n",
       "    <tr>\n",
       "      <th>42</th>\n",
       "      <td>Dan Frazier</td>\n",
       "      <td>5499.99</td>\n",
       "      <td>3.083049</td>\n",
       "      <td>0.002207</td>\n",
       "      <td>True</td>\n",
       "    </tr>\n",
       "    <tr>\n",
       "      <th>140</th>\n",
       "      <td>Mark Tedin</td>\n",
       "      <td>5732.99</td>\n",
       "      <td>2.839546</td>\n",
       "      <td>0.004747</td>\n",
       "      <td>True</td>\n",
       "    </tr>\n",
       "    <tr>\n",
       "      <th>47</th>\n",
       "      <td>Melissa A. Benson</td>\n",
       "      <td>525.00</td>\n",
       "      <td>2.339787</td>\n",
       "      <td>0.021388</td>\n",
       "      <td>True</td>\n",
       "    </tr>\n",
       "    <tr>\n",
       "      <th>198</th>\n",
       "      <td>Amy Weber</td>\n",
       "      <td>2999.00</td>\n",
       "      <td>2.478954</td>\n",
       "      <td>0.014531</td>\n",
       "      <td>True</td>\n",
       "    </tr>\n",
       "    <tr>\n",
       "      <th>50</th>\n",
       "      <td>Jeff A. Menges</td>\n",
       "      <td>4999.99</td>\n",
       "      <td>1.778820</td>\n",
       "      <td>0.077625</td>\n",
       "      <td>True</td>\n",
       "    </tr>\n",
       "    <tr>\n",
       "      <th>17</th>\n",
       "      <td>Mark Poole</td>\n",
       "      <td>6999.99</td>\n",
       "      <td>1.787162</td>\n",
       "      <td>0.074956</td>\n",
       "      <td>True</td>\n",
       "    </tr>\n",
       "    <tr>\n",
       "      <th>146</th>\n",
       "      <td>Rob Alexander</td>\n",
       "      <td>1299.99</td>\n",
       "      <td>3.538715</td>\n",
       "      <td>0.000458</td>\n",
       "      <td>True</td>\n",
       "    </tr>\n",
       "    <tr>\n",
       "      <th>52</th>\n",
       "      <td>Quinton Hoover</td>\n",
       "      <td>699.99</td>\n",
       "      <td>2.390404</td>\n",
       "      <td>0.018030</td>\n",
       "      <td>True</td>\n",
       "    </tr>\n",
       "    <tr>\n",
       "      <th>251</th>\n",
       "      <td>Qiao Dafu</td>\n",
       "      <td>65.00</td>\n",
       "      <td>2.068174</td>\n",
       "      <td>0.072434</td>\n",
       "      <td>True</td>\n",
       "    </tr>\n",
       "    <tr>\n",
       "      <th>180</th>\n",
       "      <td>Jesper Myrfors</td>\n",
       "      <td>6000.00</td>\n",
       "      <td>3.014646</td>\n",
       "      <td>0.002930</td>\n",
       "      <td>True</td>\n",
       "    </tr>\n",
       "    <tr>\n",
       "      <th>766</th>\n",
       "      <td>Kelogsloops</td>\n",
       "      <td>29.99</td>\n",
       "      <td>3.650246</td>\n",
       "      <td>0.067536</td>\n",
       "      <td>True</td>\n",
       "    </tr>\n",
       "  </tbody>\n",
       "</table>\n",
       "</div>"
      ],
      "text/plain": [
       "                 artist    price     t_stat   p_value  reject_null\n",
       "545             Gao Yan   350.23   1.949354  0.075012         True\n",
       "137         Drew Tucker   454.40   1.796601  0.076081         True\n",
       "70       Anson Maddocks  1199.99   3.775458  0.000191         True\n",
       "891          Matt Jukes    16.74   7.027372  0.002160         True\n",
       "151      Richard Thomas   219.95   3.571004  0.000517         True\n",
       "73         Daniel Gelon  1375.00   2.274091  0.024752         True\n",
       "932        Yuko Shimizu    14.95   5.115735  0.036151         True\n",
       "1254             Nagano     9.88  43.539146  0.000527         True\n",
       "549     Wizard of Barge     7.41   5.395219  0.032680         True\n",
       "42          Dan Frazier  5499.99   3.083049  0.002207         True\n",
       "140          Mark Tedin  5732.99   2.839546  0.004747         True\n",
       "47    Melissa A. Benson   525.00   2.339787  0.021388         True\n",
       "198           Amy Weber  2999.00   2.478954  0.014531         True\n",
       "50       Jeff A. Menges  4999.99   1.778820  0.077625         True\n",
       "17           Mark Poole  6999.99   1.787162  0.074956         True\n",
       "146       Rob Alexander  1299.99   3.538715  0.000458         True\n",
       "52       Quinton Hoover   699.99   2.390404  0.018030         True\n",
       "251           Qiao Dafu    65.00   2.068174  0.072434         True\n",
       "180      Jesper Myrfors  6000.00   3.014646  0.002930         True\n",
       "766         Kelogsloops    29.99   3.650246  0.067536         True"
      ]
     },
     "execution_count": 70,
     "metadata": {},
     "output_type": "execute_result"
    }
   ],
   "source": [
    "def hypothesis_artist_usd(df, alpha = 0.05):\n",
    "    artist_count = df['artist'].unique().tolist()\n",
    "    outputs = []\n",
    "    for artist_name in artist_count:\n",
    "        usd_sample = df[(df['artist'] == artist_name) & (df.usd > 0.01)]['usd']\n",
    "        overall_mean = df['usd'].mean()\n",
    "        t, p = stats.ttest_1samp(usd_sample, overall_mean)\n",
    "        output = {\n",
    "            'artist':artist_name,\n",
    "            'price':usd_sample.max(),\n",
    "            't_stat':t,\n",
    "            'p_value':p,\n",
    "            'reject_null': t > 0 and p/2 < alpha\n",
    "        }\n",
    "        outputs.append(output)\n",
    "    return pd.DataFrame(outputs)\n",
    "\n",
    "hypothesis_artist_usd(train).sort_values('reject_null', ascending = False)[:20]"
   ]
  },
  {
   "cell_type": "code",
   "execution_count": 57,
   "id": "8fd6a6e2",
   "metadata": {},
   "outputs": [
    {
     "data": {
      "text/plain": [
       "20"
      ]
     },
     "execution_count": 57,
     "metadata": {},
     "output_type": "execute_result"
    }
   ],
   "source": [
    "train['artist'].value_counts()['Gao Yan']\n"
   ]
  },
  {
   "cell_type": "markdown",
   "id": "b0c76183",
   "metadata": {},
   "source": [
    "# Question 2: Does the Rarity of the card and artist have any affect on the card price?\n",
    "\n",
    "\n"
   ]
  },
  {
   "cell_type": "markdown",
   "id": "7e45d61f",
   "metadata": {},
   "source": [
    "## Key takeaway\n",
    "- The artist and rarity of cards is not = to price\n",
    "- In the charts only one none rare card is in the high value price range.\n",
    "\n",
    "## Discusion\n",
    "\n",
    "Rarity of the card and Artist have no affect on card price. Will need more information in the future to see if higher price cards are more affected by turnament play and age of card.\n",
    "\n"
   ]
  },
  {
   "cell_type": "code",
   "execution_count": null,
   "id": "2f207c41",
   "metadata": {},
   "outputs": [],
   "source": [
    "## Visualization\n",
    "\n",
    "Definitely looks like the card type has an effect."
   ]
  },
  {
   "cell_type": "code",
   "execution_count": null,
   "id": "ec6ac28b",
   "metadata": {},
   "outputs": [],
   "source": [
    "# Hypothesis 2\n",
    "- H0: artist and rarity of cards is = to price \n",
    "- HA: artist and rarity of cards is not = to price"
   ]
  },
  {
   "cell_type": "code",
   "execution_count": null,
   "id": "a0c9fa33",
   "metadata": {},
   "outputs": [],
   "source": []
  },
  {
   "cell_type": "code",
   "execution_count": null,
   "id": "96f4857b",
   "metadata": {},
   "outputs": [],
   "source": []
  },
  {
   "cell_type": "code",
   "execution_count": null,
   "id": "b362c2ff",
   "metadata": {},
   "outputs": [],
   "source": []
  },
  {
   "cell_type": "code",
   "execution_count": null,
   "id": "a8fec43d",
   "metadata": {},
   "outputs": [],
   "source": []
  },
  {
   "cell_type": "code",
   "execution_count": null,
   "id": "a45abe46",
   "metadata": {},
   "outputs": [],
   "source": []
  },
  {
   "cell_type": "code",
   "execution_count": null,
   "id": "ae6eb6fe",
   "metadata": {},
   "outputs": [],
   "source": []
  },
  {
   "cell_type": "code",
   "execution_count": null,
   "id": "8cd6c0b2",
   "metadata": {},
   "outputs": [],
   "source": []
  }
 ],
 "metadata": {
  "kernelspec": {
   "display_name": "Python 3 (ipykernel)",
   "language": "python",
   "name": "python3"
  },
  "language_info": {
   "codemirror_mode": {
    "name": "ipython",
    "version": 3
   },
   "file_extension": ".py",
   "mimetype": "text/x-python",
   "name": "python",
   "nbconvert_exporter": "python",
   "pygments_lexer": "ipython3",
   "version": "3.9.7"
  }
 },
 "nbformat": 4,
 "nbformat_minor": 5
}
